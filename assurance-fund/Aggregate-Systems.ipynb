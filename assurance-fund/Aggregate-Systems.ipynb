{
 "cells": [
  {
   "cell_type": "markdown",
   "id": "0469a5fc-31ba-4d9a-892e-7bf74a838acf",
   "metadata": {},
   "source": [
    "# Aggregate All Water System Data\n",
    "\n",
    "Load, clean, and aggregate all Systems data. Include only piped water systems (leave non-piped systems to different analysis)"
   ]
  },
  {
   "cell_type": "code",
   "execution_count": 2,
   "id": "42e73361-89d0-4b49-aed7-80d76412cc5d",
   "metadata": {},
   "outputs": [],
   "source": [
    "import pandas as pd"
   ]
  },
  {
   "cell_type": "markdown",
   "id": "3132f264-5730-4fd1-83f4-74efa75b3c1a",
   "metadata": {},
   "source": [
    "## Config"
   ]
  },
  {
   "cell_type": "code",
   "execution_count": 4,
   "id": "85877583-0af8-487b-a2f0-6024637785ae",
   "metadata": {},
   "outputs": [],
   "source": [
    "afc_file = \"./data/AFPW - Community Water Systems.xlsx\"\n",
    "af_file = \"./data/AFPW-PipedWaterSystems-AssuranceFund.xlsx\"\n",
    "hh_file = \"./data/AFPW-PipedWaterSystems-HHSurvey.xlsx\"\n",
    "imp_file = \"./data/AFPW-PipedWaterSystems-REALIMP.xlsx\"\n",
    "swn_file = \"./data/AFPW-PipedWaterSystems-REALSWN.xlsx\"\n",
    "\n",
    "mwater_ba_file = \"./data/AFPW-PipedWaterSystems-mWater-BrongAhafo.xlsx\"\n",
    "mwater_aev_file = \"./data/AFPW-PipedWaterSystems-mWater-AshantiEasternVolta.xlsx\""
   ]
  },
  {
   "cell_type": "markdown",
   "id": "2342f0a8-8819-4512-a74e-cd50d7d575ae",
   "metadata": {},
   "source": [
    "## Load and Clean"
   ]
  },
  {
   "cell_type": "code",
   "execution_count": 20,
   "id": "1abd5b23-655e-4a9b-b716-7221085c9ccd",
   "metadata": {},
   "outputs": [
    {
     "data": {
      "text/plain": [
       "(56, 17)"
      ]
     },
     "execution_count": 20,
     "metadata": {},
     "output_type": "execute_result"
    }
   ],
   "source": [
    "afc_df = pd.read_excel(afc_file, sheet_name=\"All Community Systems\")\n",
    "afc_df = afc_df.rename(columns={\"Region\": \"REGION\", \"District\": \"DISTRICT\", \"Community\": \"COMMUNITY\",\n",
    "                                \"Source\": \"SOURCE\", \"System Managed By\": \"OPERATOR_MANAGER\",\n",
    "                                \"Latitude\": \"LATITUDE\", \"Longitude\": \"LONGITUDE\",\n",
    "                                \"System Type\": \"SYSTEM_TYPE\"})\n",
    "afc_df[\"COUNTRY\"] = \"Ghana\"\n",
    "afc_df.shape"
   ]
  },
  {
   "cell_type": "code",
   "execution_count": 21,
   "id": "bd74b328-1791-4a9e-a7fe-4f4726022b10",
   "metadata": {},
   "outputs": [
    {
     "data": {
      "text/plain": [
       "Index(['REGION', 'DISTRICT', 'COMMUNITY', 'Community (Alt. Name)', 'SOURCE',\n",
       "       'SYSTEM_TYPE', 'Source of System Type', 'OPERATOR_MANAGER',\n",
       "       'Source of System Managed By', 'LATITUDE', 'LONGITUDE',\n",
       "       'Location Description', 'Source Comments', 'Population',\n",
       "       'Source of Population', 'Comments', 'COUNTRY'],\n",
       "      dtype='object')"
      ]
     },
     "execution_count": 21,
     "metadata": {},
     "output_type": "execute_result"
    }
   ],
   "source": [
    "afc_df.columns"
   ]
  },
  {
   "cell_type": "code",
   "execution_count": 24,
   "id": "f14fb1bc-2f30-42f5-9fe8-92e9e1f083e2",
   "metadata": {},
   "outputs": [
    {
     "data": {
      "text/plain": [
       "SYSTEM_TYPE\n",
       "Piped Water              43\n",
       "Limited Mechanization    13\n",
       "Name: count, dtype: int64"
      ]
     },
     "execution_count": 24,
     "metadata": {},
     "output_type": "execute_result"
    }
   ],
   "source": [
    "afc_df[\"SYSTEM_TYPE\"].value_counts()"
   ]
  },
  {
   "cell_type": "code",
   "execution_count": null,
   "id": "dc815232-b647-45a9-8c82-576ab3c58825",
   "metadata": {},
   "outputs": [],
   "source": []
  },
  {
   "cell_type": "code",
   "execution_count": 38,
   "id": "e3e2e933-f358-437c-a49f-cf7fa35801e4",
   "metadata": {},
   "outputs": [
    {
     "data": {
      "text/plain": [
       "(374, 12)"
      ]
     },
     "execution_count": 38,
     "metadata": {},
     "output_type": "execute_result"
    }
   ],
   "source": [
    "af_df = pd.read_excel(af_file)\n",
    "af_df = af_df.dropna(subset=[\"LATITUDE\", \"LONGITUDE\"])\n",
    "af_df = af_df[af_df[\"SYSTEM_TYPE\"]]\n",
    "af_df.shape"
   ]
  },
  {
   "cell_type": "code",
   "execution_count": 39,
   "id": "cf935a45-b7e7-4315-9610-d4a670059d96",
   "metadata": {},
   "outputs": [
    {
     "data": {
      "text/html": [
       "<div>\n",
       "<style scoped>\n",
       "    .dataframe tbody tr th:only-of-type {\n",
       "        vertical-align: middle;\n",
       "    }\n",
       "\n",
       "    .dataframe tbody tr th {\n",
       "        vertical-align: top;\n",
       "    }\n",
       "\n",
       "    .dataframe thead th {\n",
       "        text-align: right;\n",
       "    }\n",
       "</style>\n",
       "<table border=\"1\" class=\"dataframe\">\n",
       "  <thead>\n",
       "    <tr style=\"text-align: right;\">\n",
       "      <th></th>\n",
       "      <th>SYSTEMID</th>\n",
       "      <th>REGION</th>\n",
       "      <th>DISTRICT</th>\n",
       "      <th>COMMUNITY</th>\n",
       "      <th>SOURCE</th>\n",
       "      <th>OPERATOR_MANAGER</th>\n",
       "      <th>SYSTEM_TYPE</th>\n",
       "      <th>COMPONENT_TYPE</th>\n",
       "      <th>DESCRIPTION</th>\n",
       "      <th>LATITUDE</th>\n",
       "      <th>LONGITUDE</th>\n",
       "      <th>COMMENT</th>\n",
       "    </tr>\n",
       "  </thead>\n",
       "  <tbody>\n",
       "    <tr>\n",
       "      <th>0</th>\n",
       "      <td>7</td>\n",
       "      <td>Ahafo</td>\n",
       "      <td>Asunafo North</td>\n",
       "      <td>Akrodie</td>\n",
       "      <td>Aquaya-AF</td>\n",
       "      <td>Unknown</td>\n",
       "      <td>Piped Water</td>\n",
       "      <td>Office</td>\n",
       "      <td>NaN</td>\n",
       "      <td>6.692092</td>\n",
       "      <td>-2.554405</td>\n",
       "      <td>NaN</td>\n",
       "    </tr>\n",
       "    <tr>\n",
       "      <th>1</th>\n",
       "      <td>7</td>\n",
       "      <td>Ahafo</td>\n",
       "      <td>Asunafo North</td>\n",
       "      <td>Akrodie</td>\n",
       "      <td>Aquaya-AF</td>\n",
       "      <td>Unknown</td>\n",
       "      <td>Piped Water</td>\n",
       "      <td>Pump station/ Borehole</td>\n",
       "      <td>Nkansam pump station</td>\n",
       "      <td>6.69178</td>\n",
       "      <td>-2.556637</td>\n",
       "      <td>NaN</td>\n",
       "    </tr>\n",
       "  </tbody>\n",
       "</table>\n",
       "</div>"
      ],
      "text/plain": [
       "   SYSTEMID REGION       DISTRICT COMMUNITY     SOURCE OPERATOR_MANAGER  \\\n",
       "0         7  Ahafo  Asunafo North   Akrodie  Aquaya-AF          Unknown   \n",
       "1         7  Ahafo  Asunafo North   Akrodie  Aquaya-AF          Unknown   \n",
       "\n",
       "   SYSTEM_TYPE          COMPONENT_TYPE           DESCRIPTION  LATITUDE  \\\n",
       "0  Piped Water                  Office                   NaN  6.692092   \n",
       "1  Piped Water  Pump station/ Borehole  Nkansam pump station   6.69178   \n",
       "\n",
       "   LONGITUDE  COMMENT  \n",
       "0  -2.554405      NaN  \n",
       "1  -2.556637      NaN  "
      ]
     },
     "execution_count": 39,
     "metadata": {},
     "output_type": "execute_result"
    }
   ],
   "source": [
    "af_df.head(2)"
   ]
  },
  {
   "cell_type": "code",
   "execution_count": 40,
   "id": "2a575d12-0978-4274-952c-b920081e3a47",
   "metadata": {},
   "outputs": [
    {
     "data": {
      "text/plain": [
       "SYSTEM_TYPE\n",
       "Piped Water              358\n",
       "Limited Mechanization     16\n",
       "Name: count, dtype: int64"
      ]
     },
     "execution_count": 40,
     "metadata": {},
     "output_type": "execute_result"
    }
   ],
   "source": [
    "af_df[\"SYSTEM_TYPE\"].value_counts()"
   ]
  },
  {
   "cell_type": "code",
   "execution_count": null,
   "id": "45b5fc58-e4ed-49ee-a0d1-7a6e4c0fb926",
   "metadata": {},
   "outputs": [],
   "source": []
  },
  {
   "cell_type": "code",
   "execution_count": null,
   "id": "2a85e881-b050-4730-a6a5-dfcfc5a741aa",
   "metadata": {},
   "outputs": [],
   "source": []
  },
  {
   "cell_type": "code",
   "execution_count": 25,
   "id": "fa2c6e49-3337-46e6-8234-05234483f0a8",
   "metadata": {},
   "outputs": [
    {
     "data": {
      "text/plain": [
       "(138, 19)"
      ]
     },
     "execution_count": 25,
     "metadata": {},
     "output_type": "execute_result"
    }
   ],
   "source": [
    "hh_df = pd.read_excel(hh_file)\n",
    "hh_df = hh_df.rename(columns={\"Water System\": \"COMMUNITY\", \"Operator\": \"OPERATOR_MANAGER\"})\n",
    "hh_df[\"SYSTEM_TYPE\"] = \"Piped Water\"\n",
    "hh_df.shape"
   ]
  },
  {
   "cell_type": "code",
   "execution_count": 26,
   "id": "005d3e5b-26aa-4538-86a3-349867522640",
   "metadata": {},
   "outputs": [
    {
     "data": {
      "text/html": [
       "<div>\n",
       "<style scoped>\n",
       "    .dataframe tbody tr th:only-of-type {\n",
       "        vertical-align: middle;\n",
       "    }\n",
       "\n",
       "    .dataframe tbody tr th {\n",
       "        vertical-align: top;\n",
       "    }\n",
       "\n",
       "    .dataframe thead th {\n",
       "        text-align: right;\n",
       "    }\n",
       "</style>\n",
       "<table border=\"1\" class=\"dataframe\">\n",
       "  <thead>\n",
       "    <tr style=\"text-align: right;\">\n",
       "      <th></th>\n",
       "      <th>COUNTRY</th>\n",
       "      <th>REGION</th>\n",
       "      <th>DISTRICT</th>\n",
       "      <th>COMMUNITY</th>\n",
       "      <th>LATITUDE</th>\n",
       "      <th>LONGITUDE</th>\n",
       "      <th>Year of birth</th>\n",
       "      <th>Years in Ops(Age)</th>\n",
       "      <th>TreatmentType</th>\n",
       "      <th>Number of Connections</th>\n",
       "      <th>Payment Method</th>\n",
       "      <th>OPERATOR_MANAGER</th>\n",
       "      <th>Total Std</th>\n",
       "      <th>Funct Std</th>\n",
       "      <th>Priv Con</th>\n",
       "      <th>Sch</th>\n",
       "      <th>Inst.</th>\n",
       "      <th>SOURCE</th>\n",
       "      <th>SYSTEM_TYPE</th>\n",
       "    </tr>\n",
       "  </thead>\n",
       "  <tbody>\n",
       "    <tr>\n",
       "      <th>0</th>\n",
       "      <td>Ghana</td>\n",
       "      <td>Ashanti</td>\n",
       "      <td>Bekwai Municipal</td>\n",
       "      <td>Abodom Water System</td>\n",
       "      <td>6.442147</td>\n",
       "      <td>-1.550750</td>\n",
       "      <td>2022.0</td>\n",
       "      <td>21.0</td>\n",
       "      <td>SSF</td>\n",
       "      <td>233</td>\n",
       "      <td>Postpaid</td>\n",
       "      <td>CWSA</td>\n",
       "      <td>18.0</td>\n",
       "      <td>14.0</td>\n",
       "      <td>215.0</td>\n",
       "      <td>0.0</td>\n",
       "      <td>0.0</td>\n",
       "      <td>Aquaya-HHSurvey</td>\n",
       "      <td>Piped Water</td>\n",
       "    </tr>\n",
       "    <tr>\n",
       "      <th>1</th>\n",
       "      <td>Ghana</td>\n",
       "      <td>Ashanti</td>\n",
       "      <td>Ejisu Municipal</td>\n",
       "      <td>Achiase Water Station</td>\n",
       "      <td>6.457653</td>\n",
       "      <td>-1.313824</td>\n",
       "      <td>2018.0</td>\n",
       "      <td>5.0</td>\n",
       "      <td>LMS</td>\n",
       "      <td>415</td>\n",
       "      <td>Postpaid</td>\n",
       "      <td>SWN</td>\n",
       "      <td>6.0</td>\n",
       "      <td>NaN</td>\n",
       "      <td>409.0</td>\n",
       "      <td>0.0</td>\n",
       "      <td>0.0</td>\n",
       "      <td>Aquaya-HHSurvey</td>\n",
       "      <td>Piped Water</td>\n",
       "    </tr>\n",
       "  </tbody>\n",
       "</table>\n",
       "</div>"
      ],
      "text/plain": [
       "  COUNTRY   REGION          DISTRICT               COMMUNITY  LATITUDE  \\\n",
       "0   Ghana  Ashanti  Bekwai Municipal    Abodom Water System   6.442147   \n",
       "1   Ghana  Ashanti   Ejisu Municipal  Achiase Water Station   6.457653   \n",
       "\n",
       "   LONGITUDE  Year of birth  Years in Ops(Age) TreatmentType  \\\n",
       "0  -1.550750         2022.0               21.0           SSF   \n",
       "1  -1.313824         2018.0                5.0           LMS   \n",
       "\n",
       "   Number of Connections Payment Method OPERATOR_MANAGER  Total Std  \\\n",
       "0                    233       Postpaid             CWSA       18.0   \n",
       "1                    415       Postpaid              SWN        6.0   \n",
       "\n",
       "   Funct Std  Priv Con  Sch  Inst.           SOURCE  SYSTEM_TYPE  \n",
       "0       14.0     215.0  0.0    0.0  Aquaya-HHSurvey  Piped Water  \n",
       "1        NaN     409.0  0.0    0.0  Aquaya-HHSurvey  Piped Water  "
      ]
     },
     "execution_count": 26,
     "metadata": {},
     "output_type": "execute_result"
    }
   ],
   "source": [
    "hh_df.head(2)"
   ]
  },
  {
   "cell_type": "code",
   "execution_count": null,
   "id": "b5eafe5e-0428-4c1b-9364-f7b3965be184",
   "metadata": {},
   "outputs": [],
   "source": []
  }
 ],
 "metadata": {
  "kernelspec": {
   "display_name": "aquaya-sandbox",
   "language": "python",
   "name": "aquaya-sandbox"
  },
  "language_info": {
   "codemirror_mode": {
    "name": "ipython",
    "version": 3
   },
   "file_extension": ".py",
   "mimetype": "text/x-python",
   "name": "python",
   "nbconvert_exporter": "python",
   "pygments_lexer": "ipython3",
   "version": "3.9.6"
  }
 },
 "nbformat": 4,
 "nbformat_minor": 5
}
