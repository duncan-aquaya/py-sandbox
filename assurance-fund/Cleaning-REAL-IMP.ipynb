{
 "cells": [
  {
   "cell_type": "markdown",
   "id": "15890812-d29a-4179-ac1d-94eaafdf378e",
   "metadata": {},
   "source": [
    "Break REAL-IMP piped water point data into more data-friendly format"
   ]
  },
  {
   "cell_type": "code",
   "execution_count": 1,
   "id": "28086afe-1427-4490-94ec-cf1efbb7ee3e",
   "metadata": {},
   "outputs": [],
   "source": [
    "import pandas as pd"
   ]
  },
  {
   "cell_type": "code",
   "execution_count": null,
   "id": "c1e5c24f-aab0-46d5-9125-6f6ae7dd5f96",
   "metadata": {},
   "outputs": [],
   "source": []
  },
  {
   "cell_type": "markdown",
   "id": "ef23bc82-8243-42df-bd04-265b7c2a27c2",
   "metadata": {},
   "source": [
    "## Config"
   ]
  },
  {
   "cell_type": "code",
   "execution_count": 3,
   "id": "68733777-347f-40f0-8c4b-206b9a4a1d57",
   "metadata": {},
   "outputs": [],
   "source": [
    "in_file = \"/Users/datascience/Desktop/Aquaya-REALIMP-PipedWaterSystems.xlsx\""
   ]
  },
  {
   "cell_type": "code",
   "execution_count": 23,
   "id": "86e9d8f0-1935-44f7-850b-764a4a27dc9e",
   "metadata": {},
   "outputs": [],
   "source": [
    "lat_thresh = (5.0, 12.0)\n",
    "lon_thresh = (-5.0, 2.0)"
   ]
  },
  {
   "cell_type": "code",
   "execution_count": 10,
   "id": "89ea6c75-3bc7-4c4f-9b48-8c5955216eae",
   "metadata": {},
   "outputs": [],
   "source": [
    "in_cols = [\n",
    "    'WF-BG-1', # System Name\n",
    "    'WF-BG-2', # System Code\n",
    "    'WF-BG-2 (Location Answered) (latitude)', # System loc 1\n",
    "    'WF-BG-2 (Location Answered) (longitude)',\n",
    "    'WF-BG-2 (Location Answered - accuracy)',\n",
    "    'WF-BG-2 (Location Answered - altitude)',\n",
    "    'WF-BG-4 (Location Answered) (latitude)', # System loc 2\n",
    "    'WF-BG-4 (Location Answered) (longitude)',\n",
    "    'WF-BG-4 (Location Answered - accuracy)',\n",
    "    'WF-BG-4 (Location Answered - altitude)',\n",
    "    'WF-BG-11',\n",
    "    'WF-BG-11 (Location Answered) (latitude)',\n",
    "    'WF-BG-11 (Location Answered) (longitude)',\n",
    "    'WF-BG-11 (Location Answered - accuracy)',\n",
    "    'WF-BG-11 (Location Answered - altitude)',\n",
    "    'WF-BG-12 (latitude)',\n",
    "    'WF-BG-12 (longitude)',\n",
    "    'WF-BG-12 (method)',\n",
    "    'WF-BG-12 (administrative region)',\n",
    "    'WF-BG-12 (accuracy)',\n",
    "    'WF-BG-12 (altitude)',\n",
    "    'WF-1-F1-1.1',\n",
    "    'WF-BG-13',\n",
    "    'WF-BG-13 (Location Answered) (latitude)',\n",
    "    'WF-BG-13 (Location Answered) (longitude)',\n",
    "    'WF-BG-13 (Location Answered - accuracy)',\n",
    "    'WF-BG-13 (Location Answered - altitude)',\n",
    "    'WF-BG-14 (latitude)',\n",
    "    'WF-BG-14 (longitude)',\n",
    "    'WF-BG-14 (method)',\n",
    "    'WF-BG-14 (administrative region)',\n",
    "    'WF-BG-14 (accuracy)',\n",
    "    'WF-BG-14 (altitude)',\n",
    "    'WF-2-F1-1.1',\n",
    "    'WF-BG-15',\n",
    "    'WF-BG-15 (Location Answered) (latitude)',\n",
    "    'WF-BG-15 (Location Answered) (longitude)',\n",
    "    'WF-BG-15 (Location Answered - accuracy)',\n",
    "    'WF-BG-15 (Location Answered - altitude)',\n",
    "    'WF-BG-16 (latitude)',\n",
    "    'WF-BG-16 (longitude)',\n",
    "    'WF-BG-16 (method)',\n",
    "    'WF-BG-16 (administrative region)',\n",
    "    'WF-BG-16 (accuracy)',\n",
    "    'WF-BG-16 (altitude)',\n",
    "    'WF-3-F1-1.1',\n",
    "    'WF-BG-17',\n",
    "    'WF-BG-17 (Location Answered) (latitude)',\n",
    "    'WF-BG-17 (Location Answered) (longitude)',\n",
    "    'WF-BG-17 (Location Answered - accuracy)',\n",
    "    'WF-BG-17 (Location Answered - altitude)',\n",
    "    'WF-BG-18 (latitude)',\n",
    "    'WF-BG-18 (longitude)',\n",
    "    'WF-BG-18 (method)',\n",
    "    'WF-BG-18 (administrative region)',\n",
    "    'WF-BG-18 (accuracy)',\n",
    "    'WF-BG-18 (altitude)',\n",
    "    'WF-4-F1-1.1'\n",
    "]"
   ]
  },
  {
   "cell_type": "code",
   "execution_count": 32,
   "id": "d3e18289-2ff0-4740-85d2-ca34b2e0b4cc",
   "metadata": {},
   "outputs": [],
   "source": [
    "system_name_col = 'WF-BG-1'\n",
    "system_lat1_col = 'WF-BG-2 (Location Answered) (latitude)'\n",
    "system_lon1_col = 'WF-BG-2 (Location Answered) (longitude)'\n",
    "system_lat2_col = 'WF-BG-4 (Location Answered) (latitude)'\n",
    "system_lon2_col = 'WF-BG-4 (Location Answered) (longitude)'"
   ]
  },
  {
   "cell_type": "markdown",
   "id": "b660065d-fdb0-4600-bcf5-3383dd0164ae",
   "metadata": {},
   "source": [
    "## Data Load"
   ]
  },
  {
   "cell_type": "code",
   "execution_count": 33,
   "id": "fe81e67f-61be-4056-b8c1-f9954d02d6ca",
   "metadata": {},
   "outputs": [
    {
     "data": {
      "text/plain": [
       "(143, 58)"
      ]
     },
     "execution_count": 33,
     "metadata": {},
     "output_type": "execute_result"
    }
   ],
   "source": [
    "df = pd.read_excel(in_file, )\n",
    "df.shape"
   ]
  },
  {
   "cell_type": "code",
   "execution_count": 34,
   "id": "d6acc3cb-7c69-4490-8301-8de0eff6b32d",
   "metadata": {},
   "outputs": [
    {
     "data": {
      "text/html": [
       "<div>\n",
       "<style scoped>\n",
       "    .dataframe tbody tr th:only-of-type {\n",
       "        vertical-align: middle;\n",
       "    }\n",
       "\n",
       "    .dataframe tbody tr th {\n",
       "        vertical-align: top;\n",
       "    }\n",
       "\n",
       "    .dataframe thead th {\n",
       "        text-align: right;\n",
       "    }\n",
       "</style>\n",
       "<table border=\"1\" class=\"dataframe\">\n",
       "  <thead>\n",
       "    <tr style=\"text-align: right;\">\n",
       "      <th></th>\n",
       "      <th>WF-BG-1</th>\n",
       "      <th>WF-BG-2</th>\n",
       "      <th>WF-BG-2 (Location Answered) (latitude)</th>\n",
       "      <th>WF-BG-2 (Location Answered) (longitude)</th>\n",
       "      <th>WF-BG-2 (Location Answered - accuracy)</th>\n",
       "      <th>WF-BG-2 (Location Answered - altitude)</th>\n",
       "      <th>WF-BG-4 (Location Answered) (latitude)</th>\n",
       "      <th>WF-BG-4 (Location Answered) (longitude)</th>\n",
       "      <th>WF-BG-4 (Location Answered - accuracy)</th>\n",
       "      <th>WF-BG-4 (Location Answered - altitude)</th>\n",
       "      <th>...</th>\n",
       "      <th>WF-BG-17 (Location Answered) (longitude)</th>\n",
       "      <th>WF-BG-17 (Location Answered - accuracy)</th>\n",
       "      <th>WF-BG-17 (Location Answered - altitude)</th>\n",
       "      <th>WF-BG-18 (latitude)</th>\n",
       "      <th>WF-BG-18 (longitude)</th>\n",
       "      <th>WF-BG-18 (method)</th>\n",
       "      <th>WF-BG-18 (administrative region)</th>\n",
       "      <th>WF-BG-18 (accuracy)</th>\n",
       "      <th>WF-BG-18 (altitude)</th>\n",
       "      <th>WF-4-F1-1.1</th>\n",
       "    </tr>\n",
       "  </thead>\n",
       "  <tbody>\n",
       "    <tr>\n",
       "      <th>0</th>\n",
       "      <td>Savelugu Water and Sanitation System</td>\n",
       "      <td>SASAVWSMT</td>\n",
       "      <td>9.605198</td>\n",
       "      <td>-0.830914</td>\n",
       "      <td>7.760</td>\n",
       "      <td>203.7</td>\n",
       "      <td>9.605477</td>\n",
       "      <td>-0.831774</td>\n",
       "      <td>7.880</td>\n",
       "      <td>203.6</td>\n",
       "      <td>...</td>\n",
       "      <td>NaN</td>\n",
       "      <td>NaN</td>\n",
       "      <td>NaN</td>\n",
       "      <td>9.612238</td>\n",
       "      <td>-0.830199</td>\n",
       "      <td>Map</td>\n",
       "      <td>Savelugu Nanton, Northern, Ghana</td>\n",
       "      <td>NaN</td>\n",
       "      <td>NaN</td>\n",
       "      <td>Standpipe</td>\n",
       "    </tr>\n",
       "    <tr>\n",
       "      <th>1</th>\n",
       "      <td>Gulbi Quarters Small Water System</td>\n",
       "      <td>KPGUWSMT</td>\n",
       "      <td>8.255367</td>\n",
       "      <td>-0.235625</td>\n",
       "      <td>5.950</td>\n",
       "      <td>152.0</td>\n",
       "      <td>8.255291</td>\n",
       "      <td>-0.235690</td>\n",
       "      <td>6.933</td>\n",
       "      <td>152.0</td>\n",
       "      <td>...</td>\n",
       "      <td>-0.240059</td>\n",
       "      <td>4.750</td>\n",
       "      <td>181.9</td>\n",
       "      <td>8.252911</td>\n",
       "      <td>-0.240114</td>\n",
       "      <td>GPS</td>\n",
       "      <td>Kpandai, Northern, Ghana</td>\n",
       "      <td>3.928</td>\n",
       "      <td>143.1</td>\n",
       "      <td>Standpipe</td>\n",
       "    </tr>\n",
       "    <tr>\n",
       "      <th>2</th>\n",
       "      <td>Daire Water and Sanitation Management Team</td>\n",
       "      <td>SADIWSMT</td>\n",
       "      <td>9.868709</td>\n",
       "      <td>-0.871240</td>\n",
       "      <td>5.033</td>\n",
       "      <td>162.8</td>\n",
       "      <td>9.868783</td>\n",
       "      <td>-0.871223</td>\n",
       "      <td>5.366</td>\n",
       "      <td>150.0</td>\n",
       "      <td>...</td>\n",
       "      <td>-0.846335</td>\n",
       "      <td>5.366</td>\n",
       "      <td>183.5</td>\n",
       "      <td>9.874052</td>\n",
       "      <td>-0.880667</td>\n",
       "      <td>Map</td>\n",
       "      <td>Savelugu Nanton, Northern, Ghana</td>\n",
       "      <td>NaN</td>\n",
       "      <td>NaN</td>\n",
       "      <td>Standpipe</td>\n",
       "    </tr>\n",
       "  </tbody>\n",
       "</table>\n",
       "<p>3 rows × 58 columns</p>\n",
       "</div>"
      ],
      "text/plain": [
       "                                      WF-BG-1    WF-BG-2  \\\n",
       "0        Savelugu Water and Sanitation System  SASAVWSMT   \n",
       "1          Gulbi Quarters Small Water System    KPGUWSMT   \n",
       "2  Daire Water and Sanitation Management Team   SADIWSMT   \n",
       "\n",
       "   WF-BG-2 (Location Answered) (latitude)  \\\n",
       "0                                9.605198   \n",
       "1                                8.255367   \n",
       "2                                9.868709   \n",
       "\n",
       "   WF-BG-2 (Location Answered) (longitude)  \\\n",
       "0                                -0.830914   \n",
       "1                                -0.235625   \n",
       "2                                -0.871240   \n",
       "\n",
       "   WF-BG-2 (Location Answered - accuracy)  \\\n",
       "0                                   7.760   \n",
       "1                                   5.950   \n",
       "2                                   5.033   \n",
       "\n",
       "   WF-BG-2 (Location Answered - altitude)  \\\n",
       "0                                   203.7   \n",
       "1                                   152.0   \n",
       "2                                   162.8   \n",
       "\n",
       "   WF-BG-4 (Location Answered) (latitude)  \\\n",
       "0                                9.605477   \n",
       "1                                8.255291   \n",
       "2                                9.868783   \n",
       "\n",
       "   WF-BG-4 (Location Answered) (longitude)  \\\n",
       "0                                -0.831774   \n",
       "1                                -0.235690   \n",
       "2                                -0.871223   \n",
       "\n",
       "   WF-BG-4 (Location Answered - accuracy)  \\\n",
       "0                                   7.880   \n",
       "1                                   6.933   \n",
       "2                                   5.366   \n",
       "\n",
       "   WF-BG-4 (Location Answered - altitude)  ...  \\\n",
       "0                                   203.6  ...   \n",
       "1                                   152.0  ...   \n",
       "2                                   150.0  ...   \n",
       "\n",
       "  WF-BG-17 (Location Answered) (longitude)  \\\n",
       "0                                      NaN   \n",
       "1                                -0.240059   \n",
       "2                                -0.846335   \n",
       "\n",
       "   WF-BG-17 (Location Answered - accuracy)  \\\n",
       "0                                      NaN   \n",
       "1                                    4.750   \n",
       "2                                    5.366   \n",
       "\n",
       "   WF-BG-17 (Location Answered - altitude)  WF-BG-18 (latitude)  \\\n",
       "0                                      NaN             9.612238   \n",
       "1                                    181.9             8.252911   \n",
       "2                                    183.5             9.874052   \n",
       "\n",
       "   WF-BG-18 (longitude)  WF-BG-18 (method)  WF-BG-18 (administrative region)  \\\n",
       "0             -0.830199                Map  Savelugu Nanton, Northern, Ghana   \n",
       "1             -0.240114                GPS          Kpandai, Northern, Ghana   \n",
       "2             -0.880667                Map  Savelugu Nanton, Northern, Ghana   \n",
       "\n",
       "  WF-BG-18 (accuracy) WF-BG-18 (altitude)  WF-4-F1-1.1  \n",
       "0                 NaN                 NaN    Standpipe  \n",
       "1               3.928               143.1    Standpipe  \n",
       "2                 NaN                 NaN    Standpipe  \n",
       "\n",
       "[3 rows x 58 columns]"
      ]
     },
     "execution_count": 34,
     "metadata": {},
     "output_type": "execute_result"
    }
   ],
   "source": [
    "df.head(3)"
   ]
  },
  {
   "cell_type": "markdown",
   "id": "3e5eb953-a0ee-4b1e-913f-dc4fbc11d791",
   "metadata": {},
   "source": [
    "## Break rows into water points"
   ]
  },
  {
   "cell_type": "code",
   "execution_count": 60,
   "id": "a5e014fa-e0a7-4a28-9b32-a9d77e97161c",
   "metadata": {},
   "outputs": [],
   "source": [
    "rows = []\n",
    "for i, row in df.iterrows():\n",
    "    # Grab the admin location data and split out\n",
    "    if pd.notnull(row['WF-BG-12 (administrative region)']) and row['WF-BG-12 (administrative region)'].strip() != \"\":\n",
    "        adm_str = row['WF-BG-12 (administrative region)']\n",
    "    elif pd.notnull(row['WF-BG-14 (administrative region)']) and row['WF-BG-14 (administrative region)'].strip() != \"\":\n",
    "        adm_str = row['WF-BG-14 (administrative region)']\n",
    "    elif pd.notnull(row['WF-BG-16 (administrative region)']) and row['WF-BG-16 (administrative region)'].strip() != \"\":\n",
    "        adm_str = row['WF-BG-16 (administrative region)']\n",
    "    elif pd.notnull(row['WF-BG-18 (administrative region)']) and row['WF-BG-18 (administrative region)'].strip() != \"\":\n",
    "        adm_str = row['WF-BG-18 (administrative region)']\n",
    "    else:\n",
    "        print(f\"WARNING: Row {i} has no valid admin location string\")\n",
    "    adm_district, adm_region, adm_country = adm_str.strip().split(\",\")\n",
    "    \n",
    "    # First new row\n",
    "    lat1 = row[system_lat1_col]\n",
    "    rows.append([\n",
    "        row[system_name_col],\n",
    "        row[system_lat1_col] if pd.notnull(lat1) and lat1 > lat_thresh[0] and lat1 < lat_thresh[1] else row[system_lat2_col],\n",
    "        row[system_lon1_col] if pd.notnull(lat1) and lat1 > lat_thresh[0] and lat1 < lat_thresh[1] else row[system_lon2_col],\n",
    "        \"System Location\",\n",
    "        \"\", # Empty location description\n",
    "        adm_country,\n",
    "        adm_region,\n",
    "        adm_district,\n",
    "    ])\n",
    "\n",
    "    # Second new row\n",
    "    lat2 = row['WF-BG-11 (Location Answered) (latitude)']\n",
    "    rows.append([\n",
    "        row[system_name_col],\n",
    "        row['WF-BG-11 (Location Answered) (latitude)'] if pd.notnull(lat2) and lat2 > lat_thresh[0] and lat2 < lat_thresh[1] else row['WF-BG-12 (latitude)'],\n",
    "        row['WF-BG-11 (Location Answered) (longitude)'] if pd.notnull(lat2) and lat2 > lat_thresh[0] and lat2 < lat_thresh[1] else row['WF-BG-12 (longitude)'],\n",
    "        row['WF-1-F1-1.1'],\n",
    "        row['WF-BG-11'],\n",
    "        adm_country,\n",
    "        adm_region,\n",
    "        adm_district,\n",
    "    ])\n",
    "\n",
    "    # Third new row\n",
    "    lat3 = row['WF-BG-13 (Location Answered) (latitude)']\n",
    "    rows.append([\n",
    "        row[system_name_col],\n",
    "        row['WF-BG-13 (Location Answered) (latitude)'] if pd.notnull(lat3) and lat3 > lat_thresh[0] and lat3 < lat_thresh[1] else row['WF-BG-14 (latitude)'],\n",
    "        row['WF-BG-13 (Location Answered) (longitude)'] if pd.notnull(lat3) and lat3 > lat_thresh[0] and lat3 < lat_thresh[1] else row['WF-BG-14 (longitude)'],\n",
    "        row['WF-2-F1-1.1'],\n",
    "        row['WF-BG-13'],\n",
    "        adm_country,\n",
    "        adm_region,\n",
    "        adm_district,\n",
    "    ])\n",
    "\n",
    "    # Fourth new row\n",
    "    lat4 = row['WF-BG-15 (Location Answered) (latitude)']\n",
    "    rows.append([\n",
    "        row[system_name_col],\n",
    "        row['WF-BG-15 (Location Answered) (latitude)'] if pd.notnull(lat4) and lat4 > lat_thresh[0] and lat4 < lat_thresh[1] else row['WF-BG-16 (latitude)'],\n",
    "        row['WF-BG-15 (Location Answered) (longitude)'] if pd.notnull(lat4) and lat4 > lat_thresh[0] and lat4 < lat_thresh[1] else row['WF-BG-16 (longitude)'],\n",
    "        row['WF-3-F1-1.1'],\n",
    "        row['WF-BG-15'],\n",
    "        adm_country,\n",
    "        adm_region,\n",
    "        adm_district,\n",
    "    ])\n",
    "\n",
    "    # Fifth new row\n",
    "    lat5 = row['WF-BG-17 (Location Answered) (latitude)']\n",
    "    rows.append([\n",
    "        row[system_name_col],\n",
    "        row['WF-BG-17 (Location Answered) (latitude)'] if pd.notnull(lat5) and lat5 > lat_thresh[0] and lat5 < lat_thresh[1] else row['WF-BG-18 (latitude)'],\n",
    "        row['WF-BG-17 (Location Answered) (longitude)'] if pd.notnull(lat5) and lat5 > lat_thresh[0] and lat5 < lat_thresh[1] else row['WF-BG-18 (longitude)'],\n",
    "        row['WF-4-F1-1.1'],\n",
    "        row['WF-BG-17'],\n",
    "        adm_country,\n",
    "        adm_region,\n",
    "        adm_district,\n",
    "    ])"
   ]
  },
  {
   "cell_type": "code",
   "execution_count": 61,
   "id": "9e1b4ae7-82c8-468a-b830-4e094d906c37",
   "metadata": {},
   "outputs": [
    {
     "data": {
      "text/plain": [
       "715"
      ]
     },
     "execution_count": 61,
     "metadata": {},
     "output_type": "execute_result"
    }
   ],
   "source": [
    "len(rows)"
   ]
  },
  {
   "cell_type": "code",
   "execution_count": 74,
   "id": "4e49a6eb-c31c-4375-9c04-9131e0a2c2e8",
   "metadata": {},
   "outputs": [
    {
     "data": {
      "text/plain": [
       "(715, 8)"
      ]
     },
     "execution_count": 74,
     "metadata": {},
     "output_type": "execute_result"
    }
   ],
   "source": [
    "new_df = pd.DataFrame(data=rows, columns=[\"Water System\", \"LATITUDE\", \"LONGITUDE\", \"Type\", \"LocationDescription\", \"COUNTRY\", \"REGION\", \"DISTRICT\"])\n",
    "new_df.shape"
   ]
  },
  {
   "cell_type": "code",
   "execution_count": 76,
   "id": "818ca116-fc76-42d4-ba08-61ccde88a118",
   "metadata": {},
   "outputs": [
    {
     "data": {
      "text/plain": [
       "(689, 8)"
      ]
     },
     "execution_count": 76,
     "metadata": {},
     "output_type": "execute_result"
    }
   ],
   "source": [
    "# Drop rows with no Lat / Lon\n",
    "new_df = new_df.dropna(subset=[\"LATITUDE\", \"LONGITUDE\"])\n",
    "new_df.shape"
   ]
  },
  {
   "cell_type": "code",
   "execution_count": 83,
   "id": "5898c34a-64ce-4a13-aa7c-24b1e2d44469",
   "metadata": {},
   "outputs": [],
   "source": [
    "new_df.insert(8, \"SOURCE\", \"Aquaya-REALIMP\")"
   ]
  },
  {
   "cell_type": "code",
   "execution_count": 84,
   "id": "6a8dd813-9193-4704-81b9-9a04e6ba73e5",
   "metadata": {},
   "outputs": [
    {
     "data": {
      "text/html": [
       "<div>\n",
       "<style scoped>\n",
       "    .dataframe tbody tr th:only-of-type {\n",
       "        vertical-align: middle;\n",
       "    }\n",
       "\n",
       "    .dataframe tbody tr th {\n",
       "        vertical-align: top;\n",
       "    }\n",
       "\n",
       "    .dataframe thead th {\n",
       "        text-align: right;\n",
       "    }\n",
       "</style>\n",
       "<table border=\"1\" class=\"dataframe\">\n",
       "  <thead>\n",
       "    <tr style=\"text-align: right;\">\n",
       "      <th></th>\n",
       "      <th>Water System</th>\n",
       "      <th>LATITUDE</th>\n",
       "      <th>LONGITUDE</th>\n",
       "      <th>Type</th>\n",
       "      <th>LocationDescription</th>\n",
       "      <th>COUNTRY</th>\n",
       "      <th>REGION</th>\n",
       "      <th>DISTRICT</th>\n",
       "      <th>SOURCE</th>\n",
       "    </tr>\n",
       "  </thead>\n",
       "  <tbody>\n",
       "    <tr>\n",
       "      <th>0</th>\n",
       "      <td>Savelugu Water and Sanitation System</td>\n",
       "      <td>9.605198</td>\n",
       "      <td>-0.830914</td>\n",
       "      <td>System Location</td>\n",
       "      <td></td>\n",
       "      <td>Ghana</td>\n",
       "      <td>Northern</td>\n",
       "      <td>Savelugu Nanton</td>\n",
       "      <td>Aquaya-REALIMP</td>\n",
       "    </tr>\n",
       "    <tr>\n",
       "      <th>1</th>\n",
       "      <td>Savelugu Water and Sanitation System</td>\n",
       "      <td>9.612484</td>\n",
       "      <td>-0.832787</td>\n",
       "      <td>Standpipe</td>\n",
       "      <td>The nearest land mark is a dam a few meters fr...</td>\n",
       "      <td>Ghana</td>\n",
       "      <td>Northern</td>\n",
       "      <td>Savelugu Nanton</td>\n",
       "      <td>Aquaya-REALIMP</td>\n",
       "    </tr>\n",
       "    <tr>\n",
       "      <th>2</th>\n",
       "      <td>Savelugu Water and Sanitation System</td>\n",
       "      <td>9.439490</td>\n",
       "      <td>-0.846172</td>\n",
       "      <td>Standpipe</td>\n",
       "      <td>Close to the health insurance office</td>\n",
       "      <td>Ghana</td>\n",
       "      <td>Northern</td>\n",
       "      <td>Savelugu Nanton</td>\n",
       "      <td>Aquaya-REALIMP</td>\n",
       "    </tr>\n",
       "    <tr>\n",
       "      <th>3</th>\n",
       "      <td>Savelugu Water and Sanitation System</td>\n",
       "      <td>9.439349</td>\n",
       "      <td>-0.846227</td>\n",
       "      <td>Standpipe</td>\n",
       "      <td>Surrounded by several households a few about 2...</td>\n",
       "      <td>Ghana</td>\n",
       "      <td>Northern</td>\n",
       "      <td>Savelugu Nanton</td>\n",
       "      <td>Aquaya-REALIMP</td>\n",
       "    </tr>\n",
       "    <tr>\n",
       "      <th>4</th>\n",
       "      <td>Savelugu Water and Sanitation System</td>\n",
       "      <td>9.612238</td>\n",
       "      <td>-0.830199</td>\n",
       "      <td>Standpipe</td>\n",
       "      <td>A few meters away from the major road( Savelug...</td>\n",
       "      <td>Ghana</td>\n",
       "      <td>Northern</td>\n",
       "      <td>Savelugu Nanton</td>\n",
       "      <td>Aquaya-REALIMP</td>\n",
       "    </tr>\n",
       "    <tr>\n",
       "      <th>5</th>\n",
       "      <td>Gulbi Quarters Small Water System</td>\n",
       "      <td>8.255367</td>\n",
       "      <td>-0.235625</td>\n",
       "      <td>System Location</td>\n",
       "      <td></td>\n",
       "      <td>Ghana</td>\n",
       "      <td>Northern</td>\n",
       "      <td>Kpandai</td>\n",
       "      <td>Aquaya-REALIMP</td>\n",
       "    </tr>\n",
       "    <tr>\n",
       "      <th>6</th>\n",
       "      <td>Gulbi Quarters Small Water System</td>\n",
       "      <td>8.253480</td>\n",
       "      <td>-0.236395</td>\n",
       "      <td>Standpipe</td>\n",
       "      <td>Close to Elder Conja's house(Elder of the Quar...</td>\n",
       "      <td>Ghana</td>\n",
       "      <td>Northern</td>\n",
       "      <td>Kpandai</td>\n",
       "      <td>Aquaya-REALIMP</td>\n",
       "    </tr>\n",
       "  </tbody>\n",
       "</table>\n",
       "</div>"
      ],
      "text/plain": [
       "                           Water System  LATITUDE  LONGITUDE             Type  \\\n",
       "0  Savelugu Water and Sanitation System  9.605198  -0.830914  System Location   \n",
       "1  Savelugu Water and Sanitation System  9.612484  -0.832787        Standpipe   \n",
       "2  Savelugu Water and Sanitation System  9.439490  -0.846172        Standpipe   \n",
       "3  Savelugu Water and Sanitation System  9.439349  -0.846227        Standpipe   \n",
       "4  Savelugu Water and Sanitation System  9.612238  -0.830199        Standpipe   \n",
       "5    Gulbi Quarters Small Water System   8.255367  -0.235625  System Location   \n",
       "6    Gulbi Quarters Small Water System   8.253480  -0.236395        Standpipe   \n",
       "\n",
       "                                 LocationDescription COUNTRY     REGION  \\\n",
       "0                                                      Ghana   Northern   \n",
       "1  The nearest land mark is a dam a few meters fr...   Ghana   Northern   \n",
       "2               Close to the health insurance office   Ghana   Northern   \n",
       "3  Surrounded by several households a few about 2...   Ghana   Northern   \n",
       "4  A few meters away from the major road( Savelug...   Ghana   Northern   \n",
       "5                                                      Ghana   Northern   \n",
       "6  Close to Elder Conja's house(Elder of the Quar...   Ghana   Northern   \n",
       "\n",
       "          DISTRICT          SOURCE  \n",
       "0  Savelugu Nanton  Aquaya-REALIMP  \n",
       "1  Savelugu Nanton  Aquaya-REALIMP  \n",
       "2  Savelugu Nanton  Aquaya-REALIMP  \n",
       "3  Savelugu Nanton  Aquaya-REALIMP  \n",
       "4  Savelugu Nanton  Aquaya-REALIMP  \n",
       "5          Kpandai  Aquaya-REALIMP  \n",
       "6          Kpandai  Aquaya-REALIMP  "
      ]
     },
     "execution_count": 84,
     "metadata": {},
     "output_type": "execute_result"
    }
   ],
   "source": [
    "new_df.head(7)"
   ]
  },
  {
   "cell_type": "code",
   "execution_count": 85,
   "id": "56c02bf8-8817-479d-92dc-f5e91ad7f852",
   "metadata": {},
   "outputs": [
    {
     "name": "stdout",
     "output_type": "stream",
     "text": [
      "<class 'pandas.core.frame.DataFrame'>\n",
      "Index: 689 entries, 0 to 714\n",
      "Data columns (total 9 columns):\n",
      " #   Column               Non-Null Count  Dtype  \n",
      "---  ------               --------------  -----  \n",
      " 0   Water System         689 non-null    object \n",
      " 1   LATITUDE             689 non-null    float64\n",
      " 2   LONGITUDE            689 non-null    float64\n",
      " 3   Type                 689 non-null    object \n",
      " 4   LocationDescription  689 non-null    object \n",
      " 5   COUNTRY              689 non-null    object \n",
      " 6   REGION               689 non-null    object \n",
      " 7   DISTRICT             689 non-null    object \n",
      " 8   SOURCE               689 non-null    object \n",
      "dtypes: float64(2), object(7)\n",
      "memory usage: 53.8+ KB\n"
     ]
    }
   ],
   "source": [
    "new_df.info()"
   ]
  },
  {
   "cell_type": "code",
   "execution_count": 86,
   "id": "95c1bf0c-4ea6-4cb5-9b98-5d18f10c7208",
   "metadata": {},
   "outputs": [
    {
     "data": {
      "text/plain": [
       "REGION\n",
       "Ashanti        260\n",
       "Northern       172\n",
       "Volta          164\n",
       "Eastern         53\n",
       "Upper West      20\n",
       "Brong Ahafo     20\n",
       "Name: count, dtype: int64"
      ]
     },
     "execution_count": 86,
     "metadata": {},
     "output_type": "execute_result"
    }
   ],
   "source": [
    "new_df[\"REGION\"].value_counts()"
   ]
  },
  {
   "cell_type": "markdown",
   "id": "a01af50a-8312-4814-ab0c-5f4355afd29b",
   "metadata": {},
   "source": [
    "## Export"
   ]
  },
  {
   "cell_type": "code",
   "execution_count": 87,
   "id": "fb2798df-77cb-4125-bd5d-f1f367335659",
   "metadata": {},
   "outputs": [],
   "source": [
    "new_df.to_excel(\"/Users/datascience/Desktop/Aquaya-REALIMP-PipedWaterSystems.Exploded.xlsx\", index=False)"
   ]
  },
  {
   "cell_type": "code",
   "execution_count": null,
   "id": "2832a0e6-5a3b-43d8-a4d8-6dcb3bf86881",
   "metadata": {},
   "outputs": [],
   "source": []
  }
 ],
 "metadata": {
  "kernelspec": {
   "display_name": "aquaya-sandbox",
   "language": "python",
   "name": "aquaya-sandbox"
  },
  "language_info": {
   "codemirror_mode": {
    "name": "ipython",
    "version": 3
   },
   "file_extension": ".py",
   "mimetype": "text/x-python",
   "name": "python",
   "nbconvert_exporter": "python",
   "pygments_lexer": "ipython3",
   "version": "3.9.6"
  }
 },
 "nbformat": 4,
 "nbformat_minor": 5
}
