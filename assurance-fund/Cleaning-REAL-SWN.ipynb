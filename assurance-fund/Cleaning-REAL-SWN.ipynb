{
 "cells": [
  {
   "cell_type": "markdown",
   "id": "7b668573-6513-4cb4-9628-f779bf19b451",
   "metadata": {},
   "source": [
    "# Data Cleaning: REAL / SWN data\n",
    "\n",
    "(source: Valerie Bauza, Aquaya REAL Water and SWN)\n",
    "\n",
    "Two files:\n",
    "\n",
    "- SWN INTERNAL - Station Location GPS 16 Feb 2023.xlsx (Original from SWN. Incomplete, inaccurate. But has district and region information)\n",
    "- SWN INTERNAL - SWN_Storage Tank_GPS.xlsx (Updated from VB, survey storage tank locations)"
   ]
  },
  {
   "cell_type": "code",
   "execution_count": 42,
   "id": "541cda79-d486-4e76-bd8d-d59361d2baed",
   "metadata": {},
   "outputs": [],
   "source": [
    "import pandas as pd"
   ]
  },
  {
   "cell_type": "code",
   "execution_count": 43,
   "id": "045b1cc7-225c-4ec0-8227-1cdb0e014ebc",
   "metadata": {},
   "outputs": [],
   "source": [
    "comms_file = \"./data/SWN INTERNAL - Station Location GPS 16 Feb 2023.xlsx\"\n",
    "tanks_file = \"./data/SWN INTERNAL - SWN_Storage Tank_GPS.xlsx\""
   ]
  },
  {
   "cell_type": "markdown",
   "id": "9b52b782-83cd-4b9f-900f-76971de787a4",
   "metadata": {},
   "source": [
    "## Load and basic clean"
   ]
  },
  {
   "cell_type": "code",
   "execution_count": 44,
   "id": "f88f57e7-bca5-44b2-9dd7-c40821d64913",
   "metadata": {},
   "outputs": [
    {
     "data": {
      "text/plain": [
       "(115, 5)"
      ]
     },
     "execution_count": 44,
     "metadata": {},
     "output_type": "execute_result"
    }
   ],
   "source": [
    "# Load and basic clean\n",
    "comms_df = pd.read_excel(comms_file, skiprows=[0,1,2])\n",
    "comms_df = comms_df.drop([\"#\"], axis=1)\n",
    "comms_df.shape"
   ]
  },
  {
   "cell_type": "code",
   "execution_count": 45,
   "id": "9935e702-31d5-4a9b-82c5-b242cf4139eb",
   "metadata": {},
   "outputs": [
    {
     "data": {
      "text/html": [
       "<div>\n",
       "<style scoped>\n",
       "    .dataframe tbody tr th:only-of-type {\n",
       "        vertical-align: middle;\n",
       "    }\n",
       "\n",
       "    .dataframe tbody tr th {\n",
       "        vertical-align: top;\n",
       "    }\n",
       "\n",
       "    .dataframe thead th {\n",
       "        text-align: right;\n",
       "    }\n",
       "</style>\n",
       "<table border=\"1\" class=\"dataframe\">\n",
       "  <thead>\n",
       "    <tr style=\"text-align: right;\">\n",
       "      <th></th>\n",
       "      <th>Community</th>\n",
       "      <th>Region</th>\n",
       "      <th>District</th>\n",
       "      <th>GPS LAT.</th>\n",
       "      <th>GPS LONG</th>\n",
       "    </tr>\n",
       "  </thead>\n",
       "  <tbody>\n",
       "    <tr>\n",
       "      <th>0</th>\n",
       "      <td>Beyin</td>\n",
       "      <td>Western</td>\n",
       "      <td>Jomorro</td>\n",
       "      <td>NaN</td>\n",
       "      <td>NaN</td>\n",
       "    </tr>\n",
       "    <tr>\n",
       "      <th>1</th>\n",
       "      <td>Eikwe</td>\n",
       "      <td>Western</td>\n",
       "      <td>Ellembelle</td>\n",
       "      <td>4.96498</td>\n",
       "      <td>-2.4666</td>\n",
       "    </tr>\n",
       "  </tbody>\n",
       "</table>\n",
       "</div>"
      ],
      "text/plain": [
       "  Community   Region    District GPS LAT. GPS LONG\n",
       "0     Beyin  Western     Jomorro      NaN      NaN\n",
       "1     Eikwe  Western  Ellembelle  4.96498  -2.4666"
      ]
     },
     "execution_count": 45,
     "metadata": {},
     "output_type": "execute_result"
    }
   ],
   "source": [
    "comms_df.head(2)"
   ]
  },
  {
   "cell_type": "code",
   "execution_count": 98,
   "id": "bc6589c2-d9ab-4c12-8b27-9aa577d8f443",
   "metadata": {},
   "outputs": [
    {
     "data": {
      "text/plain": [
       "(100, 4)"
      ]
     },
     "execution_count": 98,
     "metadata": {},
     "output_type": "execute_result"
    }
   ],
   "source": [
    "# Load and basic clean\n",
    "tanks_df = pd.read_excel(tanks_file)\n",
    "tanks_df[[\"LATITUDE\", \"LONGITUDE\"]] = tanks_df[\"form.storageTank_si.gps\"].str.split(\" \", expand=True)[[0, 1]]\n",
    "tanks_df = tanks_df.drop([\"form.storageTank_si.gps\"], axis=1)\n",
    "tanks_df.shape"
   ]
  },
  {
   "cell_type": "code",
   "execution_count": 99,
   "id": "4d4350d0-ba5f-4219-8655-7e4174eb7e52",
   "metadata": {},
   "outputs": [
    {
     "data": {
      "text/html": [
       "<div>\n",
       "<style scoped>\n",
       "    .dataframe tbody tr th:only-of-type {\n",
       "        vertical-align: middle;\n",
       "    }\n",
       "\n",
       "    .dataframe tbody tr th {\n",
       "        vertical-align: top;\n",
       "    }\n",
       "\n",
       "    .dataframe thead th {\n",
       "        text-align: right;\n",
       "    }\n",
       "</style>\n",
       "<table border=\"1\" class=\"dataframe\">\n",
       "  <thead>\n",
       "    <tr style=\"text-align: right;\">\n",
       "      <th></th>\n",
       "      <th>form.community.id</th>\n",
       "      <th>community_name</th>\n",
       "      <th>LATITUDE</th>\n",
       "      <th>LONGITUDE</th>\n",
       "    </tr>\n",
       "  </thead>\n",
       "  <tbody>\n",
       "    <tr>\n",
       "      <th>0</th>\n",
       "      <td>1</td>\n",
       "      <td>Beyin</td>\n",
       "      <td>4.9892601</td>\n",
       "      <td>-2.596853</td>\n",
       "    </tr>\n",
       "    <tr>\n",
       "      <th>1</th>\n",
       "      <td>2</td>\n",
       "      <td>Eikwe</td>\n",
       "      <td>4.9649546</td>\n",
       "      <td>-2.466758</td>\n",
       "    </tr>\n",
       "    <tr>\n",
       "      <th>2</th>\n",
       "      <td>3</td>\n",
       "      <td>Ayisakro</td>\n",
       "      <td>4.8944028</td>\n",
       "      <td>-2.2125789</td>\n",
       "    </tr>\n",
       "  </tbody>\n",
       "</table>\n",
       "</div>"
      ],
      "text/plain": [
       "   form.community.id community_name   LATITUDE   LONGITUDE\n",
       "0                  1          Beyin  4.9892601   -2.596853\n",
       "1                  2          Eikwe  4.9649546   -2.466758\n",
       "2                  3       Ayisakro  4.8944028  -2.2125789"
      ]
     },
     "execution_count": 99,
     "metadata": {},
     "output_type": "execute_result"
    }
   ],
   "source": [
    "tanks_df.head(3)"
   ]
  },
  {
   "cell_type": "markdown",
   "id": "fc1d1c49-89dd-4786-abea-485c4b78ff82",
   "metadata": {},
   "source": [
    "## Name Match for Admin Info Assignment"
   ]
  },
  {
   "cell_type": "code",
   "execution_count": 100,
   "id": "83dd60b2-3e71-455e-ba91-bea9028e59bd",
   "metadata": {},
   "outputs": [],
   "source": [
    "for t in tanks_df.itertuples():\n",
    "    c_df = comms_df[comms_df[\"Community\"]==t.community_name]\n",
    "    if c_df.shape[0] < 1:\n",
    "        print(f\"Tank Commnity {t.community_name} missing match\")\n",
    "        continue\n",
    "    tanks_df.at[t.Index, \"REGION\"] = c_df.iloc[0][\"Region\"]\n",
    "    tanks_df.at[t.Index, \"DISTRICT\"] = c_df.iloc[0][\"District\"]"
   ]
  },
  {
   "cell_type": "code",
   "execution_count": 101,
   "id": "1cabe3a0-ee88-42af-8c8f-1a63e1886e4f",
   "metadata": {},
   "outputs": [
    {
     "data": {
      "text/html": [
       "<div>\n",
       "<style scoped>\n",
       "    .dataframe tbody tr th:only-of-type {\n",
       "        vertical-align: middle;\n",
       "    }\n",
       "\n",
       "    .dataframe tbody tr th {\n",
       "        vertical-align: top;\n",
       "    }\n",
       "\n",
       "    .dataframe thead th {\n",
       "        text-align: right;\n",
       "    }\n",
       "</style>\n",
       "<table border=\"1\" class=\"dataframe\">\n",
       "  <thead>\n",
       "    <tr style=\"text-align: right;\">\n",
       "      <th></th>\n",
       "      <th>form.community.id</th>\n",
       "      <th>community_name</th>\n",
       "      <th>LATITUDE</th>\n",
       "      <th>LONGITUDE</th>\n",
       "      <th>REGION</th>\n",
       "      <th>DISTRICT</th>\n",
       "    </tr>\n",
       "  </thead>\n",
       "  <tbody>\n",
       "    <tr>\n",
       "      <th>0</th>\n",
       "      <td>1</td>\n",
       "      <td>Beyin</td>\n",
       "      <td>4.9892601</td>\n",
       "      <td>-2.596853</td>\n",
       "      <td>Western</td>\n",
       "      <td>Jomorro</td>\n",
       "    </tr>\n",
       "    <tr>\n",
       "      <th>1</th>\n",
       "      <td>2</td>\n",
       "      <td>Eikwe</td>\n",
       "      <td>4.9649546</td>\n",
       "      <td>-2.466758</td>\n",
       "      <td>Western</td>\n",
       "      <td>Ellembelle</td>\n",
       "    </tr>\n",
       "    <tr>\n",
       "      <th>2</th>\n",
       "      <td>3</td>\n",
       "      <td>Ayisakro</td>\n",
       "      <td>4.8944028</td>\n",
       "      <td>-2.2125789</td>\n",
       "      <td>Western</td>\n",
       "      <td>Nzema East</td>\n",
       "    </tr>\n",
       "    <tr>\n",
       "      <th>3</th>\n",
       "      <td>4</td>\n",
       "      <td>Apataim</td>\n",
       "      <td>4.9183262</td>\n",
       "      <td>-2.2319688</td>\n",
       "      <td>Western</td>\n",
       "      <td>Nzema East</td>\n",
       "    </tr>\n",
       "    <tr>\n",
       "      <th>4</th>\n",
       "      <td>5</td>\n",
       "      <td>Agyan</td>\n",
       "      <td>4.8325023</td>\n",
       "      <td>-2.2007041</td>\n",
       "      <td>Western</td>\n",
       "      <td>Nzema East</td>\n",
       "    </tr>\n",
       "    <tr>\n",
       "      <th>...</th>\n",
       "      <td>...</td>\n",
       "      <td>...</td>\n",
       "      <td>...</td>\n",
       "      <td>...</td>\n",
       "      <td>...</td>\n",
       "      <td>...</td>\n",
       "    </tr>\n",
       "    <tr>\n",
       "      <th>95</th>\n",
       "      <td>99</td>\n",
       "      <td>Tapa Amanya</td>\n",
       "      <td>7.4549086</td>\n",
       "      <td>0.3400183</td>\n",
       "      <td>Oti</td>\n",
       "      <td>Biakoye</td>\n",
       "    </tr>\n",
       "    <tr>\n",
       "      <th>96</th>\n",
       "      <td>100</td>\n",
       "      <td>Apesokubi</td>\n",
       "      <td>7.565834</td>\n",
       "      <td>0.403682</td>\n",
       "      <td>Oti</td>\n",
       "      <td>Biakoye</td>\n",
       "    </tr>\n",
       "    <tr>\n",
       "      <th>97</th>\n",
       "      <td>101</td>\n",
       "      <td>Aveme</td>\n",
       "      <td>6.9355183</td>\n",
       "      <td>0.2649983</td>\n",
       "      <td>Volta</td>\n",
       "      <td>North Dayi</td>\n",
       "    </tr>\n",
       "    <tr>\n",
       "      <th>98</th>\n",
       "      <td>101</td>\n",
       "      <td>Aveme</td>\n",
       "      <td>6.9356602</td>\n",
       "      <td>0.2649907</td>\n",
       "      <td>Volta</td>\n",
       "      <td>North Dayi</td>\n",
       "    </tr>\n",
       "    <tr>\n",
       "      <th>99</th>\n",
       "      <td>102</td>\n",
       "      <td>Worawora</td>\n",
       "      <td>7.5143567</td>\n",
       "      <td>0.38113</td>\n",
       "      <td>Oti</td>\n",
       "      <td>Biakoye</td>\n",
       "    </tr>\n",
       "  </tbody>\n",
       "</table>\n",
       "<p>100 rows × 6 columns</p>\n",
       "</div>"
      ],
      "text/plain": [
       "    form.community.id community_name   LATITUDE   LONGITUDE   REGION  \\\n",
       "0                   1          Beyin  4.9892601   -2.596853  Western   \n",
       "1                   2          Eikwe  4.9649546   -2.466758  Western   \n",
       "2                   3       Ayisakro  4.8944028  -2.2125789  Western   \n",
       "3                   4        Apataim  4.9183262  -2.2319688  Western   \n",
       "4                   5          Agyan  4.8325023  -2.2007041  Western   \n",
       "..                ...            ...        ...         ...      ...   \n",
       "95                 99    Tapa Amanya  7.4549086   0.3400183      Oti   \n",
       "96                100      Apesokubi   7.565834    0.403682      Oti   \n",
       "97                101         Aveme   6.9355183   0.2649983    Volta   \n",
       "98                101         Aveme   6.9356602   0.2649907    Volta   \n",
       "99                102       Worawora  7.5143567     0.38113      Oti   \n",
       "\n",
       "      DISTRICT  \n",
       "0      Jomorro  \n",
       "1   Ellembelle  \n",
       "2   Nzema East  \n",
       "3   Nzema East  \n",
       "4   Nzema East  \n",
       "..         ...  \n",
       "95     Biakoye  \n",
       "96     Biakoye  \n",
       "97  North Dayi  \n",
       "98  North Dayi  \n",
       "99     Biakoye  \n",
       "\n",
       "[100 rows x 6 columns]"
      ]
     },
     "execution_count": 101,
     "metadata": {},
     "output_type": "execute_result"
    }
   ],
   "source": [
    "tanks_df"
   ]
  },
  {
   "cell_type": "code",
   "execution_count": 102,
   "id": "f15d377c-dd63-44b2-bfa3-fd2759a1f819",
   "metadata": {},
   "outputs": [],
   "source": [
    "assert tanks_df[\"DISTRICT\"].isna().sum() == tanks_df[\"DISTRICT\"].isna().sum() == 0"
   ]
  },
  {
   "cell_type": "markdown",
   "id": "4e5feb0a-0319-41fe-aed2-d355fcd0eb32",
   "metadata": {},
   "source": [
    "## Final Cleanup and Export"
   ]
  },
  {
   "cell_type": "code",
   "execution_count": 103,
   "id": "fe5fcc6b-9efb-4753-a892-01d920c8f54c",
   "metadata": {},
   "outputs": [],
   "source": [
    "tanks_df = tanks_df.drop([\"form.community.id\"], axis=1)\n",
    "tanks_df = tanks_df.rename(columns={\"community_name\": \"COMMUNITY\"})\n",
    "tanks_df[\"COUNTRY\"] = \"Ghana\"\n",
    "tanks_df[\"SOURCE\"] = \"Aquaya-REAL-SWN\"\n",
    "tanks_df[\"MANAGED / OPERATED BY\"] = \"SWN\"\n",
    "tanks_df[\"COMPONENT TYPE\"] = \"Unknown\"\n",
    "tanks_df[\"DESCRIPTION\"] = \"Sample storage tank or other component\"\n",
    "tanks_df[\"COMMENT\"] = \"\""
   ]
  },
  {
   "cell_type": "code",
   "execution_count": 104,
   "id": "4277fb74-79c7-4ca4-ab43-be8b4f7564d0",
   "metadata": {},
   "outputs": [
    {
     "data": {
      "text/html": [
       "<div>\n",
       "<style scoped>\n",
       "    .dataframe tbody tr th:only-of-type {\n",
       "        vertical-align: middle;\n",
       "    }\n",
       "\n",
       "    .dataframe tbody tr th {\n",
       "        vertical-align: top;\n",
       "    }\n",
       "\n",
       "    .dataframe thead th {\n",
       "        text-align: right;\n",
       "    }\n",
       "</style>\n",
       "<table border=\"1\" class=\"dataframe\">\n",
       "  <thead>\n",
       "    <tr style=\"text-align: right;\">\n",
       "      <th></th>\n",
       "      <th>COMMUNITY</th>\n",
       "      <th>LATITUDE</th>\n",
       "      <th>LONGITUDE</th>\n",
       "      <th>REGION</th>\n",
       "      <th>DISTRICT</th>\n",
       "      <th>COUNTRY</th>\n",
       "      <th>SOURCE</th>\n",
       "      <th>MANAGED / OPERATED BY</th>\n",
       "      <th>COMPONENT TYPE</th>\n",
       "      <th>DESCRIPTION</th>\n",
       "      <th>COMMENT</th>\n",
       "    </tr>\n",
       "  </thead>\n",
       "  <tbody>\n",
       "    <tr>\n",
       "      <th>0</th>\n",
       "      <td>Beyin</td>\n",
       "      <td>4.9892601</td>\n",
       "      <td>-2.596853</td>\n",
       "      <td>Western</td>\n",
       "      <td>Jomorro</td>\n",
       "      <td>Ghana</td>\n",
       "      <td>Aquaya-REAL-SWN</td>\n",
       "      <td>SWN</td>\n",
       "      <td>Unknown</td>\n",
       "      <td>Sample storage tank or other component</td>\n",
       "      <td></td>\n",
       "    </tr>\n",
       "    <tr>\n",
       "      <th>1</th>\n",
       "      <td>Eikwe</td>\n",
       "      <td>4.9649546</td>\n",
       "      <td>-2.466758</td>\n",
       "      <td>Western</td>\n",
       "      <td>Ellembelle</td>\n",
       "      <td>Ghana</td>\n",
       "      <td>Aquaya-REAL-SWN</td>\n",
       "      <td>SWN</td>\n",
       "      <td>Unknown</td>\n",
       "      <td>Sample storage tank or other component</td>\n",
       "      <td></td>\n",
       "    </tr>\n",
       "  </tbody>\n",
       "</table>\n",
       "</div>"
      ],
      "text/plain": [
       "  COMMUNITY   LATITUDE  LONGITUDE   REGION    DISTRICT COUNTRY  \\\n",
       "0     Beyin  4.9892601  -2.596853  Western     Jomorro   Ghana   \n",
       "1     Eikwe  4.9649546  -2.466758  Western  Ellembelle   Ghana   \n",
       "\n",
       "            SOURCE MANAGED / OPERATED BY COMPONENT TYPE  \\\n",
       "0  Aquaya-REAL-SWN                   SWN        Unknown   \n",
       "1  Aquaya-REAL-SWN                   SWN        Unknown   \n",
       "\n",
       "                              DESCRIPTION COMMENT  \n",
       "0  Sample storage tank or other component          \n",
       "1  Sample storage tank or other component          "
      ]
     },
     "execution_count": 104,
     "metadata": {},
     "output_type": "execute_result"
    }
   ],
   "source": [
    "tanks_df.head(2)"
   ]
  },
  {
   "cell_type": "code",
   "execution_count": 105,
   "id": "8d172e49-e739-4da5-bdfc-34c98334e27c",
   "metadata": {},
   "outputs": [
    {
     "data": {
      "text/html": [
       "<div>\n",
       "<style scoped>\n",
       "    .dataframe tbody tr th:only-of-type {\n",
       "        vertical-align: middle;\n",
       "    }\n",
       "\n",
       "    .dataframe tbody tr th {\n",
       "        vertical-align: top;\n",
       "    }\n",
       "\n",
       "    .dataframe thead th {\n",
       "        text-align: right;\n",
       "    }\n",
       "</style>\n",
       "<table border=\"1\" class=\"dataframe\">\n",
       "  <thead>\n",
       "    <tr style=\"text-align: right;\">\n",
       "      <th></th>\n",
       "      <th>COUNTRY</th>\n",
       "      <th>REGION</th>\n",
       "      <th>DISTRICT</th>\n",
       "      <th>COMMUNITY</th>\n",
       "      <th>SOURCE</th>\n",
       "      <th>MANAGED / OPERATED BY</th>\n",
       "      <th>COMPONENT TYPE</th>\n",
       "      <th>DESCRIPTION</th>\n",
       "      <th>LATITUDE</th>\n",
       "      <th>LONGITUDE</th>\n",
       "      <th>COMMENT</th>\n",
       "    </tr>\n",
       "  </thead>\n",
       "  <tbody>\n",
       "    <tr>\n",
       "      <th>98</th>\n",
       "      <td>Ghana</td>\n",
       "      <td>Volta</td>\n",
       "      <td>North Dayi</td>\n",
       "      <td>Aveme</td>\n",
       "      <td>Aquaya-REAL-SWN</td>\n",
       "      <td>SWN</td>\n",
       "      <td>Unknown</td>\n",
       "      <td>Sample storage tank or other component</td>\n",
       "      <td>6.9356602</td>\n",
       "      <td>0.2649907</td>\n",
       "      <td></td>\n",
       "    </tr>\n",
       "    <tr>\n",
       "      <th>99</th>\n",
       "      <td>Ghana</td>\n",
       "      <td>Oti</td>\n",
       "      <td>Biakoye</td>\n",
       "      <td>Worawora</td>\n",
       "      <td>Aquaya-REAL-SWN</td>\n",
       "      <td>SWN</td>\n",
       "      <td>Unknown</td>\n",
       "      <td>Sample storage tank or other component</td>\n",
       "      <td>7.5143567</td>\n",
       "      <td>0.38113</td>\n",
       "      <td></td>\n",
       "    </tr>\n",
       "  </tbody>\n",
       "</table>\n",
       "</div>"
      ],
      "text/plain": [
       "   COUNTRY REGION    DISTRICT COMMUNITY           SOURCE  \\\n",
       "98   Ghana  Volta  North Dayi    Aveme   Aquaya-REAL-SWN   \n",
       "99   Ghana    Oti     Biakoye  Worawora  Aquaya-REAL-SWN   \n",
       "\n",
       "   MANAGED / OPERATED BY COMPONENT TYPE  \\\n",
       "98                   SWN        Unknown   \n",
       "99                   SWN        Unknown   \n",
       "\n",
       "                               DESCRIPTION   LATITUDE  LONGITUDE COMMENT  \n",
       "98  Sample storage tank or other component  6.9356602  0.2649907          \n",
       "99  Sample storage tank or other component  7.5143567    0.38113          "
      ]
     },
     "execution_count": 105,
     "metadata": {},
     "output_type": "execute_result"
    }
   ],
   "source": [
    "tanks_df = tanks_df[[\"COUNTRY\", \"REGION\", \"DISTRICT\", \"COMMUNITY\", \"SOURCE\", \"MANAGED / OPERATED BY\",\n",
    "                     \"COMPONENT TYPE\", \"DESCRIPTION\", \"LATITUDE\", \"LONGITUDE\", \"COMMENT\"]]\n",
    "tanks_df.tail(2)"
   ]
  },
  {
   "cell_type": "code",
   "execution_count": null,
   "id": "17105d85-7431-4520-92a7-ba1abbfc2fb3",
   "metadata": {},
   "outputs": [],
   "source": []
  },
  {
   "cell_type": "code",
   "execution_count": 106,
   "id": "c572a197-88e4-4725-849b-eba2c0ac81e2",
   "metadata": {},
   "outputs": [],
   "source": [
    "tanks_df.to_excel(\"./data/AFPW-PipedWaterSystems-REALSWN.xlsx\", index=False)"
   ]
  },
  {
   "cell_type": "code",
   "execution_count": null,
   "id": "b252eff3-43b1-4b6e-9c82-7b585e19e492",
   "metadata": {},
   "outputs": [],
   "source": []
  }
 ],
 "metadata": {
  "kernelspec": {
   "display_name": "aquaya-sandbox",
   "language": "python",
   "name": "aquaya-sandbox"
  },
  "language_info": {
   "codemirror_mode": {
    "name": "ipython",
    "version": 3
   },
   "file_extension": ".py",
   "mimetype": "text/x-python",
   "name": "python",
   "nbconvert_exporter": "python",
   "pygments_lexer": "ipython3",
   "version": "3.9.6"
  }
 },
 "nbformat": 4,
 "nbformat_minor": 5
}
