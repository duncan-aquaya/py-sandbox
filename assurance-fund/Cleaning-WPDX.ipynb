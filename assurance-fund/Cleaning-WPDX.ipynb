{
 "cells": [
  {
   "cell_type": "code",
   "execution_count": 1,
   "id": "aa494d3a-73aa-4116-9744-3947dc94ce40",
   "metadata": {},
   "outputs": [],
   "source": [
    "import pandas as pd"
   ]
  },
  {
   "cell_type": "code",
   "execution_count": 2,
   "id": "5e1e036f-c22f-45c5-8397-2cf6ab2ee4e7",
   "metadata": {},
   "outputs": [],
   "source": [
    "in_file = \"./data/WPDX - GHA - WPDX Plus.csv\""
   ]
  },
  {
   "cell_type": "code",
   "execution_count": 3,
   "id": "12ef2577-f684-4944-b78d-cfe34d3aa99a",
   "metadata": {},
   "outputs": [
    {
     "name": "stderr",
     "output_type": "stream",
     "text": [
      "/var/folders/pt/b5mvkwrj3z95dnjwxq9p91340000gn/T/ipykernel_12762/761013206.py:1: DtypeWarning: Columns (20,26,60,63) have mixed types. Specify dtype option on import or set low_memory=False.\n",
      "  df = pd.read_csv(in_file)\n"
     ]
    },
    {
     "data": {
      "text/plain": [
       "(24223, 73)"
      ]
     },
     "execution_count": 3,
     "metadata": {},
     "output_type": "execute_result"
    }
   ],
   "source": [
    "df = pd.read_csv(in_file)\n",
    "df.shape"
   ]
  },
  {
   "cell_type": "code",
   "execution_count": 4,
   "id": "ad4be176-f404-42f5-9795-98f6d78e8656",
   "metadata": {},
   "outputs": [
    {
     "data": {
      "text/html": [
       "<div>\n",
       "<style scoped>\n",
       "    .dataframe tbody tr th:only-of-type {\n",
       "        vertical-align: middle;\n",
       "    }\n",
       "\n",
       "    .dataframe tbody tr th {\n",
       "        vertical-align: top;\n",
       "    }\n",
       "\n",
       "    .dataframe thead th {\n",
       "        text-align: right;\n",
       "    }\n",
       "</style>\n",
       "<table border=\"1\" class=\"dataframe\">\n",
       "  <thead>\n",
       "    <tr style=\"text-align: right;\">\n",
       "      <th></th>\n",
       "      <th>row_id</th>\n",
       "      <th>#source</th>\n",
       "      <th>#lat_deg</th>\n",
       "      <th>#lon_deg</th>\n",
       "      <th>#report_date</th>\n",
       "      <th>#status_id</th>\n",
       "      <th>#water_source_clean</th>\n",
       "      <th>#water_source_category</th>\n",
       "      <th>#water_tech_clean</th>\n",
       "      <th>#water_tech_category</th>\n",
       "      <th>...</th>\n",
       "      <th>#subjective_quality</th>\n",
       "      <th>New Georeferenced Column</th>\n",
       "      <th>lat_lon_deg</th>\n",
       "      <th>public_data_source</th>\n",
       "      <th>converted</th>\n",
       "      <th>count</th>\n",
       "      <th>created_timestamp</th>\n",
       "      <th>updated_timestamp</th>\n",
       "      <th>is_duplicate</th>\n",
       "      <th>dataset_title</th>\n",
       "    </tr>\n",
       "  </thead>\n",
       "  <tbody>\n",
       "    <tr>\n",
       "      <th>0</th>\n",
       "      <td>490491</td>\n",
       "      <td>Water4</td>\n",
       "      <td>9.752869</td>\n",
       "      <td>-2.494573</td>\n",
       "      <td>05/30/2024 12:00:00 AM</td>\n",
       "      <td>Yes</td>\n",
       "      <td>Piped Water</td>\n",
       "      <td>Piped Water</td>\n",
       "      <td>NaN</td>\n",
       "      <td>NaN</td>\n",
       "      <td>...</td>\n",
       "      <td>NaN</td>\n",
       "      <td>POINT (-2.4945725999999997 9.752869499999997)</td>\n",
       "      <td>(9.752869499999997°, -2.4945725999999997°)</td>\n",
       "      <td>https://catalog.waterpointdata.org/datafiles/w...</td>\n",
       "      <td>NaN</td>\n",
       "      <td>1</td>\n",
       "      <td>03/18/2022 06:23:12 PM</td>\n",
       "      <td>03/18/2022 06:23:12 PM</td>\n",
       "      <td>NaN</td>\n",
       "      <td>Water4_Global_2021-2022</td>\n",
       "    </tr>\n",
       "    <tr>\n",
       "      <th>1</th>\n",
       "      <td>644474</td>\n",
       "      <td>Living Water International</td>\n",
       "      <td>7.066837</td>\n",
       "      <td>-2.783900</td>\n",
       "      <td>07/26/2015 12:00:00 AM</td>\n",
       "      <td>Yes</td>\n",
       "      <td>Borehole/Tubewell</td>\n",
       "      <td>Well</td>\n",
       "      <td>Hand Pump - Afridev</td>\n",
       "      <td>Hand Pump</td>\n",
       "      <td>...</td>\n",
       "      <td>NaN</td>\n",
       "      <td>POINT (-2.7839 7.066836667)</td>\n",
       "      <td>(7.066836667°, -2.7839°)</td>\n",
       "      <td>https://catalog.waterpointdata.org/datafiles/t...</td>\n",
       "      <td>NaN</td>\n",
       "      <td>1</td>\n",
       "      <td>07/21/2020 08:01:34 PM</td>\n",
       "      <td>07/21/2020 08:01:34 PM</td>\n",
       "      <td>NaN</td>\n",
       "      <td>Living Water International_Africa Latin Americ...</td>\n",
       "    </tr>\n",
       "    <tr>\n",
       "      <th>2</th>\n",
       "      <td>13068</td>\n",
       "      <td>CRS</td>\n",
       "      <td>10.345544</td>\n",
       "      <td>-1.031766</td>\n",
       "      <td>03/22/2021 12:00:00 AM</td>\n",
       "      <td>Yes</td>\n",
       "      <td>Borehole/Tubewell</td>\n",
       "      <td>Well</td>\n",
       "      <td>Hand Pump</td>\n",
       "      <td>Hand Pump</td>\n",
       "      <td>...</td>\n",
       "      <td>NaN</td>\n",
       "      <td>POINT (-1.031766 10.345544)</td>\n",
       "      <td>(10.345544°, -1.031766°)</td>\n",
       "      <td>https://catalog.waterpointdata.org/datafiles/c...</td>\n",
       "      <td>NaN</td>\n",
       "      <td>1</td>\n",
       "      <td>02/15/2021 04:51:31 PM</td>\n",
       "      <td>02/15/2021 04:51:31 PM</td>\n",
       "      <td>NaN</td>\n",
       "      <td>Catholic Relief Services_Ghana_2021</td>\n",
       "    </tr>\n",
       "  </tbody>\n",
       "</table>\n",
       "<p>3 rows × 73 columns</p>\n",
       "</div>"
      ],
      "text/plain": [
       "   row_id                     #source   #lat_deg  #lon_deg  \\\n",
       "0  490491                      Water4   9.752869 -2.494573   \n",
       "1  644474  Living Water International   7.066837 -2.783900   \n",
       "2   13068                         CRS  10.345544 -1.031766   \n",
       "\n",
       "             #report_date #status_id #water_source_clean  \\\n",
       "0  05/30/2024 12:00:00 AM        Yes         Piped Water   \n",
       "1  07/26/2015 12:00:00 AM        Yes   Borehole/Tubewell   \n",
       "2  03/22/2021 12:00:00 AM        Yes   Borehole/Tubewell   \n",
       "\n",
       "  #water_source_category    #water_tech_clean #water_tech_category  ...  \\\n",
       "0            Piped Water                  NaN                  NaN  ...   \n",
       "1                   Well  Hand Pump - Afridev            Hand Pump  ...   \n",
       "2                   Well            Hand Pump            Hand Pump  ...   \n",
       "\n",
       "  #subjective_quality                      New Georeferenced Column   \\\n",
       "0                 NaN  POINT (-2.4945725999999997 9.752869499999997)   \n",
       "1                 NaN                    POINT (-2.7839 7.066836667)   \n",
       "2                 NaN                    POINT (-1.031766 10.345544)   \n",
       "\n",
       "                                  lat_lon_deg  \\\n",
       "0  (9.752869499999997°, -2.4945725999999997°)   \n",
       "1                    (7.066836667°, -2.7839°)   \n",
       "2                    (10.345544°, -1.031766°)   \n",
       "\n",
       "                                  public_data_source converted  count  \\\n",
       "0  https://catalog.waterpointdata.org/datafiles/w...       NaN      1   \n",
       "1  https://catalog.waterpointdata.org/datafiles/t...       NaN      1   \n",
       "2  https://catalog.waterpointdata.org/datafiles/c...       NaN      1   \n",
       "\n",
       "        created_timestamp       updated_timestamp is_duplicate  \\\n",
       "0  03/18/2022 06:23:12 PM  03/18/2022 06:23:12 PM          NaN   \n",
       "1  07/21/2020 08:01:34 PM  07/21/2020 08:01:34 PM          NaN   \n",
       "2  02/15/2021 04:51:31 PM  02/15/2021 04:51:31 PM          NaN   \n",
       "\n",
       "                                       dataset_title  \n",
       "0                            Water4_Global_2021-2022  \n",
       "1  Living Water International_Africa Latin Americ...  \n",
       "2                Catholic Relief Services_Ghana_2021  \n",
       "\n",
       "[3 rows x 73 columns]"
      ]
     },
     "execution_count": 4,
     "metadata": {},
     "output_type": "execute_result"
    }
   ],
   "source": [
    "df.head(3)"
   ]
  },
  {
   "cell_type": "code",
   "execution_count": 5,
   "id": "0f94b89f-d2b5-4dee-a74e-020510fdf25d",
   "metadata": {},
   "outputs": [
    {
     "name": "stdout",
     "output_type": "stream",
     "text": [
      "<class 'pandas.core.frame.DataFrame'>\n",
      "RangeIndex: 24223 entries, 0 to 24222\n",
      "Data columns (total 73 columns):\n",
      " #   Column                       Non-Null Count  Dtype  \n",
      "---  ------                       --------------  -----  \n",
      " 0   row_id                       24223 non-null  int64  \n",
      " 1   #source                      24223 non-null  object \n",
      " 2   #lat_deg                     24223 non-null  float64\n",
      " 3   #lon_deg                     24223 non-null  float64\n",
      " 4   #report_date                 24223 non-null  object \n",
      " 5   #status_id                   24223 non-null  object \n",
      " 6   #water_source_clean          23950 non-null  object \n",
      " 7   #water_source_category       23950 non-null  object \n",
      " 8   #water_tech_clean            23422 non-null  object \n",
      " 9   #water_tech_category         23280 non-null  object \n",
      " 10  #facility_type               24223 non-null  object \n",
      " 11  #clean_country_name          24223 non-null  object \n",
      " 12  #clean_country_id            24223 non-null  object \n",
      " 13  #clean_adm1                  24223 non-null  object \n",
      " 14  #clean_adm2                  24223 non-null  object \n",
      " 15  #clean_adm3                  0 non-null      float64\n",
      " 16  #clean_adm4                  0 non-null      float64\n",
      " 17  #install_year                23725 non-null  float64\n",
      " 18  #installer                   459 non-null    object \n",
      " 19  #rehab_year                  2 non-null      float64\n",
      " 20  #rehabilitator               6 non-null      object \n",
      " 21  #management_clean            22556 non-null  object \n",
      " 22  #status_clean                24223 non-null  object \n",
      " 23  #pay_clean                   19650 non-null  object \n",
      " 24  #fecal_coliform_presence     1222 non-null   object \n",
      " 25  #fecal_coliform_value        335 non-null    float64\n",
      " 26  #subjective_quality_clean    7 non-null      object \n",
      " 27  #activity_id                 23588 non-null  object \n",
      " 28  #scheme_id                   2938 non-null   float64\n",
      " 29  #wpdx_id                     24223 non-null  object \n",
      " 30  #notes                       794 non-null    object \n",
      " 31  #orig_lnk                    0 non-null      float64\n",
      " 32  #photo_lnk                   22586 non-null  object \n",
      " 33  #country_id                  20872 non-null  object \n",
      " 34  #data_lnk                    24223 non-null  object \n",
      " 35  #distance_to_primary_road    24223 non-null  float64\n",
      " 36  #distance_to_secondary_road  24223 non-null  float64\n",
      " 37  #distance_to_tertiary_road   24223 non-null  float64\n",
      " 38  #distance_to_city            24223 non-null  float64\n",
      " 39  #distance_to_town            24223 non-null  float64\n",
      " 40  water_point_history          24223 non-null  object \n",
      " 41  local_population_1km         20925 non-null  float64\n",
      " 42  water_point_population       20925 non-null  float64\n",
      " 43  rehab_priority               5443 non-null   float64\n",
      " 44  #pop_who_would_gain_access   5088 non-null   float64\n",
      " 45  crucialness_score            20443 non-null  float64\n",
      " 46  pressure_score               20443 non-null  float64\n",
      " 47  usage_capacity               24147 non-null  float64\n",
      " 48  days_since_report            24223 non-null  int64  \n",
      " 49  staleness_score              24223 non-null  float64\n",
      " 50  latest_record                24223 non-null  bool   \n",
      " 51  location_id                  24223 non-null  int64  \n",
      " 52  is_urban                     24223 non-null  bool   \n",
      " 53  cluster_size                 24223 non-null  int64  \n",
      " 54  #country_name                20872 non-null  object \n",
      " 55  #water_source                24022 non-null  object \n",
      " 56  #water_tech                  20340 non-null  object \n",
      " 57  #status                      15079 non-null  object \n",
      " 58  #adm1                        20668 non-null  object \n",
      " 59  #adm2                        23452 non-null  object \n",
      " 60  #adm3                        332 non-null    object \n",
      " 61  #management                  23021 non-null  object \n",
      " 62  #pay                         19690 non-null  object \n",
      " 63  #subjective_quality          7 non-null      object \n",
      " 64  New Georeferenced Column     24223 non-null  object \n",
      " 65  lat_lon_deg                  24223 non-null  object \n",
      " 66  public_data_source           24223 non-null  object \n",
      " 67  converted                    20131 non-null  object \n",
      " 68  count                        24223 non-null  int64  \n",
      " 69  created_timestamp            24223 non-null  object \n",
      " 70  updated_timestamp            24223 non-null  object \n",
      " 71  is_duplicate                 1113 non-null   object \n",
      " 72  dataset_title                24223 non-null  object \n",
      "dtypes: bool(2), float64(22), int64(5), object(44)\n",
      "memory usage: 13.2+ MB\n"
     ]
    }
   ],
   "source": [
    "df.info()"
   ]
  },
  {
   "cell_type": "code",
   "execution_count": 6,
   "id": "2ec9c2b8-4b79-4e28-91b9-b9aa5b2f7601",
   "metadata": {
    "tags": []
   },
   "outputs": [
    {
     "data": {
      "text/plain": [
       "#clean_adm1\n",
       "Upper West       4240\n",
       "Upper East       4017\n",
       "Western          2919\n",
       "Central          2615\n",
       "Northern         2604\n",
       "Bono             1505\n",
       "Savannah         1384\n",
       "Bono East        1313\n",
       "Western North    1194\n",
       "Northern East    1138\n",
       "Ahafo            1066\n",
       "Oti               136\n",
       "Ashanti            88\n",
       "Eastern             3\n",
       "Greater Accra       1\n",
       "Name: count, dtype: int64"
      ]
     },
     "execution_count": 6,
     "metadata": {},
     "output_type": "execute_result"
    }
   ],
   "source": [
    "df[\"#clean_adm1\"].value_counts()"
   ]
  },
  {
   "cell_type": "code",
   "execution_count": 7,
   "id": "36999cae-bbac-4ada-90ae-f19d82fe5794",
   "metadata": {
    "tags": []
   },
   "outputs": [
    {
     "data": {
      "text/plain": [
       "#source\n",
       "CWSA                                            19610\n",
       "Water4                                           3052\n",
       "World Vision                                      457\n",
       "Aquaya                                            276\n",
       "CRS                                               270\n",
       "Water4 Headquarters                               237\n",
       "Living Water International                        127\n",
       "Global Environment and Technology Foundation       74\n",
       "Water4 Public                                      70\n",
       "YouthMappers Ghana Chapter                         40\n",
       "WaterAid                                            6\n",
       "UNHCR                                               3\n",
       "WaterAid UK                                         1\n",
       "Name: count, dtype: int64"
      ]
     },
     "execution_count": 7,
     "metadata": {},
     "output_type": "execute_result"
    }
   ],
   "source": [
    "df[\"#source\"].value_counts()"
   ]
  },
  {
   "cell_type": "markdown",
   "id": "70e90ab8-5e90-49f7-a7ec-95fa1d1b3728",
   "metadata": {},
   "source": [
    "## Filter to piped water only"
   ]
  },
  {
   "cell_type": "code",
   "execution_count": 8,
   "id": "25cd3605-7b0a-4b00-8f39-e3c6b9c74968",
   "metadata": {},
   "outputs": [
    {
     "data": {
      "text/plain": [
       "#water_source_clean\n",
       "Borehole/Tubewell          18675\n",
       "Piped Water                 3016\n",
       "Protected Well              2221\n",
       "Undefined Well                19\n",
       "Rainwater Harvesting          12\n",
       "Sand or Sub-surface Dam        4\n",
       "Undefined Spring               2\n",
       "Protected Spring               1\n",
       "Name: count, dtype: int64"
      ]
     },
     "execution_count": 8,
     "metadata": {},
     "output_type": "execute_result"
    }
   ],
   "source": [
    "df[\"#water_source_clean\"].value_counts()"
   ]
  },
  {
   "cell_type": "code",
   "execution_count": 9,
   "id": "11c9ce24-154e-44f3-b4af-3aa3307b10b6",
   "metadata": {
    "tags": []
   },
   "outputs": [
    {
     "data": {
      "text/plain": [
       "(24223, 73)"
      ]
     },
     "execution_count": 9,
     "metadata": {},
     "output_type": "execute_result"
    }
   ],
   "source": [
    "df.shape"
   ]
  },
  {
   "cell_type": "code",
   "execution_count": 10,
   "id": "4a73b0e8-1953-4e65-91e1-40fa89f5ce88",
   "metadata": {
    "tags": []
   },
   "outputs": [
    {
     "data": {
      "text/plain": [
       "(3016, 73)"
      ]
     },
     "execution_count": 10,
     "metadata": {},
     "output_type": "execute_result"
    }
   ],
   "source": [
    "df = df[df[\"#water_source_clean\"].isin([\"Piped Water\"])].copy()\n",
    "df.shape"
   ]
  },
  {
   "cell_type": "markdown",
   "id": "671e6478-f28b-497a-9345-814ef6f6a2fe",
   "metadata": {},
   "source": [
    "## Data Cleanup\n",
    "\n",
    "EG: `systems_gdf.loc[systems_gdf[\"OPERATOR\"] == \"ristome (user)\", \"OPERATOR\"] = \"Unknown\"`"
   ]
  },
  {
   "cell_type": "code",
   "execution_count": 11,
   "id": "30a12b57-1f7a-4fed-be94-56874daef1c0",
   "metadata": {
    "tags": []
   },
   "outputs": [],
   "source": [
    "df.loc[df[\"#source\"]==\"Water4 Headquarters\", \"#source\"] = \"Water4\"\n",
    "df.loc[df[\"#source\"]==\"Water4 Public\", \"#source\"] = \"Water4\"\n",
    "df.loc[df[\"#source\"]==\"WaterAid UK\", \"#source\"] = \"WaterAid\"\n",
    "df.loc[df[\"#management_clean\"]==\"Private Operator/Delegated Management\", \"#management_clean\"] = \"Private Operator/Delegated Management (WPDX)\""
   ]
  },
  {
   "cell_type": "code",
   "execution_count": 12,
   "id": "e183bf32-de7c-4e05-93ea-7bc40c70c798",
   "metadata": {
    "tags": []
   },
   "outputs": [],
   "source": [
    "# Add Source\n",
    "df[\"SOURCE\"] = \"Public-wpdx\"\n",
    "df[\"COMMUNITY\"] = \"Unknown-wpdx\""
   ]
  },
  {
   "cell_type": "code",
   "execution_count": 13,
   "id": "2ad443e7-1608-4b5b-8d3f-2a26853c05ae",
   "metadata": {},
   "outputs": [
    {
     "data": {
      "text/plain": [
       "(3016, 22)"
      ]
     },
     "execution_count": 13,
     "metadata": {},
     "output_type": "execute_result"
    }
   ],
   "source": [
    "# Trim down columns\n",
    "keep_cols = [\n",
    "    '#source', '#lat_deg', '#lon_deg', '#report_date',\n",
    "    '#clean_country_name', '#clean_country_id', '#clean_adm1', '#clean_adm2',\n",
    "    '#water_source_clean', '#install_year', '#management_clean',\n",
    "    '#distance_to_primary_road', '#distance_to_secondary_road', '#distance_to_tertiary_road', '#distance_to_city', '#distance_to_town',\n",
    "    'usage_capacity', 'days_since_report', 'created_timestamp', 'updated_timestamp', \"SOURCE\", \"COMMUNITY\"\n",
    "]\n",
    "\n",
    "df = df[keep_cols].copy()\n",
    "df.shape"
   ]
  },
  {
   "cell_type": "code",
   "execution_count": 14,
   "id": "044ed247-b600-450c-8a13-8752ed2bf130",
   "metadata": {
    "tags": []
   },
   "outputs": [],
   "source": [
    "# Clean up column names\n",
    "rename_dict = {\n",
    "    \"#lat_deg\": \"LATITUDE\",\n",
    "    \"#lon_deg\": \"LONGITUDE\",\n",
    "    \"#clean_country_name\": \"COUNTRY\",\n",
    "    \"#clean_adm1\": \"REGION\",\n",
    "    \"#clean_adm2\": \"DISTRICT\",\n",
    "    \"#management_clean\": \"OPERATOR\",\n",
    "    \"#source\": \"#data_source\", \n",
    "}"
   ]
  },
  {
   "cell_type": "code",
   "execution_count": 15,
   "id": "ca1084b1-c5cb-4f34-a15d-bb3c84a1d0f1",
   "metadata": {
    "tags": []
   },
   "outputs": [
    {
     "name": "stdout",
     "output_type": "stream",
     "text": [
      "<class 'pandas.core.frame.DataFrame'>\n",
      "Index: 3016 entries, 0 to 5378\n",
      "Data columns (total 22 columns):\n",
      " #   Column                       Non-Null Count  Dtype  \n",
      "---  ------                       --------------  -----  \n",
      " 0   #data_source                 3016 non-null   object \n",
      " 1   LATITUDE                     3016 non-null   float64\n",
      " 2   LONGITUDE                    3016 non-null   float64\n",
      " 3   #report_date                 3016 non-null   object \n",
      " 4   COUNTRY                      3016 non-null   object \n",
      " 5   #clean_country_id            3016 non-null   object \n",
      " 6   REGION                       3016 non-null   object \n",
      " 7   DISTRICT                     3016 non-null   object \n",
      " 8   #water_source_clean          3016 non-null   object \n",
      " 9   #install_year                2705 non-null   float64\n",
      " 10  OPERATOR                     2770 non-null   object \n",
      " 11  #distance_to_primary_road    3016 non-null   float64\n",
      " 12  #distance_to_secondary_road  3016 non-null   float64\n",
      " 13  #distance_to_tertiary_road   3016 non-null   float64\n",
      " 14  #distance_to_city            3016 non-null   float64\n",
      " 15  #distance_to_town            3016 non-null   float64\n",
      " 16  usage_capacity               3016 non-null   float64\n",
      " 17  days_since_report            3016 non-null   int64  \n",
      " 18  created_timestamp            3016 non-null   object \n",
      " 19  updated_timestamp            3016 non-null   object \n",
      " 20  SOURCE                       3016 non-null   object \n",
      " 21  COMMUNITY                    3016 non-null   object \n",
      "dtypes: float64(9), int64(1), object(12)\n",
      "memory usage: 541.9+ KB\n"
     ]
    }
   ],
   "source": [
    "df = df.rename(columns=rename_dict)\n",
    "df.info()"
   ]
  },
  {
   "cell_type": "code",
   "execution_count": 16,
   "id": "ebc820fc-0663-4e47-a3fe-4d44f1f44e9d",
   "metadata": {
    "tags": []
   },
   "outputs": [
    {
     "name": "stdout",
     "output_type": "stream",
     "text": [
      "<class 'pandas.core.frame.DataFrame'>\n",
      "Index: 3016 entries, 0 to 5378\n",
      "Data columns (total 22 columns):\n",
      " #   Column                       Non-Null Count  Dtype  \n",
      "---  ------                       --------------  -----  \n",
      " 0   #data_source                 3016 non-null   object \n",
      " 1   LATITUDE                     3016 non-null   float64\n",
      " 2   LONGITUDE                    3016 non-null   float64\n",
      " 3   #report_date                 3016 non-null   object \n",
      " 4   COUNTRY                      3016 non-null   object \n",
      " 5   #clean_country_id            3016 non-null   object \n",
      " 6   REGION                       3016 non-null   object \n",
      " 7   DISTRICT                     3016 non-null   object \n",
      " 8   #water_source_clean          3016 non-null   object \n",
      " 9   #install_year                2705 non-null   float64\n",
      " 10  OPERATOR                     2770 non-null   object \n",
      " 11  #distance_to_primary_road    3016 non-null   float64\n",
      " 12  #distance_to_secondary_road  3016 non-null   float64\n",
      " 13  #distance_to_tertiary_road   3016 non-null   float64\n",
      " 14  #distance_to_city            3016 non-null   float64\n",
      " 15  #distance_to_town            3016 non-null   float64\n",
      " 16  usage_capacity               3016 non-null   float64\n",
      " 17  days_since_report            3016 non-null   int64  \n",
      " 18  created_timestamp            3016 non-null   object \n",
      " 19  updated_timestamp            3016 non-null   object \n",
      " 20  SOURCE                       3016 non-null   object \n",
      " 21  COMMUNITY                    3016 non-null   object \n",
      "dtypes: float64(9), int64(1), object(12)\n",
      "memory usage: 541.9+ KB\n"
     ]
    }
   ],
   "source": [
    "df.info()"
   ]
  },
  {
   "cell_type": "code",
   "execution_count": 17,
   "id": "9453c6f8-8e4f-450a-8aad-ec8e64a4fadc",
   "metadata": {
    "tags": []
   },
   "outputs": [
    {
     "data": {
      "text/html": [
       "<div>\n",
       "<style scoped>\n",
       "    .dataframe tbody tr th:only-of-type {\n",
       "        vertical-align: middle;\n",
       "    }\n",
       "\n",
       "    .dataframe tbody tr th {\n",
       "        vertical-align: top;\n",
       "    }\n",
       "\n",
       "    .dataframe thead th {\n",
       "        text-align: right;\n",
       "    }\n",
       "</style>\n",
       "<table border=\"1\" class=\"dataframe\">\n",
       "  <thead>\n",
       "    <tr style=\"text-align: right;\">\n",
       "      <th></th>\n",
       "      <th>#data_source</th>\n",
       "      <th>LATITUDE</th>\n",
       "      <th>LONGITUDE</th>\n",
       "      <th>#report_date</th>\n",
       "      <th>COUNTRY</th>\n",
       "      <th>#clean_country_id</th>\n",
       "      <th>REGION</th>\n",
       "      <th>DISTRICT</th>\n",
       "      <th>#water_source_clean</th>\n",
       "      <th>#install_year</th>\n",
       "      <th>...</th>\n",
       "      <th>#distance_to_secondary_road</th>\n",
       "      <th>#distance_to_tertiary_road</th>\n",
       "      <th>#distance_to_city</th>\n",
       "      <th>#distance_to_town</th>\n",
       "      <th>usage_capacity</th>\n",
       "      <th>days_since_report</th>\n",
       "      <th>created_timestamp</th>\n",
       "      <th>updated_timestamp</th>\n",
       "      <th>SOURCE</th>\n",
       "      <th>COMMUNITY</th>\n",
       "    </tr>\n",
       "  </thead>\n",
       "  <tbody>\n",
       "    <tr>\n",
       "      <th>0</th>\n",
       "      <td>Water4</td>\n",
       "      <td>9.752869</td>\n",
       "      <td>-2.494573</td>\n",
       "      <td>05/30/2024 12:00:00 AM</td>\n",
       "      <td>Ghana</td>\n",
       "      <td>GHA</td>\n",
       "      <td>Upper West</td>\n",
       "      <td>Wa West</td>\n",
       "      <td>Piped Water</td>\n",
       "      <td>2024.0</td>\n",
       "      <td>...</td>\n",
       "      <td>48722.487507</td>\n",
       "      <td>20068.027173</td>\n",
       "      <td>34248.810205</td>\n",
       "      <td>22288.223218</td>\n",
       "      <td>250.0</td>\n",
       "      <td>17</td>\n",
       "      <td>03/18/2022 06:23:12 PM</td>\n",
       "      <td>03/18/2022 06:23:12 PM</td>\n",
       "      <td>Public-wpdx</td>\n",
       "      <td>Unknown-wpdx</td>\n",
       "    </tr>\n",
       "    <tr>\n",
       "      <th>14</th>\n",
       "      <td>Water4</td>\n",
       "      <td>9.492992</td>\n",
       "      <td>-2.417155</td>\n",
       "      <td>11/15/2023 12:00:00 AM</td>\n",
       "      <td>Ghana</td>\n",
       "      <td>GHA</td>\n",
       "      <td>Savannah</td>\n",
       "      <td>Sawla-Tuna-Kalba</td>\n",
       "      <td>Piped Water</td>\n",
       "      <td>2023.0</td>\n",
       "      <td>...</td>\n",
       "      <td>69669.970007</td>\n",
       "      <td>276.649434</td>\n",
       "      <td>63712.378702</td>\n",
       "      <td>24362.625525</td>\n",
       "      <td>250.0</td>\n",
       "      <td>214</td>\n",
       "      <td>03/18/2022 06:23:12 PM</td>\n",
       "      <td>03/18/2022 06:23:12 PM</td>\n",
       "      <td>Public-wpdx</td>\n",
       "      <td>Unknown-wpdx</td>\n",
       "    </tr>\n",
       "    <tr>\n",
       "      <th>15</th>\n",
       "      <td>Water4</td>\n",
       "      <td>5.353420</td>\n",
       "      <td>-1.675617</td>\n",
       "      <td>06/21/2023 12:00:00 AM</td>\n",
       "      <td>Ghana</td>\n",
       "      <td>GHA</td>\n",
       "      <td>Western</td>\n",
       "      <td>Wassa East</td>\n",
       "      <td>Piped Water</td>\n",
       "      <td>NaN</td>\n",
       "      <td>...</td>\n",
       "      <td>69.403511</td>\n",
       "      <td>8921.660539</td>\n",
       "      <td>47802.405045</td>\n",
       "      <td>23164.055631</td>\n",
       "      <td>250.0</td>\n",
       "      <td>361</td>\n",
       "      <td>05/19/2021 07:21:29 PM</td>\n",
       "      <td>05/19/2021 07:21:29 PM</td>\n",
       "      <td>Public-wpdx</td>\n",
       "      <td>Unknown-wpdx</td>\n",
       "    </tr>\n",
       "  </tbody>\n",
       "</table>\n",
       "<p>3 rows × 22 columns</p>\n",
       "</div>"
      ],
      "text/plain": [
       "   #data_source  LATITUDE  LONGITUDE            #report_date COUNTRY  \\\n",
       "0        Water4  9.752869  -2.494573  05/30/2024 12:00:00 AM   Ghana   \n",
       "14       Water4  9.492992  -2.417155  11/15/2023 12:00:00 AM   Ghana   \n",
       "15       Water4  5.353420  -1.675617  06/21/2023 12:00:00 AM   Ghana   \n",
       "\n",
       "   #clean_country_id      REGION          DISTRICT #water_source_clean  \\\n",
       "0                GHA  Upper West           Wa West         Piped Water   \n",
       "14               GHA    Savannah  Sawla-Tuna-Kalba         Piped Water   \n",
       "15               GHA     Western        Wassa East         Piped Water   \n",
       "\n",
       "    #install_year  ... #distance_to_secondary_road  \\\n",
       "0          2024.0  ...                48722.487507   \n",
       "14         2023.0  ...                69669.970007   \n",
       "15            NaN  ...                   69.403511   \n",
       "\n",
       "    #distance_to_tertiary_road  #distance_to_city  #distance_to_town  \\\n",
       "0                 20068.027173       34248.810205       22288.223218   \n",
       "14                  276.649434       63712.378702       24362.625525   \n",
       "15                 8921.660539       47802.405045       23164.055631   \n",
       "\n",
       "    usage_capacity  days_since_report       created_timestamp  \\\n",
       "0            250.0                 17  03/18/2022 06:23:12 PM   \n",
       "14           250.0                214  03/18/2022 06:23:12 PM   \n",
       "15           250.0                361  05/19/2021 07:21:29 PM   \n",
       "\n",
       "         updated_timestamp       SOURCE     COMMUNITY  \n",
       "0   03/18/2022 06:23:12 PM  Public-wpdx  Unknown-wpdx  \n",
       "14  03/18/2022 06:23:12 PM  Public-wpdx  Unknown-wpdx  \n",
       "15  05/19/2021 07:21:29 PM  Public-wpdx  Unknown-wpdx  \n",
       "\n",
       "[3 rows x 22 columns]"
      ]
     },
     "execution_count": 17,
     "metadata": {},
     "output_type": "execute_result"
    }
   ],
   "source": [
    "df.head(3)"
   ]
  },
  {
   "cell_type": "markdown",
   "id": "84bbf539-f1b1-4dfb-be10-3454154e5e24",
   "metadata": {},
   "source": [
    "## Export"
   ]
  },
  {
   "cell_type": "code",
   "execution_count": 18,
   "id": "f7863cee-a789-45f4-ae80-e008e7639b2d",
   "metadata": {
    "tags": []
   },
   "outputs": [],
   "source": [
    "df.to_excel(\"./export/AFPW-PipedWaterSystems-WPDX.xlsx\", index=False)"
   ]
  },
  {
   "cell_type": "code",
   "execution_count": null,
   "id": "ac8b288f-f538-49d1-aa41-90cf7f9a2065",
   "metadata": {},
   "outputs": [],
   "source": []
  }
 ],
 "metadata": {
  "kernelspec": {
   "display_name": "aquaya-sandbox",
   "language": "python",
   "name": "aquaya-sandbox"
  },
  "language_info": {
   "codemirror_mode": {
    "name": "ipython",
    "version": 3
   },
   "file_extension": ".py",
   "mimetype": "text/x-python",
   "name": "python",
   "nbconvert_exporter": "python",
   "pygments_lexer": "ipython3",
   "version": "3.9.6"
  }
 },
 "nbformat": 4,
 "nbformat_minor": 5
}
