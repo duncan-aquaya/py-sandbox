{
 "cells": [
  {
   "cell_type": "markdown",
   "id": "5df42f5e-9eec-42c0-a1f1-a9d54529c773",
   "metadata": {},
   "source": [
    "# Communities Data Exploration\n",
    "\n",
    "\n",
    "Explore, filter and work with Settle Extents data from GRID3, UN COD-PP data for place names, HOT OSM populated places, etc"
   ]
  },
  {
   "cell_type": "code",
   "execution_count": 1,
   "id": "272d3323-d9b1-48c4-ae44-c1841bd9f0f2",
   "metadata": {},
   "outputs": [],
   "source": [
    "import pandas as pd\n",
    "import geopandas as gpd\n",
    "import plotly.express as px\n",
    "\n",
    "from tqdm.notebook import tqdm\n",
    "from geopy.distance import distance, lonlat"
   ]
  },
  {
   "cell_type": "markdown",
   "id": "52e563d2-7ce2-4890-9b05-d78115e9eed1",
   "metadata": {},
   "source": [
    "## Load and Explore Settlement Extents Communities (GRID3)"
   ]
  },
  {
   "cell_type": "code",
   "execution_count": 3,
   "id": "64f063dc-f241-481c-af5a-7778b86eee5c",
   "metadata": {},
   "outputs": [],
   "source": [
    "# Settlement Extents file\n",
    "se_file = \"./data/Ghana_Settlement_Extents_Version_01.01.geojson\""
   ]
  },
  {
   "cell_type": "code",
   "execution_count": 4,
   "id": "4d263f74-ed68-431d-aa38-0432a450940a",
   "metadata": {},
   "outputs": [
    {
     "data": {
      "text/plain": [
       "(374257, 16)"
      ]
     },
     "execution_count": 4,
     "metadata": {},
     "output_type": "execute_result"
    }
   ],
   "source": [
    "# Load source data\n",
    "se_df = gpd.read_file(se_file, iterator=True, chunksize=1000, index=\"OBJECTID\")\n",
    "se_df.shape"
   ]
  },
  {
   "cell_type": "code",
   "execution_count": 5,
   "id": "3f208e49-6285-4237-b437-272c31423215",
   "metadata": {},
   "outputs": [
    {
     "data": {
      "text/plain": [
       "adm1_name\n",
       "Ashanti             53094\n",
       "Northern            39687\n",
       "Western North       38713\n",
       "Western             32932\n",
       "Eastern             27371\n",
       "Bono East           25294\n",
       "Upper West          25062\n",
       "Upper East          19162\n",
       "Central             18170\n",
       "Savannah            17711\n",
       "Ahafo               17138\n",
       "Bono                15409\n",
       "Oti                 14136\n",
       "Volta               13377\n",
       "Northern East       12398\n",
       "Greater Accra        4140\n",
       "NA                    298\n",
       "crosses boundary      165\n",
       "Name: count, dtype: int64"
      ]
     },
     "execution_count": 5,
     "metadata": {},
     "output_type": "execute_result"
    }
   ],
   "source": [
    "# Report number of settlements per region\n",
    "se_df[\"adm1_name\"].value_counts()"
   ]
  },
  {
   "cell_type": "code",
   "execution_count": 6,
   "id": "ef90210d-ff8c-482c-9bde-9d1bcb5ca924",
   "metadata": {},
   "outputs": [],
   "source": [
    "# Regions and Select region\n",
    "region_pcodes = {\n",
    "    \"Ashanti\": \"GH02\",\n",
    "    \"Eastern\": \"GH06\",\n",
    "    \"Volta\": \"GH14\",\n",
    "    \"Bono\": \"GH03\",\n",
    "    \"Ahafo\": \"GH01\"\n",
    "}"
   ]
  },
  {
   "cell_type": "code",
   "execution_count": 7,
   "id": "3c08339f-6a55-4888-b624-c64548234155",
   "metadata": {},
   "outputs": [
    {
     "data": {
      "text/plain": [
       "(126389, 15)"
      ]
     },
     "execution_count": 7,
     "metadata": {},
     "output_type": "execute_result"
    }
   ],
   "source": [
    "# Filter to desired regions only\n",
    "# NB: We are filtering out any communities here that cross region boundaries or have null name (~165 + 115 re: value counts above). \n",
    "regs_df = se_df[se_df[\"adm1_name\"].isin(region_pcodes.keys())].copy()\n",
    "regs_df = regs_df.set_index(\"OBJECTID\")\n",
    "regs_df.shape"
   ]
  },
  {
   "cell_type": "code",
   "execution_count": 8,
   "id": "0cf06448-9b44-45c0-910a-c3bf69eab937",
   "metadata": {},
   "outputs": [
    {
     "data": {
      "text/plain": [
       "(1039, 15)"
      ]
     },
     "execution_count": 8,
     "metadata": {},
     "output_type": "execute_result"
    }
   ],
   "source": [
    "# Sub-filter to desired population range\n",
    "filt_df = regs_df[regs_df[\"pop_un_adj\"].between(1000, 200000, inclusive=\"both\")].copy()\n",
    "filt_df.shape"
   ]
  },
  {
   "cell_type": "code",
   "execution_count": 49,
   "id": "f73c1297-2863-47f7-827a-9aa04ffb4912",
   "metadata": {},
   "outputs": [
    {
     "name": "stderr",
     "output_type": "stream",
     "text": [
      "/var/folders/_f/bhtpz1nj0216d4sgdjmd9vk40000gn/T/ipykernel_36625/3468178755.py:2: UserWarning: Geometry is in a geographic CRS. Results from 'centroid' are likely incorrect. Use 'GeoSeries.to_crs()' to re-project geometries to a projected CRS before this operation.\n",
      "\n",
      "  filt_df[\"approx_center_lat\"] = filt_df[\"geometry\"].centroid.y\n",
      "/var/folders/_f/bhtpz1nj0216d4sgdjmd9vk40000gn/T/ipykernel_36625/3468178755.py:3: UserWarning: Geometry is in a geographic CRS. Results from 'centroid' are likely incorrect. Use 'GeoSeries.to_crs()' to re-project geometries to a projected CRS before this operation.\n",
      "\n",
      "  filt_df[\"approx_center_lon\"] = filt_df[\"geometry\"].centroid.x\n"
     ]
    }
   ],
   "source": [
    "# Ignore warnings - visually analyzing centers shows they are fine. NB: Not always inside settlement shapes. Alternatively can use 'GeoSeries.representative_point'\n",
    "filt_df[\"approx_center_lat\"] = filt_df[\"geometry\"].centroid.y\n",
    "filt_df[\"approx_center_lon\"] = filt_df[\"geometry\"].centroid.x"
   ]
  },
  {
   "cell_type": "code",
   "execution_count": 9,
   "id": "67d4fbfc-085a-49a9-8d45-3c80281021c8",
   "metadata": {},
   "outputs": [],
   "source": [
    "# Examine populations; determine population bounds\n",
    "# f = px.histogram(filt_df, x=\"pop_un_adj\")\n",
    "# f.show(\"browser\")"
   ]
  },
  {
   "cell_type": "code",
   "execution_count": 13,
   "id": "ef5bcdcc-8697-48ae-8645-be3e53cf8d5d",
   "metadata": {},
   "outputs": [
    {
     "data": {
      "text/plain": [
       "adm1_name\n",
       "Eastern    332\n",
       "Ashanti    322\n",
       "Volta      225\n",
       "Bono       119\n",
       "Ahafo       41\n",
       "Name: count, dtype: int64"
      ]
     },
     "execution_count": 13,
     "metadata": {},
     "output_type": "execute_result"
    }
   ],
   "source": [
    "# Distribution of regional settlements\n",
    "filt_df[\"adm1_name\"].value_counts()"
   ]
  },
  {
   "cell_type": "code",
   "execution_count": 14,
   "id": "53d482f5-fa47-49b2-b548-02dfa52e2162",
   "metadata": {},
   "outputs": [],
   "source": [
    "# Export\n",
    "# filt_df.to_file(\"./data/AFPW-Communities-AllRegions.10k-200k.geojson\")"
   ]
  },
  {
   "cell_type": "code",
   "execution_count": 50,
   "id": "011a06ee-4749-47db-ad96-7f81f25302a1",
   "metadata": {},
   "outputs": [
    {
     "data": {
      "text/html": [
       "<div>\n",
       "<style scoped>\n",
       "    .dataframe tbody tr th:only-of-type {\n",
       "        vertical-align: middle;\n",
       "    }\n",
       "\n",
       "    .dataframe tbody tr th {\n",
       "        vertical-align: top;\n",
       "    }\n",
       "\n",
       "    .dataframe thead th {\n",
       "        text-align: right;\n",
       "    }\n",
       "</style>\n",
       "<table border=\"1\" class=\"dataframe\">\n",
       "  <thead>\n",
       "    <tr style=\"text-align: right;\">\n",
       "      <th></th>\n",
       "      <th>mgrs_code</th>\n",
       "      <th>country</th>\n",
       "      <th>iso</th>\n",
       "      <th>type</th>\n",
       "      <th>population</th>\n",
       "      <th>pop_un_adj</th>\n",
       "      <th>adm0_pcode</th>\n",
       "      <th>adm1_name</th>\n",
       "      <th>adm1_pcode</th>\n",
       "      <th>adm2_name</th>\n",
       "      <th>adm2_pcode</th>\n",
       "      <th>settl_pcode</th>\n",
       "      <th>Shape__Area</th>\n",
       "      <th>Shape__Length</th>\n",
       "      <th>geometry</th>\n",
       "      <th>Communities</th>\n",
       "      <th>NumCommunities</th>\n",
       "      <th>CommunityNames</th>\n",
       "      <th>approx_center_lat</th>\n",
       "      <th>approx_center_lon</th>\n",
       "    </tr>\n",
       "    <tr>\n",
       "      <th>OBJECTID</th>\n",
       "      <th></th>\n",
       "      <th></th>\n",
       "      <th></th>\n",
       "      <th></th>\n",
       "      <th></th>\n",
       "      <th></th>\n",
       "      <th></th>\n",
       "      <th></th>\n",
       "      <th></th>\n",
       "      <th></th>\n",
       "      <th></th>\n",
       "      <th></th>\n",
       "      <th></th>\n",
       "      <th></th>\n",
       "      <th></th>\n",
       "      <th></th>\n",
       "      <th></th>\n",
       "      <th></th>\n",
       "      <th></th>\n",
       "      <th></th>\n",
       "    </tr>\n",
       "  </thead>\n",
       "  <tbody>\n",
       "    <tr>\n",
       "      <th>47262</th>\n",
       "      <td>30NXM4069_02</td>\n",
       "      <td>Ghana</td>\n",
       "      <td>GHA</td>\n",
       "      <td>Small Settlement Area</td>\n",
       "      <td>1741.494917</td>\n",
       "      <td>1637.835636</td>\n",
       "      <td>GH</td>\n",
       "      <td>Ashanti</td>\n",
       "      <td>GH02</td>\n",
       "      <td>Adansi Akrofuom</td>\n",
       "      <td>GH0201</td>\n",
       "      <td>GH0201000022</td>\n",
       "      <td>0.000045</td>\n",
       "      <td>0.031784</td>\n",
       "      <td>POLYGON ((-1.73039 6.05879, -1.73003 6.05862, ...</td>\n",
       "      <td>[{'community': 'Amponyase', 'source': 'HOT-OSM...</td>\n",
       "      <td>1.0</td>\n",
       "      <td>Amponyase</td>\n",
       "      <td>6.055197</td>\n",
       "      <td>-1.733869</td>\n",
       "    </tr>\n",
       "  </tbody>\n",
       "</table>\n",
       "</div>"
      ],
      "text/plain": [
       "             mgrs_code country  iso                   type   population  \\\n",
       "OBJECTID                                                                  \n",
       "47262     30NXM4069_02   Ghana  GHA  Small Settlement Area  1741.494917   \n",
       "\n",
       "           pop_un_adj adm0_pcode adm1_name adm1_pcode        adm2_name  \\\n",
       "OBJECTID                                                                 \n",
       "47262     1637.835636         GH   Ashanti       GH02  Adansi Akrofuom   \n",
       "\n",
       "         adm2_pcode   settl_pcode  Shape__Area  Shape__Length  \\\n",
       "OBJECTID                                                        \n",
       "47262        GH0201  GH0201000022     0.000045       0.031784   \n",
       "\n",
       "                                                   geometry  \\\n",
       "OBJECTID                                                      \n",
       "47262     POLYGON ((-1.73039 6.05879, -1.73003 6.05862, ...   \n",
       "\n",
       "                                                Communities  NumCommunities  \\\n",
       "OBJECTID                                                                      \n",
       "47262     [{'community': 'Amponyase', 'source': 'HOT-OSM...             1.0   \n",
       "\n",
       "         CommunityNames  approx_center_lat  approx_center_lon  \n",
       "OBJECTID                                                       \n",
       "47262         Amponyase           6.055197          -1.733869  "
      ]
     },
     "execution_count": 50,
     "metadata": {},
     "output_type": "execute_result"
    }
   ],
   "source": [
    "# Check out\n",
    "filt_df.head(1)"
   ]
  },
  {
   "cell_type": "code",
   "execution_count": 98,
   "id": "9fdd1273-6464-4160-9309-c12add74cdd5",
   "metadata": {},
   "outputs": [],
   "source": [
    "# Explore (Tiles: [\"OpenStreetMap\",  \"CartoDB positron\", “CartoDB dark_matter\"]\n",
    "# fig = filt_df.explore(column=\"pop_un_adj\", cmap=\"Reds_r\")\n",
    "# fig"
   ]
  },
  {
   "cell_type": "markdown",
   "id": "5243a1d4-1906-443b-a1b5-1859e46ec452",
   "metadata": {},
   "source": [
    "## Open and explore COD-PP UN OCHA data"
   ]
  },
  {
   "cell_type": "code",
   "execution_count": 17,
   "id": "baf001d2-701e-4ab0-8f65-fac8951e4b2a",
   "metadata": {},
   "outputs": [],
   "source": [
    "# Populated Places stats file\n",
    "pp_file = \"./data/UN OCHA - COD-PP - gha_ppl_1m_nga.zip\""
   ]
  },
  {
   "cell_type": "code",
   "execution_count": null,
   "id": "74df6b6f-7a45-4f3f-8bac-df1483422b08",
   "metadata": {},
   "outputs": [],
   "source": []
  },
  {
   "cell_type": "code",
   "execution_count": 18,
   "id": "da84a3a5-9568-4b19-ab86-72b2e2cdd17e",
   "metadata": {},
   "outputs": [
    {
     "data": {
      "text/plain": [
       "(4654, 18)"
      ]
     },
     "execution_count": 18,
     "metadata": {},
     "output_type": "execute_result"
    }
   ],
   "source": [
    "# Load populated places data\n",
    "pp_df = gpd.read_file(pp_file)\n",
    "pp_df = pp_df[pp_df[\"ADM1_EN\"].isin(region_pcodes.keys())].copy()\n",
    "pp_df.shape"
   ]
  },
  {
   "cell_type": "code",
   "execution_count": 19,
   "id": "9c151f49-9dc0-45b7-87cd-3b45e7e12740",
   "metadata": {},
   "outputs": [
    {
     "data": {
      "text/html": [
       "<div>\n",
       "<style scoped>\n",
       "    .dataframe tbody tr th:only-of-type {\n",
       "        vertical-align: middle;\n",
       "    }\n",
       "\n",
       "    .dataframe tbody tr th {\n",
       "        vertical-align: top;\n",
       "    }\n",
       "\n",
       "    .dataframe thead th {\n",
       "        text-align: right;\n",
       "    }\n",
       "</style>\n",
       "<table border=\"1\" class=\"dataframe\">\n",
       "  <thead>\n",
       "    <tr style=\"text-align: right;\">\n",
       "      <th></th>\n",
       "      <th>LAT</th>\n",
       "      <th>LONG</th>\n",
       "      <th>CNTRY_CODE</th>\n",
       "      <th>NAME</th>\n",
       "      <th>REFNAME</th>\n",
       "      <th>Pcod</th>\n",
       "      <th>popPlaceCI</th>\n",
       "      <th>popPlace1</th>\n",
       "      <th>ADM2_EN</th>\n",
       "      <th>ADM2_PCODE</th>\n",
       "      <th>ADM1_EN</th>\n",
       "      <th>ADM1_PCODE</th>\n",
       "      <th>ADM0_EN</th>\n",
       "      <th>ADM0_PCODE</th>\n",
       "      <th>date</th>\n",
       "      <th>validOn</th>\n",
       "      <th>validTo</th>\n",
       "      <th>geometry</th>\n",
       "    </tr>\n",
       "  </thead>\n",
       "  <tbody>\n",
       "    <tr>\n",
       "      <th>2310</th>\n",
       "      <td>5.716667</td>\n",
       "      <td>-0.75</td>\n",
       "      <td>GHA</td>\n",
       "      <td>Ahyiam</td>\n",
       "      <td>Eshiem</td>\n",
       "      <td>GH06070001</td>\n",
       "      <td>0.0</td>\n",
       "      <td>Other</td>\n",
       "      <td>Asene Akroso Manso</td>\n",
       "      <td>GH0607</td>\n",
       "      <td>Eastern</td>\n",
       "      <td>GH06</td>\n",
       "      <td>Ghana</td>\n",
       "      <td>GH</td>\n",
       "      <td>2018-10-26</td>\n",
       "      <td>2021-03-08</td>\n",
       "      <td>None</td>\n",
       "      <td>POINT (-0.75000 5.71667)</td>\n",
       "    </tr>\n",
       "    <tr>\n",
       "      <th>2311</th>\n",
       "      <td>5.716667</td>\n",
       "      <td>-0.75</td>\n",
       "      <td>GHA</td>\n",
       "      <td>Bantama</td>\n",
       "      <td>None</td>\n",
       "      <td>GH06070002</td>\n",
       "      <td>0.0</td>\n",
       "      <td>Other</td>\n",
       "      <td>Asene Akroso Manso</td>\n",
       "      <td>GH0607</td>\n",
       "      <td>Eastern</td>\n",
       "      <td>GH06</td>\n",
       "      <td>Ghana</td>\n",
       "      <td>GH</td>\n",
       "      <td>2018-10-26</td>\n",
       "      <td>2021-03-08</td>\n",
       "      <td>None</td>\n",
       "      <td>POINT (-0.75000 5.71667)</td>\n",
       "    </tr>\n",
       "  </tbody>\n",
       "</table>\n",
       "</div>"
      ],
      "text/plain": [
       "           LAT  LONG CNTRY_CODE     NAME REFNAME        Pcod  popPlaceCI  \\\n",
       "2310  5.716667 -0.75        GHA   Ahyiam  Eshiem  GH06070001         0.0   \n",
       "2311  5.716667 -0.75        GHA  Bantama    None  GH06070002         0.0   \n",
       "\n",
       "     popPlace1             ADM2_EN ADM2_PCODE  ADM1_EN ADM1_PCODE ADM0_EN  \\\n",
       "2310     Other  Asene Akroso Manso     GH0607  Eastern       GH06   Ghana   \n",
       "2311     Other  Asene Akroso Manso     GH0607  Eastern       GH06   Ghana   \n",
       "\n",
       "     ADM0_PCODE        date     validOn validTo                  geometry  \n",
       "2310         GH  2018-10-26  2021-03-08    None  POINT (-0.75000 5.71667)  \n",
       "2311         GH  2018-10-26  2021-03-08    None  POINT (-0.75000 5.71667)  "
      ]
     },
     "execution_count": 19,
     "metadata": {},
     "output_type": "execute_result"
    }
   ],
   "source": [
    "pp_df.head(2)"
   ]
  },
  {
   "cell_type": "code",
   "execution_count": 97,
   "id": "ff5fbfff-f897-4587-ad3f-86237c62e46f",
   "metadata": {
    "scrolled": true
   },
   "outputs": [],
   "source": [
    "# Explore\n",
    "# pp_df.explore(m=fig)"
   ]
  },
  {
   "cell_type": "markdown",
   "id": "73d83582-aeb3-4b33-931a-e1f4b4d218a0",
   "metadata": {},
   "source": [
    "## Load and Explore HOT-OSM ghana populated places data"
   ]
  },
  {
   "cell_type": "code",
   "execution_count": 21,
   "id": "3a2e2200-2acf-47cc-b78d-96cabd4b98ac",
   "metadata": {},
   "outputs": [],
   "source": [
    "hotosm_points_file = \"./data/hotosm_gha_populated_places_points_shp.zip\""
   ]
  },
  {
   "cell_type": "code",
   "execution_count": 22,
   "id": "b137c391-e6a8-450b-8d67-03659012597f",
   "metadata": {},
   "outputs": [
    {
     "data": {
      "text/plain": [
       "(9593, 9)"
      ]
     },
     "execution_count": 22,
     "metadata": {},
     "output_type": "execute_result"
    }
   ],
   "source": [
    "osm_df = gpd.read_file(hotosm_points_file)\n",
    "osm_df = osm_df.set_crs(crs=\"EPSG:4326\")\n",
    "osm_df.shape"
   ]
  },
  {
   "cell_type": "code",
   "execution_count": 81,
   "id": "022aac7b-f3b0-4f41-88aa-349d7be81540",
   "metadata": {},
   "outputs": [
    {
     "data": {
      "text/plain": [
       "(6501, 9)"
      ]
     },
     "execution_count": 81,
     "metadata": {},
     "output_type": "execute_result"
    }
   ],
   "source": [
    "# Drop points without names\n",
    "osm_df = osm_df[osm_df[\"name\"].notna()].copy()\n",
    "osm_df.shape"
   ]
  },
  {
   "cell_type": "code",
   "execution_count": 82,
   "id": "d3db3008-fd62-4283-b24d-f2bb97e83ccf",
   "metadata": {
    "scrolled": true
   },
   "outputs": [
    {
     "data": {
      "text/html": [
       "<div>\n",
       "<style scoped>\n",
       "    .dataframe tbody tr th:only-of-type {\n",
       "        vertical-align: middle;\n",
       "    }\n",
       "\n",
       "    .dataframe tbody tr th {\n",
       "        vertical-align: top;\n",
       "    }\n",
       "\n",
       "    .dataframe thead th {\n",
       "        text-align: right;\n",
       "    }\n",
       "</style>\n",
       "<table border=\"1\" class=\"dataframe\">\n",
       "  <thead>\n",
       "    <tr style=\"text-align: right;\">\n",
       "      <th></th>\n",
       "      <th>name</th>\n",
       "      <th>name_en</th>\n",
       "      <th>place</th>\n",
       "      <th>population</th>\n",
       "      <th>is_in</th>\n",
       "      <th>source</th>\n",
       "      <th>osm_id</th>\n",
       "      <th>osm_type</th>\n",
       "      <th>geometry</th>\n",
       "    </tr>\n",
       "  </thead>\n",
       "  <tbody>\n",
       "    <tr>\n",
       "      <th>0</th>\n",
       "      <td>Koforidua</td>\n",
       "      <td>None</td>\n",
       "      <td>city</td>\n",
       "      <td>130000</td>\n",
       "      <td>None</td>\n",
       "      <td>None</td>\n",
       "      <td>892162451</td>\n",
       "      <td>nodes</td>\n",
       "      <td>POINT (-0.26146 6.10033)</td>\n",
       "    </tr>\n",
       "    <tr>\n",
       "      <th>1</th>\n",
       "      <td>Pusiga</td>\n",
       "      <td>None</td>\n",
       "      <td>town</td>\n",
       "      <td>None</td>\n",
       "      <td>None</td>\n",
       "      <td>None</td>\n",
       "      <td>2330379909</td>\n",
       "      <td>nodes</td>\n",
       "      <td>POINT (-0.12769 11.08540)</td>\n",
       "    </tr>\n",
       "  </tbody>\n",
       "</table>\n",
       "</div>"
      ],
      "text/plain": [
       "        name name_en place population is_in source      osm_id osm_type  \\\n",
       "0  Koforidua    None  city     130000  None   None   892162451    nodes   \n",
       "1     Pusiga    None  town       None  None   None  2330379909    nodes   \n",
       "\n",
       "                    geometry  \n",
       "0   POINT (-0.26146 6.10033)  \n",
       "1  POINT (-0.12769 11.08540)  "
      ]
     },
     "execution_count": 82,
     "metadata": {},
     "output_type": "execute_result"
    }
   ],
   "source": [
    "osm_df.head(2)"
   ]
  },
  {
   "cell_type": "code",
   "execution_count": 95,
   "id": "34e96b97-2062-4aa9-86f8-fca3f7c519a9",
   "metadata": {},
   "outputs": [],
   "source": [
    "# Explore\n",
    "# osm_df.explore(m=fig, color=\"lime\")"
   ]
  },
  {
   "cell_type": "markdown",
   "id": "f00250f6-a9b1-48e3-a927-09fbcc772934",
   "metadata": {},
   "source": [
    "## Explore mapping communities to settlement extents - multi-labelling"
   ]
  },
  {
   "cell_type": "code",
   "execution_count": 87,
   "id": "a2077300-0472-4701-9f3f-41d00f10725c",
   "metadata": {},
   "outputs": [
    {
     "data": {
      "text/plain": [
       "((1039, 20), (4654, 18), (6501, 9))"
      ]
     },
     "execution_count": 87,
     "metadata": {},
     "output_type": "execute_result"
    }
   ],
   "source": [
    "filt_df.shape, pp_df.shape, osm_df.shape"
   ]
  },
  {
   "cell_type": "code",
   "execution_count": 88,
   "id": "951d151e-a88d-4ec7-b5d8-980fba8cab19",
   "metadata": {},
   "outputs": [
    {
     "data": {
      "application/vnd.jupyter.widget-view+json": {
       "model_id": "0cfe5af0a8e04e78b915b604d5d20bfb",
       "version_major": 2,
       "version_minor": 0
      },
      "text/plain": [
       "0it [00:00, ?it/s]"
      ]
     },
     "metadata": {},
     "output_type": "display_data"
    }
   ],
   "source": [
    "# Direct containment\n",
    "for s in tqdm(filt_df.itertuples()):\n",
    "    contains = []\n",
    "    \n",
    "    for p in pp_df.itertuples():\n",
    "        if s.geometry.contains(p.geometry):\n",
    "            contains.append({\"community\": p.NAME, \"source\": \"COD-PP\", \"id\": p.Pcod, \"id_field\": \"Pcod\"})\n",
    "    for o in osm_df.itertuples():\n",
    "        if s.geometry.contains(o.geometry):\n",
    "            contains.append({\"community\": o.name, \"source\": \"HOT-OSM\", \"id\": o.osm_id, \"id_field\": \"osm_id\"})\n",
    "    \n",
    "    filt_df.at[s.Index, \"Communities\"] = contains\n",
    "    filt_df.at[s.Index, \"NumCommunities\"] = len(contains)\n",
    "    filt_df.at[s.Index, \"CommunityNames\"] = \" / \".join(c[\"community\"] for c in contains)\n",
    "    \n",
    "    # if not contains:\n",
    "    #     print(f\"Warning: No community annotation for SE:\\t{s.mgrs_code}\")        "
   ]
  },
  {
   "cell_type": "code",
   "execution_count": 89,
   "id": "ee730018-3881-4c25-aa64-b1d10965abe4",
   "metadata": {},
   "outputs": [
    {
     "data": {
      "text/plain": [
       "143"
      ]
     },
     "execution_count": 89,
     "metadata": {},
     "output_type": "execute_result"
    }
   ],
   "source": [
    "(filt_df[\"NumCommunities\"] < 1).sum()"
   ]
  },
  {
   "cell_type": "code",
   "execution_count": 90,
   "id": "f0ae4cfd-6284-4e3f-8141-6d965a51c36a",
   "metadata": {},
   "outputs": [
    {
     "data": {
      "application/vnd.jupyter.widget-view+json": {
       "model_id": "48bd3f4baa5d40049dbe7b0ac1746cb3",
       "version_major": 2,
       "version_minor": 0
      },
      "text/plain": [
       "0it [00:00, ?it/s]"
      ]
     },
     "metadata": {},
     "output_type": "display_data"
    }
   ],
   "source": [
    "# Add data based on distance thresholds\n",
    "dist_thresh_km = 10.0\n",
    "\n",
    "for s in tqdm(filt_df.itertuples()):\n",
    "    if s.NumCommunities > 0:\n",
    "        continue\n",
    "    \n",
    "    min_dist = dist_thresh_km\n",
    "    min_dist_data = None\n",
    "    \n",
    "    for p in pp_df.itertuples():\n",
    "        d = distance((s.approx_center_lat, s.approx_center_lon), (p.LAT, p.LONG))\n",
    "        if d < min_dist:\n",
    "            min_dist = d\n",
    "            min_dist_data = {\"community\": p.NAME, \"source\": \"COD-PP\", \"id\": p.Pcod, \"id_field\": \"Pcod\"}\n",
    "            \n",
    "    for o in osm_df.itertuples():\n",
    "        d = distance((s.approx_center_lat, s.approx_center_lon), (o.geometry.coords[0][1], o.geometry.coords[0][0]))\n",
    "        if d < min_dist:\n",
    "            min_dist = d\n",
    "            min_dist_data = {\"community\": o.name, \"source\": \"HOT-OSM\", \"id\": o.osm_id, \"id_field\": \"osm_id\"}\n",
    "\n",
    "    contains = [] if min_dist_data is None else [min_dist_data]\n",
    "    filt_df.at[s.Index, \"Communities\"] = contains\n",
    "    filt_df.at[s.Index, \"NumCommunities\"] = len(contains)\n",
    "    filt_df.at[s.Index, \"CommunityNames\"] = \" / \".join(c[\"community\"] for c in contains)        "
   ]
  },
  {
   "cell_type": "code",
   "execution_count": 91,
   "id": "00f32d50-f5ef-40fb-ba0c-50cdacacc978",
   "metadata": {},
   "outputs": [
    {
     "data": {
      "text/plain": [
       "4"
      ]
     },
     "execution_count": 91,
     "metadata": {},
     "output_type": "execute_result"
    }
   ],
   "source": [
    "(filt_df[\"NumCommunities\"] < 1).sum()"
   ]
  },
  {
   "cell_type": "code",
   "execution_count": 93,
   "id": "01f11608-9d78-488b-b00c-89f91f3fa734",
   "metadata": {},
   "outputs": [
    {
     "data": {
      "text/html": [
       "<div>\n",
       "<style scoped>\n",
       "    .dataframe tbody tr th:only-of-type {\n",
       "        vertical-align: middle;\n",
       "    }\n",
       "\n",
       "    .dataframe tbody tr th {\n",
       "        vertical-align: top;\n",
       "    }\n",
       "\n",
       "    .dataframe thead th {\n",
       "        text-align: right;\n",
       "    }\n",
       "</style>\n",
       "<table border=\"1\" class=\"dataframe\">\n",
       "  <thead>\n",
       "    <tr style=\"text-align: right;\">\n",
       "      <th></th>\n",
       "      <th>mgrs_code</th>\n",
       "      <th>country</th>\n",
       "      <th>iso</th>\n",
       "      <th>type</th>\n",
       "      <th>population</th>\n",
       "      <th>pop_un_adj</th>\n",
       "      <th>adm0_pcode</th>\n",
       "      <th>adm1_name</th>\n",
       "      <th>adm1_pcode</th>\n",
       "      <th>adm2_name</th>\n",
       "      <th>adm2_pcode</th>\n",
       "      <th>settl_pcode</th>\n",
       "      <th>Shape__Area</th>\n",
       "      <th>Shape__Length</th>\n",
       "      <th>geometry</th>\n",
       "      <th>Communities</th>\n",
       "      <th>NumCommunities</th>\n",
       "      <th>CommunityNames</th>\n",
       "      <th>approx_center_lat</th>\n",
       "      <th>approx_center_lon</th>\n",
       "    </tr>\n",
       "    <tr>\n",
       "      <th>OBJECTID</th>\n",
       "      <th></th>\n",
       "      <th></th>\n",
       "      <th></th>\n",
       "      <th></th>\n",
       "      <th></th>\n",
       "      <th></th>\n",
       "      <th></th>\n",
       "      <th></th>\n",
       "      <th></th>\n",
       "      <th></th>\n",
       "      <th></th>\n",
       "      <th></th>\n",
       "      <th></th>\n",
       "      <th></th>\n",
       "      <th></th>\n",
       "      <th></th>\n",
       "      <th></th>\n",
       "      <th></th>\n",
       "      <th></th>\n",
       "      <th></th>\n",
       "    </tr>\n",
       "  </thead>\n",
       "  <tbody>\n",
       "    <tr>\n",
       "      <th>47262</th>\n",
       "      <td>30NXM4069_02</td>\n",
       "      <td>Ghana</td>\n",
       "      <td>GHA</td>\n",
       "      <td>Small Settlement Area</td>\n",
       "      <td>1741.494917</td>\n",
       "      <td>1637.835636</td>\n",
       "      <td>GH</td>\n",
       "      <td>Ashanti</td>\n",
       "      <td>GH02</td>\n",
       "      <td>Adansi Akrofuom</td>\n",
       "      <td>GH0201</td>\n",
       "      <td>GH0201000022</td>\n",
       "      <td>0.000045</td>\n",
       "      <td>0.031784</td>\n",
       "      <td>POLYGON ((-1.73039 6.05879, -1.73003 6.05862, ...</td>\n",
       "      <td>[{'community': 'Amponyase', 'source': 'HOT-OSM...</td>\n",
       "      <td>1.0</td>\n",
       "      <td>Amponyase</td>\n",
       "      <td>6.055197</td>\n",
       "      <td>-1.733869</td>\n",
       "    </tr>\n",
       "    <tr>\n",
       "      <th>47264</th>\n",
       "      <td>30NXM5370_02</td>\n",
       "      <td>Ghana</td>\n",
       "      <td>GHA</td>\n",
       "      <td>Small Settlement Area</td>\n",
       "      <td>1139.194799</td>\n",
       "      <td>1071.386330</td>\n",
       "      <td>GH</td>\n",
       "      <td>Ashanti</td>\n",
       "      <td>GH02</td>\n",
       "      <td>Adansi Akrofuom</td>\n",
       "      <td>GH0201</td>\n",
       "      <td>GH0201000024</td>\n",
       "      <td>0.000030</td>\n",
       "      <td>0.026961</td>\n",
       "      <td>POLYGON ((-1.61655 6.06406, -1.61575 6.06404, ...</td>\n",
       "      <td>[{'community': 'Mensakrom', 'source': 'COD-PP'...</td>\n",
       "      <td>1.0</td>\n",
       "      <td>Mensakrom</td>\n",
       "      <td>6.060373</td>\n",
       "      <td>-1.616806</td>\n",
       "    </tr>\n",
       "    <tr>\n",
       "      <th>47267</th>\n",
       "      <td>30NXM4472_01</td>\n",
       "      <td>Ghana</td>\n",
       "      <td>GHA</td>\n",
       "      <td>Small Settlement Area</td>\n",
       "      <td>1740.169384</td>\n",
       "      <td>1636.589024</td>\n",
       "      <td>GH</td>\n",
       "      <td>Ashanti</td>\n",
       "      <td>GH02</td>\n",
       "      <td>Adansi Akrofuom</td>\n",
       "      <td>GH0201</td>\n",
       "      <td>GH0201000027</td>\n",
       "      <td>0.000045</td>\n",
       "      <td>0.043210</td>\n",
       "      <td>POLYGON ((-1.69786 6.09014, -1.69773 6.09010, ...</td>\n",
       "      <td>[{'community': 'Wuamasi', 'source': 'HOT-OSM',...</td>\n",
       "      <td>1.0</td>\n",
       "      <td>Wuamasi</td>\n",
       "      <td>6.086120</td>\n",
       "      <td>-1.698204</td>\n",
       "    </tr>\n",
       "  </tbody>\n",
       "</table>\n",
       "</div>"
      ],
      "text/plain": [
       "             mgrs_code country  iso                   type   population  \\\n",
       "OBJECTID                                                                  \n",
       "47262     30NXM4069_02   Ghana  GHA  Small Settlement Area  1741.494917   \n",
       "47264     30NXM5370_02   Ghana  GHA  Small Settlement Area  1139.194799   \n",
       "47267     30NXM4472_01   Ghana  GHA  Small Settlement Area  1740.169384   \n",
       "\n",
       "           pop_un_adj adm0_pcode adm1_name adm1_pcode        adm2_name  \\\n",
       "OBJECTID                                                                 \n",
       "47262     1637.835636         GH   Ashanti       GH02  Adansi Akrofuom   \n",
       "47264     1071.386330         GH   Ashanti       GH02  Adansi Akrofuom   \n",
       "47267     1636.589024         GH   Ashanti       GH02  Adansi Akrofuom   \n",
       "\n",
       "         adm2_pcode   settl_pcode  Shape__Area  Shape__Length  \\\n",
       "OBJECTID                                                        \n",
       "47262        GH0201  GH0201000022     0.000045       0.031784   \n",
       "47264        GH0201  GH0201000024     0.000030       0.026961   \n",
       "47267        GH0201  GH0201000027     0.000045       0.043210   \n",
       "\n",
       "                                                   geometry  \\\n",
       "OBJECTID                                                      \n",
       "47262     POLYGON ((-1.73039 6.05879, -1.73003 6.05862, ...   \n",
       "47264     POLYGON ((-1.61655 6.06406, -1.61575 6.06404, ...   \n",
       "47267     POLYGON ((-1.69786 6.09014, -1.69773 6.09010, ...   \n",
       "\n",
       "                                                Communities  NumCommunities  \\\n",
       "OBJECTID                                                                      \n",
       "47262     [{'community': 'Amponyase', 'source': 'HOT-OSM...             1.0   \n",
       "47264     [{'community': 'Mensakrom', 'source': 'COD-PP'...             1.0   \n",
       "47267     [{'community': 'Wuamasi', 'source': 'HOT-OSM',...             1.0   \n",
       "\n",
       "         CommunityNames  approx_center_lat  approx_center_lon  \n",
       "OBJECTID                                                       \n",
       "47262         Amponyase           6.055197          -1.733869  \n",
       "47264         Mensakrom           6.060373          -1.616806  \n",
       "47267           Wuamasi           6.086120          -1.698204  "
      ]
     },
     "execution_count": 93,
     "metadata": {},
     "output_type": "execute_result"
    }
   ],
   "source": [
    "filt_df.head(3)"
   ]
  },
  {
   "cell_type": "code",
   "execution_count": 99,
   "id": "2fcb65fa-8ff4-49e9-b417-75825749b668",
   "metadata": {},
   "outputs": [
    {
     "data": {
      "text/plain": [
       "NumCommunities\n",
       "1.0     681\n",
       "2.0     197\n",
       "3.0      72\n",
       "4.0      32\n",
       "5.0      15\n",
       "7.0       9\n",
       "6.0       7\n",
       "8.0       4\n",
       "0.0       4\n",
       "11.0      3\n",
       "10.0      2\n",
       "15.0      2\n",
       "14.0      1\n",
       "17.0      1\n",
       "29.0      1\n",
       "9.0       1\n",
       "13.0      1\n",
       "18.0      1\n",
       "30.0      1\n",
       "27.0      1\n",
       "16.0      1\n",
       "12.0      1\n",
       "21.0      1\n",
       "Name: count, dtype: int64"
      ]
     },
     "execution_count": 99,
     "metadata": {},
     "output_type": "execute_result"
    }
   ],
   "source": [
    "filt_df[\"NumCommunities\"].value_counts()"
   ]
  },
  {
   "cell_type": "code",
   "execution_count": 101,
   "id": "1eb87a58-53cc-4221-b52b-48b8a7d18be7",
   "metadata": {},
   "outputs": [
    {
     "data": {
      "text/html": [
       "<div style=\"width:100%;\"><div style=\"position:relative;width:100%;height:0;padding-bottom:60%;\"><span style=\"color:#565656\">Make this Notebook Trusted to load map: File -> Trust Notebook</span><iframe srcdoc=\"&lt;!DOCTYPE html&gt;\n",
       "&lt;html&gt;\n",
       "&lt;head&gt;\n",
       "    \n",
       "    &lt;meta http-equiv=&quot;content-type&quot; content=&quot;text/html; charset=UTF-8&quot; /&gt;\n",
       "    \n",
       "        &lt;script&gt;\n",
       "            L_NO_TOUCH = false;\n",
       "            L_DISABLE_3D = false;\n",
       "        &lt;/script&gt;\n",
       "    \n",
       "    &lt;style&gt;html, body {width: 100%;height: 100%;margin: 0;padding: 0;}&lt;/style&gt;\n",
       "    &lt;style&gt;#map {position:absolute;top:0;bottom:0;right:0;left:0;}&lt;/style&gt;\n",
       "    &lt;script src=&quot;https://cdn.jsdelivr.net/npm/leaflet@1.9.3/dist/leaflet.js&quot;&gt;&lt;/script&gt;\n",
       "    &lt;script src=&quot;https://code.jquery.com/jquery-3.7.1.min.js&quot;&gt;&lt;/script&gt;\n",
       "    &lt;script src=&quot;https://cdn.jsdelivr.net/npm/bootstrap@5.2.2/dist/js/bootstrap.bundle.min.js&quot;&gt;&lt;/script&gt;\n",
       "    &lt;script src=&quot;https://cdnjs.cloudflare.com/ajax/libs/Leaflet.awesome-markers/2.0.2/leaflet.awesome-markers.js&quot;&gt;&lt;/script&gt;\n",
       "    &lt;link rel=&quot;stylesheet&quot; href=&quot;https://cdn.jsdelivr.net/npm/leaflet@1.9.3/dist/leaflet.css&quot;/&gt;\n",
       "    &lt;link rel=&quot;stylesheet&quot; href=&quot;https://cdn.jsdelivr.net/npm/bootstrap@5.2.2/dist/css/bootstrap.min.css&quot;/&gt;\n",
       "    &lt;link rel=&quot;stylesheet&quot; href=&quot;https://netdna.bootstrapcdn.com/bootstrap/3.0.0/css/bootstrap.min.css&quot;/&gt;\n",
       "    &lt;link rel=&quot;stylesheet&quot; href=&quot;https://cdn.jsdelivr.net/npm/@fortawesome/fontawesome-free@6.2.0/css/all.min.css&quot;/&gt;\n",
       "    &lt;link rel=&quot;stylesheet&quot; href=&quot;https://cdnjs.cloudflare.com/ajax/libs/Leaflet.awesome-markers/2.0.2/leaflet.awesome-markers.css&quot;/&gt;\n",
       "    &lt;link rel=&quot;stylesheet&quot; href=&quot;https://cdn.jsdelivr.net/gh/python-visualization/folium/folium/templates/leaflet.awesome.rotate.min.css&quot;/&gt;\n",
       "    \n",
       "            &lt;meta name=&quot;viewport&quot; content=&quot;width=device-width,\n",
       "                initial-scale=1.0, maximum-scale=1.0, user-scalable=no&quot; /&gt;\n",
       "            &lt;style&gt;\n",
       "                #map_8cdd3fac7943bf5406ceacc55d98f07c {\n",
       "                    position: relative;\n",
       "                    width: 100.0%;\n",
       "                    height: 100.0%;\n",
       "                    left: 0.0%;\n",
       "                    top: 0.0%;\n",
       "                }\n",
       "                .leaflet-container { font-size: 1rem; }\n",
       "            &lt;/style&gt;\n",
       "        \n",
       "    \n",
       "                    &lt;style&gt;\n",
       "                        .foliumtooltip {\n",
       "                            \n",
       "                        }\n",
       "                       .foliumtooltip table{\n",
       "                            margin: auto;\n",
       "                        }\n",
       "                        .foliumtooltip tr{\n",
       "                            text-align: left;\n",
       "                        }\n",
       "                        .foliumtooltip th{\n",
       "                            padding: 2px; padding-right: 8px;\n",
       "                        }\n",
       "                    &lt;/style&gt;\n",
       "            \n",
       "&lt;/head&gt;\n",
       "&lt;body&gt;\n",
       "    \n",
       "    \n",
       "            &lt;div class=&quot;folium-map&quot; id=&quot;map_8cdd3fac7943bf5406ceacc55d98f07c&quot; &gt;&lt;/div&gt;\n",
       "        \n",
       "&lt;/body&gt;\n",
       "&lt;script&gt;\n",
       "    \n",
       "    \n",
       "            var map_8cdd3fac7943bf5406ceacc55d98f07c = L.map(\n",
       "                &quot;map_8cdd3fac7943bf5406ceacc55d98f07c&quot;,\n",
       "                {\n",
       "                    center: [6.683646939000055, -0.02179044199994],\n",
       "                    crs: L.CRS.EPSG3857,\n",
       "                    zoom: 10,\n",
       "                    zoomControl: true,\n",
       "                    preferCanvas: false,\n",
       "                }\n",
       "            );\n",
       "            L.control.scale().addTo(map_8cdd3fac7943bf5406ceacc55d98f07c);\n",
       "\n",
       "            \n",
       "\n",
       "        \n",
       "    \n",
       "            var tile_layer_115c4dcb2a159cc02afaeae7099a5049 = L.tileLayer(\n",
       "                &quot;https://tile.openstreetmap.org/{z}/{x}/{y}.png&quot;,\n",
       "                {&quot;attribution&quot;: &quot;\\u0026copy; \\u003ca href=\\&quot;https://www.openstreetmap.org/copyright\\&quot;\\u003eOpenStreetMap\\u003c/a\\u003e contributors&quot;, &quot;detectRetina&quot;: false, &quot;maxNativeZoom&quot;: 19, &quot;maxZoom&quot;: 19, &quot;minZoom&quot;: 0, &quot;noWrap&quot;: false, &quot;opacity&quot;: 1, &quot;subdomains&quot;: &quot;abc&quot;, &quot;tms&quot;: false}\n",
       "            );\n",
       "        \n",
       "    \n",
       "            tile_layer_115c4dcb2a159cc02afaeae7099a5049.addTo(map_8cdd3fac7943bf5406ceacc55d98f07c);\n",
       "        \n",
       "    \n",
       "            map_8cdd3fac7943bf5406ceacc55d98f07c.fitBounds(\n",
       "                [[6.63931694000007, -0.050889249999955], [6.72797693800004, 0.007308366000075]],\n",
       "                {}\n",
       "            );\n",
       "        \n",
       "    \n",
       "        function geo_json_e3e8ac65fde9e34506c6640aaf732bc1_styler(feature) {\n",
       "            switch(feature.id) {\n",
       "                default:\n",
       "                    return {&quot;color&quot;: &quot;magenta&quot;, &quot;fillColor&quot;: &quot;magenta&quot;, &quot;fillOpacity&quot;: 0.5, &quot;weight&quot;: 2};\n",
       "            }\n",
       "        }\n",
       "        function geo_json_e3e8ac65fde9e34506c6640aaf732bc1_highlighter(feature) {\n",
       "            switch(feature.id) {\n",
       "                default:\n",
       "                    return {&quot;fillOpacity&quot;: 0.75};\n",
       "            }\n",
       "        }\n",
       "        function geo_json_e3e8ac65fde9e34506c6640aaf732bc1_pointToLayer(feature, latlng) {\n",
       "            var opts = {&quot;bubblingMouseEvents&quot;: true, &quot;color&quot;: &quot;#3388ff&quot;, &quot;dashArray&quot;: null, &quot;dashOffset&quot;: null, &quot;fill&quot;: true, &quot;fillColor&quot;: &quot;#3388ff&quot;, &quot;fillOpacity&quot;: 0.2, &quot;fillRule&quot;: &quot;evenodd&quot;, &quot;lineCap&quot;: &quot;round&quot;, &quot;lineJoin&quot;: &quot;round&quot;, &quot;opacity&quot;: 1.0, &quot;radius&quot;: 2, &quot;stroke&quot;: true, &quot;weight&quot;: 3};\n",
       "            \n",
       "            let style = geo_json_e3e8ac65fde9e34506c6640aaf732bc1_styler(feature)\n",
       "            Object.assign(opts, style)\n",
       "            \n",
       "            return new L.CircleMarker(latlng, opts)\n",
       "        }\n",
       "\n",
       "        function geo_json_e3e8ac65fde9e34506c6640aaf732bc1_onEachFeature(feature, layer) {\n",
       "            layer.on({\n",
       "                mouseout: function(e) {\n",
       "                    if(typeof e.target.setStyle === &quot;function&quot;){\n",
       "                            geo_json_e3e8ac65fde9e34506c6640aaf732bc1.resetStyle(e.target);\n",
       "                    }\n",
       "                },\n",
       "                mouseover: function(e) {\n",
       "                    if(typeof e.target.setStyle === &quot;function&quot;){\n",
       "                        const highlightStyle = geo_json_e3e8ac65fde9e34506c6640aaf732bc1_highlighter(e.target.feature)\n",
       "                        e.target.setStyle(highlightStyle);\n",
       "                    }\n",
       "                },\n",
       "            });\n",
       "        };\n",
       "        var geo_json_e3e8ac65fde9e34506c6640aaf732bc1 = L.geoJson(null, {\n",
       "                onEachFeature: geo_json_e3e8ac65fde9e34506c6640aaf732bc1_onEachFeature,\n",
       "            \n",
       "                style: geo_json_e3e8ac65fde9e34506c6640aaf732bc1_styler,\n",
       "                pointToLayer: geo_json_e3e8ac65fde9e34506c6640aaf732bc1_pointToLayer,\n",
       "        });\n",
       "\n",
       "        function geo_json_e3e8ac65fde9e34506c6640aaf732bc1_add (data) {\n",
       "            geo_json_e3e8ac65fde9e34506c6640aaf732bc1\n",
       "                .addData(data);\n",
       "        }\n",
       "            geo_json_e3e8ac65fde9e34506c6640aaf732bc1_add({&quot;bbox&quot;: [-0.050889249999955, 6.63931694000007, 0.007308366000075, 6.72797693800004], &quot;features&quot;: [{&quot;bbox&quot;: [-0.050889249999955, 6.63931694000007, -0.042002799999977, 6.64615883200003], &quot;geometry&quot;: {&quot;coordinates&quot;: [[[-0.04460426199995, 6.64408675900006], [-0.044592884999929, 6.64399864400002], [-0.044270836999942, 6.64388559700006], [-0.043823087999954, 6.64388137600002], [-0.043606371999942, 6.64328527800006], [-0.042850109999961, 6.64315629200007], [-0.042856717999939, 6.64260799600004], [-0.042795041999966, 6.64248555800003], [-0.042859653999926, 6.64236431000006], [-0.042866261999961, 6.64181601500007], [-0.043625461999966, 6.64170131500003], [-0.043091978999939, 6.64137945800007], [-0.042963380999936, 6.64090300400005], [-0.042852636999953, 6.64080295200006], [-0.042444187999933, 6.64063408800007], [-0.042145687999948, 6.64063127400004], [-0.042148868999959, 6.64036728100007], [-0.042002799999977, 6.64010188200007], [-0.042112134999968, 6.63987660700008], [-0.042116224999973, 6.63953718900007], [-0.042758594999952, 6.63931694000007], [-0.043654096999944, 6.63932538100005], [-0.045083078999937, 6.63965567800005], [-0.045081169999946, 6.63981407400007], [-0.045349356999964, 6.64020886400004], [-0.045426005999957, 6.64092621900005], [-0.045878528999935, 6.64053445100006], [-0.046327869999971, 6.64040667600005], [-0.046723748999966, 6.64058642300006], [-0.04691850599994, 6.64094029000006], [-0.047413884999969, 6.64112097600002], [-0.047911384999964, 6.64112566600005], [-0.047906080999951, 6.64156565500002], [-0.048101049999957, 6.64190192300003], [-0.048997265999958, 6.64185096700004], [-0.049743117999924, 6.64189100300007], [-0.050336934999962, 6.64216062500003], [-0.050556035999932, 6.64255872700005], [-0.050327386999925, 6.64295260700004], [-0.049727205999943, 6.64321097200008], [-0.048861237999972, 6.64322921000007], [-0.048531615999934, 6.64333171100003], [-0.04882852399993, 6.64346652300003], [-0.048978303999945, 6.64342393100003], [-0.049156555999957, 6.64349601900005], [-0.04969385499993, 6.64350108500003], [-0.049881142999936, 6.64415065900005], [-0.050065286999939, 6.64400557600004], [-0.050292226999943, 6.64394678700006], [-0.050523650999935, 6.64398421600004], [-0.050720489999947, 6.64411154400005], [-0.050889249999955, 6.64450605800005], [-0.050814269999933, 6.64479964200007], [-0.050599546999933, 6.64501343500007], [-0.050740272999974, 6.64525153700004], [-0.050746990999926, 6.64552803500004], [-0.050626654999974, 6.64576297600007], [-0.050410543999931, 6.64591454900005], [-0.050069881999946, 6.64594661900003], [-0.049833886999977, 6.64588088000005], [-0.049625013999957, 6.64569408300002], [-0.049528091999946, 6.64531044400007], [-0.049099508999973, 6.64479935800006], [-0.048245781999924, 6.64475475100005], [-0.048074319999955, 6.64411947400004], [-0.047811643999978, 6.64468276500003], [-0.047427858999924, 6.64467914700003], [-0.046273775999964, 6.64489457400003], [-0.045584713999972, 6.64488807800006], [-0.04543575799994, 6.64523715700005], [-0.045510591999971, 6.64552729700006], [-0.045407070999943, 6.64580848200006], [-0.045070469999928, 6.64611669000004], [-0.044607907999932, 6.64615883200003], [-0.044303555999932, 6.64596584600002], [-0.04418459599998, 6.64562566700005], [-0.044236233999925, 6.64539233600004], [-0.04441045599998, 6.64514258400004], [-0.044339153999943, 6.64491497400007], [-0.04437596799994, 6.64467931500008], [-0.044499824999946, 6.64449673100006], [-0.04468778599994, 6.64438119800008], [-0.04460426199995, 6.64408675900006]]], &quot;type&quot;: &quot;Polygon&quot;}, &quot;id&quot;: &quot;0&quot;, &quot;properties&quot;: {&quot;Communities&quot;: [], &quot;CommunityNames&quot;: &quot;&quot;, &quot;NumCommunities&quot;: 0.0, &quot;OBJECTID&quot;: 137439, &quot;Shape__Area&quot;: 3.14136162516687e-05, &quot;Shape__Length&quot;: 0.0364501944579788, &quot;__folium_color&quot;: &quot;magenta&quot;, &quot;adm0_pcode&quot;: &quot;GH&quot;, &quot;adm1_name&quot;: &quot;Eastern&quot;, &quot;adm1_pcode&quot;: &quot;GH06&quot;, &quot;adm2_name&quot;: &quot;Kwahu Afram Plains North&quot;, &quot;adm2_pcode&quot;: &quot;GH0619&quot;, &quot;approx_center_lat&quot;: 6.6427015746194025, &quot;approx_center_lon&quot;: -0.04623284656506057, &quot;country&quot;: &quot;Ghana&quot;, &quot;iso&quot;: &quot;GHA&quot;, &quot;mgrs_code&quot;: &quot;30NZN2635_02&quot;, &quot;pop_un_adj&quot;: 1159.44671440125, &quot;population&quot;: 1232.82855796814, &quot;settl_pcode&quot;: &quot;GH0619000004&quot;, &quot;type&quot;: &quot;Small Settlement Area&quot;}, &quot;type&quot;: &quot;Feature&quot;}, {&quot;bbox&quot;: [-0.037062861999971, 6.65611993000005, -0.027556812999933, 6.66521427900005], &quot;geometry&quot;: {&quot;coordinates&quot;: [[[-0.030874414999971, 6.66455080700007], [-0.030813354999964, 6.66442231200006], [-0.030811802999949, 6.66455123000003], [-0.030359287999943, 6.66494302400002], [-0.029909952999958, 6.66507080900004], [-0.029463797999938, 6.66493458600007], [-0.029020822999939, 6.66453435500006], [-0.029328858999975, 6.66374514400007], [-0.029263773999958, 6.66295241800003], [-0.029347937999944, 6.66216110000005], [-0.029058979999945, 6.66136626900004], [-0.028706506999924, 6.66088768300006], [-0.028642453999964, 6.66065036200007], [-0.028305004999936, 6.66083528500008], [-0.027877666999927, 6.66081026100005], [-0.027605732999973, 6.66055914400005], [-0.027556812999933, 6.66019224500008], [-0.027782977999948, 6.65985708300008], [-0.027734820999967, 6.65976957900006], [-0.027887248999946, 6.65950698100005], [-0.028187335999974, 6.65937779000006], [-0.028388983999946, 6.65915966100005], [-0.028415978999931, 6.65898389200004], [-0.028644620999955, 6.65858999500006], [-0.029294015999938, 6.65837608500004], [-0.029321010999979, 6.65820031600003], [-0.029549652999947, 6.65780641900005], [-0.029999784999973, 6.65761263500002], [-0.030535648999944, 6.65773649900007], [-0.030888122999954, 6.65821508200003], [-0.031252043999928, 6.65774324900002], [-0.031793156999925, 6.65743150800006], [-0.032683877999943, 6.65783595100004], [-0.032889766999972, 6.65726581900003], [-0.032245671999931, 6.65703972100005], [-0.032101193999949, 6.65664231000005], [-0.032304432999979, 6.65629218100003], [-0.032704549999948, 6.65611993000005], [-0.033100426999965, 6.65629968200005], [-0.033392563999939, 6.65683050100006], [-0.034288056999969, 6.65683893900007], [-0.034881871999971, 6.65710856900006], [-0.035076629999935, 6.65746244900004], [-0.035067087999948, 6.65825446000002], [-0.035513243999958, 6.65839068200006], [-0.036110238999925, 6.65839630800002], [-0.036103877999949, 6.65892431700007], [-0.036179132999962, 6.65912041200005], [-0.036399194999944, 6.65919113500007], [-0.036996188999979, 6.65919676100003], [-0.036989827999946, 6.65972477100007], [-0.037062861999971, 6.65985747700006], [-0.036986646999935, 6.65998877600003], [-0.03698028499997, 6.66051678700006], [-0.036114324999971, 6.66053502900007], [-0.035784705999958, 6.66063753700007], [-0.035632276999934, 6.66090013600007], [-0.035332189999963, 6.66102932600006], [-0.034436697999979, 6.66102088700006], [-0.034077547999971, 6.66109671400005], [-0.033996780999928, 6.66137003900008], [-0.034247752999931, 6.66167375100002], [-0.034211343999971, 6.66206704300004], [-0.034429977999935, 6.66235092900007], [-0.034410381999976, 6.66270871100005], [-0.034776515999965, 6.66283915200006], [-0.034966921999967, 6.66317799500007], [-0.03486466499993, 6.66359256800007], [-0.034497986999952, 6.66381137000008], [-0.034171224999966, 6.66379966900007], [-0.033936706999952, 6.66368443300007], [-0.033751822999932, 6.66339655000007], [-0.03376785599994, 6.66305478900006], [-0.033363447999932, 6.66287303200005], [-0.033119278999948, 6.66306715200005], [-0.032812090999926, 6.66312541100007], [-0.032819573999973, 6.66351415800005], [-0.032573486999979, 6.66381519400005], [-0.032189305999964, 6.66388823900007], [-0.031873292999933, 6.66375259900008], [-0.031695217999925, 6.66343970700007], [-0.031747565999979, 6.66308351500004], [-0.031960955999978, 6.66285953000005], [-0.032261270999925, 6.66278526100007], [-0.032232927999928, 6.66244156100004], [-0.03244264999995, 6.66211611000006], [-0.032733983999947, 6.66198023000004], [-0.033054614999969, 6.66200336700007], [-0.033088690999932, 6.66140423800005], [-0.032899525999937, 6.66117613900008], [-0.031627327999956, 6.66128485400003], [-0.031566355999928, 6.66138989400002], [-0.031512040999928, 6.66218149100007], [-0.031283397999971, 6.66257539200006], [-0.030669800999931, 6.66282164500007], [-0.030607009999926, 6.66296507400006], [-0.030604624999967, 6.66316308000006], [-0.030821342999957, 6.66375920500008], [-0.030817062999972, 6.66411454500007], [-0.031032558999925, 6.66384671900005], [-0.031353854999964, 6.66372450000006], [-0.031715198999962, 6.66379217800005], [-0.031983514999979, 6.66404348500004], [-0.032202908999977, 6.66394792400007], [-0.032442140999933, 6.66395377200007], [-0.032781451999938, 6.66420162800006], [-0.032849331999955, 6.66461630600003], [-0.03273311099997, 6.66484890700002], [-0.03252359499993, 6.66500289800007], [-0.032287095999948, 6.66504252700003], [-0.032013204999942, 6.66495884100004], [-0.03175551299995, 6.66516011200002], [-0.031423179999933, 6.66521427900005], [-0.03118890099995, 6.66515575400007], [-0.030999339999937, 6.66500616100006], [-0.030887957999937, 6.66479190500007], [-0.030874414999971, 6.66455080700007]], [[-0.03295852399998, 6.65981879800006], [-0.033161761999963, 6.65946866600007], [-0.033561878999933, 6.65929641400004], [-0.033675802999937, 6.65913246500003], [-0.033651252999959, 6.65895778300006], [-0.033311929999968, 6.65880370800005], [-0.032928147999939, 6.65880009200004], [-0.032674337999936, 6.65862796400006], [-0.03248856099998, 6.65918068600007], [-0.032482835999929, 6.65965589500007], [-0.031764534999979, 6.65980754700007], [-0.032881513999939, 6.66001609900007], [-0.03295852399998, 6.65981879800006]]], &quot;type&quot;: &quot;Polygon&quot;}, &quot;id&quot;: &quot;1&quot;, &quot;properties&quot;: {&quot;Communities&quot;: [], &quot;CommunityNames&quot;: &quot;&quot;, &quot;NumCommunities&quot;: 0.0, &quot;OBJECTID&quot;: 137443, &quot;Shape__Area&quot;: 4.21330938960573e-05, &quot;Shape__Length&quot;: 0.0550983446050489, &quot;__folium_color&quot;: &quot;magenta&quot;, &quot;adm0_pcode&quot;: &quot;GH&quot;, &quot;adm1_name&quot;: &quot;Eastern&quot;, &quot;adm1_pcode&quot;: &quot;GH06&quot;, &quot;adm2_name&quot;: &quot;Kwahu Afram Plains North&quot;, &quot;adm2_pcode&quot;: &quot;GH0619&quot;, &quot;approx_center_lat&quot;: 6.660538360455709, &quot;approx_center_lon&quot;: -0.03209790560800351, &quot;country&quot;: &quot;Ghana&quot;, &quot;iso&quot;: &quot;GHA&quot;, &quot;mgrs_code&quot;: &quot;30NZN2837_01&quot;, &quot;pop_un_adj&quot;: 1134.25549316406, &quot;population&quot;: 1206.04297447205, &quot;settl_pcode&quot;: &quot;GH0619000008&quot;, &quot;type&quot;: &quot;Small Settlement Area&quot;}, &quot;type&quot;: &quot;Feature&quot;}, {&quot;bbox&quot;: [-0.028415913999936, 6.67265120500002, -0.017655568999942, 6.67908585100002], &quot;geometry&quot;: {&quot;coordinates&quot;: [[[-0.017748931999961, 6.67836963000002], [-0.018112845999951, 6.67789777300004], [-0.018122380999955, 6.67710572200002], [-0.018385044999945, 6.67654238300003], [-0.018355787999951, 6.67631578200007], [-0.018584425999961, 6.67592186600007], [-0.01919801799994, 6.67567560300006], [-0.021811986999978, 6.67563541200008], [-0.021726570999931, 6.67529134900008], [-0.021330696999939, 6.67511159000003], [-0.021038558999976, 6.67458074800004], [-0.020444746999942, 6.67431111000008], [-0.020249988999978, 6.67395721700007], [-0.020453223999937, 6.67360707200004], [-0.021053392999931, 6.67334868100005], [-0.021358245999977, 6.67282346500002], [-0.021758358999932, 6.67265120500002], [-0.02215423399997, 6.67283096300002], [-0.022637950999979, 6.67397971000003], [-0.023432878999927, 6.67407521200005], [-0.023531528999968, 6.67414655400006], [-0.024522179999963, 6.67408084100003], [-0.024727417999941, 6.67399939200004], [-0.024930653999945, 6.67364924800006], [-0.025330766999957, 6.67347698800006], [-0.026482560999966, 6.67345011800006], [-0.02652792799995, 6.67322422200004], [-0.026731163999955, 6.67287407900005], [-0.027131277999956, 6.67270181900005], [-0.027527151999948, 6.67288157800004], [-0.027674515999934, 6.67314935200005], [-0.027917674999969, 6.67324665200005], [-0.028084986999943, 6.67344814700004], [-0.028108008999936, 6.67384928700005], [-0.02790598699994, 6.67415457500005], [-0.027709081999944, 6.67430060200007], [-0.027706011999953, 6.67455554300005], [-0.02782222999997, 6.67482068300006], [-0.027833731999976, 6.67521775700004], [-0.028147575999924, 6.67529684100003], [-0.028363974999934, 6.67553751400004], [-0.028415913999936, 6.67576067600004], [-0.028373302999967, 6.67598580500004], [-0.028133458999946, 6.67625584000007], [-0.027776839999944, 6.67632196100004], [-0.027652625999963, 6.67657148600006], [-0.027430071999959, 6.67673929900008], [-0.027128072999972, 6.67678939400002], [-0.026749620999965, 6.67665466900007], [-0.026724755999965, 6.67671147000004], [-0.027054675999978, 6.67715945500004], [-0.027376157999924, 6.67725242300003], [-0.027585582999961, 6.67751344900006], [-0.027583792999963, 6.67791856900004], [-0.027306929999952, 6.67821432500006], [-0.026845502999947, 6.67824036500002], [-0.026520814999969, 6.67798271800007], [-0.026448968999944, 6.67770137300005], [-0.026529619999962, 6.67742242500003], [-0.02674051899993, 6.67722282800003], [-0.027023481999947, 6.67715764700006], [-0.026543750999963, 6.67686819300008], [-0.026020660999961, 6.67703609500006], [-0.02512517599996, 6.67702765900003], [-0.024838514999942, 6.67716898400005], [-0.024686087999953, 6.67743159400004], [-0.02438600399995, 6.67756079100008], [-0.02408909899998, 6.67742597000006], [-0.023943030999931, 6.67716054800007], [-0.023634521999952, 6.67703577400005], [-0.022780807999936, 6.67699117200004], [-0.022609340999963, 6.67635584500005], [-0.022452145999978, 6.67701448100007], [-0.022098073999928, 6.67749523100002], [-0.021697961999962, 6.67766749300006], [-0.020804066999972, 6.67752705000004], [-0.020577811999942, 6.67772295400005], [-0.020297568999979, 6.67827041200007], [-0.019897456999956, 6.67844267500004], [-0.019003562999956, 6.67830223200002], [-0.018644415999972, 6.67837806400007], [-0.018398626999954, 6.67895665300006], [-0.01809854399994, 6.67908585100002], [-0.01780163799998, 6.67895103100005], [-0.017655568999942, 6.67868560700003], [-0.017748931999961, 6.67836963000002]]], &quot;type&quot;: &quot;Polygon&quot;}, &quot;id&quot;: &quot;2&quot;, &quot;properties&quot;: {&quot;Communities&quot;: [], &quot;CommunityNames&quot;: &quot;&quot;, &quot;NumCommunities&quot;: 0.0, &quot;OBJECTID&quot;: 137444, &quot;Shape__Area&quot;: 3.42048681601925e-05, &quot;Shape__Length&quot;: 0.0404321915079084, &quot;__folium_color&quot;: &quot;magenta&quot;, &quot;adm0_pcode&quot;: &quot;GH&quot;, &quot;adm1_name&quot;: &quot;Eastern&quot;, &quot;adm1_pcode&quot;: &quot;GH06&quot;, &quot;adm2_name&quot;: &quot;Kwahu Afram Plains North&quot;, &quot;adm2_pcode&quot;: &quot;GH0619&quot;, &quot;approx_center_lat&quot;: 6.675717628718312, &quot;approx_center_lon&quot;: -0.02338872109860106, &quot;country&quot;: &quot;Ghana&quot;, &quot;iso&quot;: &quot;GHA&quot;, &quot;mgrs_code&quot;: &quot;30NZN2938_02&quot;, &quot;pop_un_adj&quot;: 1009.91382408142, &quot;population&quot;: 1073.83167266846, &quot;settl_pcode&quot;: &quot;GH0619000009&quot;, &quot;type&quot;: &quot;Small Settlement Area&quot;}, &quot;type&quot;: &quot;Feature&quot;}, {&quot;bbox&quot;: [-0.002813247999939, 6.71930552700007, 0.007308366000075, 6.72797693800004], &quot;geometry&quot;: {&quot;coordinates&quot;: [[[0.002140394000037, 6.72365385000006], [0.002162228000032, 6.72358342100006], [0.00233092000002, 6.72460273300004], [0.002422100000047, 6.72580154400003], [0.002467463000073, 6.72602747000008], [0.00267068900007, 6.72637766200006], [0.003070790000038, 6.72654994900006], [0.003964666000059, 6.72640949700002], [0.004421923000052, 6.72719743000005], [0.005071293000071, 6.72741138500004], [0.00532215000004, 6.72758507700007], [0.005474569000057, 6.72784772200004], [0.005774644000041, 6.72797693800004], [0.006071544000065, 6.72784210500004], [0.006217613000047, 6.72757665100005], [0.006357331000061, 6.72678309800006], [0.006652644000042, 6.72651624100007], [0.00704851100005, 6.72633646300005], [0.007243269000071, 6.72598252600005], [0.00728318900002, 6.72575579800002], [0.007308366000075, 6.72518967900004], [0.00722739400004, 6.72466228500002], [0.006922555000074, 6.72413699900005], [0.006622480000033, 6.72400778600007], [0.00656560300007, 6.72365880700005], [0.006416608000052, 6.72343755600002], [0.006411316000026, 6.72299747800002], [0.005913836000047, 6.72300215900003], [0.00563568900003, 6.72289761500002], [0.004817941000056, 6.72289300900007], [0.003027523000071, 6.72295230000003], [0.002731402000052, 6.72303210900003], [0.002518646000055, 6.72241456900002], [0.002291159000038, 6.72216427600006], [0.001923294000051, 6.72206570100008], [0.00156479900005, 6.72219424100007], [0.001225875000046, 6.72207799900002], [0.001216347000025, 6.72128586300005], [0.001910703000021, 6.72110327700005], [0.001905410000063, 6.72066320200003], [0.001990352000064, 6.72048635300007], [0.001921287000073, 6.72032855800006], [0.00191557100004, 6.71985327800007], [0.001645025000073, 6.71969738000007], [0.001492605000067, 6.71943474000005], [0.001192528000047, 6.71930552700007], [0.000895627000034, 6.71944035900003], [0.000749559000042, 6.71970580800007], [0.000368862000073, 6.71976807400006], [-0.001410410999938, 6.71979502700003], [-0.00148672499995, 6.71992491200007], [-0.001932074999957, 6.72012716000006], [-0.002151177999963, 6.72052533500005], [-0.002274488999944, 6.72061452000003], [-0.00237027999998, 6.72092351000003], [-0.002667179999946, 6.72105834200005], [-0.002813247999939, 6.72132379200002], [-0.002660826999943, 6.72158643300003], [-0.002360750999969, 6.72171564600006], [-0.002263100999926, 6.72362927900002], [-0.002078358999938, 6.72391991100005], [-0.002074274999927, 6.72425939900006], [-0.001690504999942, 6.72425578600007], [-0.001433296999949, 6.72436654100005], [-0.001210451999953, 6.72427956100006], [-0.000762718999965, 6.72427534700006], [-0.000546, 6.72367913500005], [0.000349465000056, 6.72367070600006], [0.00049529100005, 6.72433968200005], [0.00111522800006, 6.72433384800007], [0.001253663000057, 6.72438840700005], [0.001390755000045, 6.72433125400005], [0.002010692000056, 6.72432542000007], [0.002140394000037, 6.72365385000006]]], &quot;type&quot;: &quot;Polygon&quot;}, &quot;id&quot;: &quot;3&quot;, &quot;properties&quot;: {&quot;Communities&quot;: [], &quot;CommunityNames&quot;: &quot;&quot;, &quot;NumCommunities&quot;: 0.0, &quot;OBJECTID&quot;: 137456, &quot;Shape__Area&quot;: 3.74412838784976e-05, &quot;Shape__Length&quot;: 0.0363805415807786, &quot;__folium_color&quot;: &quot;magenta&quot;, &quot;adm0_pcode&quot;: &quot;GH&quot;, &quot;adm1_name&quot;: &quot;Eastern&quot;, &quot;adm1_pcode&quot;: &quot;GH06&quot;, &quot;adm2_name&quot;: &quot;Kwahu Afram Plains North&quot;, &quot;adm2_pcode&quot;: &quot;GH0619&quot;, &quot;approx_center_lat&quot;: 6.723506847591536, &quot;approx_center_lon&quot;: 0.002315575844337517, &quot;country&quot;: &quot;Ghana&quot;, &quot;iso&quot;: &quot;GHA&quot;, &quot;mgrs_code&quot;: &quot;31NAH6844_01&quot;, &quot;pop_un_adj&quot;: 1109.32905387878, &quot;population&quot;: 1179.5389289856, &quot;settl_pcode&quot;: &quot;GH0619000021&quot;, &quot;type&quot;: &quot;Small Settlement Area&quot;}, &quot;type&quot;: &quot;Feature&quot;}], &quot;type&quot;: &quot;FeatureCollection&quot;});\n",
       "\n",
       "        \n",
       "    \n",
       "    geo_json_e3e8ac65fde9e34506c6640aaf732bc1.bindTooltip(\n",
       "    function(layer){\n",
       "    let div = L.DomUtil.create(&#x27;div&#x27;);\n",
       "    \n",
       "    let handleObject = feature=&gt;typeof(feature)==&#x27;object&#x27; ? JSON.stringify(feature) : feature;\n",
       "    let fields = [&quot;OBJECTID&quot;, &quot;mgrs_code&quot;, &quot;country&quot;, &quot;iso&quot;, &quot;type&quot;, &quot;population&quot;, &quot;pop_un_adj&quot;, &quot;adm0_pcode&quot;, &quot;adm1_name&quot;, &quot;adm1_pcode&quot;, &quot;adm2_name&quot;, &quot;adm2_pcode&quot;, &quot;settl_pcode&quot;, &quot;Shape__Area&quot;, &quot;Shape__Length&quot;, &quot;Communities&quot;, &quot;NumCommunities&quot;, &quot;CommunityNames&quot;, &quot;approx_center_lat&quot;, &quot;approx_center_lon&quot;];\n",
       "    let aliases = [&quot;OBJECTID&quot;, &quot;mgrs_code&quot;, &quot;country&quot;, &quot;iso&quot;, &quot;type&quot;, &quot;population&quot;, &quot;pop_un_adj&quot;, &quot;adm0_pcode&quot;, &quot;adm1_name&quot;, &quot;adm1_pcode&quot;, &quot;adm2_name&quot;, &quot;adm2_pcode&quot;, &quot;settl_pcode&quot;, &quot;Shape__Area&quot;, &quot;Shape__Length&quot;, &quot;Communities&quot;, &quot;NumCommunities&quot;, &quot;CommunityNames&quot;, &quot;approx_center_lat&quot;, &quot;approx_center_lon&quot;];\n",
       "    let table = &#x27;&lt;table&gt;&#x27; +\n",
       "        String(\n",
       "        fields.map(\n",
       "        (v,i)=&gt;\n",
       "        `&lt;tr&gt;\n",
       "            &lt;th&gt;${aliases[i]}&lt;/th&gt;\n",
       "            \n",
       "            &lt;td&gt;${handleObject(layer.feature.properties[v])}&lt;/td&gt;\n",
       "        &lt;/tr&gt;`).join(&#x27;&#x27;))\n",
       "    +&#x27;&lt;/table&gt;&#x27;;\n",
       "    div.innerHTML=table;\n",
       "    \n",
       "    return div\n",
       "    }\n",
       "    ,{&quot;className&quot;: &quot;foliumtooltip&quot;, &quot;sticky&quot;: true});\n",
       "                     \n",
       "    \n",
       "            geo_json_e3e8ac65fde9e34506c6640aaf732bc1.addTo(map_8cdd3fac7943bf5406ceacc55d98f07c);\n",
       "        \n",
       "&lt;/script&gt;\n",
       "&lt;/html&gt;\" style=\"position:absolute;width:100%;height:100%;left:0;top:0;border:none !important;\" allowfullscreen webkitallowfullscreen mozallowfullscreen></iframe></div></div>"
      ],
      "text/plain": [
       "<folium.folium.Map at 0x150b3d430>"
      ]
     },
     "execution_count": 101,
     "metadata": {},
     "output_type": "execute_result"
    }
   ],
   "source": [
    "filt_df[filt_df[\"NumCommunities\"] < 1].explore(color=\"magenta\")"
   ]
  },
  {
   "cell_type": "code",
   "execution_count": null,
   "id": "98758fec-0cdc-4c43-af8c-3c59a3f7d3fe",
   "metadata": {},
   "outputs": [],
   "source": []
  },
  {
   "cell_type": "code",
   "execution_count": null,
   "id": "aaaef1e3-4885-4798-9583-c0022c5ca730",
   "metadata": {},
   "outputs": [],
   "source": []
  },
  {
   "cell_type": "code",
   "execution_count": null,
   "id": "8063779f-f2a7-4a0b-acd2-d78fc62bbcfa",
   "metadata": {},
   "outputs": [],
   "source": []
  }
 ],
 "metadata": {
  "kernelspec": {
   "display_name": "aquaya-sandbox",
   "language": "python",
   "name": "aquaya-sandbox"
  },
  "language_info": {
   "codemirror_mode": {
    "name": "ipython",
    "version": 3
   },
   "file_extension": ".py",
   "mimetype": "text/x-python",
   "name": "python",
   "nbconvert_exporter": "python",
   "pygments_lexer": "ipython3",
   "version": "3.9.6"
  }
 },
 "nbformat": 4,
 "nbformat_minor": 5
}
