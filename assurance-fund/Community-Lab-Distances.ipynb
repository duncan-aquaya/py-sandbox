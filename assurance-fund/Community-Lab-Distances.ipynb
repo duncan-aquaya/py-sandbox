{
 "cells": [
  {
   "cell_type": "markdown",
   "id": "dd671bde-1658-40c6-86ce-838973addbd2",
   "metadata": {},
   "source": [
    "Scratch:\n",
    "\n",
    "Read in Communities data (summary spreadsheet from GRID3 SEs w/UN PP data):\n",
    "EG: AFPW-GHA-Communities-Ahafo.1000-20000.summary.xlsx\n",
    "\n",
    "Read in WQAL lab locations data (filter down to only regional labs)\n",
    "\n",
    "F.E. community, get distance to all lab locations\n",
    "Find min distance to any lab; save distance (KM) and nearest lab \n",
    "\n",
    "Add to community summary data sheet and re-export\n",
    "\n",
    "Get filter numbers: num within 60k, 120k, 180k, 240k, >\n",
    "\n",
    "\n",
    "**NB**: Eventually, add this to the AFPW Ghana Communities data processing sheet - to create all that data in one place"
   ]
  },
  {
   "cell_type": "code",
   "execution_count": 1,
   "id": "3ca2a5bf-692c-464f-982f-feefbffa9232",
   "metadata": {},
   "outputs": [],
   "source": [
    "import pandas as pd\n",
    "import geopandas as gpd\n",
    "import seaborn as sns\n",
    "from tqdm.notebook import tqdm\n",
    "from geopy.distance import distance"
   ]
  },
  {
   "cell_type": "code",
   "execution_count": 6,
   "id": "d4d6881e-0942-4383-940b-bc01e33b4816",
   "metadata": {},
   "outputs": [],
   "source": [
    "comms_file = \"./export/AFPW-Communities.1000-50000.summary.annotated.xlsx\"\n",
    "pp_file = \"./export/AFPW-PopulatedPlaces.1000-50000.xlsx\"\n",
    "labs_file = \"./data/GWCL Regional Labs.xlsx\""
   ]
  },
  {
   "cell_type": "code",
   "execution_count": 37,
   "id": "3d06614a-c138-4425-b79a-b76b0c66a4e5",
   "metadata": {
    "tags": []
   },
   "outputs": [],
   "source": [
    "reg_order = [\"Ahafo\", \"Bono\", \"Ashanti\", \"Eastern\", \"Volta\", \"Central\", \"Western\", \"Western North\", \"Bono East\"]"
   ]
  },
  {
   "cell_type": "markdown",
   "id": "31ac9da4-dc1e-40c1-82d2-68c1d1bd4770",
   "metadata": {},
   "source": [
    "## Load Labs"
   ]
  },
  {
   "cell_type": "code",
   "execution_count": 3,
   "id": "4d822de9-a4af-418f-b776-ea285b6869af",
   "metadata": {},
   "outputs": [
    {
     "data": {
      "text/plain": [
       "(9, 9)"
      ]
     },
     "execution_count": 3,
     "metadata": {},
     "output_type": "execute_result"
    }
   ],
   "source": [
    "labs_df = pd.read_excel(labs_file)\n",
    "labs_df = labs_df.dropna(subset=[\"Latitude\", \"Longitude\"])\n",
    "labs_df.shape"
   ]
  },
  {
   "cell_type": "code",
   "execution_count": 4,
   "id": "a2ecca90-824f-4ee9-a0f0-5fdb6c420b1a",
   "metadata": {},
   "outputs": [
    {
     "data": {
      "text/html": [
       "<div>\n",
       "<style scoped>\n",
       "    .dataframe tbody tr th:only-of-type {\n",
       "        vertical-align: middle;\n",
       "    }\n",
       "\n",
       "    .dataframe tbody tr th {\n",
       "        vertical-align: top;\n",
       "    }\n",
       "\n",
       "    .dataframe thead th {\n",
       "        text-align: right;\n",
       "    }\n",
       "</style>\n",
       "<table border=\"1\" class=\"dataframe\">\n",
       "  <thead>\n",
       "    <tr style=\"text-align: right;\">\n",
       "      <th></th>\n",
       "      <th>Name</th>\n",
       "      <th>Type</th>\n",
       "      <th>Region</th>\n",
       "      <th>District</th>\n",
       "      <th>Community</th>\n",
       "      <th>Latitude</th>\n",
       "      <th>Longitude</th>\n",
       "      <th>StreetAddress</th>\n",
       "      <th>Comments</th>\n",
       "    </tr>\n",
       "  </thead>\n",
       "  <tbody>\n",
       "    <tr>\n",
       "      <th>1</th>\n",
       "      <td>Ashanti Regional Laboratory</td>\n",
       "      <td>regional</td>\n",
       "      <td>Ashanti</td>\n",
       "      <td>Kumasi Metropolitan Assembly</td>\n",
       "      <td>Kumasi</td>\n",
       "      <td>6.583405</td>\n",
       "      <td>-1.619360</td>\n",
       "      <td>Dadiesoaba street, Kumasi, Ghana</td>\n",
       "      <td>BY 2024</td>\n",
       "    </tr>\n",
       "    <tr>\n",
       "      <th>2</th>\n",
       "      <td>Western Regional Laboratory</td>\n",
       "      <td>regional</td>\n",
       "      <td>Western</td>\n",
       "      <td>Sekondi - Takoradi Metropolitan Assembly</td>\n",
       "      <td>Takoradi</td>\n",
       "      <td>4.906113</td>\n",
       "      <td>-1.767554</td>\n",
       "      <td>NaN</td>\n",
       "      <td>Location assigned from approximate center of T...</td>\n",
       "    </tr>\n",
       "    <tr>\n",
       "      <th>3</th>\n",
       "      <td>Central Regional Laboratory</td>\n",
       "      <td>regional</td>\n",
       "      <td>Central</td>\n",
       "      <td>Cape Coast Metropolitan</td>\n",
       "      <td>Cape Coast</td>\n",
       "      <td>5.124964</td>\n",
       "      <td>-1.269743</td>\n",
       "      <td>NaN</td>\n",
       "      <td>Location assigned from approximate center of C...</td>\n",
       "    </tr>\n",
       "    <tr>\n",
       "      <th>4</th>\n",
       "      <td>Eastern Regional Laboratories</td>\n",
       "      <td>regional</td>\n",
       "      <td>Eastern</td>\n",
       "      <td>New Juaben Municipal</td>\n",
       "      <td>Koforidua</td>\n",
       "      <td>6.108099</td>\n",
       "      <td>-0.283530</td>\n",
       "      <td>Nankese- Koforidua Rd</td>\n",
       "      <td>BY 2024-06</td>\n",
       "    </tr>\n",
       "    <tr>\n",
       "      <th>5</th>\n",
       "      <td>Northern Regional Laboratory</td>\n",
       "      <td>regional</td>\n",
       "      <td>Northern</td>\n",
       "      <td>Tamale Metropolitan</td>\n",
       "      <td>Tamale</td>\n",
       "      <td>9.417267</td>\n",
       "      <td>-0.849710</td>\n",
       "      <td>C48X+RWC, Education Ridge Rd, Tamale, Ghana</td>\n",
       "      <td>Location and address via Google Maps search (m...</td>\n",
       "    </tr>\n",
       "    <tr>\n",
       "      <th>6</th>\n",
       "      <td>Volta Regional Laboratory</td>\n",
       "      <td>regional</td>\n",
       "      <td>Volta</td>\n",
       "      <td>Ho Municipal</td>\n",
       "      <td>Ho</td>\n",
       "      <td>6.610102</td>\n",
       "      <td>-0.460243</td>\n",
       "      <td>Woezor Hotel road</td>\n",
       "      <td>BY 2024-06</td>\n",
       "    </tr>\n",
       "    <tr>\n",
       "      <th>7</th>\n",
       "      <td>Brong Ahafo Regional Laboratory</td>\n",
       "      <td>regional</td>\n",
       "      <td>Bono</td>\n",
       "      <td>Sunyani Municipal</td>\n",
       "      <td>Sunyani</td>\n",
       "      <td>7.332161</td>\n",
       "      <td>-2.330540</td>\n",
       "      <td>Anglican, Sunyani , Ghana</td>\n",
       "      <td>BY 2024-06</td>\n",
       "    </tr>\n",
       "    <tr>\n",
       "      <th>8</th>\n",
       "      <td>Upper East Regional Laboratory</td>\n",
       "      <td>regional</td>\n",
       "      <td>Upper East</td>\n",
       "      <td>Bolgatanga Municipal</td>\n",
       "      <td>Bolgatanga</td>\n",
       "      <td>10.793384</td>\n",
       "      <td>-0.856519</td>\n",
       "      <td>NaN</td>\n",
       "      <td>Location assigned from approximate center of B...</td>\n",
       "    </tr>\n",
       "    <tr>\n",
       "      <th>9</th>\n",
       "      <td>Upper West Regional Laboratory</td>\n",
       "      <td>regional</td>\n",
       "      <td>Upper West</td>\n",
       "      <td>Wa Municipal</td>\n",
       "      <td>Wa</td>\n",
       "      <td>10.059880</td>\n",
       "      <td>-2.511347</td>\n",
       "      <td>NaN</td>\n",
       "      <td>Location assigned from approximate center of W...</td>\n",
       "    </tr>\n",
       "  </tbody>\n",
       "</table>\n",
       "</div>"
      ],
      "text/plain": [
       "                              Name      Type      Region  \\\n",
       "1      Ashanti Regional Laboratory  regional     Ashanti   \n",
       "2      Western Regional Laboratory  regional     Western   \n",
       "3      Central Regional Laboratory  regional     Central   \n",
       "4    Eastern Regional Laboratories  regional     Eastern   \n",
       "5     Northern Regional Laboratory  regional    Northern   \n",
       "6        Volta Regional Laboratory  regional       Volta   \n",
       "7  Brong Ahafo Regional Laboratory  regional        Bono   \n",
       "8   Upper East Regional Laboratory  regional  Upper East   \n",
       "9   Upper West Regional Laboratory  regional  Upper West   \n",
       "\n",
       "                                   District   Community   Latitude  Longitude  \\\n",
       "1              Kumasi Metropolitan Assembly      Kumasi   6.583405  -1.619360   \n",
       "2  Sekondi - Takoradi Metropolitan Assembly    Takoradi   4.906113  -1.767554   \n",
       "3                   Cape Coast Metropolitan  Cape Coast   5.124964  -1.269743   \n",
       "4                      New Juaben Municipal   Koforidua   6.108099  -0.283530   \n",
       "5                       Tamale Metropolitan      Tamale   9.417267  -0.849710   \n",
       "6                              Ho Municipal          Ho   6.610102  -0.460243   \n",
       "7                         Sunyani Municipal     Sunyani   7.332161  -2.330540   \n",
       "8                      Bolgatanga Municipal  Bolgatanga  10.793384  -0.856519   \n",
       "9                              Wa Municipal          Wa  10.059880  -2.511347   \n",
       "\n",
       "                                 StreetAddress  \\\n",
       "1             Dadiesoaba street, Kumasi, Ghana   \n",
       "2                                          NaN   \n",
       "3                                          NaN   \n",
       "4                        Nankese- Koforidua Rd   \n",
       "5  C48X+RWC, Education Ridge Rd, Tamale, Ghana   \n",
       "6                            Woezor Hotel road   \n",
       "7                    Anglican, Sunyani , Ghana   \n",
       "8                                          NaN   \n",
       "9                                          NaN   \n",
       "\n",
       "                                            Comments  \n",
       "1                                            BY 2024  \n",
       "2  Location assigned from approximate center of T...  \n",
       "3  Location assigned from approximate center of C...  \n",
       "4                                         BY 2024-06  \n",
       "5  Location and address via Google Maps search (m...  \n",
       "6                                         BY 2024-06  \n",
       "7                                         BY 2024-06  \n",
       "8  Location assigned from approximate center of B...  \n",
       "9  Location assigned from approximate center of W...  "
      ]
     },
     "execution_count": 4,
     "metadata": {},
     "output_type": "execute_result"
    }
   ],
   "source": [
    "labs_df"
   ]
  },
  {
   "cell_type": "markdown",
   "id": "d732c7d1-d89a-4c1b-aa4a-ad1f2a473e20",
   "metadata": {
    "tags": []
   },
   "source": [
    "## Load Communities and Populated Places"
   ]
  },
  {
   "cell_type": "code",
   "execution_count": 11,
   "id": "c8464c44-dac8-4734-8e28-0014f6cd692a",
   "metadata": {},
   "outputs": [
    {
     "data": {
      "text/plain": [
       "(1641, 23)"
      ]
     },
     "execution_count": 11,
     "metadata": {},
     "output_type": "execute_result"
    }
   ],
   "source": [
    "comms_df = pd.read_excel(comms_file)\n",
    "comms_df = comms_df.set_index(\"mgrs_code\")\n",
    "comms_df.shape"
   ]
  },
  {
   "cell_type": "code",
   "execution_count": 12,
   "id": "823332c3-42d0-4b9d-86ad-9e76a8302746",
   "metadata": {},
   "outputs": [
    {
     "data": {
      "text/html": [
       "<div>\n",
       "<style scoped>\n",
       "    .dataframe tbody tr th:only-of-type {\n",
       "        vertical-align: middle;\n",
       "    }\n",
       "\n",
       "    .dataframe tbody tr th {\n",
       "        vertical-align: top;\n",
       "    }\n",
       "\n",
       "    .dataframe thead th {\n",
       "        text-align: right;\n",
       "    }\n",
       "</style>\n",
       "<table border=\"1\" class=\"dataframe\">\n",
       "  <thead>\n",
       "    <tr style=\"text-align: right;\">\n",
       "      <th></th>\n",
       "      <th>country</th>\n",
       "      <th>iso</th>\n",
       "      <th>type</th>\n",
       "      <th>population</th>\n",
       "      <th>pop_un_adj</th>\n",
       "      <th>adm0_pcode</th>\n",
       "      <th>adm1_name</th>\n",
       "      <th>adm1_pcode</th>\n",
       "      <th>adm2_name</th>\n",
       "      <th>adm2_pcode</th>\n",
       "      <th>...</th>\n",
       "      <th>approx_center_lat</th>\n",
       "      <th>approx_center_lon</th>\n",
       "      <th>NumCommunities</th>\n",
       "      <th>CommunityName</th>\n",
       "      <th>HAS_SYSTEM</th>\n",
       "      <th>SYSTEM_SOURCE</th>\n",
       "      <th>SYSTEM_SPEC</th>\n",
       "      <th>HAS_SYSTEM_INTERNAL</th>\n",
       "      <th>HAS_SYSTEM_PUBLIC</th>\n",
       "      <th>ESTIMATED_SYSTEM</th>\n",
       "    </tr>\n",
       "    <tr>\n",
       "      <th>mgrs_code</th>\n",
       "      <th></th>\n",
       "      <th></th>\n",
       "      <th></th>\n",
       "      <th></th>\n",
       "      <th></th>\n",
       "      <th></th>\n",
       "      <th></th>\n",
       "      <th></th>\n",
       "      <th></th>\n",
       "      <th></th>\n",
       "      <th></th>\n",
       "      <th></th>\n",
       "      <th></th>\n",
       "      <th></th>\n",
       "      <th></th>\n",
       "      <th></th>\n",
       "      <th></th>\n",
       "      <th></th>\n",
       "      <th></th>\n",
       "      <th></th>\n",
       "      <th></th>\n",
       "    </tr>\n",
       "  </thead>\n",
       "  <tbody>\n",
       "    <tr>\n",
       "      <th>30NWL1358_01</th>\n",
       "      <td>Ghana</td>\n",
       "      <td>GHA</td>\n",
       "      <td>Built-up Area</td>\n",
       "      <td>25352.007683</td>\n",
       "      <td>23842.976286</td>\n",
       "      <td>GH</td>\n",
       "      <td>Western</td>\n",
       "      <td>GH15</td>\n",
       "      <td>Jomoro</td>\n",
       "      <td>GH1504</td>\n",
       "      <td>...</td>\n",
       "      <td>5.052099</td>\n",
       "      <td>-2.879743</td>\n",
       "      <td>1</td>\n",
       "      <td>Half Assini</td>\n",
       "      <td>False</td>\n",
       "      <td>NaN</td>\n",
       "      <td>NaN</td>\n",
       "      <td>False</td>\n",
       "      <td>False</td>\n",
       "      <td>True</td>\n",
       "    </tr>\n",
       "  </tbody>\n",
       "</table>\n",
       "<p>1 rows × 23 columns</p>\n",
       "</div>"
      ],
      "text/plain": [
       "             country  iso           type    population    pop_un_adj  \\\n",
       "mgrs_code                                                              \n",
       "30NWL1358_01   Ghana  GHA  Built-up Area  25352.007683  23842.976286   \n",
       "\n",
       "             adm0_pcode adm1_name adm1_pcode adm2_name adm2_pcode  ...  \\\n",
       "mgrs_code                                                          ...   \n",
       "30NWL1358_01         GH   Western       GH15    Jomoro     GH1504  ...   \n",
       "\n",
       "             approx_center_lat  approx_center_lon  NumCommunities  \\\n",
       "mgrs_code                                                           \n",
       "30NWL1358_01          5.052099          -2.879743               1   \n",
       "\n",
       "              CommunityName  HAS_SYSTEM  SYSTEM_SOURCE SYSTEM_SPEC  \\\n",
       "mgrs_code                                                            \n",
       "30NWL1358_01    Half Assini       False            NaN         NaN   \n",
       "\n",
       "              HAS_SYSTEM_INTERNAL HAS_SYSTEM_PUBLIC ESTIMATED_SYSTEM  \n",
       "mgrs_code                                                             \n",
       "30NWL1358_01                False             False             True  \n",
       "\n",
       "[1 rows x 23 columns]"
      ]
     },
     "execution_count": 12,
     "metadata": {},
     "output_type": "execute_result"
    }
   ],
   "source": [
    "comms_df.head(1)"
   ]
  },
  {
   "cell_type": "markdown",
   "id": "b1d2da54-7c49-41c6-b560-6e9f132f6b11",
   "metadata": {},
   "source": [
    "## Load Populated Places"
   ]
  },
  {
   "cell_type": "code",
   "execution_count": 13,
   "id": "1691c621-e0c8-4808-af00-6545dcac25c1",
   "metadata": {},
   "outputs": [
    {
     "data": {
      "text/plain": [
       "(2002, 16)"
      ]
     },
     "execution_count": 13,
     "metadata": {},
     "output_type": "execute_result"
    }
   ],
   "source": [
    "pp_df = pd.read_excel(pp_file)\n",
    "pp_df.shape"
   ]
  },
  {
   "cell_type": "code",
   "execution_count": 14,
   "id": "3d893d1d-fd81-4139-b4b4-c182004d3aae",
   "metadata": {},
   "outputs": [
    {
     "data": {
      "text/html": [
       "<div>\n",
       "<style scoped>\n",
       "    .dataframe tbody tr th:only-of-type {\n",
       "        vertical-align: middle;\n",
       "    }\n",
       "\n",
       "    .dataframe tbody tr th {\n",
       "        vertical-align: top;\n",
       "    }\n",
       "\n",
       "    .dataframe thead th {\n",
       "        text-align: right;\n",
       "    }\n",
       "</style>\n",
       "<table border=\"1\" class=\"dataframe\">\n",
       "  <thead>\n",
       "    <tr style=\"text-align: right;\">\n",
       "      <th></th>\n",
       "      <th>country</th>\n",
       "      <th>adm1_name</th>\n",
       "      <th>adm1_pcode</th>\n",
       "      <th>adm2_name</th>\n",
       "      <th>adm2_pcode</th>\n",
       "      <th>community</th>\n",
       "      <th>latitude</th>\n",
       "      <th>longitude</th>\n",
       "      <th>settlement_type</th>\n",
       "      <th>pop_un_adj</th>\n",
       "      <th>mgrs_code</th>\n",
       "      <th>settl_pcode</th>\n",
       "      <th>assignment_method</th>\n",
       "      <th>source</th>\n",
       "      <th>source_id</th>\n",
       "      <th>source_id_field</th>\n",
       "    </tr>\n",
       "  </thead>\n",
       "  <tbody>\n",
       "    <tr>\n",
       "      <th>0</th>\n",
       "      <td>Ghana</td>\n",
       "      <td>Western</td>\n",
       "      <td>GH15</td>\n",
       "      <td>Jomoro</td>\n",
       "      <td>GH1504</td>\n",
       "      <td>Half Assini</td>\n",
       "      <td>5.051354</td>\n",
       "      <td>-2.885167</td>\n",
       "      <td>Built-up Area</td>\n",
       "      <td>23842.976286</td>\n",
       "      <td>30NWL1358_01</td>\n",
       "      <td>GH1504000001</td>\n",
       "      <td>contains</td>\n",
       "      <td>HOT-OSM</td>\n",
       "      <td>1964993116</td>\n",
       "      <td>osm_id</td>\n",
       "    </tr>\n",
       "  </tbody>\n",
       "</table>\n",
       "</div>"
      ],
      "text/plain": [
       "  country adm1_name adm1_pcode adm2_name adm2_pcode    community  latitude  \\\n",
       "0   Ghana   Western       GH15    Jomoro     GH1504  Half Assini  5.051354   \n",
       "\n",
       "   longitude settlement_type    pop_un_adj     mgrs_code   settl_pcode  \\\n",
       "0  -2.885167   Built-up Area  23842.976286  30NWL1358_01  GH1504000001   \n",
       "\n",
       "  assignment_method   source   source_id source_id_field  \n",
       "0          contains  HOT-OSM  1964993116          osm_id  "
      ]
     },
     "execution_count": 14,
     "metadata": {},
     "output_type": "execute_result"
    }
   ],
   "source": [
    "pp_df.head(1)"
   ]
  },
  {
   "cell_type": "markdown",
   "id": "e0acd7d4-6fd1-4918-b9ed-91586818739a",
   "metadata": {},
   "source": [
    "### Attach Annotations to PPs"
   ]
  },
  {
   "cell_type": "code",
   "execution_count": 23,
   "id": "c1dd1952-fa19-4f6c-ac5c-5c76fb7a66cd",
   "metadata": {
    "tags": []
   },
   "outputs": [],
   "source": [
    "for p in pp_df.itertuples():\n",
    "    c = comms_df.loc[p.mgrs_code]\n",
    "    pp_df.at[p.Index, \"HAS_SYSTEM\"] = c.HAS_SYSTEM\n",
    "    pp_df.at[p.Index, \"ESTIMATED_SYSTEM\"] = c.ESTIMATED_SYSTEM"
   ]
  },
  {
   "cell_type": "code",
   "execution_count": 24,
   "id": "a9809b4e-d7a5-4a75-a5a5-0de5b3d66eb6",
   "metadata": {
    "tags": []
   },
   "outputs": [
    {
     "data": {
      "text/html": [
       "<div>\n",
       "<style scoped>\n",
       "    .dataframe tbody tr th:only-of-type {\n",
       "        vertical-align: middle;\n",
       "    }\n",
       "\n",
       "    .dataframe tbody tr th {\n",
       "        vertical-align: top;\n",
       "    }\n",
       "\n",
       "    .dataframe thead th {\n",
       "        text-align: right;\n",
       "    }\n",
       "</style>\n",
       "<table border=\"1\" class=\"dataframe\">\n",
       "  <thead>\n",
       "    <tr style=\"text-align: right;\">\n",
       "      <th></th>\n",
       "      <th>country</th>\n",
       "      <th>adm1_name</th>\n",
       "      <th>adm1_pcode</th>\n",
       "      <th>adm2_name</th>\n",
       "      <th>adm2_pcode</th>\n",
       "      <th>community</th>\n",
       "      <th>latitude</th>\n",
       "      <th>longitude</th>\n",
       "      <th>settlement_type</th>\n",
       "      <th>pop_un_adj</th>\n",
       "      <th>mgrs_code</th>\n",
       "      <th>settl_pcode</th>\n",
       "      <th>assignment_method</th>\n",
       "      <th>source</th>\n",
       "      <th>source_id</th>\n",
       "      <th>source_id_field</th>\n",
       "      <th>HAS_SYSTEM</th>\n",
       "      <th>ESTIMATED_SYSTEM</th>\n",
       "    </tr>\n",
       "  </thead>\n",
       "  <tbody>\n",
       "    <tr>\n",
       "      <th>0</th>\n",
       "      <td>Ghana</td>\n",
       "      <td>Western</td>\n",
       "      <td>GH15</td>\n",
       "      <td>Jomoro</td>\n",
       "      <td>GH1504</td>\n",
       "      <td>Half Assini</td>\n",
       "      <td>5.051354</td>\n",
       "      <td>-2.885167</td>\n",
       "      <td>Built-up Area</td>\n",
       "      <td>23842.976286</td>\n",
       "      <td>30NWL1358_01</td>\n",
       "      <td>GH1504000001</td>\n",
       "      <td>contains</td>\n",
       "      <td>HOT-OSM</td>\n",
       "      <td>1964993116</td>\n",
       "      <td>osm_id</td>\n",
       "      <td>False</td>\n",
       "      <td>True</td>\n",
       "    </tr>\n",
       "    <tr>\n",
       "      <th>1</th>\n",
       "      <td>Ghana</td>\n",
       "      <td>Western</td>\n",
       "      <td>GH15</td>\n",
       "      <td>Jomoro</td>\n",
       "      <td>GH1504</td>\n",
       "      <td>Elubo</td>\n",
       "      <td>5.283333</td>\n",
       "      <td>-2.766667</td>\n",
       "      <td>Built-up Area</td>\n",
       "      <td>11439.512173</td>\n",
       "      <td>30NWL2584_01</td>\n",
       "      <td>GH1504000002</td>\n",
       "      <td>nearest</td>\n",
       "      <td>COD-PP</td>\n",
       "      <td>GH15040002</td>\n",
       "      <td>Pcod</td>\n",
       "      <td>False</td>\n",
       "      <td>True</td>\n",
       "    </tr>\n",
       "    <tr>\n",
       "      <th>2</th>\n",
       "      <td>Ghana</td>\n",
       "      <td>Western</td>\n",
       "      <td>GH15</td>\n",
       "      <td>Jomoro</td>\n",
       "      <td>GH1504</td>\n",
       "      <td>Tikobo No. 1</td>\n",
       "      <td>5.057596</td>\n",
       "      <td>-2.690559</td>\n",
       "      <td>Built-up Area</td>\n",
       "      <td>12355.734547</td>\n",
       "      <td>30NWL3458_02</td>\n",
       "      <td>GH1504000003</td>\n",
       "      <td>contains</td>\n",
       "      <td>HOT-OSM</td>\n",
       "      <td>1830247436</td>\n",
       "      <td>osm_id</td>\n",
       "      <td>False</td>\n",
       "      <td>True</td>\n",
       "    </tr>\n",
       "  </tbody>\n",
       "</table>\n",
       "</div>"
      ],
      "text/plain": [
       "  country adm1_name adm1_pcode adm2_name adm2_pcode     community  latitude  \\\n",
       "0   Ghana   Western       GH15    Jomoro     GH1504   Half Assini  5.051354   \n",
       "1   Ghana   Western       GH15    Jomoro     GH1504         Elubo  5.283333   \n",
       "2   Ghana   Western       GH15    Jomoro     GH1504  Tikobo No. 1  5.057596   \n",
       "\n",
       "   longitude settlement_type    pop_un_adj     mgrs_code   settl_pcode  \\\n",
       "0  -2.885167   Built-up Area  23842.976286  30NWL1358_01  GH1504000001   \n",
       "1  -2.766667   Built-up Area  11439.512173  30NWL2584_01  GH1504000002   \n",
       "2  -2.690559   Built-up Area  12355.734547  30NWL3458_02  GH1504000003   \n",
       "\n",
       "  assignment_method   source   source_id source_id_field HAS_SYSTEM  \\\n",
       "0          contains  HOT-OSM  1964993116          osm_id      False   \n",
       "1           nearest   COD-PP  GH15040002            Pcod      False   \n",
       "2          contains  HOT-OSM  1830247436          osm_id      False   \n",
       "\n",
       "  ESTIMATED_SYSTEM  \n",
       "0             True  \n",
       "1             True  \n",
       "2             True  "
      ]
     },
     "execution_count": 24,
     "metadata": {},
     "output_type": "execute_result"
    }
   ],
   "source": [
    "pp_df.head(3)"
   ]
  },
  {
   "cell_type": "markdown",
   "id": "fe181897-2eb1-4a76-9562-ddf4f6bce1d3",
   "metadata": {},
   "source": [
    "## Compute Nearest Labs - Populated Places (Actual Communities)"
   ]
  },
  {
   "cell_type": "code",
   "execution_count": 25,
   "id": "c4d59af4-9903-4bc0-b6c6-cb878c2f1d55",
   "metadata": {},
   "outputs": [
    {
     "data": {
      "application/vnd.jupyter.widget-view+json": {
       "model_id": "3d3b0ebb007e4b4bb836dcc23a4970da",
       "version_major": 2,
       "version_minor": 0
      },
      "text/plain": [
       "0it [00:00, ?it/s]"
      ]
     },
     "metadata": {},
     "output_type": "display_data"
    }
   ],
   "source": [
    "for c in tqdm(pp_df.itertuples()):\n",
    "    min_dist_lab = None\n",
    "    min_dist = 9999.0\n",
    "    for l in labs_df.itertuples():\n",
    "        d = distance((c.latitude, c.longitude), (l.Latitude, l.Longitude))\n",
    "        #print(f\"{c.UN_CommunityName} {c.approx_center_lat}, {c.approx_center_lon}\\t{l.Name}\\t{d}\")\n",
    "        if d < min_dist:\n",
    "            min_dist = d\n",
    "            min_dist_lab = l\n",
    "    if min_dist_lab is None:\n",
    "        print(f\"No min dist for <{c}>!\")\n",
    "    else:\n",
    "        pp_df.at[c.Index, \"NearestRegionalLab\"] = min_dist_lab.Name\n",
    "        pp_df.at[c.Index, \"NearestRegionalLab_DistanceKM\"] = min_dist.km"
   ]
  },
  {
   "cell_type": "code",
   "execution_count": 26,
   "id": "29cdcaba-c057-43d8-8abd-e840ca435aed",
   "metadata": {},
   "outputs": [
    {
     "data": {
      "text/html": [
       "<div>\n",
       "<style scoped>\n",
       "    .dataframe tbody tr th:only-of-type {\n",
       "        vertical-align: middle;\n",
       "    }\n",
       "\n",
       "    .dataframe tbody tr th {\n",
       "        vertical-align: top;\n",
       "    }\n",
       "\n",
       "    .dataframe thead th {\n",
       "        text-align: right;\n",
       "    }\n",
       "</style>\n",
       "<table border=\"1\" class=\"dataframe\">\n",
       "  <thead>\n",
       "    <tr style=\"text-align: right;\">\n",
       "      <th></th>\n",
       "      <th>country</th>\n",
       "      <th>adm1_name</th>\n",
       "      <th>adm1_pcode</th>\n",
       "      <th>adm2_name</th>\n",
       "      <th>adm2_pcode</th>\n",
       "      <th>community</th>\n",
       "      <th>latitude</th>\n",
       "      <th>longitude</th>\n",
       "      <th>settlement_type</th>\n",
       "      <th>pop_un_adj</th>\n",
       "      <th>mgrs_code</th>\n",
       "      <th>settl_pcode</th>\n",
       "      <th>assignment_method</th>\n",
       "      <th>source</th>\n",
       "      <th>source_id</th>\n",
       "      <th>source_id_field</th>\n",
       "      <th>HAS_SYSTEM</th>\n",
       "      <th>ESTIMATED_SYSTEM</th>\n",
       "      <th>NearestRegionalLab</th>\n",
       "      <th>NearestRegionalLab_DistanceKM</th>\n",
       "    </tr>\n",
       "  </thead>\n",
       "  <tbody>\n",
       "    <tr>\n",
       "      <th>0</th>\n",
       "      <td>Ghana</td>\n",
       "      <td>Western</td>\n",
       "      <td>GH15</td>\n",
       "      <td>Jomoro</td>\n",
       "      <td>GH1504</td>\n",
       "      <td>Half Assini</td>\n",
       "      <td>5.051354</td>\n",
       "      <td>-2.885167</td>\n",
       "      <td>Built-up Area</td>\n",
       "      <td>23842.976286</td>\n",
       "      <td>30NWL1358_01</td>\n",
       "      <td>GH1504000001</td>\n",
       "      <td>contains</td>\n",
       "      <td>HOT-OSM</td>\n",
       "      <td>1964993116</td>\n",
       "      <td>osm_id</td>\n",
       "      <td>False</td>\n",
       "      <td>True</td>\n",
       "      <td>Western Regional Laboratory</td>\n",
       "      <td>124.98206</td>\n",
       "    </tr>\n",
       "    <tr>\n",
       "      <th>1</th>\n",
       "      <td>Ghana</td>\n",
       "      <td>Western</td>\n",
       "      <td>GH15</td>\n",
       "      <td>Jomoro</td>\n",
       "      <td>GH1504</td>\n",
       "      <td>Elubo</td>\n",
       "      <td>5.283333</td>\n",
       "      <td>-2.766667</td>\n",
       "      <td>Built-up Area</td>\n",
       "      <td>11439.512173</td>\n",
       "      <td>30NWL2584_01</td>\n",
       "      <td>GH1504000002</td>\n",
       "      <td>nearest</td>\n",
       "      <td>COD-PP</td>\n",
       "      <td>GH15040002</td>\n",
       "      <td>Pcod</td>\n",
       "      <td>False</td>\n",
       "      <td>True</td>\n",
       "      <td>Western Regional Laboratory</td>\n",
       "      <td>118.37726</td>\n",
       "    </tr>\n",
       "  </tbody>\n",
       "</table>\n",
       "</div>"
      ],
      "text/plain": [
       "  country adm1_name adm1_pcode adm2_name adm2_pcode    community  latitude  \\\n",
       "0   Ghana   Western       GH15    Jomoro     GH1504  Half Assini  5.051354   \n",
       "1   Ghana   Western       GH15    Jomoro     GH1504        Elubo  5.283333   \n",
       "\n",
       "   longitude settlement_type    pop_un_adj     mgrs_code   settl_pcode  \\\n",
       "0  -2.885167   Built-up Area  23842.976286  30NWL1358_01  GH1504000001   \n",
       "1  -2.766667   Built-up Area  11439.512173  30NWL2584_01  GH1504000002   \n",
       "\n",
       "  assignment_method   source   source_id source_id_field HAS_SYSTEM  \\\n",
       "0          contains  HOT-OSM  1964993116          osm_id      False   \n",
       "1           nearest   COD-PP  GH15040002            Pcod      False   \n",
       "\n",
       "  ESTIMATED_SYSTEM           NearestRegionalLab  NearestRegionalLab_DistanceKM  \n",
       "0             True  Western Regional Laboratory                      124.98206  \n",
       "1             True  Western Regional Laboratory                      118.37726  "
      ]
     },
     "execution_count": 26,
     "metadata": {},
     "output_type": "execute_result"
    }
   ],
   "source": [
    "pp_df.head(2)"
   ]
  },
  {
   "cell_type": "markdown",
   "id": "d17eedff-23f2-46cf-b576-57c24764768d",
   "metadata": {},
   "source": [
    "## Explore"
   ]
  },
  {
   "cell_type": "code",
   "execution_count": 29,
   "id": "7776548d-ec3d-483b-aa36-f5cdbdc2babd",
   "metadata": {},
   "outputs": [
    {
     "data": {
      "text/plain": [
       "NearestRegionalLab\n",
       "Ashanti Regional Laboratory        524\n",
       "Eastern Regional Laboratories      415\n",
       "Volta Regional Laboratory          323\n",
       "Brong Ahafo Regional Laboratory    298\n",
       "Central Regional Laboratory        269\n",
       "Western Regional Laboratory        164\n",
       "Northern Regional Laboratory         9\n",
       "Name: count, dtype: int64"
      ]
     },
     "execution_count": 29,
     "metadata": {},
     "output_type": "execute_result"
    }
   ],
   "source": [
    "pp_df[\"NearestRegionalLab\"].value_counts()"
   ]
  },
  {
   "cell_type": "code",
   "execution_count": 28,
   "id": "1a0f683c-884d-4908-b04f-a3dc8a4ec168",
   "metadata": {},
   "outputs": [
    {
     "data": {
      "text/plain": [
       "<Axes: xlabel='NearestRegionalLab_DistanceKM', ylabel='Percent'>"
      ]
     },
     "execution_count": 28,
     "metadata": {},
     "output_type": "execute_result"
    },
    {
     "data": {
      "image/png": "[encoded data removed]",
      "text/plain": [
       "<Figure size 640x480 with 1 Axes>"
      ]
     },
     "metadata": {},
     "output_type": "display_data"
    }
   ],
   "source": [
    "sns.set_style(\"darkgrid\")\n",
    "sns.histplot(data=pp_df, x=\"NearestRegionalLab_DistanceKM\", stat=\"percent\")"
   ]
  },
  {
   "cell_type": "markdown",
   "id": "fb3e9c6d-2c8e-47ba-ac31-cad6f71cddc8",
   "metadata": {},
   "source": [
    "## Distance Stats"
   ]
  },
  {
   "cell_type": "code",
   "execution_count": 46,
   "id": "c16894de-aa1a-499a-9634-f4036047861c",
   "metadata": {},
   "outputs": [],
   "source": [
    "limits = [30, 60, 120, 180]"
   ]
  },
  {
   "cell_type": "code",
   "execution_count": 53,
   "id": "222d2f15-acd0-4fa6-a95c-bcf120011669",
   "metadata": {},
   "outputs": [],
   "source": [
    "results_data = {}\n",
    "\n",
    "for reg, reg_df in pp_df.groupby(\"adm1_name\"):\n",
    "    total = reg_df.shape[0]\n",
    "    results_data[reg] = {\"Total\": total}\n",
    "    \n",
    "    for dl in limits:\n",
    "        num_within = (reg_df[\"NearestRegionalLab_DistanceKM\"] < dl).sum()\n",
    "        results_data[reg][f\"Within {dl} KM\"] = int(num_within)\n",
    "        results_data[reg][f\"Within {dl} KM (%)\"] = f\"{100 * num_within / total:0.0f}%\"\n",
    "\n",
    "results_df = pd.DataFrame(results_data)[reg_order].copy()"
   ]
  },
  {
   "cell_type": "code",
   "execution_count": 54,
   "id": "ddd648e6-3683-4ee3-b780-2ef20d8b9cd5",
   "metadata": {
    "tags": []
   },
   "outputs": [
    {
     "data": {
      "text/html": [
       "<div>\n",
       "<style scoped>\n",
       "    .dataframe tbody tr th:only-of-type {\n",
       "        vertical-align: middle;\n",
       "    }\n",
       "\n",
       "    .dataframe tbody tr th {\n",
       "        vertical-align: top;\n",
       "    }\n",
       "\n",
       "    .dataframe thead th {\n",
       "        text-align: right;\n",
       "    }\n",
       "</style>\n",
       "<table border=\"1\" class=\"dataframe\">\n",
       "  <thead>\n",
       "    <tr style=\"text-align: right;\">\n",
       "      <th></th>\n",
       "      <th>Ahafo</th>\n",
       "      <th>Bono</th>\n",
       "      <th>Ashanti</th>\n",
       "      <th>Eastern</th>\n",
       "      <th>Volta</th>\n",
       "      <th>Central</th>\n",
       "      <th>Western</th>\n",
       "      <th>Western North</th>\n",
       "      <th>Bono East</th>\n",
       "    </tr>\n",
       "  </thead>\n",
       "  <tbody>\n",
       "    <tr>\n",
       "      <th>Total</th>\n",
       "      <td>45</td>\n",
       "      <td>141</td>\n",
       "      <td>426</td>\n",
       "      <td>456</td>\n",
       "      <td>269</td>\n",
       "      <td>306</td>\n",
       "      <td>176</td>\n",
       "      <td>84</td>\n",
       "      <td>99</td>\n",
       "    </tr>\n",
       "    <tr>\n",
       "      <th>Within 30 KM</th>\n",
       "      <td>11</td>\n",
       "      <td>14</td>\n",
       "      <td>116</td>\n",
       "      <td>141</td>\n",
       "      <td>0</td>\n",
       "      <td>75</td>\n",
       "      <td>47</td>\n",
       "      <td>0</td>\n",
       "      <td>0</td>\n",
       "    </tr>\n",
       "    <tr>\n",
       "      <th>Within 30 KM (%)</th>\n",
       "      <td>24%</td>\n",
       "      <td>10%</td>\n",
       "      <td>27%</td>\n",
       "      <td>31%</td>\n",
       "      <td>0%</td>\n",
       "      <td>25%</td>\n",
       "      <td>27%</td>\n",
       "      <td>0%</td>\n",
       "      <td>0%</td>\n",
       "    </tr>\n",
       "    <tr>\n",
       "      <th>Within 60 KM</th>\n",
       "      <td>29</td>\n",
       "      <td>76</td>\n",
       "      <td>372</td>\n",
       "      <td>342</td>\n",
       "      <td>2</td>\n",
       "      <td>185</td>\n",
       "      <td>77</td>\n",
       "      <td>0</td>\n",
       "      <td>13</td>\n",
       "    </tr>\n",
       "    <tr>\n",
       "      <th>Within 60 KM (%)</th>\n",
       "      <td>64%</td>\n",
       "      <td>54%</td>\n",
       "      <td>87%</td>\n",
       "      <td>75%</td>\n",
       "      <td>1%</td>\n",
       "      <td>60%</td>\n",
       "      <td>44%</td>\n",
       "      <td>0%</td>\n",
       "      <td>13%</td>\n",
       "    </tr>\n",
       "    <tr>\n",
       "      <th>Within 120 KM</th>\n",
       "      <td>45</td>\n",
       "      <td>141</td>\n",
       "      <td>426</td>\n",
       "      <td>456</td>\n",
       "      <td>183</td>\n",
       "      <td>306</td>\n",
       "      <td>161</td>\n",
       "      <td>65</td>\n",
       "      <td>65</td>\n",
       "    </tr>\n",
       "    <tr>\n",
       "      <th>Within 120 KM (%)</th>\n",
       "      <td>100%</td>\n",
       "      <td>100%</td>\n",
       "      <td>100%</td>\n",
       "      <td>100%</td>\n",
       "      <td>68%</td>\n",
       "      <td>100%</td>\n",
       "      <td>91%</td>\n",
       "      <td>77%</td>\n",
       "      <td>66%</td>\n",
       "    </tr>\n",
       "    <tr>\n",
       "      <th>Within 180 KM</th>\n",
       "      <td>45</td>\n",
       "      <td>141</td>\n",
       "      <td>426</td>\n",
       "      <td>456</td>\n",
       "      <td>269</td>\n",
       "      <td>306</td>\n",
       "      <td>176</td>\n",
       "      <td>84</td>\n",
       "      <td>99</td>\n",
       "    </tr>\n",
       "    <tr>\n",
       "      <th>Within 180 KM (%)</th>\n",
       "      <td>100%</td>\n",
       "      <td>100%</td>\n",
       "      <td>100%</td>\n",
       "      <td>100%</td>\n",
       "      <td>100%</td>\n",
       "      <td>100%</td>\n",
       "      <td>100%</td>\n",
       "      <td>100%</td>\n",
       "      <td>100%</td>\n",
       "    </tr>\n",
       "  </tbody>\n",
       "</table>\n",
       "</div>"
      ],
      "text/plain": [
       "                  Ahafo  Bono Ashanti Eastern Volta Central Western  \\\n",
       "Total                45   141     426     456   269     306     176   \n",
       "Within 30 KM         11    14     116     141     0      75      47   \n",
       "Within 30 KM (%)    24%   10%     27%     31%    0%     25%     27%   \n",
       "Within 60 KM         29    76     372     342     2     185      77   \n",
       "Within 60 KM (%)    64%   54%     87%     75%    1%     60%     44%   \n",
       "Within 120 KM        45   141     426     456   183     306     161   \n",
       "Within 120 KM (%)  100%  100%    100%    100%   68%    100%     91%   \n",
       "Within 180 KM        45   141     426     456   269     306     176   \n",
       "Within 180 KM (%)  100%  100%    100%    100%  100%    100%    100%   \n",
       "\n",
       "                  Western North Bono East  \n",
       "Total                        84        99  \n",
       "Within 30 KM                  0         0  \n",
       "Within 30 KM (%)             0%        0%  \n",
       "Within 60 KM                  0        13  \n",
       "Within 60 KM (%)             0%       13%  \n",
       "Within 120 KM                65        65  \n",
       "Within 120 KM (%)           77%       66%  \n",
       "Within 180 KM                84        99  \n",
       "Within 180 KM (%)          100%      100%  "
      ]
     },
     "execution_count": 54,
     "metadata": {},
     "output_type": "execute_result"
    }
   ],
   "source": [
    "results_df"
   ]
  },
  {
   "cell_type": "code",
   "execution_count": 63,
   "id": "70d8d902-514c-4fad-a2d6-14c04824f00c",
   "metadata": {
    "tags": []
   },
   "outputs": [],
   "source": [
    "results_df.to_excel(\"./export/CommunityPWS-RoadDists-All PPs.xlsx\")"
   ]
  },
  {
   "cell_type": "code",
   "execution_count": 56,
   "id": "68c5b07f-20ed-41ac-90ea-d41de40a9a5f",
   "metadata": {
    "tags": []
   },
   "outputs": [],
   "source": [
    "pp_est_df = pp_df[pp_df[\"ESTIMATED_SYSTEM\"]].copy()\n",
    "\n",
    "ests_data = {}\n",
    "\n",
    "for reg, reg_df in pp_est_df.groupby(\"adm1_name\"):\n",
    "    total = reg_df.shape[0]\n",
    "    ests_data[reg] = {\"Total\": total}\n",
    "    \n",
    "    for dl in limits:\n",
    "        num_within = (reg_df[\"NearestRegionalLab_DistanceKM\"] < dl).sum()\n",
    "        ests_data[reg][f\"Within {dl} KM\"] = int(num_within)\n",
    "        ests_data[reg][f\"Within {dl} KM (%)\"] = f\"{100 * num_within / total:0.0f}%\"\n",
    "\n",
    "\n",
    "ests_df = pd.DataFrame(ests_data)[reg_order].copy()"
   ]
  },
  {
   "cell_type": "code",
   "execution_count": 61,
   "id": "5a62f0a1-da66-44c5-a91d-89a84ac37117",
   "metadata": {},
   "outputs": [
    {
     "data": {
      "text/html": [
       "<div>\n",
       "<style scoped>\n",
       "    .dataframe tbody tr th:only-of-type {\n",
       "        vertical-align: middle;\n",
       "    }\n",
       "\n",
       "    .dataframe tbody tr th {\n",
       "        vertical-align: top;\n",
       "    }\n",
       "\n",
       "    .dataframe thead th {\n",
       "        text-align: right;\n",
       "    }\n",
       "</style>\n",
       "<table border=\"1\" class=\"dataframe\">\n",
       "  <thead>\n",
       "    <tr style=\"text-align: right;\">\n",
       "      <th></th>\n",
       "      <th>Ahafo</th>\n",
       "      <th>Bono</th>\n",
       "      <th>Ashanti</th>\n",
       "      <th>Eastern</th>\n",
       "      <th>Volta</th>\n",
       "      <th>Central</th>\n",
       "      <th>Western</th>\n",
       "      <th>Western North</th>\n",
       "      <th>Bono East</th>\n",
       "    </tr>\n",
       "  </thead>\n",
       "  <tbody>\n",
       "    <tr>\n",
       "      <th>Total</th>\n",
       "      <td>40</td>\n",
       "      <td>90</td>\n",
       "      <td>245</td>\n",
       "      <td>305</td>\n",
       "      <td>167</td>\n",
       "      <td>189</td>\n",
       "      <td>99</td>\n",
       "      <td>37</td>\n",
       "      <td>45</td>\n",
       "    </tr>\n",
       "    <tr>\n",
       "      <th>Within 30 KM</th>\n",
       "      <td>11</td>\n",
       "      <td>9</td>\n",
       "      <td>64</td>\n",
       "      <td>89</td>\n",
       "      <td>0</td>\n",
       "      <td>55</td>\n",
       "      <td>30</td>\n",
       "      <td>0</td>\n",
       "      <td>0</td>\n",
       "    </tr>\n",
       "    <tr>\n",
       "      <th>Within 30 KM (%)</th>\n",
       "      <td>28%</td>\n",
       "      <td>10%</td>\n",
       "      <td>26%</td>\n",
       "      <td>29%</td>\n",
       "      <td>0%</td>\n",
       "      <td>29%</td>\n",
       "      <td>30%</td>\n",
       "      <td>0%</td>\n",
       "      <td>0%</td>\n",
       "    </tr>\n",
       "    <tr>\n",
       "      <th>Within 60 KM</th>\n",
       "      <td>28</td>\n",
       "      <td>52</td>\n",
       "      <td>218</td>\n",
       "      <td>229</td>\n",
       "      <td>2</td>\n",
       "      <td>121</td>\n",
       "      <td>44</td>\n",
       "      <td>0</td>\n",
       "      <td>8</td>\n",
       "    </tr>\n",
       "    <tr>\n",
       "      <th>Within 60 KM (%)</th>\n",
       "      <td>70%</td>\n",
       "      <td>58%</td>\n",
       "      <td>89%</td>\n",
       "      <td>75%</td>\n",
       "      <td>1%</td>\n",
       "      <td>64%</td>\n",
       "      <td>44%</td>\n",
       "      <td>0%</td>\n",
       "      <td>18%</td>\n",
       "    </tr>\n",
       "    <tr>\n",
       "      <th>Within 120 KM</th>\n",
       "      <td>40</td>\n",
       "      <td>90</td>\n",
       "      <td>245</td>\n",
       "      <td>305</td>\n",
       "      <td>112</td>\n",
       "      <td>189</td>\n",
       "      <td>91</td>\n",
       "      <td>29</td>\n",
       "      <td>28</td>\n",
       "    </tr>\n",
       "    <tr>\n",
       "      <th>Within 120 KM (%)</th>\n",
       "      <td>100%</td>\n",
       "      <td>100%</td>\n",
       "      <td>100%</td>\n",
       "      <td>100%</td>\n",
       "      <td>67%</td>\n",
       "      <td>100%</td>\n",
       "      <td>92%</td>\n",
       "      <td>78%</td>\n",
       "      <td>62%</td>\n",
       "    </tr>\n",
       "    <tr>\n",
       "      <th>Within 180 KM</th>\n",
       "      <td>40</td>\n",
       "      <td>90</td>\n",
       "      <td>245</td>\n",
       "      <td>305</td>\n",
       "      <td>167</td>\n",
       "      <td>189</td>\n",
       "      <td>99</td>\n",
       "      <td>37</td>\n",
       "      <td>45</td>\n",
       "    </tr>\n",
       "    <tr>\n",
       "      <th>Within 180 KM (%)</th>\n",
       "      <td>100%</td>\n",
       "      <td>100%</td>\n",
       "      <td>100%</td>\n",
       "      <td>100%</td>\n",
       "      <td>100%</td>\n",
       "      <td>100%</td>\n",
       "      <td>100%</td>\n",
       "      <td>100%</td>\n",
       "      <td>100%</td>\n",
       "    </tr>\n",
       "  </tbody>\n",
       "</table>\n",
       "</div>"
      ],
      "text/plain": [
       "                  Ahafo  Bono Ashanti Eastern Volta Central Western  \\\n",
       "Total                40    90     245     305   167     189      99   \n",
       "Within 30 KM         11     9      64      89     0      55      30   \n",
       "Within 30 KM (%)    28%   10%     26%     29%    0%     29%     30%   \n",
       "Within 60 KM         28    52     218     229     2     121      44   \n",
       "Within 60 KM (%)    70%   58%     89%     75%    1%     64%     44%   \n",
       "Within 120 KM        40    90     245     305   112     189      91   \n",
       "Within 120 KM (%)  100%  100%    100%    100%   67%    100%     92%   \n",
       "Within 180 KM        40    90     245     305   167     189      99   \n",
       "Within 180 KM (%)  100%  100%    100%    100%  100%    100%    100%   \n",
       "\n",
       "                  Western North Bono East  \n",
       "Total                        37        45  \n",
       "Within 30 KM                  0         0  \n",
       "Within 30 KM (%)             0%        0%  \n",
       "Within 60 KM                  0         8  \n",
       "Within 60 KM (%)             0%       18%  \n",
       "Within 120 KM                29        28  \n",
       "Within 120 KM (%)           78%       62%  \n",
       "Within 180 KM                37        45  \n",
       "Within 180 KM (%)          100%      100%  "
      ]
     },
     "execution_count": 61,
     "metadata": {},
     "output_type": "execute_result"
    }
   ],
   "source": [
    "ests_df"
   ]
  },
  {
   "cell_type": "code",
   "execution_count": 64,
   "id": "5ca5843d-79f1-48d8-ad34-ac40aaa8be5e",
   "metadata": {
    "tags": []
   },
   "outputs": [],
   "source": [
    "ests_df.to_excel(\"./export/CommunityPWS-RoadDists-PWS PPs.xlsx\")"
   ]
  },
  {
   "cell_type": "code",
   "execution_count": null,
   "id": "092b6b9d-7e8a-4f4d-93e7-7fcd0b0f8cae",
   "metadata": {},
   "outputs": [],
   "source": []
  },
  {
   "cell_type": "code",
   "execution_count": null,
   "id": "01353506-75de-4a75-b41f-39a81dfe0225",
   "metadata": {},
   "outputs": [],
   "source": []
  },
  {
   "cell_type": "code",
   "execution_count": null,
   "id": "5de8e9fd-11a8-4508-b64f-ee4d09a4235b",
   "metadata": {},
   "outputs": [],
   "source": []
  },
  {
   "cell_type": "markdown",
   "id": "d636fbc0-c88a-499d-a653-fba108ec7a61",
   "metadata": {},
   "source": [
    "## Test Mapbox distances (driving / road travel)\n",
    "\n",
    "EG:\n",
    "```python\n",
    "resp = Directions('mapbox.driving').directions([origin, destination])\n",
    "driving_routes = resp.geojson()\n",
    "first_route = driving_routes['features'][0]\n",
    "```"
   ]
  },
  {
   "cell_type": "code",
   "execution_count": 52,
   "id": "7728b3f7-f903-412f-ae0a-b07bf5d8187f",
   "metadata": {},
   "outputs": [],
   "source": [
    "import json\n",
    "import mapbox"
   ]
  },
  {
   "cell_type": "code",
   "execution_count": 35,
   "id": "fb520254-ea0c-4b40-a51e-18035c3f1a74",
   "metadata": {},
   "outputs": [],
   "source": [
    "# The (lon, lat) GEOJSON point features\n",
    "gambia2_ft = (-2.656115, 7.0623)\n",
    "ba_lab_ft = (-2.33054, 7.332161)"
   ]
  },
  {
   "cell_type": "code",
   "execution_count": 43,
   "id": "4906efbc-1ffb-4bb1-9b44-dce713ff6068",
   "metadata": {},
   "outputs": [
    {
     "data": {
      "text/plain": [
       "<mapbox.services.directions.Directions at 0x119dde550>"
      ]
     },
     "execution_count": 43,
     "metadata": {},
     "output_type": "execute_result"
    }
   ],
   "source": [
    "directions_con = mapbox.Directions(access_token=\"pk.eyJ1IjoiZHVuY2FuLWFxdWF5YSIsImEiOiJjbHhiem5oMHMwaDZ2MmtzMzE3MDRtbG10In0.Z3c0_caJZMXjbR0bYw-w2w\")\n",
    "directions_con"
   ]
  },
  {
   "cell_type": "code",
   "execution_count": 46,
   "id": "5c744cbd-ff6d-40e3-bdc2-bdabdf1362b9",
   "metadata": {},
   "outputs": [
    {
     "name": "stderr",
     "output_type": "stream",
     "text": [
      "/Users/datascience/Development/aquaya/py-sandbox/venv/lib/python3.9/site-packages/mapbox/services/directions.py:41: MapboxDeprecationWarning: Converting v4 profile to v5, use mapbox/driving instead\n",
      "  warnings.warn('Converting v4 profile to v5, use {} instead'.format(profile),\n"
     ]
    },
    {
     "data": {
      "text/plain": [
       "<Response [200]>"
      ]
     },
     "execution_count": 46,
     "metadata": {},
     "output_type": "execute_result"
    }
   ],
   "source": [
    "resp = directions_con.directions(features=[gambia2_ft, ba_lab_ft], profile=\"mapbox.driving\")\n",
    "resp"
   ]
  },
  {
   "cell_type": "code",
   "execution_count": 48,
   "id": "a6ef7292-caa8-4fa3-a202-79ccb18fa79a",
   "metadata": {},
   "outputs": [],
   "source": [
    "resp_data = resp.geojson()"
   ]
  },
  {
   "cell_type": "code",
   "execution_count": 62,
   "id": "2d0b2347-3fdd-47f6-b848-65ab64f1dc38",
   "metadata": {},
   "outputs": [
    {
     "data": {
      "text/plain": [
       "{'distance': 97302.219, 'duration': 9363.027}"
      ]
     },
     "execution_count": 62,
     "metadata": {},
     "output_type": "execute_result"
    }
   ],
   "source": [
    "# Distance: meters; Duration: seconds\n",
    "resp_data[\"features\"][0][\"properties\"]"
   ]
  },
  {
   "cell_type": "code",
   "execution_count": 54,
   "id": "f447f0d9-06b3-4f7c-8930-cc9a8c352ff4",
   "metadata": {},
   "outputs": [
    {
     "data": {
      "text/plain": [
       "'{\"type\": \"FeatureCollection\", \"features\": [{\"type\": \"Feature\", \"geometry\": {\"type\": \"LineString\", \"coordinates\": [[-2.65611, 7.06206], [-2.65594, 7.06207], [-2.6554, 7.06249], [-2.65521, 7.06305], [-2.68197, 7.08522], [-2.69859, 7.09372], [-2.71456, 7.09678], [-2.74574, 7.14701], [-2.75765, 7.16015], [-2.76926, 7.16598], [-2.77134, 7.17588], [-2.78348, 7.20096], [-2.78614, 7.22631], [-2.78168, 7.2365], [-2.77402, 7.23969], [-2.77008, 7.24645], [-2.76354, 7.25134], [-2.75879, 7.25825], [-2.75847, 7.26307], [-2.74032, 7.26149], [-2.73085, 7.26518], [-2.71755, 7.2648], [-2.70839, 7.28729], [-2.70065, 7.29468], [-2.69908, 7.30788], [-2.70606, 7.32125], [-2.70558, 7.32547], [-2.67011, 7.35486], [-2.66108, 7.3692], [-2.65802, 7.37869], [-2.65832, 7.39083], [-2.6548, 7.3971], [-2.63069, 7.42317], [-2.60922, 7.43827], [-2.59556, 7.44185], [-2.58409, 7.45042], [-2.57212, 7.43806], [-2.56385, 7.4337], [-2.54821, 7.43808], [-2.51377, 7.43648], [-2.47546, 7.41006], [-2.4691, 7.40337], [-2.44415, 7.40404], [-2.37333, 7.39137], [-2.35061, 7.37283], [-2.34673, 7.3651], [-2.34461, 7.35163], [-2.34227, 7.34514], [-2.32981, 7.33418], [-2.33053, 7.33216]]}, \"properties\": {\"distance\": 97302.219, \"duration\": 9363.027}}]}'"
      ]
     },
     "execution_count": 54,
     "metadata": {},
     "output_type": "execute_result"
    }
   ],
   "source": [
    "json.dumps(resp_data)"
   ]
  },
  {
   "cell_type": "code",
   "execution_count": 55,
   "id": "afa275dc-0f40-48ff-bc84-330404d7a3fb",
   "metadata": {},
   "outputs": [
    {
     "data": {
      "text/plain": [
       "{'type': 'FeatureCollection',\n",
       " 'features': [{'type': 'Feature',\n",
       "   'geometry': {'type': 'LineString',\n",
       "    'coordinates': [(-2.65611, 7.06206),\n",
       "     (-2.65594, 7.06207),\n",
       "     (-2.6554, 7.06249),\n",
       "     (-2.65521, 7.06305),\n",
       "     (-2.68197, 7.08522),\n",
       "     (-2.69859, 7.09372),\n",
       "     (-2.71456, 7.09678),\n",
       "     (-2.74574, 7.14701),\n",
       "     (-2.75765, 7.16015),\n",
       "     (-2.76926, 7.16598),\n",
       "     (-2.77134, 7.17588),\n",
       "     (-2.78348, 7.20096),\n",
       "     (-2.78614, 7.22631),\n",
       "     (-2.78168, 7.2365),\n",
       "     (-2.77402, 7.23969),\n",
       "     (-2.77008, 7.24645),\n",
       "     (-2.76354, 7.25134),\n",
       "     (-2.75879, 7.25825),\n",
       "     (-2.75847, 7.26307),\n",
       "     (-2.74032, 7.26149),\n",
       "     (-2.73085, 7.26518),\n",
       "     (-2.71755, 7.2648),\n",
       "     (-2.70839, 7.28729),\n",
       "     (-2.70065, 7.29468),\n",
       "     (-2.69908, 7.30788),\n",
       "     (-2.70606, 7.32125),\n",
       "     (-2.70558, 7.32547),\n",
       "     (-2.67011, 7.35486),\n",
       "     (-2.66108, 7.3692),\n",
       "     (-2.65802, 7.37869),\n",
       "     (-2.65832, 7.39083),\n",
       "     (-2.6548, 7.3971),\n",
       "     (-2.63069, 7.42317),\n",
       "     (-2.60922, 7.43827),\n",
       "     (-2.59556, 7.44185),\n",
       "     (-2.58409, 7.45042),\n",
       "     (-2.57212, 7.43806),\n",
       "     (-2.56385, 7.4337),\n",
       "     (-2.54821, 7.43808),\n",
       "     (-2.51377, 7.43648),\n",
       "     (-2.47546, 7.41006),\n",
       "     (-2.4691, 7.40337),\n",
       "     (-2.44415, 7.40404),\n",
       "     (-2.37333, 7.39137),\n",
       "     (-2.35061, 7.37283),\n",
       "     (-2.34673, 7.3651),\n",
       "     (-2.34461, 7.35163),\n",
       "     (-2.34227, 7.34514),\n",
       "     (-2.32981, 7.33418),\n",
       "     (-2.33053, 7.33216)]},\n",
       "   'properties': {'distance': 97302.219, 'duration': 9363.027}}]}"
      ]
     },
     "execution_count": 55,
     "metadata": {},
     "output_type": "execute_result"
    }
   ],
   "source": [
    "resp_data\n"
   ]
  },
  {
   "cell_type": "code",
   "execution_count": null,
   "id": "de880867-fb10-4cc7-9470-4a7a5b9e720f",
   "metadata": {},
   "outputs": [],
   "source": []
  }
 ],
 "metadata": {
  "kernelspec": {
   "display_name": "aquaya-sandbox",
   "language": "python",
   "name": "aquaya-sandbox"
  },
  "language_info": {
   "codemirror_mode": {
    "name": "ipython",
    "version": 3
   },
   "file_extension": ".py",
   "mimetype": "text/x-python",
   "name": "python",
   "nbconvert_exporter": "python",
   "pygments_lexer": "ipython3",
   "version": "3.9.6"
  }
 },
 "nbformat": 4,
 "nbformat_minor": 5
}
