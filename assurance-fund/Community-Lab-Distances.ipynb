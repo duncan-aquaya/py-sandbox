{
 "cells": [
  {
   "cell_type": "markdown",
   "id": "dd671bde-1658-40c6-86ce-838973addbd2",
   "metadata": {},
   "source": [
    "Scratch:\n",
    "\n",
    "Read in Communities data (summary spreadsheet from GRID3 SEs w/UN PP data):\n",
    "EG: AFPW-GHA-Communities-Ahafo.1000-20000.summary.xlsx\n",
    "\n",
    "Read in WQAL lab locations data (filter down to only regional labs)\n",
    "\n",
    "F.E. community, get distance to all lab locations\n",
    "Find min distance to any lab; save distance (KM) and nearest lab \n",
    "\n",
    "Add to community summary data sheet and re-export\n",
    "\n",
    "Get filter numbers: num within 60k, 120k, 180k, 240k, >\n",
    "\n",
    "\n",
    "**NB**: Eventually, add this to the AFPW Ghana Communities data processing sheet - to create all that data in one place"
   ]
  },
  {
   "cell_type": "code",
   "execution_count": 39,
   "id": "3ca2a5bf-692c-464f-982f-feefbffa9232",
   "metadata": {},
   "outputs": [],
   "source": [
    "import pandas as pd\n",
    "import geopandas as gpd\n",
    "import seaborn as sns\n",
    "from tqdm.notebook import tqdm\n",
    "from geopy.distance import distance"
   ]
  },
  {
   "cell_type": "code",
   "execution_count": 3,
   "id": "d4d6881e-0942-4383-940b-bc01e33b4816",
   "metadata": {},
   "outputs": [],
   "source": [
    "comms_file = \"/Users/datascience/Development/aquaya/py-sandbox/assurance-fund/export/AFPW-AnnotatedCommunities.1000-200000.summary.xlsx\"\n",
    "pp_file = \"/Users/datascience/Development/aquaya/py-sandbox/assurance-fund/export/AFPW-PopulatedPlaces.1000-200000.populatedplaces.xlsx\"\n",
    "labs_file = \"/Users/datascience/Development/aquaya/py-sandbox/assurance-fund/data/GWCL Regional Labs.xlsx\""
   ]
  },
  {
   "cell_type": "code",
   "execution_count": 4,
   "id": "4d822de9-a4af-418f-b776-ea285b6869af",
   "metadata": {},
   "outputs": [
    {
     "data": {
      "text/plain": [
       "(9, 9)"
      ]
     },
     "execution_count": 4,
     "metadata": {},
     "output_type": "execute_result"
    }
   ],
   "source": [
    "labs_df = pd.read_excel(labs_file)\n",
    "labs_df = labs_df.dropna(subset=[\"Latitude\", \"Longitude\"])\n",
    "labs_df.shape"
   ]
  },
  {
   "cell_type": "code",
   "execution_count": 6,
   "id": "a2ecca90-824f-4ee9-a0f0-5fdb6c420b1a",
   "metadata": {},
   "outputs": [
    {
     "data": {
      "text/html": [
       "<div>\n",
       "<style scoped>\n",
       "    .dataframe tbody tr th:only-of-type {\n",
       "        vertical-align: middle;\n",
       "    }\n",
       "\n",
       "    .dataframe tbody tr th {\n",
       "        vertical-align: top;\n",
       "    }\n",
       "\n",
       "    .dataframe thead th {\n",
       "        text-align: right;\n",
       "    }\n",
       "</style>\n",
       "<table border=\"1\" class=\"dataframe\">\n",
       "  <thead>\n",
       "    <tr style=\"text-align: right;\">\n",
       "      <th></th>\n",
       "      <th>Name</th>\n",
       "      <th>Type</th>\n",
       "      <th>Region</th>\n",
       "      <th>District</th>\n",
       "      <th>Community</th>\n",
       "      <th>Latitude</th>\n",
       "      <th>Longitude</th>\n",
       "      <th>StreetAddress</th>\n",
       "      <th>Comments</th>\n",
       "    </tr>\n",
       "  </thead>\n",
       "  <tbody>\n",
       "    <tr>\n",
       "      <th>1</th>\n",
       "      <td>Ashanti Regional Laboratory</td>\n",
       "      <td>regional</td>\n",
       "      <td>Ashanti</td>\n",
       "      <td>Kumasi Metropolitan Assembly</td>\n",
       "      <td>Kumasi</td>\n",
       "      <td>6.583405</td>\n",
       "      <td>-1.619360</td>\n",
       "      <td>Dadiesoaba street, Kumasi, Ghana</td>\n",
       "      <td>BY 2024</td>\n",
       "    </tr>\n",
       "    <tr>\n",
       "      <th>2</th>\n",
       "      <td>Western Regional Laboratory</td>\n",
       "      <td>regional</td>\n",
       "      <td>Western</td>\n",
       "      <td>Sekondi - Takoradi Metropolitan Assembly</td>\n",
       "      <td>Takoradi</td>\n",
       "      <td>4.906113</td>\n",
       "      <td>-1.767554</td>\n",
       "      <td>NaN</td>\n",
       "      <td>Location assigned from approximate center of T...</td>\n",
       "    </tr>\n",
       "    <tr>\n",
       "      <th>3</th>\n",
       "      <td>Central Regional Laboratory</td>\n",
       "      <td>regional</td>\n",
       "      <td>Central</td>\n",
       "      <td>Cape Coast Metropolitan</td>\n",
       "      <td>Cape Coast</td>\n",
       "      <td>5.124964</td>\n",
       "      <td>-1.269743</td>\n",
       "      <td>NaN</td>\n",
       "      <td>Location assigned from approximate center of C...</td>\n",
       "    </tr>\n",
       "    <tr>\n",
       "      <th>4</th>\n",
       "      <td>Eastern Regional Laboratories</td>\n",
       "      <td>regional</td>\n",
       "      <td>Eastern</td>\n",
       "      <td>New Juaben Municipal</td>\n",
       "      <td>Koforidua</td>\n",
       "      <td>6.108099</td>\n",
       "      <td>-0.283530</td>\n",
       "      <td>Nankese- Koforidua Rd</td>\n",
       "      <td>BY 2024-06</td>\n",
       "    </tr>\n",
       "    <tr>\n",
       "      <th>5</th>\n",
       "      <td>Northern Regional Laboratory</td>\n",
       "      <td>regional</td>\n",
       "      <td>Northern</td>\n",
       "      <td>Tamale Metropolitan</td>\n",
       "      <td>Tamale</td>\n",
       "      <td>9.417267</td>\n",
       "      <td>-0.849710</td>\n",
       "      <td>C48X+RWC, Education Ridge Rd, Tamale, Ghana</td>\n",
       "      <td>Location and address via Google Maps search (m...</td>\n",
       "    </tr>\n",
       "    <tr>\n",
       "      <th>6</th>\n",
       "      <td>Volta Regional Laboratory</td>\n",
       "      <td>regional</td>\n",
       "      <td>Volta</td>\n",
       "      <td>Ho Municipal</td>\n",
       "      <td>Ho</td>\n",
       "      <td>6.610102</td>\n",
       "      <td>-0.460243</td>\n",
       "      <td>Woezor Hotel road</td>\n",
       "      <td>BY 2024-06</td>\n",
       "    </tr>\n",
       "    <tr>\n",
       "      <th>7</th>\n",
       "      <td>Brong Ahafo Regional Laboratory</td>\n",
       "      <td>regional</td>\n",
       "      <td>Bono</td>\n",
       "      <td>Sunyani Municipal</td>\n",
       "      <td>Sunyani</td>\n",
       "      <td>7.332161</td>\n",
       "      <td>-2.330540</td>\n",
       "      <td>Anglican, Sunyani , Ghana</td>\n",
       "      <td>BY 2024-06</td>\n",
       "    </tr>\n",
       "    <tr>\n",
       "      <th>8</th>\n",
       "      <td>Upper East Regional Laboratory</td>\n",
       "      <td>regional</td>\n",
       "      <td>Upper East</td>\n",
       "      <td>Bolgatanga Municipal</td>\n",
       "      <td>Bolgatanga</td>\n",
       "      <td>10.793384</td>\n",
       "      <td>-0.856519</td>\n",
       "      <td>NaN</td>\n",
       "      <td>Location assigned from approximate center of B...</td>\n",
       "    </tr>\n",
       "    <tr>\n",
       "      <th>9</th>\n",
       "      <td>Upper West Regional Laboratory</td>\n",
       "      <td>regional</td>\n",
       "      <td>Upper West</td>\n",
       "      <td>Wa Municipal</td>\n",
       "      <td>Wa</td>\n",
       "      <td>10.059880</td>\n",
       "      <td>-2.511347</td>\n",
       "      <td>NaN</td>\n",
       "      <td>Location assigned from approximate center of W...</td>\n",
       "    </tr>\n",
       "  </tbody>\n",
       "</table>\n",
       "</div>"
      ],
      "text/plain": [
       "                              Name      Type      Region  \\\n",
       "1      Ashanti Regional Laboratory  regional     Ashanti   \n",
       "2      Western Regional Laboratory  regional     Western   \n",
       "3      Central Regional Laboratory  regional     Central   \n",
       "4    Eastern Regional Laboratories  regional     Eastern   \n",
       "5     Northern Regional Laboratory  regional    Northern   \n",
       "6        Volta Regional Laboratory  regional       Volta   \n",
       "7  Brong Ahafo Regional Laboratory  regional        Bono   \n",
       "8   Upper East Regional Laboratory  regional  Upper East   \n",
       "9   Upper West Regional Laboratory  regional  Upper West   \n",
       "\n",
       "                                   District   Community   Latitude  Longitude  \\\n",
       "1              Kumasi Metropolitan Assembly      Kumasi   6.583405  -1.619360   \n",
       "2  Sekondi - Takoradi Metropolitan Assembly    Takoradi   4.906113  -1.767554   \n",
       "3                   Cape Coast Metropolitan  Cape Coast   5.124964  -1.269743   \n",
       "4                      New Juaben Municipal   Koforidua   6.108099  -0.283530   \n",
       "5                       Tamale Metropolitan      Tamale   9.417267  -0.849710   \n",
       "6                              Ho Municipal          Ho   6.610102  -0.460243   \n",
       "7                         Sunyani Municipal     Sunyani   7.332161  -2.330540   \n",
       "8                      Bolgatanga Municipal  Bolgatanga  10.793384  -0.856519   \n",
       "9                              Wa Municipal          Wa  10.059880  -2.511347   \n",
       "\n",
       "                                 StreetAddress  \\\n",
       "1             Dadiesoaba street, Kumasi, Ghana   \n",
       "2                                          NaN   \n",
       "3                                          NaN   \n",
       "4                        Nankese- Koforidua Rd   \n",
       "5  C48X+RWC, Education Ridge Rd, Tamale, Ghana   \n",
       "6                            Woezor Hotel road   \n",
       "7                    Anglican, Sunyani , Ghana   \n",
       "8                                          NaN   \n",
       "9                                          NaN   \n",
       "\n",
       "                                            Comments  \n",
       "1                                            BY 2024  \n",
       "2  Location assigned from approximate center of T...  \n",
       "3  Location assigned from approximate center of C...  \n",
       "4                                         BY 2024-06  \n",
       "5  Location and address via Google Maps search (m...  \n",
       "6                                         BY 2024-06  \n",
       "7                                         BY 2024-06  \n",
       "8  Location assigned from approximate center of B...  \n",
       "9  Location assigned from approximate center of W...  "
      ]
     },
     "execution_count": 6,
     "metadata": {},
     "output_type": "execute_result"
    }
   ],
   "source": [
    "labs_df"
   ]
  },
  {
   "cell_type": "code",
   "execution_count": 7,
   "id": "c8464c44-dac8-4734-8e28-0014f6cd692a",
   "metadata": {},
   "outputs": [
    {
     "data": {
      "text/plain": [
       "(1039, 19)"
      ]
     },
     "execution_count": 7,
     "metadata": {},
     "output_type": "execute_result"
    }
   ],
   "source": [
    "comms_df = pd.read_excel(comms_file)\n",
    "comms_df.shape"
   ]
  },
  {
   "cell_type": "code",
   "execution_count": 8,
   "id": "1691c621-e0c8-4808-af00-6545dcac25c1",
   "metadata": {},
   "outputs": [
    {
     "data": {
      "text/plain": [
       "(1416, 16)"
      ]
     },
     "execution_count": 8,
     "metadata": {},
     "output_type": "execute_result"
    }
   ],
   "source": [
    "pp_df = pd.read_excel(pp_file)\n",
    "pp_df.shape"
   ]
  },
  {
   "cell_type": "code",
   "execution_count": 11,
   "id": "823332c3-42d0-4b9d-86ad-9e76a8302746",
   "metadata": {},
   "outputs": [
    {
     "data": {
      "text/html": [
       "<div>\n",
       "<style scoped>\n",
       "    .dataframe tbody tr th:only-of-type {\n",
       "        vertical-align: middle;\n",
       "    }\n",
       "\n",
       "    .dataframe tbody tr th {\n",
       "        vertical-align: top;\n",
       "    }\n",
       "\n",
       "    .dataframe thead th {\n",
       "        text-align: right;\n",
       "    }\n",
       "</style>\n",
       "<table border=\"1\" class=\"dataframe\">\n",
       "  <thead>\n",
       "    <tr style=\"text-align: right;\">\n",
       "      <th></th>\n",
       "      <th>OBJECTID</th>\n",
       "      <th>country</th>\n",
       "      <th>iso</th>\n",
       "      <th>type</th>\n",
       "      <th>population</th>\n",
       "      <th>pop_un_adj</th>\n",
       "      <th>adm0_pcode</th>\n",
       "      <th>adm1_name</th>\n",
       "      <th>adm1_pcode</th>\n",
       "      <th>adm2_name</th>\n",
       "      <th>adm2_pcode</th>\n",
       "      <th>settl_pcode</th>\n",
       "      <th>Shape__Area</th>\n",
       "      <th>Shape__Length</th>\n",
       "      <th>approx_center_lat</th>\n",
       "      <th>approx_center_lon</th>\n",
       "      <th>Communities</th>\n",
       "      <th>NumCommunities</th>\n",
       "      <th>CommunityName</th>\n",
       "    </tr>\n",
       "  </thead>\n",
       "  <tbody>\n",
       "    <tr>\n",
       "      <th>0</th>\n",
       "      <td>47262</td>\n",
       "      <td>Ghana</td>\n",
       "      <td>GHA</td>\n",
       "      <td>Small Settlement Area</td>\n",
       "      <td>1741.494917</td>\n",
       "      <td>1637.835636</td>\n",
       "      <td>GH</td>\n",
       "      <td>Ashanti</td>\n",
       "      <td>GH02</td>\n",
       "      <td>Adansi Akrofuom</td>\n",
       "      <td>GH0201</td>\n",
       "      <td>GH0201000022</td>\n",
       "      <td>0.000045</td>\n",
       "      <td>0.031784</td>\n",
       "      <td>6.055197</td>\n",
       "      <td>-1.733869</td>\n",
       "      <td>[{'community': 'Amponyase', 'source': 'HOT-OSM...</td>\n",
       "      <td>1</td>\n",
       "      <td>Amponyase</td>\n",
       "    </tr>\n",
       "  </tbody>\n",
       "</table>\n",
       "</div>"
      ],
      "text/plain": [
       "   OBJECTID country  iso                   type   population   pop_un_adj  \\\n",
       "0     47262   Ghana  GHA  Small Settlement Area  1741.494917  1637.835636   \n",
       "\n",
       "  adm0_pcode adm1_name adm1_pcode        adm2_name adm2_pcode   settl_pcode  \\\n",
       "0         GH   Ashanti       GH02  Adansi Akrofuom     GH0201  GH0201000022   \n",
       "\n",
       "   Shape__Area  Shape__Length  approx_center_lat  approx_center_lon  \\\n",
       "0     0.000045       0.031784           6.055197          -1.733869   \n",
       "\n",
       "                                         Communities  NumCommunities  \\\n",
       "0  [{'community': 'Amponyase', 'source': 'HOT-OSM...               1   \n",
       "\n",
       "  CommunityName  \n",
       "0     Amponyase  "
      ]
     },
     "execution_count": 11,
     "metadata": {},
     "output_type": "execute_result"
    }
   ],
   "source": [
    "comms_df.head(1)"
   ]
  },
  {
   "cell_type": "code",
   "execution_count": 12,
   "id": "3d893d1d-fd81-4139-b4b4-c182004d3aae",
   "metadata": {},
   "outputs": [
    {
     "data": {
      "text/html": [
       "<div>\n",
       "<style scoped>\n",
       "    .dataframe tbody tr th:only-of-type {\n",
       "        vertical-align: middle;\n",
       "    }\n",
       "\n",
       "    .dataframe tbody tr th {\n",
       "        vertical-align: top;\n",
       "    }\n",
       "\n",
       "    .dataframe thead th {\n",
       "        text-align: right;\n",
       "    }\n",
       "</style>\n",
       "<table border=\"1\" class=\"dataframe\">\n",
       "  <thead>\n",
       "    <tr style=\"text-align: right;\">\n",
       "      <th></th>\n",
       "      <th>country</th>\n",
       "      <th>adm1_name</th>\n",
       "      <th>adm1_pcode</th>\n",
       "      <th>adm2_name</th>\n",
       "      <th>adm2_pcode</th>\n",
       "      <th>community</th>\n",
       "      <th>latitude</th>\n",
       "      <th>longitude</th>\n",
       "      <th>settlement_type</th>\n",
       "      <th>pop_un_adj</th>\n",
       "      <th>mgrs_code</th>\n",
       "      <th>settl_pcode</th>\n",
       "      <th>assignment_method</th>\n",
       "      <th>source</th>\n",
       "      <th>source_id</th>\n",
       "      <th>source_id_field</th>\n",
       "    </tr>\n",
       "  </thead>\n",
       "  <tbody>\n",
       "    <tr>\n",
       "      <th>0</th>\n",
       "      <td>Ghana</td>\n",
       "      <td>Ashanti</td>\n",
       "      <td>GH02</td>\n",
       "      <td>Adansi Akrofuom</td>\n",
       "      <td>GH0201</td>\n",
       "      <td>Amponyase</td>\n",
       "      <td>6.054044</td>\n",
       "      <td>-1.732255</td>\n",
       "      <td>Small Settlement Area</td>\n",
       "      <td>1637.835636</td>\n",
       "      <td>30NXM4069_02</td>\n",
       "      <td>GH0201000022</td>\n",
       "      <td>contains</td>\n",
       "      <td>HOT-OSM</td>\n",
       "      <td>2160830377</td>\n",
       "      <td>osm_id</td>\n",
       "    </tr>\n",
       "  </tbody>\n",
       "</table>\n",
       "</div>"
      ],
      "text/plain": [
       "  country adm1_name adm1_pcode        adm2_name adm2_pcode  community  \\\n",
       "0   Ghana   Ashanti       GH02  Adansi Akrofuom     GH0201  Amponyase   \n",
       "\n",
       "   latitude  longitude        settlement_type   pop_un_adj     mgrs_code  \\\n",
       "0  6.054044  -1.732255  Small Settlement Area  1637.835636  30NXM4069_02   \n",
       "\n",
       "    settl_pcode assignment_method   source   source_id source_id_field  \n",
       "0  GH0201000022          contains  HOT-OSM  2160830377          osm_id  "
      ]
     },
     "execution_count": 12,
     "metadata": {},
     "output_type": "execute_result"
    }
   ],
   "source": [
    "pp_df.head(1)"
   ]
  },
  {
   "cell_type": "markdown",
   "id": "be1e26d7-f4f1-4682-ab20-86dc42293f4e",
   "metadata": {
    "jupyter": {
     "source_hidden": true
    }
   },
   "source": [
    "## Compute Nearest Labs - Settled Areas"
   ]
  },
  {
   "cell_type": "code",
   "execution_count": 15,
   "id": "3256cec0-0423-414d-b923-ab0f9252ae68",
   "metadata": {},
   "outputs": [
    {
     "data": {
      "application/vnd.jupyter.widget-view+json": {
       "model_id": "16d3d5ab67f048fda53caf63dc2d34de",
       "version_major": 2,
       "version_minor": 0
      },
      "text/plain": [
       "0it [00:00, ?it/s]"
      ]
     },
     "metadata": {},
     "output_type": "display_data"
    }
   ],
   "source": [
    "for c in tqdm(comms_df.itertuples()):\n",
    "    min_dist_lab = None\n",
    "    min_dist = 9999.0\n",
    "    for l in labs_df.itertuples():\n",
    "        d = distance((c.approx_center_lat, c.approx_center_lon), (l.Latitude, l.Longitude))\n",
    "        #print(f\"{c.UN_CommunityName} {c.approx_center_lat}, {c.approx_center_lon}\\t{l.Name}\\t{d}\")\n",
    "        if d < min_dist:\n",
    "            min_dist = d\n",
    "            min_dist_lab = l\n",
    "    if min_dist_lab is None:\n",
    "        print(f\"No min dist for <{c}>!\")\n",
    "    else:\n",
    "        comms_df.at[c.Index, \"NearestRegionalLab\"] = min_dist_lab.Name\n",
    "        comms_df.at[c.Index, \"NearestRegionalLab_DistanceKM\"] = min_dist.km"
   ]
  },
  {
   "cell_type": "code",
   "execution_count": 16,
   "id": "12cfe164-b976-4362-b386-f9be20c5c9d4",
   "metadata": {},
   "outputs": [
    {
     "data": {
      "text/html": [
       "<div>\n",
       "<style scoped>\n",
       "    .dataframe tbody tr th:only-of-type {\n",
       "        vertical-align: middle;\n",
       "    }\n",
       "\n",
       "    .dataframe tbody tr th {\n",
       "        vertical-align: top;\n",
       "    }\n",
       "\n",
       "    .dataframe thead th {\n",
       "        text-align: right;\n",
       "    }\n",
       "</style>\n",
       "<table border=\"1\" class=\"dataframe\">\n",
       "  <thead>\n",
       "    <tr style=\"text-align: right;\">\n",
       "      <th></th>\n",
       "      <th>OBJECTID</th>\n",
       "      <th>country</th>\n",
       "      <th>iso</th>\n",
       "      <th>type</th>\n",
       "      <th>population</th>\n",
       "      <th>pop_un_adj</th>\n",
       "      <th>adm0_pcode</th>\n",
       "      <th>adm1_name</th>\n",
       "      <th>adm1_pcode</th>\n",
       "      <th>adm2_name</th>\n",
       "      <th>...</th>\n",
       "      <th>settl_pcode</th>\n",
       "      <th>Shape__Area</th>\n",
       "      <th>Shape__Length</th>\n",
       "      <th>approx_center_lat</th>\n",
       "      <th>approx_center_lon</th>\n",
       "      <th>Communities</th>\n",
       "      <th>NumCommunities</th>\n",
       "      <th>CommunityName</th>\n",
       "      <th>NearestRegionalLab</th>\n",
       "      <th>NearestRegionalLab_DistanceKM</th>\n",
       "    </tr>\n",
       "  </thead>\n",
       "  <tbody>\n",
       "    <tr>\n",
       "      <th>0</th>\n",
       "      <td>47262</td>\n",
       "      <td>Ghana</td>\n",
       "      <td>GHA</td>\n",
       "      <td>Small Settlement Area</td>\n",
       "      <td>1741.494917</td>\n",
       "      <td>1637.835636</td>\n",
       "      <td>GH</td>\n",
       "      <td>Ashanti</td>\n",
       "      <td>GH02</td>\n",
       "      <td>Adansi Akrofuom</td>\n",
       "      <td>...</td>\n",
       "      <td>GH0201000022</td>\n",
       "      <td>0.000045</td>\n",
       "      <td>0.031784</td>\n",
       "      <td>6.055197</td>\n",
       "      <td>-1.733869</td>\n",
       "      <td>[{'community': 'Amponyase', 'source': 'HOT-OSM...</td>\n",
       "      <td>1</td>\n",
       "      <td>Amponyase</td>\n",
       "      <td>Ashanti Regional Laboratory</td>\n",
       "      <td>59.771657</td>\n",
       "    </tr>\n",
       "    <tr>\n",
       "      <th>1</th>\n",
       "      <td>47264</td>\n",
       "      <td>Ghana</td>\n",
       "      <td>GHA</td>\n",
       "      <td>Small Settlement Area</td>\n",
       "      <td>1139.194799</td>\n",
       "      <td>1071.386330</td>\n",
       "      <td>GH</td>\n",
       "      <td>Ashanti</td>\n",
       "      <td>GH02</td>\n",
       "      <td>Adansi Akrofuom</td>\n",
       "      <td>...</td>\n",
       "      <td>GH0201000024</td>\n",
       "      <td>0.000030</td>\n",
       "      <td>0.026961</td>\n",
       "      <td>6.060373</td>\n",
       "      <td>-1.616806</td>\n",
       "      <td>[{'community': 'Mensonso No.1', 'source': 'HOT...</td>\n",
       "      <td>1</td>\n",
       "      <td>Mensonso No.1</td>\n",
       "      <td>Ashanti Regional Laboratory</td>\n",
       "      <td>57.841675</td>\n",
       "    </tr>\n",
       "  </tbody>\n",
       "</table>\n",
       "<p>2 rows × 21 columns</p>\n",
       "</div>"
      ],
      "text/plain": [
       "   OBJECTID country  iso                   type   population   pop_un_adj  \\\n",
       "0     47262   Ghana  GHA  Small Settlement Area  1741.494917  1637.835636   \n",
       "1     47264   Ghana  GHA  Small Settlement Area  1139.194799  1071.386330   \n",
       "\n",
       "  adm0_pcode adm1_name adm1_pcode        adm2_name  ...   settl_pcode  \\\n",
       "0         GH   Ashanti       GH02  Adansi Akrofuom  ...  GH0201000022   \n",
       "1         GH   Ashanti       GH02  Adansi Akrofuom  ...  GH0201000024   \n",
       "\n",
       "  Shape__Area  Shape__Length  approx_center_lat  approx_center_lon  \\\n",
       "0    0.000045       0.031784           6.055197          -1.733869   \n",
       "1    0.000030       0.026961           6.060373          -1.616806   \n",
       "\n",
       "                                         Communities NumCommunities  \\\n",
       "0  [{'community': 'Amponyase', 'source': 'HOT-OSM...              1   \n",
       "1  [{'community': 'Mensonso No.1', 'source': 'HOT...              1   \n",
       "\n",
       "   CommunityName           NearestRegionalLab NearestRegionalLab_DistanceKM  \n",
       "0      Amponyase  Ashanti Regional Laboratory                     59.771657  \n",
       "1  Mensonso No.1  Ashanti Regional Laboratory                     57.841675  \n",
       "\n",
       "[2 rows x 21 columns]"
      ]
     },
     "execution_count": 16,
     "metadata": {},
     "output_type": "execute_result"
    }
   ],
   "source": [
    "comms_df.head(2)"
   ]
  },
  {
   "cell_type": "markdown",
   "id": "fe181897-2eb1-4a76-9562-ddf4f6bce1d3",
   "metadata": {},
   "source": [
    "## Compute Nearest Labs - Populated Places (Actual Communities)"
   ]
  },
  {
   "cell_type": "code",
   "execution_count": 17,
   "id": "c4d59af4-9903-4bc0-b6c6-cb878c2f1d55",
   "metadata": {},
   "outputs": [
    {
     "data": {
      "application/vnd.jupyter.widget-view+json": {
       "model_id": "136a7467f3024e0a9635b4a46771099a",
       "version_major": 2,
       "version_minor": 0
      },
      "text/plain": [
       "0it [00:00, ?it/s]"
      ]
     },
     "metadata": {},
     "output_type": "display_data"
    }
   ],
   "source": [
    "for c in tqdm(pp_df.itertuples()):\n",
    "    min_dist_lab = None\n",
    "    min_dist = 9999.0\n",
    "    for l in labs_df.itertuples():\n",
    "        d = distance((c.latitude, c.longitude), (l.Latitude, l.Longitude))\n",
    "        #print(f\"{c.UN_CommunityName} {c.approx_center_lat}, {c.approx_center_lon}\\t{l.Name}\\t{d}\")\n",
    "        if d < min_dist:\n",
    "            min_dist = d\n",
    "            min_dist_lab = l\n",
    "    if min_dist_lab is None:\n",
    "        print(f\"No min dist for <{c}>!\")\n",
    "    else:\n",
    "        pp_df.at[c.Index, \"NearestRegionalLab\"] = min_dist_lab.Name\n",
    "        pp_df.at[c.Index, \"NearestRegionalLab_DistanceKM\"] = min_dist.km"
   ]
  },
  {
   "cell_type": "code",
   "execution_count": 18,
   "id": "29cdcaba-c057-43d8-8abd-e840ca435aed",
   "metadata": {},
   "outputs": [
    {
     "data": {
      "text/html": [
       "<div>\n",
       "<style scoped>\n",
       "    .dataframe tbody tr th:only-of-type {\n",
       "        vertical-align: middle;\n",
       "    }\n",
       "\n",
       "    .dataframe tbody tr th {\n",
       "        vertical-align: top;\n",
       "    }\n",
       "\n",
       "    .dataframe thead th {\n",
       "        text-align: right;\n",
       "    }\n",
       "</style>\n",
       "<table border=\"1\" class=\"dataframe\">\n",
       "  <thead>\n",
       "    <tr style=\"text-align: right;\">\n",
       "      <th></th>\n",
       "      <th>country</th>\n",
       "      <th>adm1_name</th>\n",
       "      <th>adm1_pcode</th>\n",
       "      <th>adm2_name</th>\n",
       "      <th>adm2_pcode</th>\n",
       "      <th>community</th>\n",
       "      <th>latitude</th>\n",
       "      <th>longitude</th>\n",
       "      <th>settlement_type</th>\n",
       "      <th>pop_un_adj</th>\n",
       "      <th>mgrs_code</th>\n",
       "      <th>settl_pcode</th>\n",
       "      <th>assignment_method</th>\n",
       "      <th>source</th>\n",
       "      <th>source_id</th>\n",
       "      <th>source_id_field</th>\n",
       "      <th>NearestRegionalLab</th>\n",
       "      <th>NearestRegionalLab_DistanceKM</th>\n",
       "    </tr>\n",
       "  </thead>\n",
       "  <tbody>\n",
       "    <tr>\n",
       "      <th>0</th>\n",
       "      <td>Ghana</td>\n",
       "      <td>Ashanti</td>\n",
       "      <td>GH02</td>\n",
       "      <td>Adansi Akrofuom</td>\n",
       "      <td>GH0201</td>\n",
       "      <td>Amponyase</td>\n",
       "      <td>6.054044</td>\n",
       "      <td>-1.732255</td>\n",
       "      <td>Small Settlement Area</td>\n",
       "      <td>1637.835636</td>\n",
       "      <td>30NXM4069_02</td>\n",
       "      <td>GH0201000022</td>\n",
       "      <td>contains</td>\n",
       "      <td>HOT-OSM</td>\n",
       "      <td>2160830377</td>\n",
       "      <td>osm_id</td>\n",
       "      <td>Ashanti Regional Laboratory</td>\n",
       "      <td>59.858685</td>\n",
       "    </tr>\n",
       "    <tr>\n",
       "      <th>1</th>\n",
       "      <td>Ghana</td>\n",
       "      <td>Ashanti</td>\n",
       "      <td>GH02</td>\n",
       "      <td>Adansi Akrofuom</td>\n",
       "      <td>GH0201</td>\n",
       "      <td>Mensonso No.1</td>\n",
       "      <td>6.041287</td>\n",
       "      <td>-1.589705</td>\n",
       "      <td>Small Settlement Area</td>\n",
       "      <td>1071.386330</td>\n",
       "      <td>30NXM5370_02</td>\n",
       "      <td>GH0201000024</td>\n",
       "      <td>nearest</td>\n",
       "      <td>HOT-OSM</td>\n",
       "      <td>11486141258</td>\n",
       "      <td>osm_id</td>\n",
       "      <td>Ashanti Regional Laboratory</td>\n",
       "      <td>60.041359</td>\n",
       "    </tr>\n",
       "  </tbody>\n",
       "</table>\n",
       "</div>"
      ],
      "text/plain": [
       "  country adm1_name adm1_pcode        adm2_name adm2_pcode      community  \\\n",
       "0   Ghana   Ashanti       GH02  Adansi Akrofuom     GH0201      Amponyase   \n",
       "1   Ghana   Ashanti       GH02  Adansi Akrofuom     GH0201  Mensonso No.1   \n",
       "\n",
       "   latitude  longitude        settlement_type   pop_un_adj     mgrs_code  \\\n",
       "0  6.054044  -1.732255  Small Settlement Area  1637.835636  30NXM4069_02   \n",
       "1  6.041287  -1.589705  Small Settlement Area  1071.386330  30NXM5370_02   \n",
       "\n",
       "    settl_pcode assignment_method   source    source_id source_id_field  \\\n",
       "0  GH0201000022          contains  HOT-OSM   2160830377          osm_id   \n",
       "1  GH0201000024           nearest  HOT-OSM  11486141258          osm_id   \n",
       "\n",
       "            NearestRegionalLab  NearestRegionalLab_DistanceKM  \n",
       "0  Ashanti Regional Laboratory                      59.858685  \n",
       "1  Ashanti Regional Laboratory                      60.041359  "
      ]
     },
     "execution_count": 18,
     "metadata": {},
     "output_type": "execute_result"
    }
   ],
   "source": [
    "pp_df.head(2)"
   ]
  },
  {
   "cell_type": "markdown",
   "id": "d17eedff-23f2-46cf-b576-57c24764768d",
   "metadata": {},
   "source": [
    "## Explore"
   ]
  },
  {
   "cell_type": "code",
   "execution_count": 22,
   "id": "a1e48d01-5419-4e25-bce8-e8dedce6ccec",
   "metadata": {},
   "outputs": [
    {
     "data": {
      "text/plain": [
       "NearestRegionalLab\n",
       "Ashanti Regional Laboratory        322\n",
       "Eastern Regional Laboratories      274\n",
       "Volta Regional Laboratory          260\n",
       "Brong Ahafo Regional Laboratory    177\n",
       "Central Regional Laboratory          6\n",
       "Name: count, dtype: int64"
      ]
     },
     "execution_count": 22,
     "metadata": {},
     "output_type": "execute_result"
    }
   ],
   "source": [
    "comms_df[\"NearestRegionalLab\"].value_counts()"
   ]
  },
  {
   "cell_type": "code",
   "execution_count": 23,
   "id": "7776548d-ec3d-483b-aa36-f5cdbdc2babd",
   "metadata": {},
   "outputs": [
    {
     "data": {
      "text/plain": [
       "NearestRegionalLab\n",
       "Eastern Regional Laboratories      438\n",
       "Ashanti Regional Laboratory        436\n",
       "Volta Regional Laboratory          323\n",
       "Brong Ahafo Regional Laboratory    213\n",
       "Central Regional Laboratory          6\n",
       "Name: count, dtype: int64"
      ]
     },
     "execution_count": 23,
     "metadata": {},
     "output_type": "execute_result"
    }
   ],
   "source": [
    "pp_df[\"NearestRegionalLab\"].value_counts()"
   ]
  },
  {
   "cell_type": "code",
   "execution_count": 24,
   "id": "7e6a9224-a968-4689-8734-e94b41d1d852",
   "metadata": {},
   "outputs": [
    {
     "data": {
      "text/plain": [
       "<Axes: >"
      ]
     },
     "execution_count": 24,
     "metadata": {},
     "output_type": "execute_result"
    },
    {
     "data": {
      "image/png": "[encoded data removed]",
      "text/plain": [
       "<Figure size 640x480 with 1 Axes>"
      ]
     },
     "metadata": {},
     "output_type": "display_data"
    }
   ],
   "source": [
    "comms_df[\"NearestRegionalLab_DistanceKM\"].hist()"
   ]
  },
  {
   "cell_type": "code",
   "execution_count": 57,
   "id": "1a0f683c-884d-4908-b04f-a3dc8a4ec168",
   "metadata": {},
   "outputs": [
    {
     "data": {
      "text/plain": [
       "<Axes: xlabel='NearestRegionalLab_DistanceKM', ylabel='Percent'>"
      ]
     },
     "execution_count": 57,
     "metadata": {},
     "output_type": "execute_result"
    },
    {
     "data": {
      "image/png": "[encoded data removed]",
      "text/plain": [
       "<Figure size 640x480 with 1 Axes>"
      ]
     },
     "metadata": {},
     "output_type": "display_data"
    }
   ],
   "source": [
    "sns.set_style(\"darkgrid\")\n",
    "sns.histplot(data=pp_df, x=\"NearestRegionalLab_DistanceKM\", stat=\"percent\")"
   ]
  },
  {
   "cell_type": "markdown",
   "id": "fb3e9c6d-2c8e-47ba-ac31-cad6f71cddc8",
   "metadata": {},
   "source": [
    "## Distance Stats"
   ]
  },
  {
   "cell_type": "code",
   "execution_count": 26,
   "id": "c16894de-aa1a-499a-9634-f4036047861c",
   "metadata": {},
   "outputs": [],
   "source": [
    "limits = [30, 60, 120, 180, 999999]"
   ]
  },
  {
   "cell_type": "code",
   "execution_count": 28,
   "id": "666c4300-d414-4edb-a787-8acdc3ab39b9",
   "metadata": {},
   "outputs": [
    {
     "name": "stdout",
     "output_type": "stream",
     "text": [
      "Ahafo\n",
      "< 30km: 9 / 41 (21.95%)\n",
      "< 60km: 26 / 41 (63.41%)\n",
      "< 120km: 41 / 41 (100.00%)\n",
      "< 180km: 41 / 41 (100.00%)\n",
      "< 999999km: 41 / 41 (100.00%)\n",
      "Ashanti\n",
      "< 30km: 87 / 322 (27.02%)\n",
      "< 60km: 279 / 322 (86.65%)\n",
      "< 120km: 322 / 322 (100.00%)\n",
      "< 180km: 322 / 322 (100.00%)\n",
      "< 999999km: 322 / 322 (100.00%)\n",
      "Bono\n",
      "< 30km: 9 / 119 (7.56%)\n",
      "< 60km: 60 / 119 (50.42%)\n",
      "< 120km: 119 / 119 (100.00%)\n",
      "< 180km: 119 / 119 (100.00%)\n",
      "< 999999km: 119 / 119 (100.00%)\n",
      "Eastern\n",
      "< 30km: 91 / 332 (27.41%)\n",
      "< 60km: 232 / 332 (69.88%)\n",
      "< 120km: 332 / 332 (100.00%)\n",
      "< 180km: 332 / 332 (100.00%)\n",
      "< 999999km: 332 / 332 (100.00%)\n",
      "Volta\n",
      "< 30km: 0 / 225 (0.00%)\n",
      "< 60km: 2 / 225 (0.89%)\n",
      "< 120km: 157 / 225 (69.78%)\n",
      "< 180km: 225 / 225 (100.00%)\n",
      "< 999999km: 225 / 225 (100.00%)\n"
     ]
    }
   ],
   "source": [
    "for reg, reg_df in comms_df.groupby(\"adm1_name\"):\n",
    "    \n",
    "    print(f\"{reg}\")\n",
    "    total = reg_df.shape[0]\n",
    "    for dl in limits:\n",
    "        num_within = (reg_df[\"NearestRegionalLab_DistanceKM\"] < dl).sum()\n",
    "        print(f\"< {dl}km: {num_within} / {total} ({100*num_within/total:0.2f}%)\")"
   ]
  },
  {
   "cell_type": "code",
   "execution_count": 29,
   "id": "222d2f15-acd0-4fa6-a95c-bcf120011669",
   "metadata": {},
   "outputs": [
    {
     "name": "stdout",
     "output_type": "stream",
     "text": [
      "Ahafo\n",
      "< 30km: 11 / 45 (24.44%)\n",
      "< 60km: 29 / 45 (64.44%)\n",
      "< 120km: 45 / 45 (100.00%)\n",
      "< 180km: 45 / 45 (100.00%)\n",
      "< 999999km: 45 / 45 (100.00%)\n",
      "Ashanti\n",
      "< 30km: 116 / 432 (26.85%)\n",
      "< 60km: 379 / 432 (87.73%)\n",
      "< 120km: 432 / 432 (100.00%)\n",
      "< 180km: 432 / 432 (100.00%)\n",
      "< 999999km: 432 / 432 (100.00%)\n",
      "Bono\n",
      "< 30km: 19 / 148 (12.84%)\n",
      "< 60km: 81 / 148 (54.73%)\n",
      "< 120km: 148 / 148 (100.00%)\n",
      "< 180km: 148 / 148 (100.00%)\n",
      "< 999999km: 148 / 148 (100.00%)\n",
      "Eastern\n",
      "< 30km: 160 / 512 (31.25%)\n",
      "< 60km: 393 / 512 (76.76%)\n",
      "< 120km: 512 / 512 (100.00%)\n",
      "< 180km: 512 / 512 (100.00%)\n",
      "< 999999km: 512 / 512 (100.00%)\n",
      "Volta\n",
      "< 30km: 0 / 279 (0.00%)\n",
      "< 60km: 2 / 279 (0.72%)\n",
      "< 120km: 187 / 279 (67.03%)\n",
      "< 180km: 279 / 279 (100.00%)\n",
      "< 999999km: 279 / 279 (100.00%)\n"
     ]
    }
   ],
   "source": [
    "for reg, reg_df in pp_df.groupby(\"adm1_name\"):\n",
    "    \n",
    "    print(f\"{reg}\")\n",
    "    total = reg_df.shape[0]\n",
    "    for dl in limits:\n",
    "        num_within = (reg_df[\"NearestRegionalLab_DistanceKM\"] < dl).sum()\n",
    "        print(f\"< {dl}km: {num_within} / {total} ({100*num_within/total:0.2f}%)\")"
   ]
  },
  {
   "cell_type": "code",
   "execution_count": 30,
   "id": "cee1c574-2075-4ca0-a70f-ae19cfd07e12",
   "metadata": {},
   "outputs": [
    {
     "data": {
      "text/plain": [
       "(1416, 18)"
      ]
     },
     "execution_count": 30,
     "metadata": {},
     "output_type": "execute_result"
    }
   ],
   "source": [
    "pp_df.shape"
   ]
  },
  {
   "cell_type": "code",
   "execution_count": null,
   "id": "5a62f0a1-da66-44c5-a91d-89a84ac37117",
   "metadata": {},
   "outputs": [],
   "source": []
  },
  {
   "cell_type": "markdown",
   "id": "d636fbc0-c88a-499d-a653-fba108ec7a61",
   "metadata": {},
   "source": [
    "## Test Mapbox distances (driving / road travel)\n",
    "\n",
    "EG:\n",
    "```python\n",
    "resp = Directions('mapbox.driving').directions([origin, destination])\n",
    "driving_routes = resp.geojson()\n",
    "first_route = driving_routes['features'][0]\n",
    "```"
   ]
  },
  {
   "cell_type": "code",
   "execution_count": 52,
   "id": "7728b3f7-f903-412f-ae0a-b07bf5d8187f",
   "metadata": {},
   "outputs": [],
   "source": [
    "import json\n",
    "import mapbox"
   ]
  },
  {
   "cell_type": "code",
   "execution_count": 35,
   "id": "fb520254-ea0c-4b40-a51e-18035c3f1a74",
   "metadata": {},
   "outputs": [],
   "source": [
    "# The (lon, lat) GEOJSON point features\n",
    "gambia2_ft = (-2.656115, 7.0623)\n",
    "ba_lab_ft = (-2.33054, 7.332161)"
   ]
  },
  {
   "cell_type": "code",
   "execution_count": 43,
   "id": "4906efbc-1ffb-4bb1-9b44-dce713ff6068",
   "metadata": {},
   "outputs": [
    {
     "data": {
      "text/plain": [
       "<mapbox.services.directions.Directions at 0x119dde550>"
      ]
     },
     "execution_count": 43,
     "metadata": {},
     "output_type": "execute_result"
    }
   ],
   "source": [
    "directions_con = mapbox.Directions(access_token=\"pk.eyJ1IjoiZHVuY2FuLWFxdWF5YSIsImEiOiJjbHhiem5oMHMwaDZ2MmtzMzE3MDRtbG10In0.Z3c0_caJZMXjbR0bYw-w2w\")\n",
    "directions_con"
   ]
  },
  {
   "cell_type": "code",
   "execution_count": 46,
   "id": "5c744cbd-ff6d-40e3-bdc2-bdabdf1362b9",
   "metadata": {},
   "outputs": [
    {
     "name": "stderr",
     "output_type": "stream",
     "text": [
      "/Users/datascience/Development/aquaya/py-sandbox/venv/lib/python3.9/site-packages/mapbox/services/directions.py:41: MapboxDeprecationWarning: Converting v4 profile to v5, use mapbox/driving instead\n",
      "  warnings.warn('Converting v4 profile to v5, use {} instead'.format(profile),\n"
     ]
    },
    {
     "data": {
      "text/plain": [
       "<Response [200]>"
      ]
     },
     "execution_count": 46,
     "metadata": {},
     "output_type": "execute_result"
    }
   ],
   "source": [
    "resp = directions_con.directions(features=[gambia2_ft, ba_lab_ft], profile=\"mapbox.driving\")\n",
    "resp"
   ]
  },
  {
   "cell_type": "code",
   "execution_count": 48,
   "id": "a6ef7292-caa8-4fa3-a202-79ccb18fa79a",
   "metadata": {},
   "outputs": [],
   "source": [
    "resp_data = resp.geojson()"
   ]
  },
  {
   "cell_type": "code",
   "execution_count": 62,
   "id": "2d0b2347-3fdd-47f6-b848-65ab64f1dc38",
   "metadata": {},
   "outputs": [
    {
     "data": {
      "text/plain": [
       "{'distance': 97302.219, 'duration': 9363.027}"
      ]
     },
     "execution_count": 62,
     "metadata": {},
     "output_type": "execute_result"
    }
   ],
   "source": [
    "# Distance: meters; Duration: seconds\n",
    "resp_data[\"features\"][0][\"properties\"]"
   ]
  },
  {
   "cell_type": "code",
   "execution_count": 54,
   "id": "f447f0d9-06b3-4f7c-8930-cc9a8c352ff4",
   "metadata": {},
   "outputs": [
    {
     "data": {
      "text/plain": [
       "'{\"type\": \"FeatureCollection\", \"features\": [{\"type\": \"Feature\", \"geometry\": {\"type\": \"LineString\", \"coordinates\": [[-2.65611, 7.06206], [-2.65594, 7.06207], [-2.6554, 7.06249], [-2.65521, 7.06305], [-2.68197, 7.08522], [-2.69859, 7.09372], [-2.71456, 7.09678], [-2.74574, 7.14701], [-2.75765, 7.16015], [-2.76926, 7.16598], [-2.77134, 7.17588], [-2.78348, 7.20096], [-2.78614, 7.22631], [-2.78168, 7.2365], [-2.77402, 7.23969], [-2.77008, 7.24645], [-2.76354, 7.25134], [-2.75879, 7.25825], [-2.75847, 7.26307], [-2.74032, 7.26149], [-2.73085, 7.26518], [-2.71755, 7.2648], [-2.70839, 7.28729], [-2.70065, 7.29468], [-2.69908, 7.30788], [-2.70606, 7.32125], [-2.70558, 7.32547], [-2.67011, 7.35486], [-2.66108, 7.3692], [-2.65802, 7.37869], [-2.65832, 7.39083], [-2.6548, 7.3971], [-2.63069, 7.42317], [-2.60922, 7.43827], [-2.59556, 7.44185], [-2.58409, 7.45042], [-2.57212, 7.43806], [-2.56385, 7.4337], [-2.54821, 7.43808], [-2.51377, 7.43648], [-2.47546, 7.41006], [-2.4691, 7.40337], [-2.44415, 7.40404], [-2.37333, 7.39137], [-2.35061, 7.37283], [-2.34673, 7.3651], [-2.34461, 7.35163], [-2.34227, 7.34514], [-2.32981, 7.33418], [-2.33053, 7.33216]]}, \"properties\": {\"distance\": 97302.219, \"duration\": 9363.027}}]}'"
      ]
     },
     "execution_count": 54,
     "metadata": {},
     "output_type": "execute_result"
    }
   ],
   "source": [
    "json.dumps(resp_data)"
   ]
  },
  {
   "cell_type": "code",
   "execution_count": 55,
   "id": "afa275dc-0f40-48ff-bc84-330404d7a3fb",
   "metadata": {},
   "outputs": [
    {
     "data": {
      "text/plain": [
       "{'type': 'FeatureCollection',\n",
       " 'features': [{'type': 'Feature',\n",
       "   'geometry': {'type': 'LineString',\n",
       "    'coordinates': [(-2.65611, 7.06206),\n",
       "     (-2.65594, 7.06207),\n",
       "     (-2.6554, 7.06249),\n",
       "     (-2.65521, 7.06305),\n",
       "     (-2.68197, 7.08522),\n",
       "     (-2.69859, 7.09372),\n",
       "     (-2.71456, 7.09678),\n",
       "     (-2.74574, 7.14701),\n",
       "     (-2.75765, 7.16015),\n",
       "     (-2.76926, 7.16598),\n",
       "     (-2.77134, 7.17588),\n",
       "     (-2.78348, 7.20096),\n",
       "     (-2.78614, 7.22631),\n",
       "     (-2.78168, 7.2365),\n",
       "     (-2.77402, 7.23969),\n",
       "     (-2.77008, 7.24645),\n",
       "     (-2.76354, 7.25134),\n",
       "     (-2.75879, 7.25825),\n",
       "     (-2.75847, 7.26307),\n",
       "     (-2.74032, 7.26149),\n",
       "     (-2.73085, 7.26518),\n",
       "     (-2.71755, 7.2648),\n",
       "     (-2.70839, 7.28729),\n",
       "     (-2.70065, 7.29468),\n",
       "     (-2.69908, 7.30788),\n",
       "     (-2.70606, 7.32125),\n",
       "     (-2.70558, 7.32547),\n",
       "     (-2.67011, 7.35486),\n",
       "     (-2.66108, 7.3692),\n",
       "     (-2.65802, 7.37869),\n",
       "     (-2.65832, 7.39083),\n",
       "     (-2.6548, 7.3971),\n",
       "     (-2.63069, 7.42317),\n",
       "     (-2.60922, 7.43827),\n",
       "     (-2.59556, 7.44185),\n",
       "     (-2.58409, 7.45042),\n",
       "     (-2.57212, 7.43806),\n",
       "     (-2.56385, 7.4337),\n",
       "     (-2.54821, 7.43808),\n",
       "     (-2.51377, 7.43648),\n",
       "     (-2.47546, 7.41006),\n",
       "     (-2.4691, 7.40337),\n",
       "     (-2.44415, 7.40404),\n",
       "     (-2.37333, 7.39137),\n",
       "     (-2.35061, 7.37283),\n",
       "     (-2.34673, 7.3651),\n",
       "     (-2.34461, 7.35163),\n",
       "     (-2.34227, 7.34514),\n",
       "     (-2.32981, 7.33418),\n",
       "     (-2.33053, 7.33216)]},\n",
       "   'properties': {'distance': 97302.219, 'duration': 9363.027}}]}"
      ]
     },
     "execution_count": 55,
     "metadata": {},
     "output_type": "execute_result"
    }
   ],
   "source": [
    "resp_data\n"
   ]
  },
  {
   "cell_type": "code",
   "execution_count": null,
   "id": "de880867-fb10-4cc7-9470-4a7a5b9e720f",
   "metadata": {},
   "outputs": [],
   "source": []
  }
 ],
 "metadata": {
  "kernelspec": {
   "display_name": "aquaya-sandbox",
   "language": "python",
   "name": "aquaya-sandbox"
  },
  "language_info": {
   "codemirror_mode": {
    "name": "ipython",
    "version": 3
   },
   "file_extension": ".py",
   "mimetype": "text/x-python",
   "name": "python",
   "nbconvert_exporter": "python",
   "pygments_lexer": "ipython3",
   "version": "3.9.6"
  }
 },
 "nbformat": 4,
 "nbformat_minor": 5
}
