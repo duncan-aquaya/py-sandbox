{
 "cells": [
  {
   "cell_type": "markdown",
   "id": "d6bca2ab-d2e7-4c1c-a7d5-31fc295b4b10",
   "metadata": {},
   "source": [
    "This notebook to explore the weird alternate WPDX data I believe comes from the HDX\n",
    "\n",
    "TBD"
   ]
  },
  {
   "cell_type": "code",
   "execution_count": 1,
   "id": "e0078484-6b7b-4bfa-818b-a4d2aaddaa88",
   "metadata": {},
   "outputs": [],
   "source": [
    "import pandas as pd"
   ]
  },
  {
   "cell_type": "markdown",
   "id": "6aeef492-5992-4399-8179-5d493403f17b",
   "metadata": {},
   "source": [
    "<h2 style=\"padding:7px; color:black; background-color:lightskyblue;\">HDX WPDX Files (Based on WPDX+, allegedly)</h2>"
   ]
  },
  {
   "cell_type": "code",
   "execution_count": null,
   "id": "7aaceb96-964b-4b51-8f08-4a3824783431",
   "metadata": {},
   "outputs": [],
   "source": [
    "hdx_file = \"/Users/datascience/Desktop/WPDX - GHA - HDX.csv\"\n",
    "hdx_df = pd.read_csv(hdx_file, skiprows=[1])\n",
    "hdx_df.shape"
   ]
  },
  {
   "cell_type": "code",
   "execution_count": 12,
   "id": "efb711f6-c34b-425a-a2c1-92f0168f52a2",
   "metadata": {},
   "outputs": [
    {
     "data": {
      "text/html": [
       "<div>\n",
       "<style scoped>\n",
       "    .dataframe tbody tr th:only-of-type {\n",
       "        vertical-align: middle;\n",
       "    }\n",
       "\n",
       "    .dataframe tbody tr th {\n",
       "        vertical-align: top;\n",
       "    }\n",
       "\n",
       "    .dataframe thead th {\n",
       "        text-align: right;\n",
       "    }\n",
       "</style>\n",
       "<table border=\"1\" class=\"dataframe\">\n",
       "  <thead>\n",
       "    <tr style=\"text-align: right;\">\n",
       "      <th></th>\n",
       "      <th>lat_deg</th>\n",
       "      <th>lon_deg</th>\n",
       "      <th>status_id</th>\n",
       "      <th>report_date</th>\n",
       "      <th>source</th>\n",
       "      <th>water_source_clean</th>\n",
       "      <th>water_tech_clean</th>\n",
       "      <th>clean_country_id</th>\n",
       "      <th>clean_country_name</th>\n",
       "      <th>clean_adm1</th>\n",
       "      <th>...</th>\n",
       "      <th>is_urban</th>\n",
       "      <th>days_since_report</th>\n",
       "      <th>staleness</th>\n",
       "      <th>prediction_yes_0y</th>\n",
       "      <th>prediction_yes_2y</th>\n",
       "      <th>prediction_no_0y</th>\n",
       "      <th>prediction_no_2y</th>\n",
       "      <th>predicted_status_0y</th>\n",
       "      <th>predicted_status_2y</th>\n",
       "      <th>predicted_category</th>\n",
       "    </tr>\n",
       "  </thead>\n",
       "  <tbody>\n",
       "    <tr>\n",
       "      <th>0</th>\n",
       "      <td>7.636974</td>\n",
       "      <td>-2.727494</td>\n",
       "      <td>Yes</td>\n",
       "      <td>2014-09-09</td>\n",
       "      <td>CWSA</td>\n",
       "      <td>Borehole/Tubewell</td>\n",
       "      <td>Hand Pump - India Mark</td>\n",
       "      <td>GHA</td>\n",
       "      <td>Ghana</td>\n",
       "      <td>Bono</td>\n",
       "      <td>...</td>\n",
       "      <td>False</td>\n",
       "      <td>3561</td>\n",
       "      <td>32.547352</td>\n",
       "      <td>0.844953</td>\n",
       "      <td>0.836034</td>\n",
       "      <td>0.155047</td>\n",
       "      <td>0.163966</td>\n",
       "      <td>Yes</td>\n",
       "      <td>Yes</td>\n",
       "      <td>ok</td>\n",
       "    </tr>\n",
       "    <tr>\n",
       "      <th>1</th>\n",
       "      <td>7.636190</td>\n",
       "      <td>-2.724577</td>\n",
       "      <td>Yes</td>\n",
       "      <td>2014-09-09</td>\n",
       "      <td>CWSA</td>\n",
       "      <td>Borehole/Tubewell</td>\n",
       "      <td>Hand Pump - Afridev</td>\n",
       "      <td>GHA</td>\n",
       "      <td>Ghana</td>\n",
       "      <td>Bono</td>\n",
       "      <td>...</td>\n",
       "      <td>False</td>\n",
       "      <td>3561</td>\n",
       "      <td>32.547352</td>\n",
       "      <td>0.835568</td>\n",
       "      <td>0.819439</td>\n",
       "      <td>0.164432</td>\n",
       "      <td>0.180561</td>\n",
       "      <td>Yes</td>\n",
       "      <td>Yes</td>\n",
       "      <td>ok</td>\n",
       "    </tr>\n",
       "  </tbody>\n",
       "</table>\n",
       "<p>2 rows × 54 columns</p>\n",
       "</div>"
      ],
      "text/plain": [
       "    lat_deg   lon_deg status_id report_date source water_source_clean  \\\n",
       "0  7.636974 -2.727494       Yes  2014-09-09   CWSA  Borehole/Tubewell   \n",
       "1  7.636190 -2.724577       Yes  2014-09-09   CWSA  Borehole/Tubewell   \n",
       "\n",
       "         water_tech_clean clean_country_id clean_country_name clean_adm1  ...  \\\n",
       "0  Hand Pump - India Mark              GHA              Ghana       Bono  ...   \n",
       "1     Hand Pump - Afridev              GHA              Ghana       Bono  ...   \n",
       "\n",
       "  is_urban  days_since_report  staleness prediction_yes_0y  prediction_yes_2y  \\\n",
       "0    False               3561  32.547352          0.844953           0.836034   \n",
       "1    False               3561  32.547352          0.835568           0.819439   \n",
       "\n",
       "  prediction_no_0y  prediction_no_2y predicted_status_0y  predicted_status_2y  \\\n",
       "0         0.155047          0.163966                 Yes                  Yes   \n",
       "1         0.164432          0.180561                 Yes                  Yes   \n",
       "\n",
       "  predicted_category  \n",
       "0                 ok  \n",
       "1                 ok  \n",
       "\n",
       "[2 rows x 54 columns]"
      ]
     },
     "execution_count": 12,
     "metadata": {},
     "output_type": "execute_result"
    }
   ],
   "source": [
    "hdx_df.head(2)"
   ]
  },
  {
   "cell_type": "code",
   "execution_count": 27,
   "id": "708f8d09-9ccb-4a92-ab1c-a712d7f681de",
   "metadata": {
    "scrolled": true
   },
   "outputs": [
    {
     "data": {
      "text/plain": [
       "lat_deg                    float64\n",
       "lon_deg                    float64\n",
       "status_id                   object\n",
       "report_date                 object\n",
       "source                      object\n",
       "water_source_clean          object\n",
       "water_tech_clean            object\n",
       "clean_country_id            object\n",
       "clean_country_name          object\n",
       "clean_adm1                  object\n",
       "clean_adm2                  object\n",
       "clean_adm3                 float64\n",
       "clean_adm4                 float64\n",
       "activity_id                 object\n",
       "scheme_id                  float64\n",
       "wpdx_id                     object\n",
       "install_year               float64\n",
       "installer                   object\n",
       "rehab_year                 float64\n",
       "rehabilitator               object\n",
       "management_clean            object\n",
       "pay_clean                   object\n",
       "status_clean                object\n",
       "fecal_coliform_presence     object\n",
       "fecal_coliform_value       float64\n",
       "subjective_quality          object\n",
       "notes                       object\n",
       "local_population           float64\n",
       "assigned_population        float64\n",
       "facility_type               object\n",
       "water_source_category       object\n",
       "water_tech_category         object\n",
       "created_timestamp           object\n",
       "dataset_title               object\n",
       "rehab_priority             float64\n",
       "would_gain_access          float64\n",
       "usage_cap                  float64\n",
       "criticality                float64\n",
       "pressure                   float64\n",
       "distance_to_primary        float64\n",
       "distance_to_secondary      float64\n",
       "distance_to_tertiary       float64\n",
       "distance_to_city           float64\n",
       "distance_to_town           float64\n",
       "is_urban                      bool\n",
       "days_since_report            int64\n",
       "staleness                  float64\n",
       "prediction_yes_0y          float64\n",
       "prediction_yes_2y          float64\n",
       "prediction_no_0y           float64\n",
       "prediction_no_2y           float64\n",
       "predicted_status_0y         object\n",
       "predicted_status_2y         object\n",
       "predicted_category          object\n",
       "dtype: object"
      ]
     },
     "execution_count": 27,
     "metadata": {},
     "output_type": "execute_result"
    }
   ],
   "source": [
    "hdx_df.dtypes"
   ]
  },
  {
   "cell_type": "code",
   "execution_count": 13,
   "id": "3bd23f3f-e861-4a8e-9af7-9d48e52baec1",
   "metadata": {},
   "outputs": [
    {
     "data": {
      "text/plain": [
       "clean_adm1\n",
       "Upper West       4240\n",
       "Upper East       4017\n",
       "Western          2919\n",
       "Central          2615\n",
       "Northern         2604\n",
       "Bono             1505\n",
       "Savannah         1384\n",
       "Bono East        1313\n",
       "Western North    1194\n",
       "Northern East    1138\n",
       "Ahafo            1066\n",
       "Oti               136\n",
       "Ashanti            88\n",
       "Eastern             3\n",
       "Greater Accra       1\n",
       "Name: count, dtype: int64"
      ]
     },
     "execution_count": 13,
     "metadata": {},
     "output_type": "execute_result"
    }
   ],
   "source": [
    "hdx_df[\"clean_adm1\"].value_counts()"
   ]
  },
  {
   "cell_type": "code",
   "execution_count": 28,
   "id": "5c157a81-368e-469a-804f-1482c4fb5d97",
   "metadata": {},
   "outputs": [
    {
     "data": {
      "text/plain": [
       "water_source_category\n",
       "Well                       20915\n",
       "Piped Water                 3016\n",
       "Rainwater Harvesting          12\n",
       "Sand or Sub-surface Dam        4\n",
       "Spring                         3\n",
       "Name: count, dtype: int64"
      ]
     },
     "execution_count": 28,
     "metadata": {},
     "output_type": "execute_result"
    }
   ],
   "source": [
    "hdx_df[\"water_source_category\"].value_counts()"
   ]
  },
  {
   "cell_type": "code",
   "execution_count": 16,
   "id": "9c7415ac-301c-4c9e-889e-4767ac6119df",
   "metadata": {},
   "outputs": [
    {
     "data": {
      "text/plain": [
       "source\n",
       "CWSA                                            19610\n",
       "Water4                                           3052\n",
       "World Vision                                      457\n",
       "Aquaya                                            276\n",
       "CRS                                               270\n",
       "Water4 Headquarters                               237\n",
       "Living Water International                        127\n",
       "Global Environment and Technology Foundation       74\n",
       "Water4 Public                                      70\n",
       "YouthMappers Ghana Chapter                         40\n",
       "WaterAid                                            6\n",
       "UNHCR                                               3\n",
       "WaterAid UK                                         1\n",
       "Name: count, dtype: int64"
      ]
     },
     "execution_count": 16,
     "metadata": {},
     "output_type": "execute_result"
    }
   ],
   "source": [
    "hdx_df[\"source\"].value_counts()"
   ]
  },
  {
   "cell_type": "code",
   "execution_count": 31,
   "id": "f1503dd5-bc12-42ad-9cb4-973925e496ba",
   "metadata": {},
   "outputs": [
    {
     "data": {
      "text/plain": [
       "management_clean\n",
       "Community Management                     15401\n",
       "Private Operator/Delegated Management     4015\n",
       "No Management                             2742\n",
       "School Management                          238\n",
       "Health Care Facility                        90\n",
       "Direct Government Operation                 29\n",
       "Religious Institution                       23\n",
       "Other Institutional Management              18\n",
       "Name: count, dtype: int64"
      ]
     },
     "execution_count": 31,
     "metadata": {},
     "output_type": "execute_result"
    }
   ],
   "source": [
    "hdx_df[\"management_clean\"].value_counts()"
   ]
  },
  {
   "cell_type": "code",
   "execution_count": 29,
   "id": "753ea0f7-f63b-4988-9659-5036e76db644",
   "metadata": {},
   "outputs": [
    {
     "data": {
      "text/plain": [
       "clean_adm1\n",
       "Upper West    1428\n",
       "Western        875\n",
       "Savannah       434\n",
       "Central        134\n",
       "Northern       111\n",
       "Oti             30\n",
       "Ashanti          2\n",
       "Upper East       2\n",
       "Name: count, dtype: int64"
      ]
     },
     "execution_count": 29,
     "metadata": {},
     "output_type": "execute_result"
    }
   ],
   "source": [
    "hdx_df[hdx_df[\"water_source_category\"].isin([\"Piped Water\"])][\"clean_adm1\"].value_counts()"
   ]
  },
  {
   "cell_type": "markdown",
   "id": "ab822ac0-88d4-4dfe-ab0a-3f387d8b13a7",
   "metadata": {},
   "source": [
    "<h2 style=\"padding:7px; color:black; background-color:lightskyblue;\">WPDX Basic</h2>"
   ]
  },
  {
   "cell_type": "code",
   "execution_count": 19,
   "id": "94e0be83-eed5-405a-ac8b-c4660c918587",
   "metadata": {},
   "outputs": [
    {
     "name": "stderr",
     "output_type": "stream",
     "text": [
      "/var/folders/_f/bhtpz1nj0216d4sgdjmd9vk40000gn/T/ipykernel_39817/368961957.py:2: DtypeWarning: Columns (11,13,15,17,18,20,21,24,49,50) have mixed types. Specify dtype option on import or set low_memory=False.\n",
      "  basic_df = pd.read_csv(basic_file)\n"
     ]
    },
    {
     "data": {
      "text/plain": [
       "(49176, 52)"
      ]
     },
     "execution_count": 19,
     "metadata": {},
     "output_type": "execute_result"
    }
   ],
   "source": [
    "basic_file = \"/Users/datascience/Desktop/WPDX - GHA - WPDX Basic.csv\"\n",
    "basic_df = pd.read_csv(basic_file)\n",
    "basic_df.shape"
   ]
  },
  {
   "cell_type": "code",
   "execution_count": 21,
   "id": "a477649f-08b8-4a34-8c45-cad193d62cda",
   "metadata": {},
   "outputs": [
    {
     "data": {
      "text/html": [
       "<div>\n",
       "<style scoped>\n",
       "    .dataframe tbody tr th:only-of-type {\n",
       "        vertical-align: middle;\n",
       "    }\n",
       "\n",
       "    .dataframe tbody tr th {\n",
       "        vertical-align: top;\n",
       "    }\n",
       "\n",
       "    .dataframe thead th {\n",
       "        text-align: right;\n",
       "    }\n",
       "</style>\n",
       "<table border=\"1\" class=\"dataframe\">\n",
       "  <thead>\n",
       "    <tr style=\"text-align: right;\">\n",
       "      <th></th>\n",
       "      <th>row_id</th>\n",
       "      <th>#source</th>\n",
       "      <th>#lat_deg</th>\n",
       "      <th>#lon_deg</th>\n",
       "      <th>#report_date</th>\n",
       "      <th>#status_id</th>\n",
       "      <th>#water_source</th>\n",
       "      <th>#water_tech</th>\n",
       "      <th>#country_name</th>\n",
       "      <th>#adm1</th>\n",
       "      <th>...</th>\n",
       "      <th>count</th>\n",
       "      <th>New Georeferenced Column</th>\n",
       "      <th>lat_lon_deg</th>\n",
       "      <th>#converted</th>\n",
       "      <th>public_data_source</th>\n",
       "      <th>created_timestamp</th>\n",
       "      <th>updated</th>\n",
       "      <th>#pay_clean</th>\n",
       "      <th>#subjective_quality_clean</th>\n",
       "      <th>dataset_title</th>\n",
       "    </tr>\n",
       "  </thead>\n",
       "  <tbody>\n",
       "    <tr>\n",
       "      <th>0</th>\n",
       "      <td>29375</td>\n",
       "      <td>Global Environment and Technology Foundation</td>\n",
       "      <td>6.701500</td>\n",
       "      <td>-1.583140</td>\n",
       "      <td>10/25/2017 12:00:00 AM</td>\n",
       "      <td>Yes</td>\n",
       "      <td>NaN</td>\n",
       "      <td>Standpost</td>\n",
       "      <td>Ghana</td>\n",
       "      <td>NaN</td>\n",
       "      <td>...</td>\n",
       "      <td>1</td>\n",
       "      <td>POINT (-1.58314 6.7015)</td>\n",
       "      <td>(6.7015°, -1.58314°)</td>\n",
       "      <td>NaN</td>\n",
       "      <td>https://catalog.waterpointdata.org/datafiles/w...</td>\n",
       "      <td>07/29/2020 07:21:47 PM</td>\n",
       "      <td>07/29/2020 07:21:47 PM</td>\n",
       "      <td>NaN</td>\n",
       "      <td>NaN</td>\n",
       "      <td>WPDx Reingestion_Global</td>\n",
       "    </tr>\n",
       "    <tr>\n",
       "      <th>1</th>\n",
       "      <td>59046</td>\n",
       "      <td>Water4 Public</td>\n",
       "      <td>5.181252</td>\n",
       "      <td>-1.605499</td>\n",
       "      <td>04/20/2017 12:00:00 AM</td>\n",
       "      <td>Yes</td>\n",
       "      <td>Protected dug well</td>\n",
       "      <td>NaN</td>\n",
       "      <td>NaN</td>\n",
       "      <td>Ghana</td>\n",
       "      <td>...</td>\n",
       "      <td>1</td>\n",
       "      <td>POINT (-1.6054988999999922 5.181251699999991)</td>\n",
       "      <td>(5.181251699999991°, -1.6054988999999922°)</td>\n",
       "      <td>NaN</td>\n",
       "      <td>https://catalog.waterpointdata.org/datafiles/w...</td>\n",
       "      <td>05/19/2021 07:21:29 PM</td>\n",
       "      <td>05/19/2021 07:21:29 PM</td>\n",
       "      <td>NaN</td>\n",
       "      <td>NaN</td>\n",
       "      <td>Water4_Ghana WassaEast_2016-2021</td>\n",
       "    </tr>\n",
       "  </tbody>\n",
       "</table>\n",
       "<p>2 rows × 52 columns</p>\n",
       "</div>"
      ],
      "text/plain": [
       "   row_id                                       #source  #lat_deg  #lon_deg  \\\n",
       "0   29375  Global Environment and Technology Foundation  6.701500 -1.583140   \n",
       "1   59046                                 Water4 Public  5.181252 -1.605499   \n",
       "\n",
       "             #report_date #status_id       #water_source #water_tech  \\\n",
       "0  10/25/2017 12:00:00 AM        Yes                 NaN   Standpost   \n",
       "1  04/20/2017 12:00:00 AM        Yes  Protected dug well         NaN   \n",
       "\n",
       "  #country_name  #adm1  ... count  \\\n",
       "0         Ghana    NaN  ...     1   \n",
       "1           NaN  Ghana  ...     1   \n",
       "\n",
       "                        New Georeferenced Column  \\\n",
       "0                        POINT (-1.58314 6.7015)   \n",
       "1  POINT (-1.6054988999999922 5.181251699999991)   \n",
       "\n",
       "                                  lat_lon_deg #converted  \\\n",
       "0                        (6.7015°, -1.58314°)        NaN   \n",
       "1  (5.181251699999991°, -1.6054988999999922°)        NaN   \n",
       "\n",
       "                                  public_data_source       created_timestamp  \\\n",
       "0  https://catalog.waterpointdata.org/datafiles/w...  07/29/2020 07:21:47 PM   \n",
       "1  https://catalog.waterpointdata.org/datafiles/w...  05/19/2021 07:21:29 PM   \n",
       "\n",
       "                  updated #pay_clean #subjective_quality_clean  \\\n",
       "0  07/29/2020 07:21:47 PM        NaN                       NaN   \n",
       "1  05/19/2021 07:21:29 PM        NaN                       NaN   \n",
       "\n",
       "                      dataset_title  \n",
       "0           WPDx Reingestion_Global  \n",
       "1  Water4_Ghana WassaEast_2016-2021  \n",
       "\n",
       "[2 rows x 52 columns]"
      ]
     },
     "execution_count": 21,
     "metadata": {},
     "output_type": "execute_result"
    }
   ],
   "source": [
    "basic_df.head(2)"
   ]
  },
  {
   "cell_type": "code",
   "execution_count": 23,
   "id": "53d0f8b1-b0ee-454b-9e49-24fd4b43ff40",
   "metadata": {
    "scrolled": true
   },
   "outputs": [
    {
     "data": {
      "text/plain": [
       "row_id                         int64\n",
       "#source                       object\n",
       "#lat_deg                     float64\n",
       "#lon_deg                     float64\n",
       "#report_date                  object\n",
       "#status_id                    object\n",
       "#water_source                 object\n",
       "#water_tech                   object\n",
       "#country_name                 object\n",
       "#adm1                         object\n",
       "#adm2                         object\n",
       "#adm3                         object\n",
       "#install_year                float64\n",
       "#installer                    object\n",
       "#rehab_year                  float64\n",
       "#rehabilitator                object\n",
       "#management                   object\n",
       "#pay                          object\n",
       "#status                       object\n",
       "#fecal_coliform_value        float64\n",
       "#fecal_coliform_presence      object\n",
       "#subjective_quality           object\n",
       "#activity_id                  object\n",
       "#scheme_id                   float64\n",
       "#notes                        object\n",
       "#photo_lnk                    object\n",
       "#orig_lnk                    float64\n",
       "#data_lnk                     object\n",
       "#country_id                   object\n",
       "clean_country_id              object\n",
       "clean_country_name            object\n",
       "clean_adm1                    object\n",
       "clean_adm2                    object\n",
       "clean_adm3                   float64\n",
       "clean_adm4                   float64\n",
       "water_source_clean            object\n",
       "water_source_category         object\n",
       "water_tech_clean              object\n",
       "water_tech_category           object\n",
       "facility_type                 object\n",
       "management_clean              object\n",
       "status_clean                  object\n",
       "count                          int64\n",
       "New Georeferenced Column      object\n",
       "lat_lon_deg                   object\n",
       "#converted                    object\n",
       "public_data_source            object\n",
       "created_timestamp             object\n",
       "updated                       object\n",
       "#pay_clean                    object\n",
       "#subjective_quality_clean     object\n",
       "dataset_title                 object\n",
       "dtype: object"
      ]
     },
     "execution_count": 23,
     "metadata": {},
     "output_type": "execute_result"
    }
   ],
   "source": [
    "basic_df.dtypes"
   ]
  },
  {
   "cell_type": "code",
   "execution_count": 24,
   "id": "f78131fd-5f1f-4c35-9a9e-fe6f5ba01265",
   "metadata": {},
   "outputs": [
    {
     "data": {
      "text/plain": [
       "clean_adm1\n",
       "Western          16934\n",
       "Upper West       10026\n",
       "Central           4371\n",
       "Upper East        4124\n",
       "Savannah          3577\n",
       "Northern          3192\n",
       "Bono              1587\n",
       "Bono East         1384\n",
       "Western North     1275\n",
       "Ahafo             1209\n",
       "Northern East     1186\n",
       "Ashanti            166\n",
       "Oti                140\n",
       "Eastern              4\n",
       "Greater Accra        1\n",
       "Name: count, dtype: int64"
      ]
     },
     "execution_count": 24,
     "metadata": {},
     "output_type": "execute_result"
    }
   ],
   "source": [
    "basic_df[\"clean_adm1\"].value_counts()"
   ]
  },
  {
   "cell_type": "code",
   "execution_count": 32,
   "id": "02d7aae7-d39b-4acc-883e-d1069bd46fbf",
   "metadata": {},
   "outputs": [
    {
     "data": {
      "text/plain": [
       "water_source_category\n",
       "Well                       22743\n",
       "Piped Water                10871\n",
       "Surface Water                 57\n",
       "Rainwater Harvesting          16\n",
       "Spring                         4\n",
       "Sand or Sub-surface Dam        4\n",
       "Name: count, dtype: int64"
      ]
     },
     "execution_count": 32,
     "metadata": {},
     "output_type": "execute_result"
    }
   ],
   "source": [
    "basic_df[\"water_source_category\"].value_counts()"
   ]
  },
  {
   "cell_type": "code",
   "execution_count": 33,
   "id": "19c914a1-200b-4201-9a8d-2b536d1a7c42",
   "metadata": {},
   "outputs": [
    {
     "data": {
      "text/plain": [
       "management_clean\n",
       "Private Operator/Delegated Management    27602\n",
       "Community Management                     15949\n",
       "No Management                             2800\n",
       "School Management                          240\n",
       "Health Care Facility                        92\n",
       "Direct Government Operation                 29\n",
       "Religious Institution                       23\n",
       "Other Institutional Management              18\n",
       "Name: count, dtype: int64"
      ]
     },
     "execution_count": 33,
     "metadata": {},
     "output_type": "execute_result"
    }
   ],
   "source": [
    "basic_df[\"management_clean\"].value_counts()"
   ]
  },
  {
   "cell_type": "code",
   "execution_count": 34,
   "id": "57143b7a-92fe-4082-aa61-03085ca6b68e",
   "metadata": {},
   "outputs": [
    {
     "data": {
      "text/plain": [
       "clean_adm1\n",
       "Western       4288\n",
       "Upper West    4148\n",
       "Savannah      1463\n",
       "Northern       478\n",
       "Central        457\n",
       "Oti             30\n",
       "Ashanti          4\n",
       "Upper East       3\n",
       "Name: count, dtype: int64"
      ]
     },
     "execution_count": 34,
     "metadata": {},
     "output_type": "execute_result"
    }
   ],
   "source": [
    "basic_df[basic_df[\"water_source_category\"].isin([\"Piped Water\"])][\"clean_adm1\"].value_counts()"
   ]
  },
  {
   "cell_type": "markdown",
   "id": "a5a38898-9adf-44f4-bd9a-32c14f029cda",
   "metadata": {
    "jp-MarkdownHeadingCollapsed": true
   },
   "source": [
    "<h2 style=\"padding:7px; color:black; background-color:lightskyblue;\">WPDX+</h2>"
   ]
  },
  {
   "cell_type": "code",
   "execution_count": 36,
   "id": "cc8e98e7-69f5-4c9b-b85f-dc6a24926424",
   "metadata": {},
   "outputs": [
    {
     "name": "stderr",
     "output_type": "stream",
     "text": [
      "/var/folders/_f/bhtpz1nj0216d4sgdjmd9vk40000gn/T/ipykernel_39817/2380119968.py:2: DtypeWarning: Columns (20,26,60,63) have mixed types. Specify dtype option on import or set low_memory=False.\n",
      "  plus_df = pd.read_csv(plus_file)\n"
     ]
    },
    {
     "data": {
      "text/plain": [
       "(24223, 73)"
      ]
     },
     "execution_count": 36,
     "metadata": {},
     "output_type": "execute_result"
    }
   ],
   "source": [
    "plus_file = \"/Users/datascience/Desktop/WPDX - GHA - WPDX Plus.csv\"\n",
    "plus_df = pd.read_csv(plus_file)\n",
    "plus_df.shape"
   ]
  },
  {
   "cell_type": "code",
   "execution_count": 39,
   "id": "cdda2bb4-fb56-4fa8-b111-6062283b6687",
   "metadata": {},
   "outputs": [
    {
     "data": {
      "text/html": [
       "<div>\n",
       "<style scoped>\n",
       "    .dataframe tbody tr th:only-of-type {\n",
       "        vertical-align: middle;\n",
       "    }\n",
       "\n",
       "    .dataframe tbody tr th {\n",
       "        vertical-align: top;\n",
       "    }\n",
       "\n",
       "    .dataframe thead th {\n",
       "        text-align: right;\n",
       "    }\n",
       "</style>\n",
       "<table border=\"1\" class=\"dataframe\">\n",
       "  <thead>\n",
       "    <tr style=\"text-align: right;\">\n",
       "      <th></th>\n",
       "      <th>row_id</th>\n",
       "      <th>#source</th>\n",
       "      <th>#lat_deg</th>\n",
       "      <th>#lon_deg</th>\n",
       "      <th>#report_date</th>\n",
       "      <th>#status_id</th>\n",
       "      <th>#water_source_clean</th>\n",
       "      <th>#water_source_category</th>\n",
       "      <th>#water_tech_clean</th>\n",
       "      <th>#water_tech_category</th>\n",
       "      <th>...</th>\n",
       "      <th>#subjective_quality</th>\n",
       "      <th>New Georeferenced Column</th>\n",
       "      <th>lat_lon_deg</th>\n",
       "      <th>public_data_source</th>\n",
       "      <th>converted</th>\n",
       "      <th>count</th>\n",
       "      <th>created_timestamp</th>\n",
       "      <th>updated_timestamp</th>\n",
       "      <th>is_duplicate</th>\n",
       "      <th>dataset_title</th>\n",
       "    </tr>\n",
       "  </thead>\n",
       "  <tbody>\n",
       "    <tr>\n",
       "      <th>0</th>\n",
       "      <td>490491</td>\n",
       "      <td>Water4</td>\n",
       "      <td>9.752869</td>\n",
       "      <td>-2.494573</td>\n",
       "      <td>05/30/2024 12:00:00 AM</td>\n",
       "      <td>Yes</td>\n",
       "      <td>Piped Water</td>\n",
       "      <td>Piped Water</td>\n",
       "      <td>NaN</td>\n",
       "      <td>NaN</td>\n",
       "      <td>...</td>\n",
       "      <td>NaN</td>\n",
       "      <td>POINT (-2.4945725999999997 9.752869499999997)</td>\n",
       "      <td>(9.752869499999997°, -2.4945725999999997°)</td>\n",
       "      <td>https://catalog.waterpointdata.org/datafiles/w...</td>\n",
       "      <td>NaN</td>\n",
       "      <td>1</td>\n",
       "      <td>03/18/2022 06:23:12 PM</td>\n",
       "      <td>03/18/2022 06:23:12 PM</td>\n",
       "      <td>NaN</td>\n",
       "      <td>Water4_Global_2021-2022</td>\n",
       "    </tr>\n",
       "    <tr>\n",
       "      <th>1</th>\n",
       "      <td>644474</td>\n",
       "      <td>Living Water International</td>\n",
       "      <td>7.066837</td>\n",
       "      <td>-2.783900</td>\n",
       "      <td>07/26/2015 12:00:00 AM</td>\n",
       "      <td>Yes</td>\n",
       "      <td>Borehole/Tubewell</td>\n",
       "      <td>Well</td>\n",
       "      <td>Hand Pump - Afridev</td>\n",
       "      <td>Hand Pump</td>\n",
       "      <td>...</td>\n",
       "      <td>NaN</td>\n",
       "      <td>POINT (-2.7839 7.066836667)</td>\n",
       "      <td>(7.066836667°, -2.7839°)</td>\n",
       "      <td>https://catalog.waterpointdata.org/datafiles/t...</td>\n",
       "      <td>NaN</td>\n",
       "      <td>1</td>\n",
       "      <td>07/21/2020 08:01:34 PM</td>\n",
       "      <td>07/21/2020 08:01:34 PM</td>\n",
       "      <td>NaN</td>\n",
       "      <td>Living Water International_Africa Latin Americ...</td>\n",
       "    </tr>\n",
       "  </tbody>\n",
       "</table>\n",
       "<p>2 rows × 73 columns</p>\n",
       "</div>"
      ],
      "text/plain": [
       "   row_id                     #source  #lat_deg  #lon_deg  \\\n",
       "0  490491                      Water4  9.752869 -2.494573   \n",
       "1  644474  Living Water International  7.066837 -2.783900   \n",
       "\n",
       "             #report_date #status_id #water_source_clean  \\\n",
       "0  05/30/2024 12:00:00 AM        Yes         Piped Water   \n",
       "1  07/26/2015 12:00:00 AM        Yes   Borehole/Tubewell   \n",
       "\n",
       "  #water_source_category    #water_tech_clean #water_tech_category  ...  \\\n",
       "0            Piped Water                  NaN                  NaN  ...   \n",
       "1                   Well  Hand Pump - Afridev            Hand Pump  ...   \n",
       "\n",
       "  #subjective_quality                      New Georeferenced Column   \\\n",
       "0                 NaN  POINT (-2.4945725999999997 9.752869499999997)   \n",
       "1                 NaN                    POINT (-2.7839 7.066836667)   \n",
       "\n",
       "                                  lat_lon_deg  \\\n",
       "0  (9.752869499999997°, -2.4945725999999997°)   \n",
       "1                    (7.066836667°, -2.7839°)   \n",
       "\n",
       "                                  public_data_source converted  count  \\\n",
       "0  https://catalog.waterpointdata.org/datafiles/w...       NaN      1   \n",
       "1  https://catalog.waterpointdata.org/datafiles/t...       NaN      1   \n",
       "\n",
       "        created_timestamp       updated_timestamp is_duplicate  \\\n",
       "0  03/18/2022 06:23:12 PM  03/18/2022 06:23:12 PM          NaN   \n",
       "1  07/21/2020 08:01:34 PM  07/21/2020 08:01:34 PM          NaN   \n",
       "\n",
       "                                       dataset_title  \n",
       "0                            Water4_Global_2021-2022  \n",
       "1  Living Water International_Africa Latin Americ...  \n",
       "\n",
       "[2 rows x 73 columns]"
      ]
     },
     "execution_count": 39,
     "metadata": {},
     "output_type": "execute_result"
    }
   ],
   "source": [
    "plus_df.head(2)"
   ]
  },
  {
   "cell_type": "code",
   "execution_count": 43,
   "id": "d87179c3-c91e-461d-ab00-26426f15d601",
   "metadata": {},
   "outputs": [
    {
     "data": {
      "text/plain": [
       "#clean_adm1\n",
       "Upper West       4240\n",
       "Upper East       4017\n",
       "Western          2919\n",
       "Central          2615\n",
       "Northern         2604\n",
       "Bono             1505\n",
       "Savannah         1384\n",
       "Bono East        1313\n",
       "Western North    1194\n",
       "Northern East    1138\n",
       "Ahafo            1066\n",
       "Oti               136\n",
       "Ashanti            88\n",
       "Eastern             3\n",
       "Greater Accra       1\n",
       "Name: count, dtype: int64"
      ]
     },
     "execution_count": 43,
     "metadata": {},
     "output_type": "execute_result"
    }
   ],
   "source": [
    "plus_df[\"#clean_adm1\"].value_counts()"
   ]
  },
  {
   "cell_type": "code",
   "execution_count": 45,
   "id": "cedf289d-df41-4931-ade5-5ae32b5206c5",
   "metadata": {},
   "outputs": [
    {
     "data": {
      "text/plain": [
       "#water_source_category\n",
       "Well                       20915\n",
       "Piped Water                 3016\n",
       "Rainwater Harvesting          12\n",
       "Sand or Sub-surface Dam        4\n",
       "Spring                         3\n",
       "Name: count, dtype: int64"
      ]
     },
     "execution_count": 45,
     "metadata": {},
     "output_type": "execute_result"
    }
   ],
   "source": [
    "plus_df[\"#water_source_category\"].value_counts()"
   ]
  },
  {
   "cell_type": "code",
   "execution_count": 46,
   "id": "7fb65cb2-54f6-45f8-9765-787dcde4c284",
   "metadata": {},
   "outputs": [
    {
     "data": {
      "text/plain": [
       "#clean_adm1\n",
       "Upper West    1428\n",
       "Western        875\n",
       "Savannah       434\n",
       "Central        134\n",
       "Northern       111\n",
       "Oti             30\n",
       "Ashanti          2\n",
       "Upper East       2\n",
       "Name: count, dtype: int64"
      ]
     },
     "execution_count": 46,
     "metadata": {},
     "output_type": "execute_result"
    }
   ],
   "source": [
    "plus_df[plus_df[\"#water_source_category\"].isin([\"Piped Water\"])][\"#clean_adm1\"].value_counts()"
   ]
  },
  {
   "cell_type": "code",
   "execution_count": null,
   "id": "d978ad7c-debf-49a5-8e0a-78a737dcdc9e",
   "metadata": {},
   "outputs": [],
   "source": []
  }
 ],
 "metadata": {
  "kernelspec": {
   "display_name": "aquaya-sandbox",
   "language": "python",
   "name": "aquaya-sandbox"
  },
  "language_info": {
   "codemirror_mode": {
    "name": "ipython",
    "version": 3
   },
   "file_extension": ".py",
   "mimetype": "text/x-python",
   "name": "python",
   "nbconvert_exporter": "python",
   "pygments_lexer": "ipython3",
   "version": "3.9.6"
  }
 },
 "nbformat": 4,
 "nbformat_minor": 5
}
