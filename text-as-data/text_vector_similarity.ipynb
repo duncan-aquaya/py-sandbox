{
 "cells": [
  {
   "cell_type": "code",
   "execution_count": 53,
   "metadata": {
    "collapsed": true
   },
   "outputs": [],
   "source": [
    "import numpy as np\n",
    "from sklearn.feature_extraction.text import CountVectorizer, TfidfVectorizer\n",
    "from sklearn.metrics.pairwise import euclidean_distances, cosine_distances, cosine_similarity"
   ]
  },
  {
   "cell_type": "markdown",
   "metadata": {},
   "source": [
    "### Define texts"
   ]
  },
  {
   "cell_type": "code",
   "execution_count": 54,
   "metadata": {
    "collapsed": true
   },
   "outputs": [],
   "source": [
    "# Raw Credit Agreement full text proxy\n",
    "raw_text = \\\n",
    "\"\"\"\n",
    "Section 2.01 . Commitments. Each Lender severally agrees, on the terms and conditions set forth in this Bridge Agreement, to make an Advance to the Borrower on the Closing Date in a principal amount equal to its ratable portion of the amount requested in the related Notice of Borrowing (but in any event, not to exceed the amount of its Commitment). Amounts borrowed under this Section 2.01 and repaid or prepaid may not be reborrowed. Section 2.02 . Making the Advance. (a) Each Borrowing shall be made on notice, given not later than (x) 11:00 A.M. (New York City time) on the third Business Day prior to the date of the proposed Borrowing in the case of a Borrowing consisting of Eurodollar Rate Advances or (y) 1:00 P.M. (New York City time) on the date of the proposed Borrowing in the case of a Borrowing consisting of Base Rate Advances, by the Borrower to the Agent, which shall give to each Lender prompt notice thereof by telecopier. Each such notice of a Borrowing (a  Notice of Borrowing ) shall be by telephone, confirmed immediately in writing, or telecopier in substantially the form of Exhibit B hereto, specifying therein the requested (i) date of such Borrowing, (ii) Type of Advances comprising such Borrowing, (iii) aggregate amount of such Borrowing, and (iv) in the case of a Borrowing consisting of Eurodollar Rate Advances, initial Interest Period for each such Advance. Each Lender shall, before 3:00 P.M. (New York City time) on the date of such Borrowing, make available for the account of its Applicable Lending Office to the Agent at the applicable Agent's Account, in same day funds, such Lender's ratable portion of such Borrowing. After the Agent's receipt of such funds and upon fulfillment of the applicable conditions set forth in Article 3, the Agent will make such funds available to the Borrower at the Agent's address referred to in Section 8.02 or at the applicable Payment Office, as the case may be. (b) Anything in subsection (a) above to the contrary notwithstanding, the Borrower may not select Eurodollar Rate Advances for any Borrowing if the obligation of the Lenders to make Eurodollar Rate Advances shall then be suspended pursuant to Section 2.07 or 2.11. (c) Each Notice of Borrowing shall be irrevocable and binding on the Borrower. In the case of any Borrowing that the related Notice of Borrowing specifies is to be comprised of Eurodollar Rate Advances, the Borrower shall indemnify each Lender against any loss, cost or expense incurred by such Lender as a result of any failure to fulfill on or before the date specified in such Notice of Borrowing for such Borrowing the applicable conditions set forth in Article 3, including, without limitation, any loss (including loss of anticipated profits), cost or expense incurred by reason of the liquidation or reemployment of deposits or other funds acquired by such Lender to fund the Advance to be made by such Lender as part of such Borrowing when such Advance, as a result of such failure, is not made on such date. (d) Unless the Agent shall have received notice from a Lender prior to the time of any Borrowing that such Lender will not make available to the Agent such Lender's ratable portion of such Borrowing, the Agent may assume that such Lender has made such portion available to the Agent on the date of such Borrowing in accordance with subsection (a) of this Section 2.02 and the Agent may, in reliance upon such assumption, make available to the Borrower on such date a corresponding amount. If and to the extent that such Lender shall not have so made such 19 ratable portion available to the Agent, such Lender and the Borrower severally agree to repay to the Agent forthwith on demand such corresponding amount together with interest thereon, for each day from the date such amount is made available to the Borrower until the date such amount is repaid to the Agent, at (i) in the case of the Borrower, the higher of (A) the interest rate applicable at the time to the Advances comprising such Borrowing and (B) the cost of funds incurred by the Agent in respect of such amount and (ii) in the case of such Lender, the Federal Funds Rate. If such Lender shall repay to the Agent such corresponding amount, such amount so repaid shall constitute such Lender's Advance as part of such Borrowing for purposes of this Bridge Agreement. (e) The failure of any Lender to make the Advance to be made by it as part of any Borrowing shall not relieve any other Lender of its obligation, if any, hereunder to make its Advance on the date of such Borrowing, but no Lender shall be responsible for the failure of any other Lender to make the Advance to be made by such other Lender on the date of any Borrowing. Section 2.03 . Fees. (a) The Borrower agrees to pay to the Agent ratably for the account of each Lender that is not a Defaulting Lender an undrawn commitment fee (the  Undrawn Commitment Fee ) in an amount equal to 0.175% of the aggregate principal amount of the Commitments, which fee (i) shall accrue from the later of the Effective Date and March 26, 2012 and (ii) shall be due and payable upon the earlier of the termination of the Commitments hereunder pursuant to Section 2.04 and the Closing Date. (b) The Borrower agrees to pay to the Agent ratably for the account of each Lender a duration fee (the  Duration Fee ) in an amount equal to (i) 0.50% of the aggregate principal amount of the Advances outstanding on the date which is 90 days after the Closing Date, due and payable on such 90th day (or if such day is not a Business Day, the next Business Day); (ii) 1.00% of the aggregate principal amount of the Advances outstanding on the date which is 180 days after the Closing Date, due and payable on such 180th day (or if such day is not a Business Day, the next Business Day); and (iii) 1.25% of the aggregate principal amount of the Advances outstanding on the date which is 270 days after the Closing Date, due and payable on such 270th day (or if such day is not a Business Day, the next Business Day). (c) The Borrower agrees to pay to the Agent ratably for the account of each Lender a funding fee (the  Funding Fee ) in an amount equal to 0.625% of the aggregate principal amount of the Advances, which fee shall be due and payable on the Closing Date. (d) The Borrower shall pay to the Agent for its own account such fees as may from time to time be agreed between the Borrower and the Agent. (e) The Borrower agrees to pay to the Agent and the other parties thereto the fees payable in the amounts and at the times set forth in the Fee Letter, except that any ticking fee payable pursuant to the Fee Letter with respect to the Commitments shall, from the Effective Date, be replaced with the Undrawn Commitment Fee. Section 2.04 . Termination or Reduction of the Commitments. (a) Prior to the Closing Date, the Borrower shall have the right, upon at least three Business Days' notice to the Agent, to 20 terminate in whole or reduce ratably in part the Commitments of the Lenders, provided that each partial reduction shall be in the aggregate amount of $10,000,000 or an integral multiple of $1,000,000 in excess thereof. (b) All unused Commitments shall automatically terminate after the Advances are made on the Closing Date. In addition, the Commitments shall automatically terminate in the event that the Closing Date does not occur on or before the earlier of (i) 5:00 p.m., New York City time, on October 31, 2012 or (ii) the date on which the Merger Agreement terminates or the Borrower publicly announces its intention not to proceed with the Merger. (c) Upon the receipt prior to the Closing Date of Net Cash Proceeds of any Prepayment Event, the Commitments shall automatically be reduced in an aggregate amount equal to 100% of the Net Cash Proceeds of such Prepayment Event (but subject in all respect to the reinvestment rights set forth in the definition of Net Cash Proceeds). The Borrower shall notify the Agent of the occurrence of any Prepayment Event at least two Business Days prior to the consummation of such Prepayment Event and such notice shall be accompanied by a reasonably detailed calculation of the anticipated Net Cash Proceeds thereof. Promptly following receipt of such notice, the Agent shall advise the Lenders of the occurrence of the Prepayment Event and the anticipated Net Cash Proceeds thereof. Any termination or reduction of the Commitments shall be permanent. Each reduction of the Commitments shall be made ratably among the Lenders in accordance with their respective Commitments. Section 2.05 . Repayment of Advances. The Borrower shall repay to the Agent for the ratable account of the Lenders on the Maturity Date the aggregate principal amount of the Advances made to it and then outstanding. Section 2.06 . Interest on Advances. (a) Scheduled Interest . The Borrower shall pay interest on the unpaid principal amount of each Advance made to it and owing to each Lender from the date of such Advance until such principal amount shall be paid in full, at the following rates per annum: (i) Base Rate Advances . During such periods as such Advance is a Base Rate Advance, a rate per annum equal at all times to the sum of (x) the Base Rate in effect from time to time plus (y) the Applicable Margin in effect from time to time, payable in arrears quarterly on the last day of each March, June, September and December during such periods and on the date such Base Rate Advance shall be Converted or paid in full. (ii) Eurodollar Rate Advances .\n",
    "\"\"\""
   ]
  },
  {
   "cell_type": "code",
   "execution_count": 55,
   "metadata": {
    "collapsed": true
   },
   "outputs": [],
   "source": [
    "# Definition of term (or aggregated definitions)\n",
    "def_contexts = [\n",
    "    \"Acquired Business Material Adverse Effect  means any effect that (a) has had a material adverse effect on the results of operations, assets, business or financial condition of the Acquired Business, taken as a whole, except that effects caused by any of the following, either alone or in combination, will not be taken into consideration for the purpose of determining whether an Acquired Business Material Adverse Effect has occurred pursuant to this clause (a): (i) any changes or circumstances affecting market, economic, credit, securities market, regulatory or political conditions in the United States or any other country in which the Acquired Business operates to the extent that such effects are not borne disproportionately by the Acquired Business; (ii) any changes or circumstances affecting any industry in which the Acquired Business operates to the extent that such effects are not borne disproportionately by the Acquired Business; (iii) any change in the price or availability of any raw material or commodity used or sold by the Acquired Business, provided that such effects are not borne disproportionately by the Acquired Business; (iv) any enactment of, change in, or change in interpretation of, any law or GAAP or governmental policy; (v) any acts of God, natural disasters, terrorism, armed hostilities, sabotage, war or any escalation or worsening of acts of terrorism, armed hostilities or war, or any escalation of any of the foregoing; (vi) any changes as a result of the announcement or pendency of the Merger Agreement or performance of the Transactions (as defined in the Merger Agreement), including by reason of the identity of the Acquired Business; (vii) any action taken pursuant to the terms of the Merger Agreement or with the consent or at the direction of the Borrower (or any action not taken as a result of the failure of the Borrower to consent to any action requiring the Borrower's consent); (viii) any change in the market price, or change in trading volume, of the capital stock of the Acquired Business; (ix) any failure by the Acquired Business to meet internal, analysts' or other earnings estimates or financial projections or forecasts for any period, or any changes in credit ratings and any changes in any analysts' recommendations or ratings with respect to the Acquired Business; (x) any pending, initiated, or threatened legal or administrative proceeding, claim, suit or action against the Acquired Business or any of its officers or directors, in each case, arising out of or relating to the Transactions (as defined in the Merger Agreement) and (xi) the effect of any matters specifically disclosed in the Company Disclosure Letter or Parent Disclosure Letter (each as defined in the Merger Agreement), as applicable, or in the registration statements, reports and proxy statements filed by the Acquired Business since January 1, 2010 (collectively, and in each case including all exhibits and schedules thereto and documents incorporated by reference therein, as such statements and reports may have been amended since the date of their filing, the  Company Reports ), as filed or amended as through the Commitment Date but, solely for purposes of this clause (xi) and the references to the Company Reports referenced to therein, this clause (xi) shall not be deemed to be an exclusion of consideration for any risk factor disclosure under the headings Risk Factors, Forward Looking Statements or any similar precautionary sections in the Company Reports, or (b) would, individually or in the aggregate, prevent or materially delay the consummation by the Acquired Business of the Transaction (as defined in the Merger Agreement)\",\n",
    "    \"Acquired something else means any effect that (a) has material adverse adverse ok!\"\n",
    "    ]"
   ]
  },
  {
   "cell_type": "code",
   "execution_count": 56,
   "metadata": {
    "collapsed": true
   },
   "outputs": [],
   "source": [
    "# Sub strings and some new content\n",
    "found_context = \"Acquired Business Material Adverse Effect  means any effect that (a) has had a material adverse effect on\""
   ]
  },
  {
   "cell_type": "markdown",
   "metadata": {},
   "source": [
    "### Create vectorizer"
   ]
  },
  {
   "cell_type": "code",
   "execution_count": 57,
   "metadata": {
    "collapsed": false
   },
   "outputs": [],
   "source": [
    "cv = CountVectorizer(stop_words='english', min_df=1, max_df=1.0, max_features=100,\n",
    "                     strip_accents=\"unicode\", lowercase=True, ngram_range=(1,1))"
   ]
  },
  {
   "cell_type": "code",
   "execution_count": 58,
   "metadata": {
    "collapsed": false
   },
   "outputs": [
    {
     "data": {
      "text/plain": [
       "CountVectorizer(analyzer='word', binary=False, decode_error='strict',\n",
       "        dtype=<class 'numpy.int64'>, encoding='utf-8', input='content',\n",
       "        lowercase=True, max_df=1.0, max_features=100, min_df=1,\n",
       "        ngram_range=(1, 1), preprocessor=None, stop_words='english',\n",
       "        strip_accents='unicode', token_pattern='(?u)\\\\b\\\\w\\\\w+\\\\b',\n",
       "        tokenizer=None, vocabulary=None)"
      ]
     },
     "execution_count": 58,
     "metadata": {},
     "output_type": "execute_result"
    }
   ],
   "source": [
    "# Splitting on \".\" gives a list of 'documents' that look like sentences (dot-separated)\n",
    "cv.fit(raw_text.split(\".\"))"
   ]
  },
  {
   "cell_type": "markdown",
   "metadata": {},
   "source": [
    "### Vectorize definition and found texts"
   ]
  },
  {
   "cell_type": "code",
   "execution_count": 60,
   "metadata": {
    "collapsed": false
   },
   "outputs": [
    {
     "data": {
      "text/plain": [
       "(<2x100 sparse matrix of type '<class 'numpy.int64'>'\n",
       " \twith 22 stored elements in Compressed Sparse Row format>,\n",
       " <1x100 sparse matrix of type '<class 'numpy.int64'>'\n",
       " \twith 2 stored elements in Compressed Sparse Row format>)"
      ]
     },
     "execution_count": 60,
     "metadata": {},
     "output_type": "execute_result"
    }
   ],
   "source": [
    "# Not splitting definition context or found context in multiple \"documents\" - \n",
    "# Just want the vector representation of the whole things as a single \"document\"\n",
    "# Also NOTE: Must be lists/tuples, not strings. If strings, treats string as the iterable\n",
    "# which results in taking each string character as a \"document\" to transform\n",
    "\n",
    "def_mtx = cv.transform(def_contexts)\n",
    "found_mtx = cv.transform([found_context])\n",
    "\n",
    "def_mtx, found_mtx"
   ]
  },
  {
   "cell_type": "code",
   "execution_count": 62,
   "metadata": {
    "collapsed": true
   },
   "outputs": [],
   "source": [
    "def context_jaccard_sim(t, p):\n",
    "    sim = 0.0\n",
    "    count = 0\n",
    "    for i in range(len(t)):\n",
    "        if p[i] == 0:\n",
    "            continue\n",
    "        count += 1\n",
    "        sim += float(min(t[i], p[i])) / p[i]\n",
    "    return sim / count"
   ]
  },
  {
   "cell_type": "code",
   "execution_count": 65,
   "metadata": {
    "collapsed": false
   },
   "outputs": [
    {
     "name": "stdout",
     "output_type": "stream",
     "text": [
      "0\t0\t00\n",
      "0\t0\t000\n",
      "0\t0\t01\n",
      "0\t0\t02\n",
      "0\t0\t04\n",
      "0\t0\t11\n",
      "0\t0\taccordance\n",
      "0\t0\taccount\n",
      "0\t0\tadvance\n",
      "0\t0\tadvances\n",
      "0\t0\tagent\n",
      "1\t0\taggregate\n",
      "6\t0\tagreement\n",
      "0\t0\tagrees\n",
      "0\t0\tannum\n",
      "0\t0\tanticipated\n",
      "1\t0\tapplicable\n",
      "0\t0\tarticle\n",
      "0\t0\tautomatically\n",
      "0\t0\tavailable\n",
      "0\t0\tbase\n",
      "3\t0\tborrower\n",
      "0\t0\tborrowing\n",
      "0\t0\tbridge\n",
      "17\t1\tbusiness\n",
      "2\t0\tcase\n",
      "0\t0\tcash\n",
      "0\t0\tcity\n",
      "0\t0\tclosing\n",
      "1\t0\tcommitment\n",
      "0\t0\tcommitments\n",
      "0\t0\tcomprising\n",
      "1\t0\tconditions\n",
      "0\t0\tconsisting\n",
      "0\t0\tcorresponding\n",
      "0\t0\tcost\n",
      "2\t0\tdate\n",
      "0\t0\tday\n",
      "0\t0\tdays\n",
      "0\t0\tearlier\n",
      "5\t3\teffect\n",
      "0\t0\teffective\n",
      "0\t0\tequal\n",
      "0\t0\teurodollar\n",
      "0\t0\tevent\n",
      "0\t0\texpense\n",
      "2\t0\tfailure\n",
      "0\t0\tfee\n",
      "0\t0\tfees\n",
      "1\t0\tfollowing\n",
      "0\t0\tforth\n",
      "0\t0\tfunding\n",
      "0\t0\tfunds\n",
      "0\t0\thereunder\n",
      "1\t0\tii\n",
      "1\t0\tiii\n",
      "2\t0\tincluding\n",
      "0\t0\tincurred\n",
      "0\t0\tlater\n",
      "0\t0\tlender\n",
      "0\t0\tlenders\n",
      "2\t0\tletter\n",
      "0\t0\tloss\n",
      "0\t0\tmake\n",
      "0\t0\tmarch\n",
      "6\t0\tmerger\n",
      "0\t0\tnet\n",
      "0\t0\tnew\n",
      "0\t0\tnotice\n",
      "0\t0\toutstanding\n",
      "0\t0\tpaid\n",
      "0\t0\tpay\n",
      "0\t0\tpayable\n",
      "0\t0\tportion\n",
      "0\t0\tprepayment\n",
      "0\t0\tprincipal\n",
      "0\t0\tprior\n",
      "0\t0\tproceeds\n",
      "2\t0\tpursuant\n",
      "0\t0\tratable\n",
      "0\t0\tratably\n",
      "0\t0\trate\n",
      "0\t0\treceipt\n",
      "0\t0\treduction\n",
      "0\t0\trelated\n",
      "0\t0\trepaid\n",
      "0\t0\trepay\n",
      "0\t0\trequested\n",
      "1\t0\trespect\n",
      "2\t0\tresult\n",
      "0\t0\tsection\n",
      "0\t0\tset\n",
      "0\t0\tseverally\n",
      "1\t0\tshall\n",
      "0\t0\tterminate\n",
      "0\t0\ttermination\n",
      "0\t0\tthereof\n",
      "0\t0\ttime\n",
      "0\t0\tundrawn\n",
      "0\t0\tyork\n"
     ]
    }
   ],
   "source": [
    "# Iterate over the definition vector, found vector, and terms vector to see overlap\n",
    "\n",
    "for d, f, t in zip(def_vec, found_vec, cv.get_feature_names()):\n",
    "    print(\"{}\\t{}\\t{}\".format(d,f,t))"
   ]
  },
  {
   "cell_type": "markdown",
   "metadata": {},
   "source": [
    "### Similarity between found and def vecs in Document vocabulary space"
   ]
  },
  {
   "cell_type": "code",
   "execution_count": 72,
   "metadata": {
    "collapsed": false
   },
   "outputs": [
    {
     "name": "stdout",
     "output_type": "stream",
     "text": [
      "[[ 0.4868645]\n",
      " [ 0.9486833]]\n",
      "0.948683298051\n"
     ]
    }
   ],
   "source": [
    "# Cosine Similarity (doesn't take into account sparsity)\n",
    "sims = cosine_similarity(def_mtx, found_mtx)\n",
    "print(sims)\n",
    "print(sims.max())"
   ]
  },
  {
   "cell_type": "code",
   "execution_count": 74,
   "metadata": {
    "collapsed": false
   },
   "outputs": [
    {
     "name": "stdout",
     "output_type": "stream",
     "text": [
      "1.0\n",
      "0.166666666667\n"
     ]
    }
   ],
   "source": [
    "# 'Context' jaccard similarity (like weighted jaccard similarity) - takes sparsity into account\n",
    "print(context_jaccard_sim(def_mtx[0].toarray().flatten(), found_mtx.toarray().flatten()))\n",
    "print(context_jaccard_sim(def_mtx[1].toarray().flatten(), found_mtx.toarray().flatten()))"
   ]
  }
 ],
 "metadata": {
  "kernelspec": {
   "display_name": "Python 3",
   "language": "python",
   "name": "python3"
  },
  "language_info": {
   "codemirror_mode": {
    "name": "ipython",
    "version": 3
   },
   "file_extension": ".py",
   "mimetype": "text/x-python",
   "name": "python",
   "nbconvert_exporter": "python",
   "pygments_lexer": "ipython3",
   "version": "3.5.1"
  }
 },
 "nbformat": 4,
 "nbformat_minor": 1
}
