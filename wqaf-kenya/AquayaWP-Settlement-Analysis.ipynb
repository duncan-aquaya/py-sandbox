{
 "cells": [
  {
   "cell_type": "markdown",
   "id": "38c556cb-193f-4bf8-bd1c-dc90f3302007",
   "metadata": {},
   "source": [
    "# Aquaya Waterpoint - Settlement Analysis\n",
    "\n",
    "\n",
    "Explore Aquaya \"Study\" waterpoints for three counties (considered our ground truth?),\n",
    "corresponding labs for those counties, and settlement extents and PPs to see if we can\n",
    "derive population numbers and/or settlement classifications that we should look at to\n",
    "derive expansion numbers"
   ]
  },
  {
   "cell_type": "code",
   "execution_count": 1,
   "id": "279efead-17a0-451e-9d28-7b2ac4fc36b6",
   "metadata": {},
   "outputs": [],
   "source": [
    "import pandas as pd\n",
    "import geopandas as gpd"
   ]
  },
  {
   "cell_type": "code",
   "execution_count": 2,
   "id": "19eea6d4-2ad0-40d0-939c-b35124992425",
   "metadata": {},
   "outputs": [],
   "source": [
    "from utilities import county_shape_style\n",
    "from config import study_counties, study_labs, codpp_cols, codpp_county_map"
   ]
  },
  {
   "cell_type": "code",
   "execution_count": 3,
   "id": "037a9266-5eef-4b29-883b-474a35f499d3",
   "metadata": {},
   "outputs": [
    {
     "data": {
      "text/plain": [
       "['Nakuru', 'Uasin Gishu', 'Kericho']"
      ]
     },
     "execution_count": 3,
     "metadata": {},
     "output_type": "execute_result"
    }
   ],
   "source": [
    "study_counties"
   ]
  },
  {
   "cell_type": "code",
   "execution_count": 53,
   "id": "4ee63fd7-a5b0-49b7-b755-1b0b0563fcc6",
   "metadata": {},
   "outputs": [],
   "source": [
    "CRS_LATLON = \"EPSG:4326\"\n",
    "CRS_KENYA = \"EPSG:21037\""
   ]
  },
  {
   "cell_type": "markdown",
   "id": "e79984b5-a4a8-470c-a25f-84f5593abb7d",
   "metadata": {},
   "source": [
    "## Load Data"
   ]
  },
  {
   "cell_type": "code",
   "execution_count": 54,
   "id": "072992b1-d2f1-41ba-9066-e18f67afac01",
   "metadata": {},
   "outputs": [
    {
     "data": {
      "text/plain": [
       "(3, 13)"
      ]
     },
     "execution_count": 54,
     "metadata": {},
     "output_type": "execute_result"
    }
   ],
   "source": [
    "# COD Administrative Boundaries\n",
    "# NB: To list layers in a shapefile: `gpd.list_layers(adm_file)`\n",
    "adm_file = \"./data/ken_adm_iebc_20191031_shp.zip\"\n",
    "adm_df = gpd.read_file(adm_file, layer=\"ken_admbnda_adm1_iebc_20191031\").to_crs(CRS_KENYA)\n",
    "adm_df = adm_df[adm_df[\"ADM1_EN\"].isin(study_counties)].copy()\n",
    "adm_df.shape"
   ]
  },
  {
   "cell_type": "code",
   "execution_count": 56,
   "id": "6f4de1e7-1b70-474e-8ff0-ddb893eb2e5e",
   "metadata": {},
   "outputs": [
    {
     "data": {
      "text/plain": [
       "(35, 5)"
      ]
     },
     "execution_count": 56,
     "metadata": {},
     "output_type": "execute_result"
    }
   ],
   "source": [
    "# Aquaya Study waterpoints\n",
    "wp_file = \"./data/AF-Kenya Study Systems - GPS water systems.xlsx\"\n",
    "wp_df = pd.read_excel(wp_file, sheet_name=\"Systems - Cleaned\")\n",
    "wp_df = gpd.GeoDataFrame(wp_df, geometry=gpd.points_from_xy(wp_df[\"Lon\"], wp_df[\"Lat\"], crs=CRS_LATLON)).to_crs(CRS_KENYA)\n",
    "assert all(c in study_counties for c in wp_df[\"County\"].unique())\n",
    "wp_df.shape"
   ]
  },
  {
   "cell_type": "code",
   "execution_count": 60,
   "id": "40779f6b-b47d-4ab3-9679-aab176b224e4",
   "metadata": {},
   "outputs": [
    {
     "data": {
      "text/plain": [
       "(3, 9)"
      ]
     },
     "execution_count": 60,
     "metadata": {},
     "output_type": "execute_result"
    }
   ],
   "source": [
    "# WQ Labs\n",
    "labs_file = \"./data/KENAS Accredited Laboratories.xlsx\"\n",
    "labs_df = pd.read_excel(labs_file, sheet_name=\"KENAS Water Quality Testing Lab\")\n",
    "labs_df = gpd.GeoDataFrame(labs_df, geometry=gpd.points_from_xy(labs_df[\"Longitude (Y)\"], labs_df[\"Latitude (X)\"], crs=CRS_LATLON)).to_crs(CRS_KENYA)\n",
    "labs_df = labs_df[labs_df[\"Laboratory Name\"].isin(study_labs)]\n",
    "labs_df.shape"
   ]
  },
  {
   "cell_type": "code",
   "execution_count": 63,
   "id": "839e2b11-091c-4d22-88d1-97e8f6d96ef6",
   "metadata": {},
   "outputs": [
    {
     "data": {
      "text/plain": [
       "(14692, 10)"
      ]
     },
     "execution_count": 63,
     "metadata": {},
     "output_type": "execute_result"
    }
   ],
   "source": [
    "# Settlement Areas (Start w/v3)\n",
    "se_file = \"./data/GRID3_Kenya_Settlement_Extents_Version_3.0/GRID3_KEN_settlement_extents_v3_0.gpkg\"\n",
    "se_df = gpd.read_file(se_file).to_crs(crs=CRS_KENYA)\n",
    "se_df = se_df[se_df.apply(lambda r: r[\"geometry\"].intersects(adm_df.geometry).sum() > 0, axis=1)].copy()\n",
    "se_df.shape"
   ]
  },
  {
   "cell_type": "code",
   "execution_count": 64,
   "id": "43087484-a58b-4299-90d7-27d03cc392e3",
   "metadata": {},
   "outputs": [
    {
     "data": {
      "text/plain": [
       "((66, 10), (1305, 10), (13321, 10))"
      ]
     },
     "execution_count": 64,
     "metadata": {},
     "output_type": "execute_result"
    }
   ],
   "source": [
    "# Settlement Areas split out by type\n",
    "bua_df = se_df[se_df[\"type\"]==\"Built-up Area\"].copy()\n",
    "ssa_df = se_df[se_df[\"type\"]==\"Small Settlement Area\"].copy()\n",
    "ham_df = se_df[se_df[\"type\"]==\"Hamlet\"].copy()\n",
    "\n",
    "bua_df.shape, ssa_df.shape, ham_df.shape"
   ]
  },
  {
   "cell_type": "code",
   "execution_count": 69,
   "id": "3d5ccb9a-ec43-4c86-97b1-f85bd991550d",
   "metadata": {},
   "outputs": [
    {
     "data": {
      "text/plain": [
       "(72, 9)"
      ]
     },
     "execution_count": 69,
     "metadata": {},
     "output_type": "execute_result"
    }
   ],
   "source": [
    "# COD Populated Places\n",
    "codpp_file = \"./data/KEN_Populated places_2002_DEPHA\"\n",
    "codpp_df = gpd.read_file(codpp_file)[codpp_cols].copy().to_crs(crs=CRS_KENYA)\n",
    "codpp_df[\"DISTRICT\"] = codpp_df[\"DISTRICT\"].replace(codpp_county_map)\n",
    "codpp_df = codpp_df[codpp_df[\"DISTRICT\"].isin(study_counties)].copy()\n",
    "assert len(set(study_counties) - set(codpp_df[\"DISTRICT\"].unique())) == 0, \"Study counties missing\"\n",
    "codpp_df.shape"
   ]
  },
  {
   "cell_type": "code",
   "execution_count": 76,
   "id": "9d56e292-29bd-4f1a-8745-ba5ce14a2ff6",
   "metadata": {},
   "outputs": [
    {
     "data": {
      "text/plain": [
       "(3478, 10)"
      ]
     },
     "execution_count": 76,
     "metadata": {},
     "output_type": "execute_result"
    }
   ],
   "source": [
    "# HOTOSM Populated Places\n",
    "hotosm_file = \"./data/hotosm_ken_populated_places_points_shp.zip\"\n",
    "hotosm_df = gpd.read_file(hotosm_file).to_crs(crs=CRS_KENYA)\n",
    "hotosm_df = hotosm_df[~hotosm_df[\"place\"].isin([\"isolated_dwelling\"])]\n",
    "hotosm_df = hotosm_df[hotosm_df.apply(lambda r: r[\"geometry\"].intersects(adm_df.geometry).sum() > 0, axis=1)].copy()\n",
    "hotosm_df.shape"
   ]
  },
  {
   "cell_type": "markdown",
   "id": "30741b5d-216e-4a79-8ffa-7536c90ee1bc",
   "metadata": {},
   "source": [
    "## Quick check of SEs"
   ]
  },
  {
   "cell_type": "code",
   "execution_count": 13,
   "id": "61f32066-d3d3-4c67-b3aa-d3dc0654fa6d",
   "metadata": {},
   "outputs": [
    {
     "data": {
      "text/html": [
       "<div>\n",
       "<style scoped>\n",
       "    .dataframe tbody tr th:only-of-type {\n",
       "        vertical-align: middle;\n",
       "    }\n",
       "\n",
       "    .dataframe tbody tr th {\n",
       "        vertical-align: top;\n",
       "    }\n",
       "\n",
       "    .dataframe thead th {\n",
       "        text-align: right;\n",
       "    }\n",
       "</style>\n",
       "<table border=\"1\" class=\"dataframe\">\n",
       "  <thead>\n",
       "    <tr style=\"text-align: right;\">\n",
       "      <th></th>\n",
       "      <th>country</th>\n",
       "      <th>iso3</th>\n",
       "      <th>building_count</th>\n",
       "      <th>building_area</th>\n",
       "      <th>type</th>\n",
       "      <th>probability</th>\n",
       "      <th>date</th>\n",
       "      <th>source</th>\n",
       "      <th>mgrs_code</th>\n",
       "      <th>geometry</th>\n",
       "    </tr>\n",
       "  </thead>\n",
       "  <tbody>\n",
       "    <tr>\n",
       "      <th>37235</th>\n",
       "      <td>Kenya</td>\n",
       "      <td>KEN</td>\n",
       "      <td>29</td>\n",
       "      <td>1070.958497</td>\n",
       "      <td>Hamlet</td>\n",
       "      <td>0.999986</td>\n",
       "      <td>2024</td>\n",
       "      <td>CIESIN</td>\n",
       "      <td>37NAA9616_1</td>\n",
       "      <td>MULTIPOLYGON (((196925.107 10016350.715, 19692...</td>\n",
       "    </tr>\n",
       "    <tr>\n",
       "      <th>37236</th>\n",
       "      <td>Kenya</td>\n",
       "      <td>KEN</td>\n",
       "      <td>3</td>\n",
       "      <td>142.962997</td>\n",
       "      <td>Hamlet</td>\n",
       "      <td>0.912191</td>\n",
       "      <td>2024</td>\n",
       "      <td>CIESIN</td>\n",
       "      <td>37NAA9616_2</td>\n",
       "      <td>MULTIPOLYGON (((196513.954 10016612.036, 19651...</td>\n",
       "    </tr>\n",
       "  </tbody>\n",
       "</table>\n",
       "</div>"
      ],
      "text/plain": [
       "      country iso3  building_count  building_area    type  probability  date  \\\n",
       "37235   Kenya  KEN              29    1070.958497  Hamlet     0.999986  2024   \n",
       "37236   Kenya  KEN               3     142.962997  Hamlet     0.912191  2024   \n",
       "\n",
       "       source    mgrs_code                                           geometry  \n",
       "37235  CIESIN  37NAA9616_1  MULTIPOLYGON (((196925.107 10016350.715, 19692...  \n",
       "37236  CIESIN  37NAA9616_2  MULTIPOLYGON (((196513.954 10016612.036, 19651...  "
      ]
     },
     "execution_count": 13,
     "metadata": {},
     "output_type": "execute_result"
    }
   ],
   "source": [
    "se_df.head(2)"
   ]
  },
  {
   "cell_type": "code",
   "execution_count": 14,
   "id": "dcf2f631-23ad-4a30-944b-809f35bc1ec1",
   "metadata": {},
   "outputs": [
    {
     "data": {
      "text/plain": [
       "type\n",
       "Hamlet                   13321\n",
       "Small Settlement Area     1305\n",
       "Built-up Area               66\n",
       "Name: count, dtype: int64"
      ]
     },
     "execution_count": 14,
     "metadata": {},
     "output_type": "execute_result"
    }
   ],
   "source": [
    "se_df[\"type\"].value_counts()"
   ]
  },
  {
   "cell_type": "markdown",
   "id": "780dc5df-5718-4295-ad20-a18bebba6638",
   "metadata": {
    "jp-MarkdownHeadingCollapsed": true
   },
   "source": [
    "## Explore All w/Aquaya WPs highlighted"
   ]
  },
  {
   "cell_type": "code",
   "execution_count": 22,
   "id": "9479998c-fafd-4e50-8abf-f7bf70a0ce2d",
   "metadata": {},
   "outputs": [],
   "source": [
    "# Plot ADM boundaries\n",
    "disp_cols = [\"ADM1_EN\", \"ADM1_PCODE\", \"Shape_Area\"]\n",
    "disp_style = dict(color=\"red\", weight=2, opacity=0.75, fill=True, fillOpacity=0.05)\n",
    "m = adm_df.explore(style_kwds=disp_style, tooltip=False, popup=disp_cols, highlight=False)"
   ]
  },
  {
   "cell_type": "code",
   "execution_count": 24,
   "id": "d0f1638f-08f6-45cf-a61d-a3be569bd6c6",
   "metadata": {},
   "outputs": [],
   "source": [
    "# Add Settlement Areas\n",
    "m = se_df.explore(\"type\", cmap=\"tab20\", legend=True, m=m)"
   ]
  },
  {
   "cell_type": "code",
   "execution_count": null,
   "id": "717c78ec-151e-4156-ab5b-255821207ce1",
   "metadata": {},
   "outputs": [],
   "source": [
    "# Add both Populated Place sources\n",
    "m = codpp_df.explore(color=\"dodgerblue\", m=m)\n",
    "m = hotosm_df.explore(color=\"mediumorchid\", m=m)"
   ]
  },
  {
   "cell_type": "code",
   "execution_count": null,
   "id": "f96974bc-8d56-4ae7-91d5-47fbf63edded",
   "metadata": {},
   "outputs": [],
   "source": [
    "# Add Labs - large markers\n",
    "m = labs_df.explore(color=\"green\", marker_kwds=dict(radius=10), m=m)"
   ]
  },
  {
   "cell_type": "code",
   "execution_count": null,
   "id": "e32471e2-52d7-4d13-af6c-e45fbc313b03",
   "metadata": {},
   "outputs": [],
   "source": [
    "# Add Aquaya WPS - bright blue markers with black boundaries\n",
    "m = wp_df.explore(color=\"cyan\", marker_kwds=dict(radius=5), m=m)"
   ]
  },
  {
   "cell_type": "markdown",
   "id": "5cc2854a-3d6c-43ae-8bdb-44416896ec06",
   "metadata": {},
   "source": [
    "## Aquaya WP vs. Community Stats"
   ]
  },
  {
   "cell_type": "code",
   "execution_count": 64,
   "id": "206f5923-5aaf-4189-bb77-1e13648d1e9f",
   "metadata": {},
   "outputs": [
    {
     "data": {
      "text/plain": [
       "np.int64(0)"
      ]
     },
     "execution_count": 64,
     "metadata": {},
     "output_type": "execute_result"
    }
   ],
   "source": [
    "# Waterpoints within settlement shapes\n",
    "wp_df.apply(lambda r: r[\"geometry\"].intersects(se_df.geometry).sum(), axis=1).sum()"
   ]
  },
  {
   "cell_type": "code",
   "execution_count": 66,
   "id": "f34ec53b-5e40-4193-bf56-55e5b4e8cb2b",
   "metadata": {},
   "outputs": [
    {
     "data": {
      "text/plain": [
       "np.int64(0)"
      ]
     },
     "execution_count": 66,
     "metadata": {},
     "output_type": "execute_result"
    }
   ],
   "source": [
    "# Waterpoints within 1k of settlement shapes\n",
    "wp_df.apply(lambda r: (r[\"geometry\"].distance(se_df.geometry) < 1000).any(), axis=1).sum()"
   ]
  },
  {
   "cell_type": "code",
   "execution_count": 70,
   "id": "93d4a4b5-6b24-47ff-9ef2-b13ed7283614",
   "metadata": {},
   "outputs": [
    {
     "data": {
      "text/plain": [
       "0     0.132925\n",
       "4     1.083452\n",
       "15    1.210095\n",
       "Name: geometry, dtype: float64"
      ]
     },
     "execution_count": 70,
     "metadata": {},
     "output_type": "execute_result"
    }
   ],
   "source": [
    "wp_df.iloc[0].geometry.distance(labs_df.geometry)"
   ]
  },
  {
   "cell_type": "code",
   "execution_count": 71,
   "id": "53525283-19d3-4f2b-8fa2-e09d68fa3957",
   "metadata": {},
   "outputs": [
    {
     "data": {
      "text/plain": [
       "County                         Nakuru\n",
       "Name                  Njoro 1 treated\n",
       "Lon                          35.93872\n",
       "Lat                          -0.32611\n",
       "geometry    POINT (35.93872 -0.32611)\n",
       "Name: 0, dtype: object"
      ]
     },
     "execution_count": 71,
     "metadata": {},
     "output_type": "execute_result"
    }
   ],
   "source": [
    "wp_df.iloc[0]"
   ]
  },
  {
   "cell_type": "code",
   "execution_count": 72,
   "id": "35d64d02-d54f-4c92-be3b-5331a8ffe548",
   "metadata": {},
   "outputs": [
    {
     "data": {
      "text/html": [
       "<div>\n",
       "<style scoped>\n",
       "    .dataframe tbody tr th:only-of-type {\n",
       "        vertical-align: middle;\n",
       "    }\n",
       "\n",
       "    .dataframe tbody tr th {\n",
       "        vertical-align: top;\n",
       "    }\n",
       "\n",
       "    .dataframe thead th {\n",
       "        text-align: right;\n",
       "    }\n",
       "</style>\n",
       "<table border=\"1\" class=\"dataframe\">\n",
       "  <thead>\n",
       "    <tr style=\"text-align: right;\">\n",
       "      <th></th>\n",
       "      <th>Laboratory Name</th>\n",
       "      <th>Location (County)</th>\n",
       "      <th>Laboratory Type</th>\n",
       "      <th>Accreditation Expiry Date</th>\n",
       "      <th>Latitude (X)</th>\n",
       "      <th>Longitude (Y)</th>\n",
       "      <th>Contact</th>\n",
       "      <th>Assurance Fund Selection</th>\n",
       "      <th>geometry</th>\n",
       "    </tr>\n",
       "  </thead>\n",
       "  <tbody>\n",
       "    <tr>\n",
       "      <th>0</th>\n",
       "      <td>Nakuru Water and Sanitation Services Company L...</td>\n",
       "      <td>Nakuru</td>\n",
       "      <td>Utility</td>\n",
       "      <td>2024-11-30</td>\n",
       "      <td>-0.285098</td>\n",
       "      <td>36.065160</td>\n",
       "      <td>+254 51 212269/214148</td>\n",
       "      <td>Round 1</td>\n",
       "      <td>POINT (36.065 -0.285)</td>\n",
       "    </tr>\n",
       "    <tr>\n",
       "      <th>4</th>\n",
       "      <td>Eldoret Water And Sanitation Company Limited</td>\n",
       "      <td>Uasin Gishu</td>\n",
       "      <td>Utility</td>\n",
       "      <td>2026-09-13</td>\n",
       "      <td>0.529160</td>\n",
       "      <td>35.273602</td>\n",
       "      <td>+254 724255538</td>\n",
       "      <td>Round 1</td>\n",
       "      <td>POINT (35.274 0.529)</td>\n",
       "    </tr>\n",
       "    <tr>\n",
       "      <th>15</th>\n",
       "      <td>Kisumu Water and Sanitation Company Limited (K...</td>\n",
       "      <td>Kisumu</td>\n",
       "      <td>Utility</td>\n",
       "      <td>NaT</td>\n",
       "      <td>-0.098026</td>\n",
       "      <td>34.750314</td>\n",
       "      <td>NaN</td>\n",
       "      <td>Study Round 1</td>\n",
       "      <td>POINT (34.75 -0.098)</td>\n",
       "    </tr>\n",
       "  </tbody>\n",
       "</table>\n",
       "</div>"
      ],
      "text/plain": [
       "                                      Laboratory Name Location (County)  \\\n",
       "0   Nakuru Water and Sanitation Services Company L...            Nakuru   \n",
       "4        Eldoret Water And Sanitation Company Limited       Uasin Gishu   \n",
       "15  Kisumu Water and Sanitation Company Limited (K...            Kisumu   \n",
       "\n",
       "   Laboratory Type Accreditation Expiry Date  Latitude (X)  Longitude (Y)  \\\n",
       "0          Utility                2024-11-30     -0.285098      36.065160   \n",
       "4          Utility                2026-09-13      0.529160      35.273602   \n",
       "15         Utility                       NaT     -0.098026      34.750314   \n",
       "\n",
       "                  Contact Assurance Fund Selection               geometry  \n",
       "0   +254 51 212269/214148                  Round 1  POINT (36.065 -0.285)  \n",
       "4          +254 724255538                  Round 1   POINT (35.274 0.529)  \n",
       "15                    NaN            Study Round 1   POINT (34.75 -0.098)  "
      ]
     },
     "execution_count": 72,
     "metadata": {},
     "output_type": "execute_result"
    }
   ],
   "source": [
    "labs_df"
   ]
  },
  {
   "cell_type": "code",
   "execution_count": 73,
   "id": "7e7afaca-0202-412c-b99d-f84fb4b4d578",
   "metadata": {},
   "outputs": [
    {
     "data": {
      "text/plain": [
       "<Projected CRS: EPSG:32736>\n",
       "Name: WGS 84 / UTM zone 36S\n",
       "Axis Info [cartesian]:\n",
       "- E[east]: Easting (metre)\n",
       "- N[north]: Northing (metre)\n",
       "Area of Use:\n",
       "- name: Between 30°E and 36°E, southern hemisphere between 80°S and equator, onshore and offshore. Burundi. Eswatini (Swaziland). Kenya. Malawi. Mozambique. Rwanda. South Africa. Tanzania. Uganda. Zambia. Zimbabwe.\n",
       "- bounds: (30.0, -80.0, 36.0, 0.0)\n",
       "Coordinate Operation:\n",
       "- name: UTM zone 36S\n",
       "- method: Transverse Mercator\n",
       "Datum: World Geodetic System 1984 ensemble\n",
       "- Ellipsoid: WGS 84\n",
       "- Prime Meridian: Greenwich"
      ]
     },
     "execution_count": 73,
     "metadata": {},
     "output_type": "execute_result"
    }
   ],
   "source": [
    "labs_df.crs"
   ]
  },
  {
   "cell_type": "code",
   "execution_count": 74,
   "id": "0e55b8ac-e0ed-436b-9699-7c4ba7c4e806",
   "metadata": {},
   "outputs": [
    {
     "data": {
      "text/plain": [
       "<Projected CRS: EPSG:32736>\n",
       "Name: WGS 84 / UTM zone 36S\n",
       "Axis Info [cartesian]:\n",
       "- E[east]: Easting (metre)\n",
       "- N[north]: Northing (metre)\n",
       "Area of Use:\n",
       "- name: Between 30°E and 36°E, southern hemisphere between 80°S and equator, onshore and offshore. Burundi. Eswatini (Swaziland). Kenya. Malawi. Mozambique. Rwanda. South Africa. Tanzania. Uganda. Zambia. Zimbabwe.\n",
       "- bounds: (30.0, -80.0, 36.0, 0.0)\n",
       "Coordinate Operation:\n",
       "- name: UTM zone 36S\n",
       "- method: Transverse Mercator\n",
       "Datum: World Geodetic System 1984 ensemble\n",
       "- Ellipsoid: WGS 84\n",
       "- Prime Meridian: Greenwich"
      ]
     },
     "execution_count": 74,
     "metadata": {},
     "output_type": "execute_result"
    }
   ],
   "source": [
    "wp_df.crs"
   ]
  },
  {
   "cell_type": "code",
   "execution_count": null,
   "id": "17fa2547-4b95-4de5-843f-88c8c953d069",
   "metadata": {},
   "outputs": [],
   "source": []
  }
 ],
 "metadata": {
  "kernelspec": {
   "display_name": "aquaya-sandbox",
   "language": "python",
   "name": "aquaya-sandbox"
  },
  "language_info": {
   "codemirror_mode": {
    "name": "ipython",
    "version": 3
   },
   "file_extension": ".py",
   "mimetype": "text/x-python",
   "name": "python",
   "nbconvert_exporter": "python",
   "pygments_lexer": "ipython3",
   "version": "3.9.6"
  }
 },
 "nbformat": 4,
 "nbformat_minor": 5
}
