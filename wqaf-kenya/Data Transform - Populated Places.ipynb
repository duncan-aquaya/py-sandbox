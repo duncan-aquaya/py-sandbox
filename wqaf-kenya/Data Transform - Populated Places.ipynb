{
 "cells": [
  {
   "cell_type": "markdown",
   "id": "0161f3d1-2891-449c-aaa8-dbd1973fbf76",
   "metadata": {},
   "source": [
    "# Populated Places data\n",
    "\n",
    "* Load (both sources: UNOCHA and HOTOSM) PP data\n",
    "* Ensure admin. data matches or develop mapping\n",
    "* Trim to select primary/secondary counties (start with sample two)\n",
    "* Visualize (pre- and post-trim)\n",
    "* Re-export trimmed, cleaned version"
   ]
  },
  {
   "cell_type": "code",
   "execution_count": null,
   "id": "464e9edb-d80e-452a-baa4-aaa46b918ebf",
   "metadata": {},
   "outputs": [],
   "source": []
  }
 ],
 "metadata": {
  "kernelspec": {
   "display_name": "aquaya-sandbox",
   "language": "python",
   "name": "aquaya-sandbox"
  },
  "language_info": {
   "codemirror_mode": {
    "name": "ipython",
    "version": 3
   },
   "file_extension": ".py",
   "mimetype": "text/x-python",
   "name": "python",
   "nbconvert_exporter": "python",
   "pygments_lexer": "ipython3",
   "version": "3.9.6"
  }
 },
 "nbformat": 4,
 "nbformat_minor": 5
}
