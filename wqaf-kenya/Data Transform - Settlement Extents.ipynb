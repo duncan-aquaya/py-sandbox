{
 "cells": [
  {
   "cell_type": "markdown",
   "id": "637dadaf-c952-4210-bcdc-09ee6283c5ea",
   "metadata": {},
   "source": [
    "## Settlement Extent data\n",
    "\n",
    "* Load and explore GRID3 settlement extent data\n",
    "* Ensure admin. info (county names) match or build mapping\n",
    "* Trim to select primary/secondary counties (start with sample)\n",
    "* Visualize\n",
    "* Re-export trimmed(, cleaned up if necessary) version"
   ]
  },
  {
   "cell_type": "code",
   "execution_count": null,
   "id": "f49057e3-b267-411f-a323-7137463a9f73",
   "metadata": {},
   "outputs": [],
   "source": []
  }
 ],
 "metadata": {
  "kernelspec": {
   "display_name": "aquaya-sandbox",
   "language": "python",
   "name": "aquaya-sandbox"
  },
  "language_info": {
   "codemirror_mode": {
    "name": "ipython",
    "version": 3
   },
   "file_extension": ".py",
   "mimetype": "text/x-python",
   "name": "python",
   "nbconvert_exporter": "python",
   "pygments_lexer": "ipython3",
   "version": "3.9.6"
  }
 },
 "nbformat": 4,
 "nbformat_minor": 5
}
