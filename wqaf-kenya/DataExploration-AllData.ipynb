{
 "cells": [
  {
   "cell_type": "markdown",
   "id": "0",
   "metadata": {},
   "source": [
    "# Data Exploration: All geo-reconciled data\n",
    "\n",
    "Internal Data:\n",
    "- Water Testing lab locations (KENAS Accredited Laboratories)\n",
    "  - 5 Selected labs\n",
    "- Selected counties (by named list)\n",
    "\n",
    "Public Data:\n",
    "- Kenya ADM Level 0 & 1 (Country outline and County-level) - GADM and COD-AB, choose one\n",
    "- HOTOSM Populated Places\n",
    "- UNOCHA COD-PP Populated Places\n",
    "- GRID3 Settlement Extents (v1.1)\n",
    "\n",
    "- mWater Waterpoints\n",
    "- WPDX Waterpoints\n",
    "\n",
    "---"
   ]
  },
  {
   "cell_type": "code",
   "execution_count": null,
   "id": "1",
   "metadata": {
    "tags": []
   },
   "outputs": [],
   "source": [
    "import pandas as pd\n",
    "import geopandas as gpd\n",
    "import plotly.express as px\n",
    "from geopy.distance import distance, lonlat"
   ]
  },
  {
   "cell_type": "code",
   "execution_count": null,
   "id": "2",
   "metadata": {
    "tags": []
   },
   "outputs": [],
   "source": [
    "from config import primary_counties, secondary_counties, selected_labs, codpp_cols, codpp_county_map"
   ]
  },
  {
   "cell_type": "code",
   "execution_count": null,
   "id": "3",
   "metadata": {},
   "outputs": [],
   "source": [
    "# A short-list of counties to process for testing and / or baseline investigation\n",
    "#sel_counties = [\"Kilifi\", \"Nyeri\"]\n",
    "sel_counties = [\"Nandi\"]\n",
    "\n",
    "# Otherwise, simply select all primary + secondary\n",
    "# sel_counties = primary_counties + secondary_counties\n",
    "\n",
    "sel_counties"
   ]
  },
  {
   "cell_type": "markdown",
   "id": "4",
   "metadata": {},
   "source": [
    "## Administrative Boundaries / Base"
   ]
  },
  {
   "cell_type": "code",
   "execution_count": null,
   "id": "5",
   "metadata": {
    "tags": []
   },
   "outputs": [],
   "source": [
    "adm0_gadm = \"./data/gadm41_KEN_0.json\"\n",
    "adm1_gadm = \"./data/gadm41_KEN_1.json\""
   ]
  },
  {
   "cell_type": "code",
   "execution_count": null,
   "id": "6",
   "metadata": {
    "tags": []
   },
   "outputs": [],
   "source": [
    "adm0_df = gpd.read_file(adm0_gadm).to_crs(crs=\"EPSG:21037\")\n",
    "adm1_df = gpd.read_file(adm1_gadm).to_crs(crs=\"EPSG:21037\")"
   ]
  },
  {
   "cell_type": "code",
   "execution_count": null,
   "id": "7",
   "metadata": {
    "tags": []
   },
   "outputs": [],
   "source": [
    "# Add county classication (primary, secondary, or nothing) column to select counties\n",
    "if \"COUNTY_CLF\" in adm1_df.columns:\n",
    "    adm1_df[\"COUNTY_CLF\"] = \"none\"\n",
    "else:\n",
    "    adm1_df.insert(11, \"COUNTY_CLF\", \"none\")\n",
    "adm1_df.loc[adm1_df[\"NAME_1\"].isin(primary_counties + [n.replace(\" \", \"\") for n in primary_counties]), \"COUNTY_CLF\"] = \"primary\"\n",
    "adm1_df.loc[adm1_df[\"NAME_1\"].isin(secondary_counties + [n.replace(\" \", \"\") for n in secondary_counties]), \"COUNTY_CLF\"] = \"secondary\""
   ]
  },
  {
   "cell_type": "code",
   "execution_count": null,
   "id": "8",
   "metadata": {},
   "outputs": [],
   "source": [
    "# Carve out version of ADM1 boundaries for only select counties\n",
    "sel_adm1_df = adm1_df[adm1_df[\"NAME_1\"].isin(sel_counties + [n.replace(\" \", \"\") for n in sel_counties])].copy()\n",
    "assert sel_adm1_df.shape[0] == len(sel_counties)\n",
    "sel_adm1_df.shape"
   ]
  },
  {
   "cell_type": "code",
   "execution_count": null,
   "id": "9",
   "metadata": {
    "tags": []
   },
   "outputs": [],
   "source": [
    "adm1_df.head(1)"
   ]
  },
  {
   "cell_type": "code",
   "execution_count": null,
   "id": "10",
   "metadata": {
    "tags": []
   },
   "outputs": [],
   "source": [
    "adm1_df[\"COUNTY_CLF\"].value_counts()"
   ]
  },
  {
   "cell_type": "markdown",
   "id": "11",
   "metadata": {},
   "source": [
    "## Water Testing Labs Data (Internal)"
   ]
  },
  {
   "cell_type": "code",
   "execution_count": null,
   "id": "12",
   "metadata": {
    "tags": []
   },
   "outputs": [],
   "source": [
    "labs_file = \"./data/KENAS Accredited Laboratories.xlsx\""
   ]
  },
  {
   "cell_type": "code",
   "execution_count": null,
   "id": "13",
   "metadata": {
    "tags": []
   },
   "outputs": [],
   "source": [
    "labs_df = pd.read_excel(labs_file, sheet_name=\"KENAS Water Quality Testing Lab\")\n",
    "labs_df.shape"
   ]
  },
  {
   "cell_type": "code",
   "execution_count": null,
   "id": "14",
   "metadata": {
    "tags": []
   },
   "outputs": [],
   "source": [
    "labs_df.head(2)"
   ]
  },
  {
   "cell_type": "code",
   "execution_count": null,
   "id": "15",
   "metadata": {
    "tags": []
   },
   "outputs": [],
   "source": [
    "sel_labs_df = labs_df[labs_df[\"Laboratory Name\"].isin(selected_labs) & labs_df[\"Location (County)\"].isin(primary_counties)].copy()\n",
    "\n",
    "sel_labs_df = gpd.GeoDataFrame(\n",
    "    sel_labs_df, geometry=gpd.points_from_xy(\n",
    "        sel_labs_df[\"Latitude (Y)\"], sel_labs_df[\"Longitude (X)\"], crs=\"EPSG:21037\"))\n",
    "sel_labs_df.shape"
   ]
  },
  {
   "cell_type": "code",
   "execution_count": null,
   "id": "16",
   "metadata": {
    "tags": []
   },
   "outputs": [],
   "source": [
    "sel_labs_df"
   ]
  },
  {
   "cell_type": "markdown",
   "id": "17",
   "metadata": {},
   "source": [
    "## Populated Places - UNOCHA"
   ]
  },
  {
   "cell_type": "code",
   "execution_count": null,
   "id": "18",
   "metadata": {},
   "outputs": [],
   "source": [
    "codpp_file = \"./data/KEN_Populated places_2002_DEPHA\""
   ]
  },
  {
   "cell_type": "code",
   "execution_count": null,
   "id": "19",
   "metadata": {},
   "outputs": [],
   "source": [
    "codpp_df = gpd.read_file(codpp_file).to_crs(crs=\"EPSG:21037\")\n",
    "codpp_df = codpp_df[codpp_cols].copy()\n",
    "codpp_df[\"DISTRICT\"] = codpp_df[\"DISTRICT\"].replace(codpp_county_map)\n",
    "codpp_df.shape"
   ]
  },
  {
   "cell_type": "code",
   "execution_count": null,
   "id": "20",
   "metadata": {},
   "outputs": [],
   "source": [
    "sel_codpp_df = codpp_df[codpp_df[\"DISTRICT\"].isin(sel_counties)].copy()\n",
    "sel_codpp_df.shape"
   ]
  },
  {
   "cell_type": "markdown",
   "id": "21",
   "metadata": {},
   "source": [
    "## Populated Places - HOTOSM"
   ]
  },
  {
   "cell_type": "code",
   "execution_count": null,
   "id": "22",
   "metadata": {},
   "outputs": [],
   "source": [
    "hotosm_file = \"./data/hotosm_ken_populated_places_points_shp.zip\""
   ]
  },
  {
   "cell_type": "code",
   "execution_count": null,
   "id": "23",
   "metadata": {},
   "outputs": [],
   "source": [
    "hotosm_df = gpd.read_file(hotosm_file).to_crs(crs=\"EPSG:21037\")\n",
    "hotosm_df = hotosm_df[~hotosm_df[\"place\"].isin([\"isolated_dwelling\"])]\n",
    "hotosm_df.shape"
   ]
  },
  {
   "cell_type": "code",
   "execution_count": null,
   "id": "24",
   "metadata": {},
   "outputs": [],
   "source": [
    "hotosm_df.head(2)"
   ]
  },
  {
   "cell_type": "code",
   "execution_count": null,
   "id": "25",
   "metadata": {},
   "outputs": [],
   "source": [
    "hotosm_df[\"place\"].value_counts()"
   ]
  },
  {
   "cell_type": "code",
   "execution_count": null,
   "id": "26",
   "metadata": {},
   "outputs": [],
   "source": [
    "# Filter down to only those in selected AMD1 counties\n",
    "sel_hotosm_df = hotosm_df[hotosm_df.apply(lambda r: r[\"geometry\"].intersects(sel_adm1_df.geometry).sum() > 0, axis=1)].copy()\n",
    "sel_hotosm_df.shape"
   ]
  },
  {
   "cell_type": "markdown",
   "id": "27",
   "metadata": {},
   "source": [
    "## GRID3 Settlement Extent (SE) Data\n",
    "\n",
    "***NB: with population***"
   ]
  },
  {
   "cell_type": "code",
   "execution_count": null,
   "id": "28",
   "metadata": {},
   "outputs": [],
   "source": [
    "se_file = \"./data/GRID3_Kenya_Settlement_Extents_Version_1.1/GRID3_Kenya_Settlement_Extents_Version_1.1.gdb/\""
   ]
  },
  {
   "cell_type": "code",
   "execution_count": null,
   "id": "29",
   "metadata": {},
   "outputs": [],
   "source": [
    "se_df = gpd.read_file(se_file).to_crs(crs=\"EPSG:21037\")\n",
    "se_df.shape"
   ]
  },
  {
   "cell_type": "code",
   "execution_count": null,
   "id": "30",
   "metadata": {},
   "outputs": [],
   "source": [
    "# Sub-select to counties (and include all \"crosses boundary\" items, for accuracy)\n",
    "sel_se_df = se_df[se_df[\"adm1_name\"].isin(sel_counties + [\"crosses boundary\"])].copy()\n",
    "print(f\"Filter to counties {sel_counties} and CBs\", sel_se_df.shape)\n",
    "\n",
    "# Drop areas with UN-adjusted population < 500 and > 100,000\n",
    "pop_low, pop_high = 500, 50000\n",
    "sel_se_df = sel_se_df[sel_se_df[\"pop_un_adj\"].between(pop_low, pop_high)].copy()\n",
    "print(f\"Filter to {pop_low} < UN Adj Pop < {pop_high}\", sel_se_df.shape)\n",
    "\n",
    "# Further drop any cross-boundary shapes) that do NOT intercept with selected counties\n",
    "sel_se_df = sel_se_df[sel_se_df.apply(lambda r: r[\"geometry\"].intersects(sel_adm1_df.geometry).sum() > 0, axis=1)].copy()\n",
    "print(\"Filter out non-intersecting cross-boundary SEs\", sel_se_df.shape)"
   ]
  },
  {
   "cell_type": "code",
   "execution_count": null,
   "id": "31",
   "metadata": {},
   "outputs": [],
   "source": [
    "sel_se_df.sample()"
   ]
  },
  {
   "cell_type": "code",
   "execution_count": null,
   "id": "32",
   "metadata": {},
   "outputs": [],
   "source": [
    "#del(se_df)"
   ]
  },
  {
   "cell_type": "markdown",
   "id": "33",
   "metadata": {},
   "source": [
    "## PPs within SEs (and within X distance\n",
    "> NB: with CRS set to EPSG value, distance is in METERS"
   ]
  },
  {
   "cell_type": "code",
   "execution_count": null,
   "id": "34",
   "metadata": {},
   "outputs": [],
   "source": [
    "# COD-PPs in SEs\n",
    "sel_codpp_df.apply(lambda r: r[\"geometry\"].within(sel_se_df.geometry).any(), axis=1).sum()"
   ]
  },
  {
   "cell_type": "code",
   "execution_count": null,
   "id": "35",
   "metadata": {},
   "outputs": [],
   "source": [
    "# HOTOSM-PPs in SEs\n",
    "sel_hotosm_df.apply(lambda r: r[\"geometry\"].within(sel_se_df.geometry).any(), axis=1).sum()"
   ]
  },
  {
   "cell_type": "code",
   "execution_count": null,
   "id": "36",
   "metadata": {},
   "outputs": [],
   "source": [
    "# COD-PPs within 1k of SE\n",
    "dist_threshold = 1000\n",
    "sel_codpp_df.apply(lambda r: (r[\"geometry\"].distance(sel_se_df.geometry) < dist_threshold).any() , axis=1).sum()"
   ]
  },
  {
   "cell_type": "code",
   "execution_count": null,
   "id": "37",
   "metadata": {},
   "outputs": [],
   "source": [
    "# HOTOSM-PPs within 1k of SE\n",
    "sel_hotosm_df.apply(lambda r: (r[\"geometry\"].distance(sel_se_df.geometry) < dist_threshold).any() , axis=1).sum()"
   ]
  },
  {
   "cell_type": "code",
   "execution_count": null,
   "id": "38",
   "metadata": {},
   "outputs": [],
   "source": [
    "# SEs with PP\n",
    "sel_se_df.insert(\n",
    "    sel_se_df.shape[1] - 1,\n",
    "    \"COD_PPs\",\n",
    "    sel_se_df.apply(lambda r: r[\"geometry\"].intersects(sel_codpp_df.geometry).sum(), axis=1))\n",
    "\n",
    "sel_se_df.insert(\n",
    "    sel_se_df.shape[1] - 1,\n",
    "    \"HOTOSM_PPs\",\n",
    "    sel_se_df.apply(lambda r: r[\"geometry\"].intersects(sel_hotosm_df.geometry).sum(), axis=1))\n",
    "\n",
    "sel_se_df.insert(sel_se_df.shape[1] - 1, \"HAS_PP\", sel_se_df[\"HOTOSM_PPs\"] + sel_se_df[\"COD_PPs\"] > 0)"
   ]
  },
  {
   "cell_type": "code",
   "execution_count": null,
   "id": "39",
   "metadata": {},
   "outputs": [],
   "source": [
    "# SEs with PP within `dist threshold`\n",
    "sel_se_df.insert(\n",
    "    sel_se_df.shape[1] - 1,\n",
    "    f\"COD_PP_WITHIN_{dist_threshold}m\",\n",
    "    sel_se_df.apply(lambda r: (r[\"geometry\"].distance(sel_codpp_df.geometry) < dist_threshold).sum(), axis=1))\n",
    "\n",
    "sel_se_df.insert(\n",
    "    sel_se_df.shape[1] - 1,\n",
    "    f\"HOTOSM_PP_WITHIN_{dist_threshold}m\",\n",
    "    sel_se_df.apply(lambda r: (r[\"geometry\"].distance(sel_hotosm_df.geometry) < dist_threshold).sum(), axis=1))\n",
    "\n",
    "sel_se_df.insert(\n",
    "    sel_se_df.shape[1] - 1,\n",
    "    f\"PP_WITHIN_{dist_threshold}m\",\n",
    "    sel_se_df[f\"COD_PP_WITHIN_{dist_threshold}m\"] + sel_se_df[f\"HOTOSM_PP_WITHIN_{dist_threshold}m\"] > 0)"
   ]
  },
  {
   "cell_type": "markdown",
   "id": "40",
   "metadata": {},
   "source": [
    "## SE (Community w/populations) stats"
   ]
  },
  {
   "cell_type": "code",
   "execution_count": null,
   "id": "41",
   "metadata": {},
   "outputs": [],
   "source": [
    "# Num SEs\n",
    "sel_se_df.shape[0]"
   ]
  },
  {
   "cell_type": "code",
   "execution_count": null,
   "id": "42",
   "metadata": {},
   "outputs": [],
   "source": [
    "sel_se_df[[\"population\", \"pop_un_adj\"]].describe()"
   ]
  },
  {
   "cell_type": "code",
   "execution_count": null,
   "id": "43",
   "metadata": {},
   "outputs": [],
   "source": [
    "px.histogram(sel_se_df, x=\"pop_un_adj\")"
   ]
  },
  {
   "cell_type": "code",
   "execution_count": null,
   "id": "44",
   "metadata": {},
   "outputs": [],
   "source": [
    "sel_se_df[sel_se_df[\"HAS_PP\"] | sel_se_df[\"PP_WITHIN_1000m\"]]"
   ]
  },
  {
   "cell_type": "markdown",
   "id": "45",
   "metadata": {},
   "source": [
    "## Explore Map"
   ]
  },
  {
   "cell_type": "code",
   "execution_count": null,
   "id": "46",
   "metadata": {},
   "outputs": [],
   "source": [
    "# Map Country and County Outlines\n",
    "def county_shape_style(x):\n",
    "    \"\"\"Style KWDS:\n",
    "    stroke: bool (default True) Outline\n",
    "    color: string Stroke color\n",
    "    weight: int Stroke width in pixels\n",
    "    opacity: float (default 1.0) Stroke opacity\n",
    "    fill: bool (default True) Whether to fill\n",
    "    fillColor: str\n",
    "    fillOpacity: float (default 0.5)\n",
    "    \"\"\"\n",
    "    if x[\"properties\"][\"COUNTY_CLF\"] == \"primary\":\n",
    "        return dict(color=\"red\", weight=2, opacity=0.75, fill=True, fillOpacity=0.05)\n",
    "    elif x[\"properties\"][\"COUNTY_CLF\"] == \"secondary\":\n",
    "        return dict(color=\"orange\", weight=2, opacity=0.75, fill=True, fillOpacity=0.05)\n",
    "    else:\n",
    "        return dict(stroke=False, fill=False)\n",
    "\n",
    "disp_cols = [\"COUNTRY\", \"NAME_1\", \"COUNTY_CLF\"]\n",
    "m = adm0_df.explore(style_kwds=dict(color=\"navy\", opacity=0.5, fill=False), tooltip=False, tiles=\"CartoDB positron\")\n",
    "m = adm1_df.explore(m=m, style_kwds=dict(style_function=county_shape_style), tooltip=False, popup=disp_cols, highlight=False)"
   ]
  },
  {
   "cell_type": "code",
   "execution_count": null,
   "id": "47",
   "metadata": {},
   "outputs": [],
   "source": [
    "# Add GRID3-SEs to map\n",
    "disp_cols = ['Shape_Length', 'Shape_Area', 'type', 'population', 'pop_un_adj', 'adm1_name', 'settl_pcode']\n",
    "m = sel_se_df.explore(\n",
    "    # \"pop_un_adj\",\n",
    "    \"mgrs_code\",\n",
    "    cmap=\"tab20\",\n",
    "    # color=\"paleturquoise\",\n",
    "    # cmap=\"Blues\",\n",
    "    # vmin=0,\n",
    "    # vmax=200000,\n",
    "    style_kwds=dict(color=\"black\", weight=0.5, fillOpacity=0.3),\n",
    "    tooltip=disp_cols,\n",
    "    popup=False,\n",
    "    legend=False,\n",
    "    m=m,)"
   ]
  },
  {
   "cell_type": "code",
   "execution_count": null,
   "id": "48",
   "metadata": {},
   "outputs": [],
   "source": [
    "# Add Water Testing Labs to map\n",
    "disp_cols = ['Laboratory Name', 'Location (County)', 'Laboratory Type', 'Accreditation Expiry Date', 'Contact']\n",
    "m = sel_labs_df.explore(m=m, color=\"limegreen\", marker_kwds=dict(radius=6), tooltip=disp_cols, popup=disp_cols)"
   ]
  },
  {
   "cell_type": "code",
   "execution_count": null,
   "id": "49",
   "metadata": {},
   "outputs": [],
   "source": [
    "# Add COD-PPs to map\n",
    "m = sel_codpp_df.explore(m=m, color=\"dodgerblue\")"
   ]
  },
  {
   "cell_type": "code",
   "execution_count": null,
   "id": "50",
   "metadata": {},
   "outputs": [],
   "source": [
    "# Add HOTOSM-PP to map\n",
    "m = sel_hotosm_df.explore(m=m, color=\"mediumorchid\")"
   ]
  },
  {
   "cell_type": "code",
   "execution_count": null,
   "id": "51",
   "metadata": {},
   "outputs": [],
   "source": []
  }
 ],
 "metadata": {
  "kernelspec": {
   "display_name": "aquaya-sandbox",
   "language": "python",
   "name": "aquaya-sandbox"
  },
  "language_info": {
   "codemirror_mode": {
    "name": "ipython",
    "version": 3
   },
   "file_extension": ".py",
   "mimetype": "text/x-python",
   "name": "python",
   "nbconvert_exporter": "python",
   "pygments_lexer": "ipython3",
   "version": "3.9.6"
  }
 },
 "nbformat": 4,
 "nbformat_minor": 5
}
