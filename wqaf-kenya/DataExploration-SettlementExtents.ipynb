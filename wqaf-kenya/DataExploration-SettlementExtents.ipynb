{
 "cells": [
  {
   "cell_type": "markdown",
   "id": "0",
   "metadata": {},
   "source": [
    "# Settlement Extent data\n",
    "\n",
    "* Load and explore GRID3 settlement extent data\n",
    "* Ensure admin. info (county names) match or build mapping\n",
    "* Trim to select primary/secondary counties (start with sample)\n",
    "* Visualize\n",
    "* Re-export trimmed(, cleaned up if necessary) version"
   ]
  },
  {
   "cell_type": "code",
   "execution_count": 1,
   "id": "1",
   "metadata": {},
   "outputs": [],
   "source": [
    "import pandas as pd\n",
    "import geopandas as gpd\n",
    "import plotly.express as px"
   ]
  },
  {
   "cell_type": "code",
   "execution_count": 2,
   "id": "2",
   "metadata": {
    "tags": []
   },
   "outputs": [],
   "source": [
    "from config import primary_counties, secondary_counties"
   ]
  },
  {
   "cell_type": "code",
   "execution_count": 3,
   "id": "3",
   "metadata": {
    "tags": []
   },
   "outputs": [
    {
     "data": {
      "text/plain": [
       "['Nakuru', 'Mombasa', 'Kiambu', 'Uasin Gishu', 'Nyeri']"
      ]
     },
     "execution_count": 3,
     "metadata": {},
     "output_type": "execute_result"
    }
   ],
   "source": [
    "primary_counties"
   ]
  },
  {
   "cell_type": "code",
   "execution_count": 4,
   "id": "4",
   "metadata": {},
   "outputs": [
    {
     "data": {
      "text/plain": [
       "['Kirinyaga',\n",
       " 'Embu',\n",
       " 'Nyandarua',\n",
       " 'Laikipia',\n",
       " 'Meru',\n",
       " \"Murang'a\",\n",
       " 'Nandi',\n",
       " 'Elgeyo-Marakwet',\n",
       " 'Kilifi',\n",
       " 'Kwale',\n",
       " 'Taita Taveta']"
      ]
     },
     "execution_count": 4,
     "metadata": {},
     "output_type": "execute_result"
    }
   ],
   "source": [
    "secondary_counties"
   ]
  },
  {
   "cell_type": "code",
   "execution_count": null,
   "id": "5",
   "metadata": {},
   "outputs": [],
   "source": [
    "# A short-list of select counties for testing and / or baseline investigation\n",
    "sel_counties = [\"Nandi\"]\n",
    "\n",
    "# Otherwise, simply select all primary + secondary\n",
    "# sel_counties = primary_counties + secondary_counties\n",
    "\n",
    "sel_counties"
   ]
  },
  {
   "cell_type": "markdown",
   "id": "6",
   "metadata": {},
   "source": [
    "## Load and Filter SE data"
   ]
  },
  {
   "cell_type": "code",
   "execution_count": null,
   "id": "7",
   "metadata": {
    "tags": []
   },
   "outputs": [],
   "source": [
    "se_file = \"./data/GRID3_Kenya_Settlement_Extents_Version_1.1/GRID3_Kenya_Settlement_Extents_Version_1.1.gdb/\""
   ]
  },
  {
   "cell_type": "code",
   "execution_count": null,
   "id": "8",
   "metadata": {
    "tags": []
   },
   "outputs": [],
   "source": [
    "se_df = gpd.read_file(se_file)\n",
    "se_df.shape"
   ]
  },
  {
   "cell_type": "code",
   "execution_count": null,
   "id": "9",
   "metadata": {},
   "outputs": [],
   "source": [
    "# Check county name mapping\n",
    "assert len(set(primary_counties) - set(se_df[\"adm1_name\"].unique())) == 0, \"Missing primary counties\"\n",
    "assert len(set(secondary_counties) - set(se_df[\"adm1_name\"].unique())) == 0, \"Missing secondary counties\""
   ]
  },
  {
   "cell_type": "code",
   "execution_count": null,
   "id": "10",
   "metadata": {},
   "outputs": [],
   "source": [
    "# Sub-select to counties (and include all \"crosses boundary\" items, for accuracy)\n",
    "sel_df = se_df[se_df[\"adm1_name\"].isin(sel_counties + [\"crosses boundary\"])].copy()\n",
    "print(\"Drop counties\", sel_df.shape)\n",
    "\n",
    "# Drop areas with UN-adjusted population > 200,000\n",
    "sel_df = sel_df[sel_df[\"pop_un_adj\"] < 200000].copy()\n",
    "print(\"Drop UN Adj Pop > 200000\", sel_df.shape)"
   ]
  },
  {
   "cell_type": "code",
   "execution_count": null,
   "id": "11",
   "metadata": {
    "tags": []
   },
   "outputs": [],
   "source": [
    "sel_df.head(1)"
   ]
  },
  {
   "cell_type": "code",
   "execution_count": null,
   "id": "12",
   "metadata": {
    "tags": []
   },
   "outputs": [],
   "source": [
    "sel_df[\"type\"].value_counts()"
   ]
  },
  {
   "cell_type": "code",
   "execution_count": null,
   "id": "13",
   "metadata": {},
   "outputs": [],
   "source": [
    "# Overall population hist\n",
    "f = px.histogram(se_df, \"pop_un_adj\", facet_col=\"type\")\n",
    "f.update_yaxes(matches=None, showticklabels=True).update_xaxes(matches=None)"
   ]
  },
  {
   "cell_type": "code",
   "execution_count": null,
   "id": "14",
   "metadata": {},
   "outputs": [],
   "source": [
    "# Selected counties population hist\n",
    "f = px.histogram(sel_df, \"pop_un_adj\", facet_col=\"type\")\n",
    "f.update_yaxes(matches=None, showticklabels=True).update_xaxes(matches=None)"
   ]
  },
  {
   "cell_type": "code",
   "execution_count": null,
   "id": "15",
   "metadata": {},
   "outputs": [],
   "source": [
    "# Selected counties comparison - population estimate (not UN adjusted)\n",
    "f = px.histogram(sel_df, \"population\", facet_col=\"type\", color_discrete_sequence=[\"salmon\"])\n",
    "f.update_yaxes(matches=None, showticklabels=True).update_xaxes(matches=None)"
   ]
  },
  {
   "cell_type": "code",
   "execution_count": null,
   "id": "16",
   "metadata": {},
   "outputs": [],
   "source": [
    "# See how many in which county, incl cross boundary\n",
    "sel_df[\"adm1_name\"].value_counts()"
   ]
  },
  {
   "cell_type": "markdown",
   "id": "17",
   "metadata": {},
   "source": [
    "## Plot SEs"
   ]
  },
  {
   "cell_type": "code",
   "execution_count": null,
   "id": "18",
   "metadata": {},
   "outputs": [],
   "source": [
    "# Plot only  500 < un adj. pop < 100000, non border crossing\n",
    "# plt_df = sel_df[(sel_df[\"pop_un_adj\"].between(500, 100000)) & (sel_df[\"adm1_name\"] != \"crosses boundary\")]\n",
    "plt_df = sel_df[(sel_df[\"pop_un_adj\"].between(500, 100000))]\n",
    "plt_df.shape"
   ]
  },
  {
   "cell_type": "code",
   "execution_count": null,
   "id": "19",
   "metadata": {},
   "outputs": [],
   "source": [
    "plt_df.explore()"
   ]
  },
  {
   "cell_type": "code",
   "execution_count": null,
   "id": "20",
   "metadata": {},
   "outputs": [],
   "source": [
    "plt_df[\"type\"].value_counts()"
   ]
  },
  {
   "cell_type": "code",
   "execution_count": null,
   "id": "21",
   "metadata": {},
   "outputs": [],
   "source": [
    "plt_df[\"adm1_name\"].value_counts()"
   ]
  },
  {
   "cell_type": "markdown",
   "id": "22",
   "metadata": {},
   "source": [
    "# Explore later versions\n",
    "- Population inclusion\n",
    "- Better shapes than v.1.1 (See Nandi / Western Kenya)"
   ]
  },
  {
   "cell_type": "markdown",
   "id": "23",
   "metadata": {},
   "source": [
    "## Load ADM data for intersection filtering"
   ]
  },
  {
   "cell_type": "code",
   "execution_count": null,
   "id": "24",
   "metadata": {},
   "outputs": [],
   "source": [
    "adm1_gadm = \"./data/gadm41_KEN_1.json\"\n",
    "adm1_df = gpd.read_file(adm1_gadm).to_crs(crs=\"EPSG:21037\")\n",
    "adm1_df.shape"
   ]
  },
  {
   "cell_type": "code",
   "execution_count": null,
   "id": "25",
   "metadata": {},
   "outputs": [],
   "source": [
    "# Carve out version of ADM1 boundaries for only select counties\n",
    "sel_adm1_df = adm1_df[adm1_df[\"NAME_1\"].isin(sel_counties + [n.replace(\" \", \"\") for n in sel_counties])].copy()\n",
    "assert sel_adm1_df.shape[0] == len(sel_counties)\n",
    "sel_adm1_df.shape"
   ]
  },
  {
   "cell_type": "code",
   "execution_count": null,
   "id": "26",
   "metadata": {},
   "outputs": [],
   "source": [
    "sel_adm1_df"
   ]
  },
  {
   "cell_type": "markdown",
   "id": "27",
   "metadata": {},
   "source": [
    "## Load GRID3 SE v2.0"
   ]
  },
  {
   "cell_type": "code",
   "execution_count": null,
   "id": "28",
   "metadata": {},
   "outputs": [],
   "source": [
    "# se_file = \"./data/GRID3_Kenya_Settlement_Extents_Version_1.1/GRID3_Kenya_Settlement_Extents_Version_1.1.gdb/\"\n",
    "se_file = \"./data/GRID3_Kenya_Settlement_Extents_Version_2.0/GRID3_Kenya_Settlement_Extents_Version_02.gdb/\""
   ]
  },
  {
   "cell_type": "code",
   "execution_count": null,
   "id": "29",
   "metadata": {},
   "outputs": [],
   "source": [
    "se_df = gpd.read_file(se_file).to_crs(crs=\"EPSG:21037\")\n",
    "se_df.shape"
   ]
  },
  {
   "cell_type": "code",
   "execution_count": null,
   "id": "30",
   "metadata": {},
   "outputs": [],
   "source": [
    "# Drop any shapes that do NOT intercept with selected counties\n",
    "sel_se_df = se_df[se_df.apply(lambda r: r[\"geometry\"].intersects(sel_adm1_df.geometry).sum() > 0, axis=1)].copy()\n",
    "print(\"Filter out non-intersecting SEs\", sel_se_df.shape)"
   ]
  },
  {
   "cell_type": "code",
   "execution_count": null,
   "id": "31",
   "metadata": {},
   "outputs": [],
   "source": [
    "sel_se_df.head(1)"
   ]
  },
  {
   "cell_type": "code",
   "execution_count": null,
   "id": "32",
   "metadata": {},
   "outputs": [],
   "source": [
    "px.histogram(sel_se_df[\"bld_count\"])"
   ]
  },
  {
   "cell_type": "code",
   "execution_count": null,
   "id": "33",
   "metadata": {},
   "outputs": [],
   "source": [
    "sel_se_df[\"dou_level1\"].value_counts()"
   ]
  },
  {
   "cell_type": "code",
   "execution_count": null,
   "id": "34",
   "metadata": {},
   "outputs": [],
   "source": [
    "sel_se_df[\"dou_level2\"].value_counts()"
   ]
  },
  {
   "cell_type": "code",
   "execution_count": null,
   "id": "35",
   "metadata": {},
   "outputs": [],
   "source": [
    "m = sel_adm1_df.explore(style_kwds=dict(color=\"red\", weight=2, opacity=0.75, fill=True, fillOpacity=0.05),\n",
    "                        tooltip=False, popup=False, highlight=False)\n",
    "m = sel_se_df.explore(\"dou_level2\", cmap=\"tab20\", legend=True, m=m)"
   ]
  },
  {
   "cell_type": "code",
   "execution_count": null,
   "id": "36",
   "metadata": {},
   "outputs": [],
   "source": [
    "m"
   ]
  },
  {
   "cell_type": "code",
   "execution_count": null,
   "id": "37",
   "metadata": {},
   "outputs": [],
   "source": []
  },
  {
   "cell_type": "markdown",
   "id": "38",
   "metadata": {},
   "source": [
    "## Load GRID3 SE v3.0"
   ]
  },
  {
   "cell_type": "code",
   "execution_count": null,
   "id": "39",
   "metadata": {},
   "outputs": [],
   "source": [
    "se_file = \"./data/GRID3_Kenya_Settlement_Extents_Version_3.0/GRID3_KEN_settlement_extents_v3_0.gpkg\""
   ]
  },
  {
   "cell_type": "code",
   "execution_count": null,
   "id": "40",
   "metadata": {},
   "outputs": [],
   "source": [
    "se_df = gpd.read_file(se_file).to_crs(crs=\"EPSG:21037\")\n",
    "se_df.shape"
   ]
  },
  {
   "cell_type": "code",
   "execution_count": null,
   "id": "41",
   "metadata": {},
   "outputs": [],
   "source": [
    "se_df.head(1)"
   ]
  },
  {
   "cell_type": "code",
   "execution_count": null,
   "id": "42",
   "metadata": {},
   "outputs": [],
   "source": [
    "# Drop any shapes that do NOT intercept with selected counties\n",
    "sel_se_df = se_df[se_df.apply(lambda r: r[\"geometry\"].intersects(sel_adm1_df.geometry).sum() > 0, axis=1)].copy()\n",
    "print(\"Filter out non-intersecting SEs\", sel_se_df.shape)"
   ]
  },
  {
   "cell_type": "code",
   "execution_count": null,
   "id": "43",
   "metadata": {},
   "outputs": [],
   "source": [
    "sel_se_df[\"type\"].value_counts()"
   ]
  },
  {
   "cell_type": "code",
   "execution_count": null,
   "id": "44",
   "metadata": {},
   "outputs": [],
   "source": [
    "m = sel_adm1_df.explore(style_kwds=dict(color=\"red\", weight=2, opacity=0.75, fill=True, fillOpacity=0.05),\n",
    "                        tooltip=False, popup=False, highlight=False)\n",
    "#m = sel_se_df[sel_se_df[\"type\"]!=\"Built-up Area\"].explore(\"type\", cmap=\"tab20\", legend=True, m=m)\n",
    "m = sel_se_df.explore(\"type\", cmap=\"tab20\", legend=True, m=m)"
   ]
  },
  {
   "cell_type": "code",
   "execution_count": null,
   "id": "45",
   "metadata": {},
   "outputs": [],
   "source": []
  },
  {
   "cell_type": "code",
   "execution_count": null,
   "id": "46",
   "metadata": {},
   "outputs": [],
   "source": []
  }
 ],
 "metadata": {
  "kernelspec": {
   "display_name": "aquaya-sandbox",
   "language": "python",
   "name": "aquaya-sandbox"
  },
  "language_info": {
   "codemirror_mode": {
    "name": "ipython",
    "version": 3
   },
   "file_extension": ".py",
   "mimetype": "text/x-python",
   "name": "python",
   "nbconvert_exporter": "python",
   "pygments_lexer": "ipython3",
   "version": "3.9.6"
  }
 },
 "nbformat": 4,
 "nbformat_minor": 5
}
