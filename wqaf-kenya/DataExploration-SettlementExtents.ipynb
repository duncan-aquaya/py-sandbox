{
 "cells": [
  {
   "cell_type": "markdown",
   "id": "0",
   "metadata": {},
   "source": [
    "## Settlement Extent data\n",
    "\n",
    "* Load and explore GRID3 settlement extent data\n",
    "* Ensure admin. info (county names) match or build mapping\n",
    "* Trim to select primary/secondary counties (start with sample)\n",
    "* Visualize\n",
    "* Re-export trimmed(, cleaned up if necessary) version"
   ]
  },
  {
   "cell_type": "code",
   "execution_count": null,
   "id": "1",
   "metadata": {},
   "outputs": [],
   "source": [
    "import pandas as pd\n",
    "import geopandas as gpd\n",
    "import plotly.express as px"
   ]
  },
  {
   "cell_type": "code",
   "execution_count": null,
   "id": "2",
   "metadata": {
    "tags": []
   },
   "outputs": [],
   "source": [
    "from config import primary_counties, secondary_counties"
   ]
  },
  {
   "cell_type": "code",
   "execution_count": null,
   "id": "3",
   "metadata": {
    "tags": []
   },
   "outputs": [],
   "source": [
    "primary_counties"
   ]
  },
  {
   "cell_type": "code",
   "execution_count": null,
   "id": "4",
   "metadata": {},
   "outputs": [],
   "source": [
    "secondary_counties"
   ]
  },
  {
   "cell_type": "code",
   "execution_count": null,
   "id": "5",
   "metadata": {},
   "outputs": [],
   "source": [
    "# A short-list of select counties for testing and / or baseline investigation\n",
    "sel_counties = [\"Kilifi\", \"Nyeri\"]\n",
    "\n",
    "# Otherwise, simply select all primary + secondary\n",
    "# sel_counties = primary_counties + secondary_counties\n",
    "\n",
    "sel_counties"
   ]
  },
  {
   "cell_type": "markdown",
   "id": "6",
   "metadata": {},
   "source": [
    "## Load and Filter SE data"
   ]
  },
  {
   "cell_type": "code",
   "execution_count": null,
   "id": "7",
   "metadata": {
    "tags": []
   },
   "outputs": [],
   "source": [
    "se_file = \"./data/GRID3_Kenya_Settlement_Extents_Version_1.1/GRID3_Kenya_Settlement_Extents_Version_1.1.gdb/\""
   ]
  },
  {
   "cell_type": "code",
   "execution_count": null,
   "id": "8",
   "metadata": {
    "tags": []
   },
   "outputs": [],
   "source": [
    "se_df = gpd.read_file(se_file)\n",
    "se_df.shape"
   ]
  },
  {
   "cell_type": "code",
   "execution_count": null,
   "id": "9",
   "metadata": {},
   "outputs": [],
   "source": [
    "# Check county name mapping\n",
    "assert len(set(primary_counties) - set(se_df[\"adm1_name\"].unique())) == 0, \"Missing primary counties\"\n",
    "assert len(set(secondary_counties) - set(se_df[\"adm1_name\"].unique())) == 0, \"Missing secondary counties\""
   ]
  },
  {
   "cell_type": "code",
   "execution_count": null,
   "id": "10",
   "metadata": {},
   "outputs": [],
   "source": [
    "# Sub-select to counties (and include all \"crosses boundary\" items, for accuracy)\n",
    "sel_df = se_df[se_df[\"adm1_name\"].isin(sel_counties + [\"crosses boundary\"])].copy()\n",
    "print(\"Drop counties\", sel_df.shape)\n",
    "\n",
    "# Drop areas with UN-adjusted population > 200,000\n",
    "sel_df = sel_df[sel_df[\"pop_un_adj\"] < 200000].copy()\n",
    "print(\"Drop UN Adj Pop > 200000\", sel_df.shape)"
   ]
  },
  {
   "cell_type": "code",
   "execution_count": null,
   "id": "11",
   "metadata": {
    "tags": []
   },
   "outputs": [],
   "source": [
    "sel_df.head(1)"
   ]
  },
  {
   "cell_type": "code",
   "execution_count": null,
   "id": "12",
   "metadata": {
    "tags": []
   },
   "outputs": [],
   "source": [
    "sel_df[\"type\"].value_counts()"
   ]
  },
  {
   "cell_type": "code",
   "execution_count": null,
   "id": "13",
   "metadata": {},
   "outputs": [],
   "source": [
    "# Overall population hist\n",
    "f = px.histogram(se_df, \"pop_un_adj\", facet_col=\"type\")\n",
    "f.update_yaxes(matches=None, showticklabels=True).update_xaxes(matches=None)"
   ]
  },
  {
   "cell_type": "code",
   "execution_count": null,
   "id": "14",
   "metadata": {},
   "outputs": [],
   "source": [
    "# Selected counties population hist\n",
    "f = px.histogram(sel_df, \"pop_un_adj\", facet_col=\"type\")\n",
    "f.update_yaxes(matches=None, showticklabels=True).update_xaxes(matches=None)"
   ]
  },
  {
   "cell_type": "code",
   "execution_count": null,
   "id": "15",
   "metadata": {},
   "outputs": [],
   "source": [
    "# Selected counties comparison - population estimate (not UN adjusted)\n",
    "f = px.histogram(sel_df, \"population\", facet_col=\"type\", color_discrete_sequence=[\"salmon\"])\n",
    "f.update_yaxes(matches=None, showticklabels=True).update_xaxes(matches=None)"
   ]
  },
  {
   "cell_type": "code",
   "execution_count": null,
   "id": "16",
   "metadata": {},
   "outputs": [],
   "source": [
    "# See how many in which county, incl cross boundary\n",
    "sel_df[\"adm1_name\"].value_counts()"
   ]
  },
  {
   "cell_type": "markdown",
   "id": "17",
   "metadata": {},
   "source": [
    "## Plot SEs"
   ]
  },
  {
   "cell_type": "code",
   "execution_count": null,
   "id": "18",
   "metadata": {},
   "outputs": [],
   "source": [
    "# Plot only  500 < un adj. pop < 100000, non border crossing\n",
    "# plt_df = sel_df[(sel_df[\"pop_un_adj\"].between(500, 100000)) & (sel_df[\"adm1_name\"] != \"crosses boundary\")]\n",
    "plt_df = sel_df[(sel_df[\"pop_un_adj\"].between(500, 100000))]\n",
    "plt_df.shape"
   ]
  },
  {
   "cell_type": "code",
   "execution_count": null,
   "id": "19",
   "metadata": {},
   "outputs": [],
   "source": [
    "plt_df.explore()"
   ]
  },
  {
   "cell_type": "code",
   "execution_count": null,
   "id": "20",
   "metadata": {},
   "outputs": [],
   "source": [
    "plt_df[\"type\"].value_counts()"
   ]
  },
  {
   "cell_type": "code",
   "execution_count": null,
   "id": "21",
   "metadata": {},
   "outputs": [],
   "source": [
    "plt_df[\"adm1_name\"].value_counts()"
   ]
  },
  {
   "cell_type": "code",
   "execution_count": null,
   "id": "22",
   "metadata": {},
   "outputs": [],
   "source": []
  }
 ],
 "metadata": {
  "kernelspec": {
   "display_name": "aquaya-sandbox",
   "language": "python",
   "name": "aquaya-sandbox"
  },
  "language_info": {
   "codemirror_mode": {
    "name": "ipython",
    "version": 3
   },
   "file_extension": ".py",
   "mimetype": "text/x-python",
   "name": "python",
   "nbconvert_exporter": "python",
   "pygments_lexer": "ipython3",
   "version": "3.9.6"
  }
 },
 "nbformat": 4,
 "nbformat_minor": 5
}
