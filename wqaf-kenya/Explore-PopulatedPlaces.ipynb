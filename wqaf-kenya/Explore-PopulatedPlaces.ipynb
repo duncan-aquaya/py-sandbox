{
 "cells": [
  {
   "cell_type": "markdown",
   "id": "0",
   "metadata": {},
   "source": [
    "# Populated Places data\n",
    "\n",
    "* Load (both sources: UNOCHA and HOTOSM) PP data\n",
    "* Ensure admin. data matches or develop mapping\n",
    "* Trim to select primary/secondary counties (start with sample two)\n",
    "* Visualize (pre- and post-trim)\n",
    "* Re-export trimmed, cleaned version"
   ]
  },
  {
   "cell_type": "code",
   "execution_count": null,
   "id": "1",
   "metadata": {
    "tags": []
   },
   "outputs": [],
   "source": [
    "import pandas as pd\n",
    "import geopandas as gpd"
   ]
  },
  {
   "cell_type": "code",
   "execution_count": null,
   "id": "2",
   "metadata": {
    "tags": []
   },
   "outputs": [],
   "source": [
    "from config import primary_counties, secondary_counties"
   ]
  },
  {
   "cell_type": "code",
   "execution_count": null,
   "id": "3",
   "metadata": {
    "tags": []
   },
   "outputs": [],
   "source": [
    "primary_counties"
   ]
  },
  {
   "cell_type": "markdown",
   "id": "4",
   "metadata": {},
   "source": [
    "## UNOCHA COD-PP"
   ]
  },
  {
   "cell_type": "code",
   "execution_count": null,
   "id": "5",
   "metadata": {
    "tags": []
   },
   "outputs": [],
   "source": [
    "codpp_file = \"./data/KEN_Populated places_2002_DEPHA\""
   ]
  },
  {
   "cell_type": "code",
   "execution_count": null,
   "id": "6",
   "metadata": {
    "tags": []
   },
   "outputs": [],
   "source": [
    "codpp_cols = ['NEWDLAT', 'NEWDLONG', \"FULL_NAME\", \"ADM1\", 'DISTRICT', 'REGION', 'LOCATION',\n",
    "              'SUB_LOCATI', 'geometry']\n",
    "\n",
    "codpp_county_map = {\n",
    "    \"E. Marakwet\": \"Elgeyo-Marakwet\",\n",
    "    \"Muranga\": \"Murang'a\",\n",
    "    \"Taita Tavet\": \"Taita Taveta\",\n",
    "}"
   ]
  },
  {
   "cell_type": "code",
   "execution_count": null,
   "id": "7",
   "metadata": {
    "tags": []
   },
   "outputs": [],
   "source": [
    "codpp_df = gpd.read_file(codpp_file)\n",
    "codpp_df = codpp_df[codpp_cols].copy()\n",
    "codpp_df[\"DISTRICT\"] = codpp_df[\"DISTRICT\"].replace(codpp_county_map)\n",
    "assert len(set(primary_counties) - set(codpp_df[\"DISTRICT\"].unique())) == 0, \"Primary counties missing\"\n",
    "assert len(set(secondary_counties) - set(codpp_df[\"DISTRICT\"].unique())) == 0, \"Secondary counties missing\"\n",
    "codpp_df.shape"
   ]
  },
  {
   "cell_type": "code",
   "execution_count": null,
   "id": "8",
   "metadata": {
    "tags": []
   },
   "outputs": [],
   "source": [
    "sel_codpp_df = codpp_df[codpp_df[\"DISTRICT\"].isin(primary_counties + secondary_counties)].copy()\n",
    "sel_codpp_df.shape"
   ]
  },
  {
   "cell_type": "code",
   "execution_count": null,
   "id": "9",
   "metadata": {
    "tags": []
   },
   "outputs": [],
   "source": [
    "codpp_df.head(2)"
   ]
  },
  {
   "cell_type": "code",
   "execution_count": null,
   "id": "10",
   "metadata": {
    "tags": []
   },
   "outputs": [],
   "source": [
    "m = codpp_df.explore(color=\"dodgerblue\")\n",
    "m"
   ]
  },
  {
   "cell_type": "markdown",
   "id": "11",
   "metadata": {},
   "source": [
    "## HOTOSM PPs\n",
    "\n",
    "> NB: Does not contain ADM level information, ie no counties. Must derive county membership via spatial inclusion with county shapes."
   ]
  },
  {
   "cell_type": "code",
   "execution_count": null,
   "id": "12",
   "metadata": {},
   "outputs": [],
   "source": [
    "hotosm_file = \"./data/hotosm_ken_populated_places_points_shp.zip\""
   ]
  },
  {
   "cell_type": "code",
   "execution_count": null,
   "id": "13",
   "metadata": {
    "tags": []
   },
   "outputs": [],
   "source": [
    "hotosm_df = gpd.read_file(hotosm_file)\n",
    "hotosm_df = hotosm_df[~hotosm_df[\"place\"].isin([\"isolated_dwelling\"])]\n",
    "hotosm_df.shape"
   ]
  },
  {
   "cell_type": "code",
   "execution_count": null,
   "id": "14",
   "metadata": {},
   "outputs": [],
   "source": [
    "hotosm_df.head(5)"
   ]
  },
  {
   "cell_type": "code",
   "execution_count": null,
   "id": "15",
   "metadata": {
    "tags": []
   },
   "outputs": [],
   "source": [
    "hotosm_df[\"place\"].value_counts()"
   ]
  },
  {
   "cell_type": "code",
   "execution_count": null,
   "id": "16",
   "metadata": {
    "tags": []
   },
   "outputs": [],
   "source": [
    "hotosm_df.explore(m=m, color=\"salmon\")"
   ]
  },
  {
   "cell_type": "code",
   "execution_count": null,
   "id": "17",
   "metadata": {},
   "outputs": [],
   "source": []
  }
 ],
 "metadata": {
  "kernelspec": {
   "display_name": "aquaya-sandbox",
   "language": "python",
   "name": "aquaya-sandbox"
  },
  "language_info": {
   "codemirror_mode": {
    "name": "ipython",
    "version": 3
   },
   "file_extension": ".py",
   "mimetype": "text/x-python",
   "name": "python",
   "nbconvert_exporter": "python",
   "pygments_lexer": "ipython3",
   "version": "3.9.6"
  }
 },
 "nbformat": 4,
 "nbformat_minor": 5
}
